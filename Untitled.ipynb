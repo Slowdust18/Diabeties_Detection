{
 "cells": [
  {
   "cell_type": "code",
   "execution_count": 5,
   "id": "1659e798-4415-4665-8737-569422eccfc3",
   "metadata": {},
   "outputs": [],
   "source": [
    "import joblib\n",
    "import pandas as pd\n",
    "import shap\n",
    "import numpy as np\n",
    "import matplotlib.pyplot as plt"
   ]
  },
  {
   "cell_type": "code",
   "execution_count": 6,
   "id": "b95c2756-d956-42e2-91b0-ba8671f5b965",
   "metadata": {},
   "outputs": [],
   "source": [
    "linear_svm_model = joblib.load('final_model.pkl')\n",
    "\n",
    "# Load the scaler\n",
    "scaler = joblib.load('scaler.pkl')\n",
    "\n",
    "# Load the SHAP input data\n",
    "x_shap = pd.read_csv('x_shap.csv')\n",
    "y_shap = pd.read_csv('y_shap.csv')"
   ]
  },
  {
   "cell_type": "code",
   "execution_count": 7,
   "id": "c0e9e442-c98f-4b05-a866-cd011d58e040",
   "metadata": {},
   "outputs": [
    {
     "ename": "NameError",
     "evalue": "name 'x_shape' is not defined",
     "output_type": "error",
     "traceback": [
      "\u001b[31m---------------------------------------------------------------------------\u001b[39m",
      "\u001b[31mNameError\u001b[39m                                 Traceback (most recent call last)",
      "\u001b[36mCell\u001b[39m\u001b[36m \u001b[39m\u001b[32mIn[7]\u001b[39m\u001b[32m, line 1\u001b[39m\n\u001b[32m----> \u001b[39m\u001b[32m1\u001b[39m \u001b[43mx_shape\u001b[49m.shape\n",
      "\u001b[31mNameError\u001b[39m: name 'x_shape' is not defined"
     ]
    }
   ],
   "source": [
    "x_shap.shape"
   ]
  },
  {
   "cell_type": "code",
   "execution_count": null,
   "id": "629d3e88-6745-47e5-a3f2-b22ce090ebb7",
   "metadata": {},
   "outputs": [],
   "source": []
  }
 ],
 "metadata": {
  "kernelspec": {
   "display_name": "Python (diabeties)",
   "language": "python",
   "name": "diabeties"
  },
  "language_info": {
   "codemirror_mode": {
    "name": "ipython",
    "version": 3
   },
   "file_extension": ".py",
   "mimetype": "text/x-python",
   "name": "python",
   "nbconvert_exporter": "python",
   "pygments_lexer": "ipython3",
   "version": "3.13.1"
  }
 },
 "nbformat": 4,
 "nbformat_minor": 5
}
