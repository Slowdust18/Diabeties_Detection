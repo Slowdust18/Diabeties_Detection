{
 "cells": [
  {
   "cell_type": "code",
   "execution_count": 17,
   "id": "d2453ca9-bcf1-45e9-b1a2-e7456384ac8e",
   "metadata": {},
   "outputs": [],
   "source": [
    "import pandas as pd\n",
    "import seaborn as sns\n",
    "import matplotlib.pyplot as plt\n",
    "from collections import Counter\n",
    "import ast"
   ]
  },
  {
   "cell_type": "code",
   "execution_count": 3,
   "id": "2dc2526b-f81d-4598-b5f5-ab10467ddfcd",
   "metadata": {},
   "outputs": [],
   "source": [
    "logged_issues=pd.read_csv(\"flagged_shap_issues.csv\")"
   ]
  },
  {
   "cell_type": "code",
   "execution_count": 4,
   "id": "bed4044a-ab7f-42b9-ad90-edfe2a996398",
   "metadata": {},
   "outputs": [
    {
     "data": {
      "text/html": [
       "<div>\n",
       "<style scoped>\n",
       "    .dataframe tbody tr th:only-of-type {\n",
       "        vertical-align: middle;\n",
       "    }\n",
       "\n",
       "    .dataframe tbody tr th {\n",
       "        vertical-align: top;\n",
       "    }\n",
       "\n",
       "    .dataframe thead th {\n",
       "        text-align: right;\n",
       "    }\n",
       "</style>\n",
       "<table border=\"1\" class=\"dataframe\">\n",
       "  <thead>\n",
       "    <tr style=\"text-align: right;\">\n",
       "      <th></th>\n",
       "      <th>index</th>\n",
       "      <th>problematic_features</th>\n",
       "    </tr>\n",
       "  </thead>\n",
       "  <tbody>\n",
       "    <tr>\n",
       "      <th>0</th>\n",
       "      <td>10</td>\n",
       "      <td>['⚠️  Smoker=1 reduced risk (SHAP -0.012)']</td>\n",
       "    </tr>\n",
       "    <tr>\n",
       "      <th>1</th>\n",
       "      <td>17</td>\n",
       "      <td>['⚠️  Smoker=1 reduced risk (SHAP -0.012)']</td>\n",
       "    </tr>\n",
       "    <tr>\n",
       "      <th>2</th>\n",
       "      <td>27</td>\n",
       "      <td>['⚠️  Smoker=1 reduced risk (SHAP -0.013)']</td>\n",
       "    </tr>\n",
       "    <tr>\n",
       "      <th>3</th>\n",
       "      <td>34</td>\n",
       "      <td>['⚠️  Smoker=1 reduced risk (SHAP -0.013)']</td>\n",
       "    </tr>\n",
       "    <tr>\n",
       "      <th>4</th>\n",
       "      <td>49</td>\n",
       "      <td>['⚠️  Smoker=1 reduced risk (SHAP -0.012)']</td>\n",
       "    </tr>\n",
       "    <tr>\n",
       "      <th>...</th>\n",
       "      <td>...</td>\n",
       "      <td>...</td>\n",
       "    </tr>\n",
       "    <tr>\n",
       "      <th>10590</th>\n",
       "      <td>253572</td>\n",
       "      <td>['⚠️  Smoker=1 reduced risk (SHAP -0.012)']</td>\n",
       "    </tr>\n",
       "    <tr>\n",
       "      <th>10591</th>\n",
       "      <td>253573</td>\n",
       "      <td>['⚠️  Smoker=1 reduced risk (SHAP -0.012)', '⚠...</td>\n",
       "    </tr>\n",
       "    <tr>\n",
       "      <th>10592</th>\n",
       "      <td>253594</td>\n",
       "      <td>['⚠️  Smoker=1 reduced risk (SHAP -0.011)']</td>\n",
       "    </tr>\n",
       "    <tr>\n",
       "      <th>10593</th>\n",
       "      <td>253603</td>\n",
       "      <td>['⚠️  HvyAlcoholConsump=1 reduced risk (SHAP -...</td>\n",
       "    </tr>\n",
       "    <tr>\n",
       "      <th>10594</th>\n",
       "      <td>253668</td>\n",
       "      <td>['⚠️  Smoker=1 reduced risk (SHAP -0.013)']</td>\n",
       "    </tr>\n",
       "  </tbody>\n",
       "</table>\n",
       "<p>10595 rows × 2 columns</p>\n",
       "</div>"
      ],
      "text/plain": [
       "        index                               problematic_features\n",
       "0          10        ['⚠️  Smoker=1 reduced risk (SHAP -0.012)']\n",
       "1          17        ['⚠️  Smoker=1 reduced risk (SHAP -0.012)']\n",
       "2          27        ['⚠️  Smoker=1 reduced risk (SHAP -0.013)']\n",
       "3          34        ['⚠️  Smoker=1 reduced risk (SHAP -0.013)']\n",
       "4          49        ['⚠️  Smoker=1 reduced risk (SHAP -0.012)']\n",
       "...       ...                                                ...\n",
       "10590  253572        ['⚠️  Smoker=1 reduced risk (SHAP -0.012)']\n",
       "10591  253573  ['⚠️  Smoker=1 reduced risk (SHAP -0.012)', '⚠...\n",
       "10592  253594        ['⚠️  Smoker=1 reduced risk (SHAP -0.011)']\n",
       "10593  253603  ['⚠️  HvyAlcoholConsump=1 reduced risk (SHAP -...\n",
       "10594  253668        ['⚠️  Smoker=1 reduced risk (SHAP -0.013)']\n",
       "\n",
       "[10595 rows x 2 columns]"
      ]
     },
     "execution_count": 4,
     "metadata": {},
     "output_type": "execute_result"
    }
   ],
   "source": [
    "logged_issues"
   ]
  },
  {
   "cell_type": "code",
   "execution_count": 11,
   "id": "8b1ea020-4ab6-40fc-acd5-05685fc6c69d",
   "metadata": {},
   "outputs": [],
   "source": [
    "all_issues = logged_issues[\"problematic_features\"]\n",
    "\n"
   ]
  },
  {
   "cell_type": "code",
   "execution_count": 19,
   "id": "245b3658-b0fa-4cec-9d44-151d06dbe6df",
   "metadata": {},
   "outputs": [
    {
     "data": {
      "text/plain": [
       "0    ['⚠️  Smoker=1 reduced risk (SHAP -0.012)']\n",
       "1    ['⚠️  Smoker=1 reduced risk (SHAP -0.012)']\n",
       "2    ['⚠️  Smoker=1 reduced risk (SHAP -0.013)']\n",
       "3    ['⚠️  Smoker=1 reduced risk (SHAP -0.013)']\n",
       "4    ['⚠️  Smoker=1 reduced risk (SHAP -0.012)']\n",
       "Name: problematic_features, dtype: object"
      ]
     },
     "execution_count": 19,
     "metadata": {},
     "output_type": "execute_result"
    }
   ],
   "source": [
    "all_issues.head()"
   ]
  },
  {
   "cell_type": "code",
   "execution_count": 16,
   "id": "715c2387-00ce-486e-ab99-105e3ec182bb",
   "metadata": {},
   "outputs": [
    {
     "data": {
      "text/plain": [
       "\"['⚠️  Smoker=1 reduced risk (SHAP -0.012)']\""
      ]
     },
     "execution_count": 16,
     "metadata": {},
     "output_type": "execute_result"
    }
   ],
   "source": [
    "all_issues[0]"
   ]
  },
  {
   "cell_type": "code",
   "execution_count": 21,
   "id": "21aea287-730e-4575-942b-a1a88532d9e9",
   "metadata": {},
   "outputs": [],
   "source": [
    "logged_issues['problematic_features'] = logged_issues['problematic_features'].apply(ast.literal_eval)"
   ]
  },
  {
   "cell_type": "code",
   "execution_count": 22,
   "id": "180bbbbd-a726-410b-a05c-ad3cdf173dac",
   "metadata": {},
   "outputs": [],
   "source": [
    "def extract_feature_name(msg):\n",
    "    # Example: \"⚠️  Smoker=1 reduced risk (SHAP -0.012)\" → \"Smoker\"\n",
    "    if '=' in msg:\n",
    "        return msg.split('=')[0].strip().replace('⚠️', '').strip()\n",
    "    return None"
   ]
  },
  {
   "cell_type": "code",
   "execution_count": 24,
   "id": "97f66b4c-3e83-493d-9805-b9b1b5eb99a0",
   "metadata": {},
   "outputs": [],
   "source": [
    "all_features = []\n",
    "for sublist in logged_issues['problematic_features']:\n",
    "    for msg in sublist:\n",
    "        feature = extract_feature_name(msg)\n",
    "        if feature:\n",
    "            all_features.append(feature)\n",
    "\n",
    "\n",
    "feature_counts = Counter(all_features)\n",
    "feature_df = pd.DataFrame(feature_counts.items(), columns=['feature', 'count']).sort_values(by='count', ascending=False)"
   ]
  },
  {
   "cell_type": "code",
   "execution_count": 25,
   "id": "33e4a35d-824a-421e-9fd2-f69aefbaa4b3",
   "metadata": {},
   "outputs": [
    {
     "data": {
      "text/html": [
       "<div>\n",
       "<style scoped>\n",
       "    .dataframe tbody tr th:only-of-type {\n",
       "        vertical-align: middle;\n",
       "    }\n",
       "\n",
       "    .dataframe tbody tr th {\n",
       "        vertical-align: top;\n",
       "    }\n",
       "\n",
       "    .dataframe thead th {\n",
       "        text-align: right;\n",
       "    }\n",
       "</style>\n",
       "<table border=\"1\" class=\"dataframe\">\n",
       "  <thead>\n",
       "    <tr style=\"text-align: right;\">\n",
       "      <th></th>\n",
       "      <th>feature</th>\n",
       "      <th>count</th>\n",
       "    </tr>\n",
       "  </thead>\n",
       "  <tbody>\n",
       "    <tr>\n",
       "      <th>0</th>\n",
       "      <td>Smoker</td>\n",
       "      <td>10226</td>\n",
       "    </tr>\n",
       "    <tr>\n",
       "      <th>1</th>\n",
       "      <td>HvyAlcoholConsump</td>\n",
       "      <td>825</td>\n",
       "    </tr>\n",
       "  </tbody>\n",
       "</table>\n",
       "</div>"
      ],
      "text/plain": [
       "             feature  count\n",
       "0             Smoker  10226\n",
       "1  HvyAlcoholConsump    825"
      ]
     },
     "execution_count": 25,
     "metadata": {},
     "output_type": "execute_result"
    }
   ],
   "source": [
    "feature_df"
   ]
  },
  {
   "cell_type": "code",
   "execution_count": null,
   "id": "05ed1b9c-6840-4a7b-ae78-ab08a5caccfb",
   "metadata": {},
   "outputs": [],
   "source": []
  }
 ],
 "metadata": {
  "kernelspec": {
   "display_name": "Python (diabeties)",
   "language": "python",
   "name": "diabeties"
  },
  "language_info": {
   "codemirror_mode": {
    "name": "ipython",
    "version": 3
   },
   "file_extension": ".py",
   "mimetype": "text/x-python",
   "name": "python",
   "nbconvert_exporter": "python",
   "pygments_lexer": "ipython3",
   "version": "3.13.1"
  }
 },
 "nbformat": 4,
 "nbformat_minor": 5
}
