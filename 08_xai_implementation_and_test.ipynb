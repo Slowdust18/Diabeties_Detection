{
 "cells": [
  {
   "cell_type": "code",
   "execution_count": 1,
   "id": "1659e798-4415-4665-8737-569422eccfc3",
   "metadata": {},
   "outputs": [],
   "source": [
    "import joblib\n",
    "import pandas as pd\n",
    "import shap\n",
    "import numpy as np\n",
    "import matplotlib.pyplot as plt\n",
    "from sklearn.metrics import accuracy_score\n",
    "from sklearn.impute import SimpleImputer"
   ]
  },
  {
   "cell_type": "code",
   "execution_count": 2,
   "id": "b95c2756-d956-42e2-91b0-ba8671f5b965",
   "metadata": {},
   "outputs": [],
   "source": [
    "model = joblib.load('final_model.pkl')\n",
    "\n",
    "# Load the scaler\n",
    "scaler = joblib.load('scaler.pkl')\n",
    "\n",
    "# Load the SHAP input data\n",
    "x_shap = pd.read_csv('x_shap.csv')\n",
    "y_shap = pd.read_csv('y_shap.csv')"
   ]
  },
  {
   "cell_type": "code",
   "execution_count": 3,
   "id": "2fee328a-0247-4df8-bd3a-45fb1ad137f8",
   "metadata": {},
   "outputs": [
    {
     "name": "stderr",
     "output_type": "stream",
     "text": [
      "Using 250 background data samples could cause slower run times. Consider using shap.sample(data, K) or shap.kmeans(data, K) to summarize the background as K samples.\n"
     ]
    }
   ],
   "source": [
    "imputer = SimpleImputer(strategy='mean')\n",
    "x_train_imputed = imputer.fit_transform(x_shap)\n",
    "\n",
    "x_train_scaled = scaler.fit_transform(x_train_imputed)\n",
    "background = shap.kmeans(x_train_scaled, 250)\n",
    "\n",
    "explainer = shap.KernelExplainer(model.predict_proba, background)"
   ]
  },
  {
   "cell_type": "code",
   "execution_count": 4,
   "id": "c6529d6f-1f40-45c7-803e-e486b56a7e34",
   "metadata": {},
   "outputs": [
    {
     "data": {
      "text/plain": [
       "<shap.utils._legacy.DenseData at 0x1b530036cf0>"
      ]
     },
     "execution_count": 4,
     "metadata": {},
     "output_type": "execute_result"
    }
   ],
   "source": [
    "background"
   ]
  },
  {
   "cell_type": "code",
   "execution_count": 5,
   "id": "4d33ea95-ad46-4e37-bc0a-e7958a6f749d",
   "metadata": {},
   "outputs": [],
   "source": [
    "def explain_single_prediction(patient_features, feature_names, scaler, imputer, explainer, return_raw=False):\n",
    "\n",
    "    processed = imputer.transform([patient_features])\n",
    "    processed = scaler.transform(processed)\n",
    "\n",
    "    shap_values = explainer.shap_values(processed)[0]\n",
    "\n",
    "    if return_raw:\n",
    "        final = [pair[1] for pair in shap_values]\n",
    "        return final\n",
    "\n",
    "    class1_values = [pair[1] for pair in shap_values]\n",
    "    explanations = []\n",
    "    for f, sv in zip(feature_names, class1_values):\n",
    "        direction = \"\" if sv > 0 else \"NOT\"\n",
    "        explanations.append(\n",
    "            f\"The feature **{f}** pushes toward {direction} being diabetic.\"\n",
    "        )\n",
    "\n",
    "    return explanations\n",
    "\n"
   ]
  },
  {
   "cell_type": "code",
   "execution_count": 10,
   "id": "3d930c1f-4846-457a-95b9-0f8e002f7709",
   "metadata": {},
   "outputs": [],
   "source": [
    "def predict_diabetes(model, scaler, HighBP, HighChol, HeartDiseaseorAttack, Stroke, Smoker, PhysActivity, DiffWalk, BMI, MentHlth, PhysHlth, GenHlth, Sex, Age, HvyAlcoholConsump):\n",
    "    new_patient = [[HighBP, HighChol, HeartDiseaseorAttack, Stroke, Smoker, PhysActivity, DiffWalk, BMI, MentHlth, PhysHlth, GenHlth, Sex, Age, HvyAlcoholConsump]]\n",
    "    new_patient_scaled = scaler.transform(new_patient)\n",
    "    prediction = model.predict(new_patient_scaled)\n",
    "    \n",
    "    if prediction[0] == 1:\n",
    "        print(\"The patient is likely diabetic.\")\n",
    "        print(prediction)\n",
    "    else:\n",
    "        print(\"The patient is likely not diabetic.\")\n"
   ]
  },
  {
   "cell_type": "code",
   "execution_count": 7,
   "id": "f25c37d9-5a19-452f-bcfb-7f1af8fe86ec",
   "metadata": {},
   "outputs": [
    {
     "ename": "NameError",
     "evalue": "name 'patient_input' is not defined",
     "output_type": "error",
     "traceback": [
      "\u001b[31m---------------------------------------------------------------------------\u001b[39m",
      "\u001b[31mNameError\u001b[39m                                 Traceback (most recent call last)",
      "\u001b[36mCell\u001b[39m\u001b[36m \u001b[39m\u001b[32mIn[7]\u001b[39m\u001b[32m, line 1\u001b[39m\n\u001b[32m----> \u001b[39m\u001b[32m1\u001b[39m prediction = model.predict_proba([\u001b[43mpatient_input\u001b[49m])\n\u001b[32m      2\u001b[39m \u001b[38;5;28mprint\u001b[39m(\u001b[33m\"\u001b[39m\u001b[33mPredicted probabilities:\u001b[39m\u001b[33m\"\u001b[39m, prediction)\n",
      "\u001b[31mNameError\u001b[39m: name 'patient_input' is not defined"
     ]
    }
   ],
   "source": [
    "prediction = model.predict_proba([patient_input])\n",
    "print(\"Predicted probabilities:\", prediction)\n"
   ]
  },
  {
   "cell_type": "code",
   "execution_count": 11,
   "id": "4bcb814a-a71a-4345-9a11-9c7027aa07b3",
   "metadata": {},
   "outputs": [
    {
     "name": "stderr",
     "output_type": "stream",
     "text": [
      "C:\\Users\\slowd\\OneDrive\\Desktop\\Projects\\MLProjects\\Diabeties\\diabeties\\Lib\\site-packages\\sklearn\\utils\\validation.py:2739: UserWarning: X does not have valid feature names, but SimpleImputer was fitted with feature names\n",
      "  warnings.warn(\n"
     ]
    },
    {
     "data": {
      "application/vnd.jupyter.widget-view+json": {
       "model_id": "ae41c98048984d98bd4bf5ca10ef7ed8",
       "version_major": 2,
       "version_minor": 0
      },
      "text/plain": [
       "  0%|          | 0/1 [00:00<?, ?it/s]"
      ]
     },
     "metadata": {},
     "output_type": "display_data"
    },
    {
     "name": "stdout",
     "output_type": "stream",
     "text": [
      "-> The feature **HighBP** pushes toward NOT being diabetic.\n",
      "-> The feature **HighChol** pushes toward NOT being diabetic.\n",
      "-> The feature **HeartDiseaseorAttack** pushes toward NOT being diabetic.\n",
      "-> The feature **Stroke** pushes toward NOT being diabetic.\n",
      "-> The feature **Smoker** pushes toward NOT being diabetic.\n",
      "-> The feature **PhysActivity** pushes toward NOT being diabetic.\n",
      "-> The feature **DiffWalk** pushes toward NOT being diabetic.\n",
      "-> The feature **BMI** pushes toward NOT being diabetic.\n",
      "-> The feature **MentHlth** pushes toward NOT being diabetic.\n",
      "-> The feature **PhysHlth** pushes toward  being diabetic.\n",
      "-> The feature **GenHlth** pushes toward NOT being diabetic.\n",
      "-> The feature **Sex** pushes toward NOT being diabetic.\n",
      "-> The feature **Age** pushes toward NOT being diabetic.\n",
      "-> The feature **HvyAlcoholConsump** pushes toward  being diabetic.\n",
      "The patient is likely not diabetic.\n"
     ]
    }
   ],
   "source": [
    "feature_names = [\n",
    "    \"HighBP\", \"HighChol\", \"HeartDiseaseorAttack\", \"Stroke\", \"Smoker\", \"PhysActivity\", \"DiffWalk\", \"BMI\", \"MentHlth\", \"PhysHlth\", \"GenHlth\", \"Sex\", \"Age\", \"HvyAlcoholConsump\"]\n",
    "\n",
    "\n",
    "patient_input = [1,1,1,1,1,1,1,34,0,7,4,0,9,0]\n",
    "non_diabetic  = [0,0,0,0,1,1,0,25,0,0,3,0,7,0]\n",
    "explanations = explain_single_prediction(\n",
    "    scaler=scaler,\n",
    "    patient_features=non_diabetic,\n",
    "    feature_names=feature_names,\n",
    "    imputer=imputer,\n",
    "    explainer=explainer,\n",
    ")\n",
    "\n",
    "for sentence in explanations:\n",
    "    print(\"->\", sentence)\n",
    "\n",
    "\n",
    "predict_diabetes(model,scaler,0,0,0,0,1,1,0,25,0,0,3,0,7,0)"
   ]
  },
  {
   "cell_type": "code",
   "execution_count": 12,
   "id": "b1baf6d1-c80c-4de6-9ada-9f078231b98d",
   "metadata": {},
   "outputs": [
    {
     "name": "stderr",
     "output_type": "stream",
     "text": [
      "C:\\Users\\slowd\\OneDrive\\Desktop\\Projects\\MLProjects\\Diabeties\\diabeties\\Lib\\site-packages\\sklearn\\utils\\validation.py:2739: UserWarning: X does not have valid feature names, but SimpleImputer was fitted with feature names\n",
      "  warnings.warn(\n"
     ]
    },
    {
     "data": {
      "application/vnd.jupyter.widget-view+json": {
       "model_id": "2c8b446fce304aaca9152f3f0f799eee",
       "version_major": 2,
       "version_minor": 0
      },
      "text/plain": [
       "  0%|          | 0/1 [00:00<?, ?it/s]"
      ]
     },
     "metadata": {},
     "output_type": "display_data"
    },
    {
     "name": "stdout",
     "output_type": "stream",
     "text": [
      "[np.float64(0.06517264672227341), np.float64(0.049467322416154376), np.float64(0.03070546253873255), np.float64(0.02142661009800826), np.float64(0.0), np.float64(0.0), np.float64(0.014602177183948148), np.float64(0.05269138284274403), np.float64(0.0030260841426054674), np.float64(0.0), np.float64(0.14855800455658164), np.float64(0.0), np.float64(0.00931447887096388), np.float64(0.0041376777769291575)]\n"
     ]
    }
   ],
   "source": [
    "raw = explain_single_prediction(\n",
    "    scaler=scaler,\n",
    "    patient_features=patient_input,\n",
    "    feature_names=feature_names,\n",
    "    imputer=imputer,\n",
    "    explainer=explainer,\n",
    "    return_raw=True\n",
    ")\n",
    "print(raw)"
   ]
  },
  {
   "cell_type": "markdown",
   "id": "c32930c4-70ce-408a-92f5-50882e701e80",
   "metadata": {},
   "source": [
    "# Testing Area"
   ]
  },
  {
   "cell_type": "code",
   "execution_count": 33,
   "id": "3382461a-36bb-4979-b393-6ed12604aa16",
   "metadata": {},
   "outputs": [
    {
     "name": "stdout",
     "output_type": "stream",
     "text": [
      "Predicted probabilities: [[4.49492722e-05 9.99955051e-01]]\n"
     ]
    }
   ],
   "source": []
  },
  {
   "cell_type": "code",
   "execution_count": 24,
   "id": "0c8335ba-e9ca-447b-b1b4-e71583ecfc9b",
   "metadata": {},
   "outputs": [],
   "source": [
    "def detect_unexpected_shap_behavior(feature_names, shap_values, patient_features):\n",
    "    expected = {      \n",
    "        \"HighBP\":\"positive\",\"HighChol\":\"positive\",\"HeartDiseaseorAttack\":\"positive\",\n",
    "        \"Stroke\":\"positive\",\"Smoker\":\"positive\",\"PhysActivity\":\"positive\",\n",
    "        \"DiffWalk\":\"positive\",\"BMI\":\"positive\",\"MentHlth\":\"positive\",\n",
    "        \"PhysHlth\":\"positive\",\"GenHlth\":\"negative\",\"Age\":\"positive\",\n",
    "        \"HvyAlcoholConsump\":\"positive\"\n",
    "    }\n",
    "    thresholds = {\"BMI\":30,\"MentHlth\":7,\"PhysHlth\":7,\"GenHlth\":3,\"Age\":8}\n",
    "\n",
    "    issues = []\n",
    "    for f, sv, v in zip(feature_names, shap_values, patient_features):\n",
    "        if f == \"Sex\":\n",
    "            continue\n",
    "\n",
    "        # ensure scalars\n",
    "        sv = float(sv)\n",
    "        v  = float(v)\n",
    "\n",
    "        exp = expected.get(f)\n",
    "        if exp is None:\n",
    "            continue\n",
    "\n",
    "        if f in thresholds:               \n",
    "            high = v >= thresholds[f]\n",
    "            if   exp == \"positive\" and high and sv < 0:\n",
    "                issues.append(f\"High {f}={v} reduced risk (SHAP {sv:+.3f})\")\n",
    "            elif exp == \"negative\" and not high and sv > 0:\n",
    "                issues.append(f\"Low  {f} increased risk (SHAP {sv:+.3f})\")\n",
    "        else:                                   # binary features\n",
    "            if   exp == \"positive\" and v == 1 and sv < 0:\n",
    "                issues.append(f\"{f}=1 reduced risk (SHAP {sv:+.3f})\")\n",
    "            elif exp == \"negative\" and v == 0 and sv > 0:\n",
    "                issues.append(f\"{f}=0 increased risk (SHAP {sv:+.3f})\")\n",
    "\n",
    "    return issues"
   ]
  },
  {
   "cell_type": "code",
   "execution_count": null,
   "id": "7bc0a035-eeec-4e16-98d6-19c2c7b5eff0",
   "metadata": {},
   "outputs": [],
   "source": []
  },
  {
   "cell_type": "code",
   "execution_count": 12,
   "id": "2e0f075a-212f-43cc-b1e4-e77e0ba1084c",
   "metadata": {},
   "outputs": [
    {
     "name": "stderr",
     "output_type": "stream",
     "text": [
      "C:\\Users\\slowd\\OneDrive\\Desktop\\Projects\\MLProjects\\Diabeties\\diabeties\\Lib\\site-packages\\sklearn\\utils\\validation.py:2739: UserWarning: X does not have valid feature names, but SimpleImputer was fitted with feature names\n",
      "  warnings.warn(\n"
     ]
    },
    {
     "data": {
      "application/vnd.jupyter.widget-view+json": {
       "model_id": "c067595ff1b64478b4a824bea5eb6f80",
       "version_major": 2,
       "version_minor": 0
      },
      "text/plain": [
       "  0%|          | 0/1 [00:00<?, ?it/s]"
      ]
     },
     "metadata": {},
     "output_type": "display_data"
    },
    {
     "name": "stderr",
     "output_type": "stream",
     "text": [
      "C:\\Users\\slowd\\OneDrive\\Desktop\\Projects\\MLProjects\\Diabeties\\diabeties\\Lib\\site-packages\\sklearn\\utils\\validation.py:2739: UserWarning: X does not have valid feature names, but SimpleImputer was fitted with feature names\n",
      "  warnings.warn(\n"
     ]
    },
    {
     "data": {
      "application/vnd.jupyter.widget-view+json": {
       "model_id": "8d2b9aedc3f3400886e8a870256a2900",
       "version_major": 2,
       "version_minor": 0
      },
      "text/plain": [
       "  0%|          | 0/1 [00:00<?, ?it/s]"
      ]
     },
     "metadata": {},
     "output_type": "display_data"
    },
    {
     "name": "stdout",
     "output_type": "stream",
     "text": [
      "[np.float64(0.06616720043413857), np.float64(0.04724640322691629), np.float64(0.031068219551679748), np.float64(0.02202814223688351), np.float64(0.0), np.float64(0.0), np.float64(0.014627072098076305), np.float64(0.05369330306125714), np.float64(0.0014604798790514018), np.float64(0.0), np.float64(0.14906031798214495), np.float64(0.0), np.float64(0.008962121495090992), np.float64(0.004336824445555647)]\n",
      "['The feature **HighBP** pushes toward  being diabetic.', 'The feature **HighChol** pushes toward  being diabetic.', 'The feature **HeartDiseaseorAttack** pushes toward  being diabetic.', 'The feature **Stroke** pushes toward  being diabetic.', 'The feature **Smoker** pushes toward NOT being diabetic.', 'The feature **PhysActivity** pushes toward NOT being diabetic.', 'The feature **DiffWalk** pushes toward  being diabetic.', 'The feature **BMI** pushes toward  being diabetic.', 'The feature **MentHlth** pushes toward NOT being diabetic.', 'The feature **PhysHlth** pushes toward NOT being diabetic.', 'The feature **GenHlth** pushes toward  being diabetic.', 'The feature **Sex** pushes toward NOT being diabetic.', 'The feature **Age** pushes toward  being diabetic.', 'The feature **HvyAlcoholConsump** pushes toward  being diabetic.']\n"
     ]
    }
   ],
   "source": [
    "patient_input = [1,1,1,1,1,1,1,34,0,7,4,0,9,0]\n",
    "\n",
    "raw = explain_single_prediction(\n",
    "    scaler=scaler,\n",
    "    patient_features=patient_input,\n",
    "    feature_names=feature_names,\n",
    "    imputer=imputer,\n",
    "    explainer=explainer,\n",
    "    return_raw=True\n",
    ")\n",
    "\n",
    "\n",
    "explanation = explain_single_prediction(\n",
    "    scaler=scaler,\n",
    "    patient_features=patient_input,\n",
    "    feature_names=feature_names,\n",
    "    imputer=imputer,\n",
    "    explainer=explainer\n",
    ")\n",
    "\n",
    "print(raw)\n",
    "print(explanation)"
   ]
  },
  {
   "cell_type": "code",
   "execution_count": 13,
   "id": "0e3cf230-011b-4a7c-a398-501cc5d6065d",
   "metadata": {},
   "outputs": [],
   "source": [
    "\n",
    "df = pd.read_csv(\"cdc_diabetes_health_indicators.csv\")\n",
    "positive_df = df[df[\"Diabetes_binary\"] == 1]\n"
   ]
  },
  {
   "cell_type": "code",
   "execution_count": 14,
   "id": "8d2a85f2-3f2c-4295-a873-d35f6a081145",
   "metadata": {},
   "outputs": [
    {
     "name": "stdout",
     "output_type": "stream",
     "text": [
      "MenthHelth 2.978033654859069\n",
      "PhysHlth 3.6410820119633223\n",
      "GenHlth 2.3851850834043256\n",
      "Age 7.814064689878809\n"
     ]
    }
   ],
   "source": [
    "import pandas as pd\n",
    "zdf = df[df[\"Diabetes_binary\"] == 0]\n",
    "mean_MenthHlth = zdf['MentHlth'].mean()\n",
    "mean_PhysHlth = zdf['PhysHlth'].mean()\n",
    "mean_GenHlth = zdf['GenHlth'].mean()\n",
    "mean_age = zdf['Age'].mean()\n",
    "print(\"MenthHelth\", mean_MenthHlth)\n",
    "print(\"PhysHlth\", mean_PhysHlth)\n",
    "print(\"GenHlth\", mean_GenHlth)\n",
    "print(\"Age\", mean_age)"
   ]
  },
  {
   "cell_type": "code",
   "execution_count": 15,
   "id": "1ab6fd4d-2823-48c6-a91f-d4d93051ac02",
   "metadata": {},
   "outputs": [
    {
     "name": "stdout",
     "output_type": "stream",
     "text": [
      "MenthHelth 4.461806144966899\n",
      "PhysHlth 7.954478583149437\n",
      "GenHlth 3.290980591863294\n",
      "Age 9.379052792395179\n"
     ]
    }
   ],
   "source": [
    "import pandas as pd\n",
    "pdf = df[df[\"Diabetes_binary\"] == 1]\n",
    "mean_MenthHlth = pdf['MentHlth'].mean()\n",
    "mean_PhysHlth = pdf['PhysHlth'].mean()\n",
    "mean_GenHlth = pdf['GenHlth'].mean()\n",
    "mean_age = pdf['Age'].mean()\n",
    "print(\"MenthHelth\", mean_MenthHlth)\n",
    "print(\"PhysHlth\", mean_PhysHlth)\n",
    "print(\"GenHlth\", mean_GenHlth)\n",
    "print(\"Age\", mean_age)"
   ]
  },
  {
   "cell_type": "code",
   "execution_count": 16,
   "id": "38063468-164c-4340-a511-3e579ed3e3da",
   "metadata": {},
   "outputs": [
    {
     "name": "stdout",
     "output_type": "stream",
     "text": [
      "HighBP 0.06616720043413857 1\n",
      "HighChol 0.04724640322691629 1\n",
      "HeartDiseaseorAttack 0.031068219551679748 1\n",
      "Stroke 0.02202814223688351 1\n",
      "Smoker 0.0 1\n",
      "PhysActivity 0.0 1\n",
      "DiffWalk 0.014627072098076305 1\n",
      "BMI 0.05369330306125714 34\n",
      "MentHlth 0.0014604798790514018 0\n",
      "PhysHlth 0.0 7\n",
      "GenHlth 0.14906031798214495 4\n",
      "Sex 0.0 0\n",
      "Age 0.008962121495090992 9\n",
      "HvyAlcoholConsump 0.004336824445555647 0\n"
     ]
    }
   ],
   "source": [
    "for feature, shap_val, patient_feature in zip(feature_names, raw, patient_input):\n",
    "    print(feature, shap_val, patient_feature)"
   ]
  },
  {
   "cell_type": "code",
   "execution_count": 17,
   "id": "16f92dc1-301e-4a2f-a2f5-071ee4d820d4",
   "metadata": {},
   "outputs": [
    {
     "data": {
      "text/plain": [
       "(35346, 22)"
      ]
     },
     "execution_count": 17,
     "metadata": {},
     "output_type": "execute_result"
    }
   ],
   "source": [
    "positive_df.shape"
   ]
  },
  {
   "cell_type": "code",
   "execution_count": 18,
   "id": "99e875b9-3465-458d-8e0e-3297426516e2",
   "metadata": {},
   "outputs": [],
   "source": [
    "first_test=positive_df[:10]"
   ]
  },
  {
   "cell_type": "code",
   "execution_count": 19,
   "id": "88e8f629-ce12-460f-9173-c34dab9a4cb9",
   "metadata": {},
   "outputs": [
    {
     "data": {
      "text/plain": [
       "(10, 22)"
      ]
     },
     "execution_count": 19,
     "metadata": {},
     "output_type": "execute_result"
    }
   ],
   "source": [
    "first_test.shape"
   ]
  },
  {
   "cell_type": "code",
   "execution_count": 25,
   "id": "81e0aba2-98f5-44f2-90d4-b4ddfb9c65a9",
   "metadata": {},
   "outputs": [
    {
     "name": "stderr",
     "output_type": "stream",
     "text": [
      "C:\\Users\\slowd\\OneDrive\\Desktop\\Projects\\MLProjects\\Diabeties\\diabeties\\Lib\\site-packages\\sklearn\\utils\\validation.py:2739: UserWarning: X does not have valid feature names, but SimpleImputer was fitted with feature names\n",
      "  warnings.warn(\n"
     ]
    },
    {
     "data": {
      "application/vnd.jupyter.widget-view+json": {
       "model_id": "3a11dea8b9ea4903936a8f3d560f2d5f",
       "version_major": 2,
       "version_minor": 0
      },
      "text/plain": [
       "  0%|          | 0/1 [00:00<?, ?it/s]"
      ]
     },
     "metadata": {},
     "output_type": "display_data"
    },
    {
     "name": "stderr",
     "output_type": "stream",
     "text": [
      "C:\\Users\\slowd\\OneDrive\\Desktop\\Projects\\MLProjects\\Diabeties\\diabeties\\Lib\\site-packages\\sklearn\\utils\\validation.py:2739: UserWarning: X does not have valid feature names, but SimpleImputer was fitted with feature names\n",
      "  warnings.warn(\n"
     ]
    },
    {
     "data": {
      "application/vnd.jupyter.widget-view+json": {
       "model_id": "00abe93d092e4845ab63334231b76a11",
       "version_major": 2,
       "version_minor": 0
      },
      "text/plain": [
       "  0%|          | 0/1 [00:00<?, ?it/s]"
      ]
     },
     "metadata": {},
     "output_type": "display_data"
    },
    {
     "name": "stdout",
     "output_type": "stream",
     "text": [
      "\n",
      "Patient 8  Input: [1, 1, 1, 0, 1, 0, 1, 30, 30, 30, 5, 0, 9, 0]\n",
      "-> The feature **HighBP** pushes toward  being diabetic.\n",
      "-> The feature **HighChol** pushes toward  being diabetic.\n",
      "-> The feature **HeartDiseaseorAttack** pushes toward  being diabetic.\n",
      "-> The feature **Stroke** pushes toward NOT being diabetic.\n",
      "-> The feature **Smoker** pushes toward NOT being diabetic.\n",
      "-> The feature **PhysActivity** pushes toward  being diabetic.\n",
      "-> The feature **DiffWalk** pushes toward  being diabetic.\n",
      "-> The feature **BMI** pushes toward NOT being diabetic.\n",
      "-> The feature **MentHlth** pushes toward NOT being diabetic.\n",
      "-> The feature **PhysHlth** pushes toward NOT being diabetic.\n",
      "-> The feature **GenHlth** pushes toward  being diabetic.\n",
      "-> The feature **Sex** pushes toward NOT being diabetic.\n",
      "-> The feature **Age** pushes toward  being diabetic.\n",
      "-> The feature **HvyAlcoholConsump** pushes toward NOT being diabetic.\n",
      "Issues:\n",
      "   High MentHlth=30.0 reduced risk (SHAP -0.022)\n",
      "   High PhysHlth=30.0 reduced risk (SHAP -0.042)\n"
     ]
    },
    {
     "name": "stderr",
     "output_type": "stream",
     "text": [
      "C:\\Users\\slowd\\OneDrive\\Desktop\\Projects\\MLProjects\\Diabeties\\diabeties\\Lib\\site-packages\\sklearn\\utils\\validation.py:2739: UserWarning: X does not have valid feature names, but SimpleImputer was fitted with feature names\n",
      "  warnings.warn(\n"
     ]
    },
    {
     "data": {
      "application/vnd.jupyter.widget-view+json": {
       "model_id": "6c335bf0cf024737a4a1ff0e5b46ed6d",
       "version_major": 2,
       "version_minor": 0
      },
      "text/plain": [
       "  0%|          | 0/1 [00:00<?, ?it/s]"
      ]
     },
     "metadata": {},
     "output_type": "display_data"
    },
    {
     "name": "stderr",
     "output_type": "stream",
     "text": [
      "C:\\Users\\slowd\\OneDrive\\Desktop\\Projects\\MLProjects\\Diabeties\\diabeties\\Lib\\site-packages\\sklearn\\utils\\validation.py:2739: UserWarning: X does not have valid feature names, but SimpleImputer was fitted with feature names\n",
      "  warnings.warn(\n"
     ]
    },
    {
     "data": {
      "application/vnd.jupyter.widget-view+json": {
       "model_id": "ae11a71b5fab4417b87d05bae4da5da6",
       "version_major": 2,
       "version_minor": 0
      },
      "text/plain": [
       "  0%|          | 0/1 [00:00<?, ?it/s]"
      ]
     },
     "metadata": {},
     "output_type": "display_data"
    },
    {
     "name": "stdout",
     "output_type": "stream",
     "text": [
      "\n",
      "Patient 10  Input: [0, 0, 0, 0, 1, 1, 0, 25, 0, 0, 3, 1, 13, 0]\n",
      "-> The feature **HighBP** pushes toward NOT being diabetic.\n",
      "-> The feature **HighChol** pushes toward NOT being diabetic.\n",
      "-> The feature **HeartDiseaseorAttack** pushes toward NOT being diabetic.\n",
      "-> The feature **Stroke** pushes toward NOT being diabetic.\n",
      "-> The feature **Smoker** pushes toward NOT being diabetic.\n",
      "-> The feature **PhysActivity** pushes toward NOT being diabetic.\n",
      "-> The feature **DiffWalk** pushes toward NOT being diabetic.\n",
      "-> The feature **BMI** pushes toward NOT being diabetic.\n",
      "-> The feature **MentHlth** pushes toward NOT being diabetic.\n",
      "-> The feature **PhysHlth** pushes toward  being diabetic.\n",
      "-> The feature **GenHlth** pushes toward  being diabetic.\n",
      "-> The feature **Sex** pushes toward  being diabetic.\n",
      "-> The feature **Age** pushes toward  being diabetic.\n",
      "-> The feature **HvyAlcoholConsump** pushes toward  being diabetic.\n"
     ]
    },
    {
     "name": "stderr",
     "output_type": "stream",
     "text": [
      "C:\\Users\\slowd\\OneDrive\\Desktop\\Projects\\MLProjects\\Diabeties\\diabeties\\Lib\\site-packages\\sklearn\\utils\\validation.py:2739: UserWarning: X does not have valid feature names, but SimpleImputer was fitted with feature names\n",
      "  warnings.warn(\n"
     ]
    },
    {
     "data": {
      "application/vnd.jupyter.widget-view+json": {
       "model_id": "f9de88e289bb4d5692d37ebd5cf278d3",
       "version_major": 2,
       "version_minor": 0
      },
      "text/plain": [
       "  0%|          | 0/1 [00:00<?, ?it/s]"
      ]
     },
     "metadata": {},
     "output_type": "display_data"
    },
    {
     "name": "stderr",
     "output_type": "stream",
     "text": [
      "C:\\Users\\slowd\\OneDrive\\Desktop\\Projects\\MLProjects\\Diabeties\\diabeties\\Lib\\site-packages\\sklearn\\utils\\validation.py:2739: UserWarning: X does not have valid feature names, but SimpleImputer was fitted with feature names\n",
      "  warnings.warn(\n"
     ]
    },
    {
     "data": {
      "application/vnd.jupyter.widget-view+json": {
       "model_id": "e7ea8890462748e1860fcca1661bf16e",
       "version_major": 2,
       "version_minor": 0
      },
      "text/plain": [
       "  0%|          | 0/1 [00:00<?, ?it/s]"
      ]
     },
     "metadata": {},
     "output_type": "display_data"
    },
    {
     "name": "stdout",
     "output_type": "stream",
     "text": [
      "\n",
      "Patient 13  Input: [1, 1, 0, 0, 0, 0, 1, 28, 0, 0, 4, 0, 11, 0]\n",
      "-> The feature **HighBP** pushes toward  being diabetic.\n",
      "-> The feature **HighChol** pushes toward  being diabetic.\n",
      "-> The feature **HeartDiseaseorAttack** pushes toward NOT being diabetic.\n",
      "-> The feature **Stroke** pushes toward NOT being diabetic.\n",
      "-> The feature **Smoker** pushes toward NOT being diabetic.\n",
      "-> The feature **PhysActivity** pushes toward  being diabetic.\n",
      "-> The feature **DiffWalk** pushes toward  being diabetic.\n",
      "-> The feature **BMI** pushes toward NOT being diabetic.\n",
      "-> The feature **MentHlth** pushes toward NOT being diabetic.\n",
      "-> The feature **PhysHlth** pushes toward  being diabetic.\n",
      "-> The feature **GenHlth** pushes toward  being diabetic.\n",
      "-> The feature **Sex** pushes toward NOT being diabetic.\n",
      "-> The feature **Age** pushes toward  being diabetic.\n",
      "-> The feature **HvyAlcoholConsump** pushes toward  being diabetic.\n"
     ]
    },
    {
     "name": "stderr",
     "output_type": "stream",
     "text": [
      "C:\\Users\\slowd\\OneDrive\\Desktop\\Projects\\MLProjects\\Diabeties\\diabeties\\Lib\\site-packages\\sklearn\\utils\\validation.py:2739: UserWarning: X does not have valid feature names, but SimpleImputer was fitted with feature names\n",
      "  warnings.warn(\n"
     ]
    },
    {
     "data": {
      "application/vnd.jupyter.widget-view+json": {
       "model_id": "7e11e7ccd2954ad4943b48fdfc583263",
       "version_major": 2,
       "version_minor": 0
      },
      "text/plain": [
       "  0%|          | 0/1 [00:00<?, ?it/s]"
      ]
     },
     "metadata": {},
     "output_type": "display_data"
    },
    {
     "name": "stderr",
     "output_type": "stream",
     "text": [
      "C:\\Users\\slowd\\OneDrive\\Desktop\\Projects\\MLProjects\\Diabeties\\diabeties\\Lib\\site-packages\\sklearn\\utils\\validation.py:2739: UserWarning: X does not have valid feature names, but SimpleImputer was fitted with feature names\n",
      "  warnings.warn(\n"
     ]
    },
    {
     "data": {
      "application/vnd.jupyter.widget-view+json": {
       "model_id": "8979e1fbb1db49fcacef99db00992ecf",
       "version_major": 2,
       "version_minor": 0
      },
      "text/plain": [
       "  0%|          | 0/1 [00:00<?, ?it/s]"
      ]
     },
     "metadata": {},
     "output_type": "display_data"
    },
    {
     "name": "stdout",
     "output_type": "stream",
     "text": [
      "\n",
      "Patient 17  Input: [0, 0, 0, 0, 1, 1, 0, 23, 0, 0, 2, 1, 7, 0]\n",
      "-> The feature **HighBP** pushes toward NOT being diabetic.\n",
      "-> The feature **HighChol** pushes toward NOT being diabetic.\n",
      "-> The feature **HeartDiseaseorAttack** pushes toward NOT being diabetic.\n",
      "-> The feature **Stroke** pushes toward NOT being diabetic.\n",
      "-> The feature **Smoker** pushes toward NOT being diabetic.\n",
      "-> The feature **PhysActivity** pushes toward NOT being diabetic.\n",
      "-> The feature **DiffWalk** pushes toward NOT being diabetic.\n",
      "-> The feature **BMI** pushes toward NOT being diabetic.\n",
      "-> The feature **MentHlth** pushes toward NOT being diabetic.\n",
      "-> The feature **PhysHlth** pushes toward  being diabetic.\n",
      "-> The feature **GenHlth** pushes toward NOT being diabetic.\n",
      "-> The feature **Sex** pushes toward  being diabetic.\n",
      "-> The feature **Age** pushes toward NOT being diabetic.\n",
      "-> The feature **HvyAlcoholConsump** pushes toward NOT being diabetic.\n",
      "Issues:\n",
      "   PhysActivity=1 reduced risk (SHAP -0.002)\n"
     ]
    },
    {
     "name": "stderr",
     "output_type": "stream",
     "text": [
      "C:\\Users\\slowd\\OneDrive\\Desktop\\Projects\\MLProjects\\Diabeties\\diabeties\\Lib\\site-packages\\sklearn\\utils\\validation.py:2739: UserWarning: X does not have valid feature names, but SimpleImputer was fitted with feature names\n",
      "  warnings.warn(\n"
     ]
    },
    {
     "data": {
      "application/vnd.jupyter.widget-view+json": {
       "model_id": "17eee5af141d4836b6f488b41b4a5827",
       "version_major": 2,
       "version_minor": 0
      },
      "text/plain": [
       "  0%|          | 0/1 [00:00<?, ?it/s]"
      ]
     },
     "metadata": {},
     "output_type": "display_data"
    },
    {
     "name": "stderr",
     "output_type": "stream",
     "text": [
      "C:\\Users\\slowd\\OneDrive\\Desktop\\Projects\\MLProjects\\Diabeties\\diabeties\\Lib\\site-packages\\sklearn\\utils\\validation.py:2739: UserWarning: X does not have valid feature names, but SimpleImputer was fitted with feature names\n",
      "  warnings.warn(\n"
     ]
    },
    {
     "data": {
      "application/vnd.jupyter.widget-view+json": {
       "model_id": "afd1ae4f60764a2c8a12948274678633",
       "version_major": 2,
       "version_minor": 0
      },
      "text/plain": [
       "  0%|          | 0/1 [00:00<?, ?it/s]"
      ]
     },
     "metadata": {},
     "output_type": "display_data"
    },
    {
     "name": "stdout",
     "output_type": "stream",
     "text": [
      "\n",
      "Patient 23  Input: [1, 0, 0, 0, 0, 1, 0, 27, 0, 0, 1, 0, 13, 0]\n",
      "-> The feature **HighBP** pushes toward  being diabetic.\n",
      "-> The feature **HighChol** pushes toward NOT being diabetic.\n",
      "-> The feature **HeartDiseaseorAttack** pushes toward NOT being diabetic.\n",
      "-> The feature **Stroke** pushes toward NOT being diabetic.\n",
      "-> The feature **Smoker** pushes toward NOT being diabetic.\n",
      "-> The feature **PhysActivity** pushes toward NOT being diabetic.\n",
      "-> The feature **DiffWalk** pushes toward NOT being diabetic.\n",
      "-> The feature **BMI** pushes toward NOT being diabetic.\n",
      "-> The feature **MentHlth** pushes toward NOT being diabetic.\n",
      "-> The feature **PhysHlth** pushes toward  being diabetic.\n",
      "-> The feature **GenHlth** pushes toward NOT being diabetic.\n",
      "-> The feature **Sex** pushes toward NOT being diabetic.\n",
      "-> The feature **Age** pushes toward  being diabetic.\n",
      "-> The feature **HvyAlcoholConsump** pushes toward NOT being diabetic.\n"
     ]
    },
    {
     "name": "stderr",
     "output_type": "stream",
     "text": [
      "C:\\Users\\slowd\\OneDrive\\Desktop\\Projects\\MLProjects\\Diabeties\\diabeties\\Lib\\site-packages\\sklearn\\utils\\validation.py:2739: UserWarning: X does not have valid feature names, but SimpleImputer was fitted with feature names\n",
      "  warnings.warn(\n"
     ]
    },
    {
     "data": {
      "application/vnd.jupyter.widget-view+json": {
       "model_id": "c8528328a32e4cc48ff37254bd49bf6f",
       "version_major": 2,
       "version_minor": 0
      },
      "text/plain": [
       "  0%|          | 0/1 [00:00<?, ?it/s]"
      ]
     },
     "metadata": {},
     "output_type": "display_data"
    },
    {
     "name": "stderr",
     "output_type": "stream",
     "text": [
      "C:\\Users\\slowd\\OneDrive\\Desktop\\Projects\\MLProjects\\Diabeties\\diabeties\\Lib\\site-packages\\sklearn\\utils\\validation.py:2739: UserWarning: X does not have valid feature names, but SimpleImputer was fitted with feature names\n",
      "  warnings.warn(\n"
     ]
    },
    {
     "data": {
      "application/vnd.jupyter.widget-view+json": {
       "model_id": "a12f58615f114152bc4f094e9b52e464",
       "version_major": 2,
       "version_minor": 0
      },
      "text/plain": [
       "  0%|          | 0/1 [00:00<?, ?it/s]"
      ]
     },
     "metadata": {},
     "output_type": "display_data"
    },
    {
     "name": "stdout",
     "output_type": "stream",
     "text": [
      "\n",
      "Patient 26  Input: [1, 1, 1, 1, 1, 0, 1, 37, 0, 0, 5, 1, 10, 0]\n",
      "-> The feature **HighBP** pushes toward  being diabetic.\n",
      "-> The feature **HighChol** pushes toward  being diabetic.\n",
      "-> The feature **HeartDiseaseorAttack** pushes toward  being diabetic.\n",
      "-> The feature **Stroke** pushes toward  being diabetic.\n",
      "-> The feature **Smoker** pushes toward NOT being diabetic.\n",
      "-> The feature **PhysActivity** pushes toward NOT being diabetic.\n",
      "-> The feature **DiffWalk** pushes toward  being diabetic.\n",
      "-> The feature **BMI** pushes toward  being diabetic.\n",
      "-> The feature **MentHlth** pushes toward NOT being diabetic.\n",
      "-> The feature **PhysHlth** pushes toward  being diabetic.\n",
      "-> The feature **GenHlth** pushes toward  being diabetic.\n",
      "-> The feature **Sex** pushes toward  being diabetic.\n",
      "-> The feature **Age** pushes toward  being diabetic.\n",
      "-> The feature **HvyAlcoholConsump** pushes toward NOT being diabetic.\n"
     ]
    },
    {
     "name": "stderr",
     "output_type": "stream",
     "text": [
      "C:\\Users\\slowd\\OneDrive\\Desktop\\Projects\\MLProjects\\Diabeties\\diabeties\\Lib\\site-packages\\sklearn\\utils\\validation.py:2739: UserWarning: X does not have valid feature names, but SimpleImputer was fitted with feature names\n",
      "  warnings.warn(\n"
     ]
    },
    {
     "data": {
      "application/vnd.jupyter.widget-view+json": {
       "model_id": "af22ebbe3bc44087875f2d8100f7cd12",
       "version_major": 2,
       "version_minor": 0
      },
      "text/plain": [
       "  0%|          | 0/1 [00:00<?, ?it/s]"
      ]
     },
     "metadata": {},
     "output_type": "display_data"
    },
    {
     "name": "stderr",
     "output_type": "stream",
     "text": [
      "C:\\Users\\slowd\\OneDrive\\Desktop\\Projects\\MLProjects\\Diabeties\\diabeties\\Lib\\site-packages\\sklearn\\utils\\validation.py:2739: UserWarning: X does not have valid feature names, but SimpleImputer was fitted with feature names\n",
      "  warnings.warn(\n"
     ]
    },
    {
     "data": {
      "application/vnd.jupyter.widget-view+json": {
       "model_id": "b3eefd85a21a45b8a26917eba529112a",
       "version_major": 2,
       "version_minor": 0
      },
      "text/plain": [
       "  0%|          | 0/1 [00:00<?, ?it/s]"
      ]
     },
     "metadata": {},
     "output_type": "display_data"
    },
    {
     "name": "stdout",
     "output_type": "stream",
     "text": [
      "\n",
      "Patient 27  Input: [1, 1, 1, 0, 1, 0, 0, 28, 0, 0, 4, 1, 12, 0]\n",
      "-> The feature **HighBP** pushes toward  being diabetic.\n",
      "-> The feature **HighChol** pushes toward  being diabetic.\n",
      "-> The feature **HeartDiseaseorAttack** pushes toward  being diabetic.\n",
      "-> The feature **Stroke** pushes toward NOT being diabetic.\n",
      "-> The feature **Smoker** pushes toward NOT being diabetic.\n",
      "-> The feature **PhysActivity** pushes toward  being diabetic.\n",
      "-> The feature **DiffWalk** pushes toward NOT being diabetic.\n",
      "-> The feature **BMI** pushes toward NOT being diabetic.\n",
      "-> The feature **MentHlth** pushes toward NOT being diabetic.\n",
      "-> The feature **PhysHlth** pushes toward  being diabetic.\n",
      "-> The feature **GenHlth** pushes toward  being diabetic.\n",
      "-> The feature **Sex** pushes toward  being diabetic.\n",
      "-> The feature **Age** pushes toward  being diabetic.\n",
      "-> The feature **HvyAlcoholConsump** pushes toward  being diabetic.\n"
     ]
    },
    {
     "name": "stderr",
     "output_type": "stream",
     "text": [
      "C:\\Users\\slowd\\OneDrive\\Desktop\\Projects\\MLProjects\\Diabeties\\diabeties\\Lib\\site-packages\\sklearn\\utils\\validation.py:2739: UserWarning: X does not have valid feature names, but SimpleImputer was fitted with feature names\n",
      "  warnings.warn(\n"
     ]
    },
    {
     "data": {
      "application/vnd.jupyter.widget-view+json": {
       "model_id": "2231127f447a4a338fc1733483c7fd9c",
       "version_major": 2,
       "version_minor": 0
      },
      "text/plain": [
       "  0%|          | 0/1 [00:00<?, ?it/s]"
      ]
     },
     "metadata": {},
     "output_type": "display_data"
    },
    {
     "name": "stderr",
     "output_type": "stream",
     "text": [
      "C:\\Users\\slowd\\OneDrive\\Desktop\\Projects\\MLProjects\\Diabeties\\diabeties\\Lib\\site-packages\\sklearn\\utils\\validation.py:2739: UserWarning: X does not have valid feature names, but SimpleImputer was fitted with feature names\n",
      "  warnings.warn(\n"
     ]
    },
    {
     "data": {
      "application/vnd.jupyter.widget-view+json": {
       "model_id": "a11a4a65117e41e78cfab25fd88e58fd",
       "version_major": 2,
       "version_minor": 0
      },
      "text/plain": [
       "  0%|          | 0/1 [00:00<?, ?it/s]"
      ]
     },
     "metadata": {},
     "output_type": "display_data"
    },
    {
     "name": "stdout",
     "output_type": "stream",
     "text": [
      "\n",
      "Patient 28  Input: [1, 1, 0, 0, 1, 0, 1, 27, 20, 20, 4, 0, 8, 0]\n",
      "-> The feature **HighBP** pushes toward  being diabetic.\n",
      "-> The feature **HighChol** pushes toward  being diabetic.\n",
      "-> The feature **HeartDiseaseorAttack** pushes toward NOT being diabetic.\n",
      "-> The feature **Stroke** pushes toward NOT being diabetic.\n",
      "-> The feature **Smoker** pushes toward NOT being diabetic.\n",
      "-> The feature **PhysActivity** pushes toward  being diabetic.\n",
      "-> The feature **DiffWalk** pushes toward  being diabetic.\n",
      "-> The feature **BMI** pushes toward NOT being diabetic.\n",
      "-> The feature **MentHlth** pushes toward NOT being diabetic.\n",
      "-> The feature **PhysHlth** pushes toward NOT being diabetic.\n",
      "-> The feature **GenHlth** pushes toward  being diabetic.\n",
      "-> The feature **Sex** pushes toward NOT being diabetic.\n",
      "-> The feature **Age** pushes toward NOT being diabetic.\n",
      "-> The feature **HvyAlcoholConsump** pushes toward NOT being diabetic.\n",
      "Issues:\n",
      "   High MentHlth=20.0 reduced risk (SHAP -0.016)\n",
      "   High PhysHlth=20.0 reduced risk (SHAP -0.028)\n",
      "   High Age=8.0 reduced risk (SHAP -0.028)\n"
     ]
    },
    {
     "name": "stderr",
     "output_type": "stream",
     "text": [
      "C:\\Users\\slowd\\OneDrive\\Desktop\\Projects\\MLProjects\\Diabeties\\diabeties\\Lib\\site-packages\\sklearn\\utils\\validation.py:2739: UserWarning: X does not have valid feature names, but SimpleImputer was fitted with feature names\n",
      "  warnings.warn(\n"
     ]
    },
    {
     "data": {
      "application/vnd.jupyter.widget-view+json": {
       "model_id": "3795879f6a43424b9551da491d64614e",
       "version_major": 2,
       "version_minor": 0
      },
      "text/plain": [
       "  0%|          | 0/1 [00:00<?, ?it/s]"
      ]
     },
     "metadata": {},
     "output_type": "display_data"
    },
    {
     "name": "stderr",
     "output_type": "stream",
     "text": [
      "C:\\Users\\slowd\\OneDrive\\Desktop\\Projects\\MLProjects\\Diabeties\\diabeties\\Lib\\site-packages\\sklearn\\utils\\validation.py:2739: UserWarning: X does not have valid feature names, but SimpleImputer was fitted with feature names\n",
      "  warnings.warn(\n"
     ]
    },
    {
     "data": {
      "application/vnd.jupyter.widget-view+json": {
       "model_id": "f9ea665e379e4d4db147b271cc7c63af",
       "version_major": 2,
       "version_minor": 0
      },
      "text/plain": [
       "  0%|          | 0/1 [00:00<?, ?it/s]"
      ]
     },
     "metadata": {},
     "output_type": "display_data"
    },
    {
     "name": "stdout",
     "output_type": "stream",
     "text": [
      "\n",
      "Patient 30  Input: [1, 1, 0, 1, 1, 1, 1, 34, 0, 7, 4, 0, 9, 0]\n",
      "-> The feature **HighBP** pushes toward  being diabetic.\n",
      "-> The feature **HighChol** pushes toward  being diabetic.\n",
      "-> The feature **HeartDiseaseorAttack** pushes toward NOT being diabetic.\n",
      "-> The feature **Stroke** pushes toward  being diabetic.\n",
      "-> The feature **Smoker** pushes toward NOT being diabetic.\n",
      "-> The feature **PhysActivity** pushes toward NOT being diabetic.\n",
      "-> The feature **DiffWalk** pushes toward  being diabetic.\n",
      "-> The feature **BMI** pushes toward  being diabetic.\n",
      "-> The feature **MentHlth** pushes toward  being diabetic.\n",
      "-> The feature **PhysHlth** pushes toward NOT being diabetic.\n",
      "-> The feature **GenHlth** pushes toward  being diabetic.\n",
      "-> The feature **Sex** pushes toward NOT being diabetic.\n",
      "-> The feature **Age** pushes toward  being diabetic.\n",
      "-> The feature **HvyAlcoholConsump** pushes toward  being diabetic.\n"
     ]
    },
    {
     "name": "stderr",
     "output_type": "stream",
     "text": [
      "C:\\Users\\slowd\\OneDrive\\Desktop\\Projects\\MLProjects\\Diabeties\\diabeties\\Lib\\site-packages\\sklearn\\utils\\validation.py:2739: UserWarning: X does not have valid feature names, but SimpleImputer was fitted with feature names\n",
      "  warnings.warn(\n"
     ]
    },
    {
     "data": {
      "application/vnd.jupyter.widget-view+json": {
       "model_id": "06fc53a5ec13498db95682557820d141",
       "version_major": 2,
       "version_minor": 0
      },
      "text/plain": [
       "  0%|          | 0/1 [00:00<?, ?it/s]"
      ]
     },
     "metadata": {},
     "output_type": "display_data"
    },
    {
     "name": "stderr",
     "output_type": "stream",
     "text": [
      "C:\\Users\\slowd\\OneDrive\\Desktop\\Projects\\MLProjects\\Diabeties\\diabeties\\Lib\\site-packages\\sklearn\\utils\\validation.py:2739: UserWarning: X does not have valid feature names, but SimpleImputer was fitted with feature names\n",
      "  warnings.warn(\n"
     ]
    },
    {
     "data": {
      "application/vnd.jupyter.widget-view+json": {
       "model_id": "d574831c3c204a74ab1cd1b42aeec5ba",
       "version_major": 2,
       "version_minor": 0
      },
      "text/plain": [
       "  0%|          | 0/1 [00:00<?, ?it/s]"
      ]
     },
     "metadata": {},
     "output_type": "display_data"
    },
    {
     "name": "stdout",
     "output_type": "stream",
     "text": [
      "\n",
      "Patient 34  Input: [1, 1, 0, 0, 1, 0, 0, 24, 0, 0, 2, 0, 12, 0]\n",
      "-> The feature **HighBP** pushes toward  being diabetic.\n",
      "-> The feature **HighChol** pushes toward  being diabetic.\n",
      "-> The feature **HeartDiseaseorAttack** pushes toward NOT being diabetic.\n",
      "-> The feature **Stroke** pushes toward NOT being diabetic.\n",
      "-> The feature **Smoker** pushes toward NOT being diabetic.\n",
      "-> The feature **PhysActivity** pushes toward  being diabetic.\n",
      "-> The feature **DiffWalk** pushes toward NOT being diabetic.\n",
      "-> The feature **BMI** pushes toward NOT being diabetic.\n",
      "-> The feature **MentHlth** pushes toward NOT being diabetic.\n",
      "-> The feature **PhysHlth** pushes toward  being diabetic.\n",
      "-> The feature **GenHlth** pushes toward NOT being diabetic.\n",
      "-> The feature **Sex** pushes toward NOT being diabetic.\n",
      "-> The feature **Age** pushes toward  being diabetic.\n",
      "-> The feature **HvyAlcoholConsump** pushes toward  being diabetic.\n"
     ]
    }
   ],
   "source": [
    "for idx, row in first_test.iterrows():\n",
    "    patient = row[feature_names].tolist()\n",
    "\n",
    "    expl = explain_single_prediction(\n",
    "        patient_features = patient,\n",
    "        feature_names    = feature_names,\n",
    "        scaler           = scaler,\n",
    "        imputer          = imputer,\n",
    "        explainer        = explainer\n",
    "    )\n",
    "\n",
    "    raw_sv = explain_single_prediction(\n",
    "        patient_features = patient,\n",
    "        feature_names    = feature_names,\n",
    "        scaler           = scaler,\n",
    "        imputer          = imputer,\n",
    "        explainer        = explainer,\n",
    "        return_raw       = True\n",
    "    )\n",
    "\n",
    "    issues = detect_unexpected_shap_behavior(\n",
    "        feature_names    = feature_names,\n",
    "        shap_values      = raw_sv,\n",
    "        patient_features = patient\n",
    "    )\n",
    "\n",
    "    print(f\"\\nPatient {idx}  Input: {patient}\")\n",
    "    for s in expl:\n",
    "        print(\"->\", s)\n",
    "    if issues:\n",
    "        print(\"Issues:\")\n",
    "        for i in issues:\n",
    "            print(\"  \", i)\n",
    "\n"
   ]
  },
  {
   "cell_type": "code",
   "execution_count": null,
   "id": "2552b257-4f78-45ed-827c-b3dd7e76c4b8",
   "metadata": {},
   "outputs": [],
   "source": []
  },
  {
   "cell_type": "code",
   "execution_count": null,
   "id": "be9e93c4-f3c6-4940-ada4-c83dafea5302",
   "metadata": {},
   "outputs": [],
   "source": []
  },
  {
   "cell_type": "code",
   "execution_count": null,
   "id": "59d026d4-8d8d-4515-b692-60447d486e8b",
   "metadata": {},
   "outputs": [
    {
     "name": "stderr",
     "output_type": "stream",
     "text": [
      "Checking SHAP issues:   0%|                                                                                  | 0/35346 [00:00<?, ?it/s]C:\\Users\\slowd\\OneDrive\\Desktop\\Projects\\MLProjects\\Diabeties\\diabeties\\Lib\\site-packages\\sklearn\\utils\\validation.py:2739: UserWarning: X does not have valid feature names, but SimpleImputer was fitted with feature names\n",
      "  warnings.warn(\n"
     ]
    },
    {
     "data": {
      "application/vnd.jupyter.widget-view+json": {
       "model_id": "d4be9cefefc04093800c0b1d105c07ed",
       "version_major": 2,
       "version_minor": 0
      },
      "text/plain": [
       "  0%|          | 0/1 [00:00<?, ?it/s]"
      ]
     },
     "metadata": {},
     "output_type": "display_data"
    },
    {
     "name": "stderr",
     "output_type": "stream",
     "text": [
      "Checking SHAP issues:   0%|                                                                        | 1/35346 [00:00<5:04:36,  1.93it/s]C:\\Users\\slowd\\OneDrive\\Desktop\\Projects\\MLProjects\\Diabeties\\diabeties\\Lib\\site-packages\\sklearn\\utils\\validation.py:2739: UserWarning: X does not have valid feature names, but SimpleImputer was fitted with feature names\n",
      "  warnings.warn(\n"
     ]
    },
    {
     "data": {
      "application/vnd.jupyter.widget-view+json": {
       "model_id": "79f32adc832249efb85e909ab7388671",
       "version_major": 2,
       "version_minor": 0
      },
      "text/plain": [
       "  0%|          | 0/1 [00:00<?, ?it/s]"
      ]
     },
     "metadata": {},
     "output_type": "display_data"
    },
    {
     "name": "stderr",
     "output_type": "stream",
     "text": [
      "Checking SHAP issues:   0%|                                                                        | 2/35346 [00:01<5:07:54,  1.91it/s]C:\\Users\\slowd\\OneDrive\\Desktop\\Projects\\MLProjects\\Diabeties\\diabeties\\Lib\\site-packages\\sklearn\\utils\\validation.py:2739: UserWarning: X does not have valid feature names, but SimpleImputer was fitted with feature names\n",
      "  warnings.warn(\n"
     ]
    },
    {
     "data": {
      "application/vnd.jupyter.widget-view+json": {
       "model_id": "84b70a42866b44da9c0fb919b6df3c62",
       "version_major": 2,
       "version_minor": 0
      },
      "text/plain": [
       "  0%|          | 0/1 [00:00<?, ?it/s]"
      ]
     },
     "metadata": {},
     "output_type": "display_data"
    },
    {
     "name": "stderr",
     "output_type": "stream",
     "text": [
      "Checking SHAP issues:   0%|                                                                        | 3/35346 [00:01<5:06:03,  1.92it/s]C:\\Users\\slowd\\OneDrive\\Desktop\\Projects\\MLProjects\\Diabeties\\diabeties\\Lib\\site-packages\\sklearn\\utils\\validation.py:2739: UserWarning: X does not have valid feature names, but SimpleImputer was fitted with feature names\n",
      "  warnings.warn(\n"
     ]
    },
    {
     "data": {
      "application/vnd.jupyter.widget-view+json": {
       "model_id": "7e6c980bede14724b734eb00f6b5acce",
       "version_major": 2,
       "version_minor": 0
      },
      "text/plain": [
       "  0%|          | 0/1 [00:00<?, ?it/s]"
      ]
     },
     "metadata": {},
     "output_type": "display_data"
    },
    {
     "name": "stderr",
     "output_type": "stream",
     "text": [
      "Checking SHAP issues:   0%|                                                                        | 4/35346 [00:02<5:03:01,  1.94it/s]C:\\Users\\slowd\\OneDrive\\Desktop\\Projects\\MLProjects\\Diabeties\\diabeties\\Lib\\site-packages\\sklearn\\utils\\validation.py:2739: UserWarning: X does not have valid feature names, but SimpleImputer was fitted with feature names\n",
      "  warnings.warn(\n"
     ]
    },
    {
     "data": {
      "application/vnd.jupyter.widget-view+json": {
       "model_id": "dfd5dc1403e34aaf98a1e35ddcb77cff",
       "version_major": 2,
       "version_minor": 0
      },
      "text/plain": [
       "  0%|          | 0/1 [00:00<?, ?it/s]"
      ]
     },
     "metadata": {},
     "output_type": "display_data"
    },
    {
     "name": "stderr",
     "output_type": "stream",
     "text": [
      "Checking SHAP issues:   0%|                                                                        | 5/35346 [00:02<5:02:07,  1.95it/s]C:\\Users\\slowd\\OneDrive\\Desktop\\Projects\\MLProjects\\Diabeties\\diabeties\\Lib\\site-packages\\sklearn\\utils\\validation.py:2739: UserWarning: X does not have valid feature names, but SimpleImputer was fitted with feature names\n",
      "  warnings.warn(\n"
     ]
    },
    {
     "data": {
      "application/vnd.jupyter.widget-view+json": {
       "model_id": "27922896f9f045f4993881c4a5cdebab",
       "version_major": 2,
       "version_minor": 0
      },
      "text/plain": [
       "  0%|          | 0/1 [00:00<?, ?it/s]"
      ]
     },
     "metadata": {},
     "output_type": "display_data"
    },
    {
     "name": "stderr",
     "output_type": "stream",
     "text": [
      "Checking SHAP issues:   0%|                                                                        | 6/35346 [00:03<4:53:53,  2.00it/s]C:\\Users\\slowd\\OneDrive\\Desktop\\Projects\\MLProjects\\Diabeties\\diabeties\\Lib\\site-packages\\sklearn\\utils\\validation.py:2739: UserWarning: X does not have valid feature names, but SimpleImputer was fitted with feature names\n",
      "  warnings.warn(\n"
     ]
    },
    {
     "data": {
      "application/vnd.jupyter.widget-view+json": {
       "model_id": "1ba258511e9446ed809ccbdcaf381f16",
       "version_major": 2,
       "version_minor": 0
      },
      "text/plain": [
       "  0%|          | 0/1 [00:00<?, ?it/s]"
      ]
     },
     "metadata": {},
     "output_type": "display_data"
    },
    {
     "name": "stderr",
     "output_type": "stream",
     "text": [
      "Checking SHAP issues:   0%|                                                                        | 7/35346 [00:03<4:56:54,  1.98it/s]C:\\Users\\slowd\\OneDrive\\Desktop\\Projects\\MLProjects\\Diabeties\\diabeties\\Lib\\site-packages\\sklearn\\utils\\validation.py:2739: UserWarning: X does not have valid feature names, but SimpleImputer was fitted with feature names\n",
      "  warnings.warn(\n"
     ]
    },
    {
     "data": {
      "application/vnd.jupyter.widget-view+json": {
       "model_id": "5671053e42db4827ac9acf6bf707a771",
       "version_major": 2,
       "version_minor": 0
      },
      "text/plain": [
       "  0%|          | 0/1 [00:00<?, ?it/s]"
      ]
     },
     "metadata": {},
     "output_type": "display_data"
    },
    {
     "name": "stderr",
     "output_type": "stream",
     "text": [
      "Checking SHAP issues:   0%|                                                                        | 8/35346 [00:04<4:59:02,  1.97it/s]C:\\Users\\slowd\\OneDrive\\Desktop\\Projects\\MLProjects\\Diabeties\\diabeties\\Lib\\site-packages\\sklearn\\utils\\validation.py:2739: UserWarning: X does not have valid feature names, but SimpleImputer was fitted with feature names\n",
      "  warnings.warn(\n"
     ]
    },
    {
     "data": {
      "application/vnd.jupyter.widget-view+json": {
       "model_id": "4f891a27a1744cd2b5357639ce2f4b77",
       "version_major": 2,
       "version_minor": 0
      },
      "text/plain": [
       "  0%|          | 0/1 [00:00<?, ?it/s]"
      ]
     },
     "metadata": {},
     "output_type": "display_data"
    },
    {
     "name": "stderr",
     "output_type": "stream",
     "text": [
      "Checking SHAP issues:   0%|                                                                        | 9/35346 [00:04<4:56:35,  1.99it/s]C:\\Users\\slowd\\OneDrive\\Desktop\\Projects\\MLProjects\\Diabeties\\diabeties\\Lib\\site-packages\\sklearn\\utils\\validation.py:2739: UserWarning: X does not have valid feature names, but SimpleImputer was fitted with feature names\n",
      "  warnings.warn(\n"
     ]
    },
    {
     "data": {
      "application/vnd.jupyter.widget-view+json": {
       "model_id": "ce563e08108e4205942e523c301fe026",
       "version_major": 2,
       "version_minor": 0
      },
      "text/plain": [
       "  0%|          | 0/1 [00:00<?, ?it/s]"
      ]
     },
     "metadata": {},
     "output_type": "display_data"
    },
    {
     "name": "stderr",
     "output_type": "stream",
     "text": [
      "Checking SHAP issues:   0%|                                                                       | 10/35346 [00:05<5:01:05,  1.96it/s]C:\\Users\\slowd\\OneDrive\\Desktop\\Projects\\MLProjects\\Diabeties\\diabeties\\Lib\\site-packages\\sklearn\\utils\\validation.py:2739: UserWarning: X does not have valid feature names, but SimpleImputer was fitted with feature names\n",
      "  warnings.warn(\n"
     ]
    },
    {
     "data": {
      "application/vnd.jupyter.widget-view+json": {
       "model_id": "e26cc9baeb9c465291cdd99af8715e86",
       "version_major": 2,
       "version_minor": 0
      },
      "text/plain": [
       "  0%|          | 0/1 [00:00<?, ?it/s]"
      ]
     },
     "metadata": {},
     "output_type": "display_data"
    },
    {
     "name": "stderr",
     "output_type": "stream",
     "text": [
      "Checking SHAP issues:   0%|                                                                       | 11/35346 [00:05<4:59:43,  1.96it/s]C:\\Users\\slowd\\OneDrive\\Desktop\\Projects\\MLProjects\\Diabeties\\diabeties\\Lib\\site-packages\\sklearn\\utils\\validation.py:2739: UserWarning: X does not have valid feature names, but SimpleImputer was fitted with feature names\n",
      "  warnings.warn(\n"
     ]
    },
    {
     "data": {
      "application/vnd.jupyter.widget-view+json": {
       "model_id": "432e775efe43475b83f9c7c2df0b84d4",
       "version_major": 2,
       "version_minor": 0
      },
      "text/plain": [
       "  0%|          | 0/1 [00:00<?, ?it/s]"
      ]
     },
     "metadata": {},
     "output_type": "display_data"
    },
    {
     "name": "stderr",
     "output_type": "stream",
     "text": [
      "Checking SHAP issues:   0%|                                                                       | 12/35346 [00:06<5:02:57,  1.94it/s]C:\\Users\\slowd\\OneDrive\\Desktop\\Projects\\MLProjects\\Diabeties\\diabeties\\Lib\\site-packages\\sklearn\\utils\\validation.py:2739: UserWarning: X does not have valid feature names, but SimpleImputer was fitted with feature names\n",
      "  warnings.warn(\n"
     ]
    },
    {
     "data": {
      "application/vnd.jupyter.widget-view+json": {
       "model_id": "183ef131a805480b99df7fcedb750af6",
       "version_major": 2,
       "version_minor": 0
      },
      "text/plain": [
       "  0%|          | 0/1 [00:00<?, ?it/s]"
      ]
     },
     "metadata": {},
     "output_type": "display_data"
    },
    {
     "name": "stderr",
     "output_type": "stream",
     "text": [
      "Checking SHAP issues:   0%|                                                                       | 13/35346 [00:06<5:00:14,  1.96it/s]C:\\Users\\slowd\\OneDrive\\Desktop\\Projects\\MLProjects\\Diabeties\\diabeties\\Lib\\site-packages\\sklearn\\utils\\validation.py:2739: UserWarning: X does not have valid feature names, but SimpleImputer was fitted with feature names\n",
      "  warnings.warn(\n"
     ]
    },
    {
     "data": {
      "application/vnd.jupyter.widget-view+json": {
       "model_id": "bf97965b0ae94570aa09f3f3f97fcdc0",
       "version_major": 2,
       "version_minor": 0
      },
      "text/plain": [
       "  0%|          | 0/1 [00:00<?, ?it/s]"
      ]
     },
     "metadata": {},
     "output_type": "display_data"
    },
    {
     "name": "stderr",
     "output_type": "stream",
     "text": [
      "Checking SHAP issues:   0%|                                                                       | 14/35346 [00:07<5:00:41,  1.96it/s]C:\\Users\\slowd\\OneDrive\\Desktop\\Projects\\MLProjects\\Diabeties\\diabeties\\Lib\\site-packages\\sklearn\\utils\\validation.py:2739: UserWarning: X does not have valid feature names, but SimpleImputer was fitted with feature names\n",
      "  warnings.warn(\n"
     ]
    },
    {
     "data": {
      "application/vnd.jupyter.widget-view+json": {
       "model_id": "4dbb49ce3bf84af0a5301a052d2a5bbe",
       "version_major": 2,
       "version_minor": 0
      },
      "text/plain": [
       "  0%|          | 0/1 [00:00<?, ?it/s]"
      ]
     },
     "metadata": {},
     "output_type": "display_data"
    },
    {
     "name": "stderr",
     "output_type": "stream",
     "text": [
      "Checking SHAP issues:   0%|                                                                       | 15/35346 [00:07<4:59:47,  1.96it/s]C:\\Users\\slowd\\OneDrive\\Desktop\\Projects\\MLProjects\\Diabeties\\diabeties\\Lib\\site-packages\\sklearn\\utils\\validation.py:2739: UserWarning: X does not have valid feature names, but SimpleImputer was fitted with feature names\n",
      "  warnings.warn(\n"
     ]
    },
    {
     "data": {
      "application/vnd.jupyter.widget-view+json": {
       "model_id": "98716ff3599547bf880a2d6393b7cedd",
       "version_major": 2,
       "version_minor": 0
      },
      "text/plain": [
       "  0%|          | 0/1 [00:00<?, ?it/s]"
      ]
     },
     "metadata": {},
     "output_type": "display_data"
    },
    {
     "name": "stderr",
     "output_type": "stream",
     "text": [
      "Checking SHAP issues:   0%|                                                                       | 16/35346 [00:08<4:59:43,  1.96it/s]C:\\Users\\slowd\\OneDrive\\Desktop\\Projects\\MLProjects\\Diabeties\\diabeties\\Lib\\site-packages\\sklearn\\utils\\validation.py:2739: UserWarning: X does not have valid feature names, but SimpleImputer was fitted with feature names\n",
      "  warnings.warn(\n"
     ]
    },
    {
     "data": {
      "application/vnd.jupyter.widget-view+json": {
       "model_id": "47947067d20b400eb0d2e4d9b037c82c",
       "version_major": 2,
       "version_minor": 0
      },
      "text/plain": [
       "  0%|          | 0/1 [00:00<?, ?it/s]"
      ]
     },
     "metadata": {},
     "output_type": "display_data"
    },
    {
     "name": "stderr",
     "output_type": "stream",
     "text": [
      "Checking SHAP issues:   0%|                                                                       | 17/35346 [00:08<5:00:31,  1.96it/s]C:\\Users\\slowd\\OneDrive\\Desktop\\Projects\\MLProjects\\Diabeties\\diabeties\\Lib\\site-packages\\sklearn\\utils\\validation.py:2739: UserWarning: X does not have valid feature names, but SimpleImputer was fitted with feature names\n",
      "  warnings.warn(\n"
     ]
    },
    {
     "data": {
      "application/vnd.jupyter.widget-view+json": {
       "model_id": "daae7a443873420b9337a971b88b4512",
       "version_major": 2,
       "version_minor": 0
      },
      "text/plain": [
       "  0%|          | 0/1 [00:00<?, ?it/s]"
      ]
     },
     "metadata": {},
     "output_type": "display_data"
    },
    {
     "name": "stderr",
     "output_type": "stream",
     "text": [
      "Checking SHAP issues:   0%|                                                                       | 18/35346 [00:09<5:02:36,  1.95it/s]C:\\Users\\slowd\\OneDrive\\Desktop\\Projects\\MLProjects\\Diabeties\\diabeties\\Lib\\site-packages\\sklearn\\utils\\validation.py:2739: UserWarning: X does not have valid feature names, but SimpleImputer was fitted with feature names\n",
      "  warnings.warn(\n"
     ]
    },
    {
     "data": {
      "application/vnd.jupyter.widget-view+json": {
       "model_id": "445b1584cdfb489d830a99c53dad2d08",
       "version_major": 2,
       "version_minor": 0
      },
      "text/plain": [
       "  0%|          | 0/1 [00:00<?, ?it/s]"
      ]
     },
     "metadata": {},
     "output_type": "display_data"
    },
    {
     "name": "stderr",
     "output_type": "stream",
     "text": [
      "Checking SHAP issues:   0%|                                                                       | 19/35346 [00:09<5:01:18,  1.95it/s]C:\\Users\\slowd\\OneDrive\\Desktop\\Projects\\MLProjects\\Diabeties\\diabeties\\Lib\\site-packages\\sklearn\\utils\\validation.py:2739: UserWarning: X does not have valid feature names, but SimpleImputer was fitted with feature names\n",
      "  warnings.warn(\n"
     ]
    },
    {
     "data": {
      "application/vnd.jupyter.widget-view+json": {
       "model_id": "edcd3e0de3a64093ba49e34e596dc02e",
       "version_major": 2,
       "version_minor": 0
      },
      "text/plain": [
       "  0%|          | 0/1 [00:00<?, ?it/s]"
      ]
     },
     "metadata": {},
     "output_type": "display_data"
    },
    {
     "name": "stderr",
     "output_type": "stream",
     "text": [
      "Checking SHAP issues:   0%|                                                                       | 20/35346 [00:10<5:13:07,  1.88it/s]C:\\Users\\slowd\\OneDrive\\Desktop\\Projects\\MLProjects\\Diabeties\\diabeties\\Lib\\site-packages\\sklearn\\utils\\validation.py:2739: UserWarning: X does not have valid feature names, but SimpleImputer was fitted with feature names\n",
      "  warnings.warn(\n"
     ]
    },
    {
     "data": {
      "application/vnd.jupyter.widget-view+json": {
       "model_id": "967c8df7592048a691a5e0e69708eb0a",
       "version_major": 2,
       "version_minor": 0
      },
      "text/plain": [
       "  0%|          | 0/1 [00:00<?, ?it/s]"
      ]
     },
     "metadata": {},
     "output_type": "display_data"
    },
    {
     "name": "stderr",
     "output_type": "stream",
     "text": [
      "Checking SHAP issues:   0%|                                                                       | 21/35346 [00:10<5:10:06,  1.90it/s]C:\\Users\\slowd\\OneDrive\\Desktop\\Projects\\MLProjects\\Diabeties\\diabeties\\Lib\\site-packages\\sklearn\\utils\\validation.py:2739: UserWarning: X does not have valid feature names, but SimpleImputer was fitted with feature names\n",
      "  warnings.warn(\n"
     ]
    },
    {
     "data": {
      "application/vnd.jupyter.widget-view+json": {
       "model_id": "624dfe4b91f14d97bd81861c0a7edce1",
       "version_major": 2,
       "version_minor": 0
      },
      "text/plain": [
       "  0%|          | 0/1 [00:00<?, ?it/s]"
      ]
     },
     "metadata": {},
     "output_type": "display_data"
    },
    {
     "name": "stderr",
     "output_type": "stream",
     "text": [
      "Checking SHAP issues:   0%|                                                                       | 22/35346 [00:11<5:06:50,  1.92it/s]C:\\Users\\slowd\\OneDrive\\Desktop\\Projects\\MLProjects\\Diabeties\\diabeties\\Lib\\site-packages\\sklearn\\utils\\validation.py:2739: UserWarning: X does not have valid feature names, but SimpleImputer was fitted with feature names\n",
      "  warnings.warn(\n"
     ]
    },
    {
     "data": {
      "application/vnd.jupyter.widget-view+json": {
       "model_id": "c20d9a0c7402474bb0b02f554d1a4028",
       "version_major": 2,
       "version_minor": 0
      },
      "text/plain": [
       "  0%|          | 0/1 [00:00<?, ?it/s]"
      ]
     },
     "metadata": {},
     "output_type": "display_data"
    },
    {
     "name": "stderr",
     "output_type": "stream",
     "text": [
      "Checking SHAP issues:   0%|                                                                       | 23/35346 [00:11<5:09:41,  1.90it/s]C:\\Users\\slowd\\OneDrive\\Desktop\\Projects\\MLProjects\\Diabeties\\diabeties\\Lib\\site-packages\\sklearn\\utils\\validation.py:2739: UserWarning: X does not have valid feature names, but SimpleImputer was fitted with feature names\n",
      "  warnings.warn(\n"
     ]
    },
    {
     "data": {
      "application/vnd.jupyter.widget-view+json": {
       "model_id": "01818cf372454aac9635afdf0c8a5cb0",
       "version_major": 2,
       "version_minor": 0
      },
      "text/plain": [
       "  0%|          | 0/1 [00:00<?, ?it/s]"
      ]
     },
     "metadata": {},
     "output_type": "display_data"
    },
    {
     "name": "stderr",
     "output_type": "stream",
     "text": [
      "Checking SHAP issues:   0%|                                                                       | 24/35346 [00:12<5:04:04,  1.94it/s]C:\\Users\\slowd\\OneDrive\\Desktop\\Projects\\MLProjects\\Diabeties\\diabeties\\Lib\\site-packages\\sklearn\\utils\\validation.py:2739: UserWarning: X does not have valid feature names, but SimpleImputer was fitted with feature names\n",
      "  warnings.warn(\n"
     ]
    },
    {
     "data": {
      "application/vnd.jupyter.widget-view+json": {
       "model_id": "f408c7a83eb3439881d55e5ea8caf748",
       "version_major": 2,
       "version_minor": 0
      },
      "text/plain": [
       "  0%|          | 0/1 [00:00<?, ?it/s]"
      ]
     },
     "metadata": {},
     "output_type": "display_data"
    },
    {
     "name": "stderr",
     "output_type": "stream",
     "text": [
      "Checking SHAP issues:   0%|                                                                       | 25/35346 [00:12<5:05:40,  1.93it/s]C:\\Users\\slowd\\OneDrive\\Desktop\\Projects\\MLProjects\\Diabeties\\diabeties\\Lib\\site-packages\\sklearn\\utils\\validation.py:2739: UserWarning: X does not have valid feature names, but SimpleImputer was fitted with feature names\n",
      "  warnings.warn(\n"
     ]
    },
    {
     "data": {
      "application/vnd.jupyter.widget-view+json": {
       "model_id": "6c036ac2230843e8a8779c1b607ea998",
       "version_major": 2,
       "version_minor": 0
      },
      "text/plain": [
       "  0%|          | 0/1 [00:00<?, ?it/s]"
      ]
     },
     "metadata": {},
     "output_type": "display_data"
    },
    {
     "name": "stderr",
     "output_type": "stream",
     "text": [
      "Checking SHAP issues:   0%|                                                                       | 26/35346 [00:13<5:02:34,  1.95it/s]C:\\Users\\slowd\\OneDrive\\Desktop\\Projects\\MLProjects\\Diabeties\\diabeties\\Lib\\site-packages\\sklearn\\utils\\validation.py:2739: UserWarning: X does not have valid feature names, but SimpleImputer was fitted with feature names\n",
      "  warnings.warn(\n"
     ]
    },
    {
     "data": {
      "application/vnd.jupyter.widget-view+json": {
       "model_id": "5ff81811d692433b9b721d35afa1537e",
       "version_major": 2,
       "version_minor": 0
      },
      "text/plain": [
       "  0%|          | 0/1 [00:00<?, ?it/s]"
      ]
     },
     "metadata": {},
     "output_type": "display_data"
    },
    {
     "name": "stderr",
     "output_type": "stream",
     "text": [
      "Checking SHAP issues:   0%|                                                                       | 27/35346 [00:13<5:03:57,  1.94it/s]C:\\Users\\slowd\\OneDrive\\Desktop\\Projects\\MLProjects\\Diabeties\\diabeties\\Lib\\site-packages\\sklearn\\utils\\validation.py:2739: UserWarning: X does not have valid feature names, but SimpleImputer was fitted with feature names\n",
      "  warnings.warn(\n"
     ]
    },
    {
     "data": {
      "application/vnd.jupyter.widget-view+json": {
       "model_id": "dfe4859924094ea98c6a427ee8d1f446",
       "version_major": 2,
       "version_minor": 0
      },
      "text/plain": [
       "  0%|          | 0/1 [00:00<?, ?it/s]"
      ]
     },
     "metadata": {},
     "output_type": "display_data"
    },
    {
     "name": "stderr",
     "output_type": "stream",
     "text": [
      "Checking SHAP issues:   0%|                                                                       | 28/35346 [00:14<5:00:41,  1.96it/s]C:\\Users\\slowd\\OneDrive\\Desktop\\Projects\\MLProjects\\Diabeties\\diabeties\\Lib\\site-packages\\sklearn\\utils\\validation.py:2739: UserWarning: X does not have valid feature names, but SimpleImputer was fitted with feature names\n",
      "  warnings.warn(\n"
     ]
    },
    {
     "data": {
      "application/vnd.jupyter.widget-view+json": {
       "model_id": "19daf144ceee4a2f8afc59cbd6840ffa",
       "version_major": 2,
       "version_minor": 0
      },
      "text/plain": [
       "  0%|          | 0/1 [00:00<?, ?it/s]"
      ]
     },
     "metadata": {},
     "output_type": "display_data"
    },
    {
     "name": "stderr",
     "output_type": "stream",
     "text": [
      "Checking SHAP issues:   0%|                                                                       | 29/35346 [00:14<5:03:33,  1.94it/s]C:\\Users\\slowd\\OneDrive\\Desktop\\Projects\\MLProjects\\Diabeties\\diabeties\\Lib\\site-packages\\sklearn\\utils\\validation.py:2739: UserWarning: X does not have valid feature names, but SimpleImputer was fitted with feature names\n",
      "  warnings.warn(\n"
     ]
    },
    {
     "data": {
      "application/vnd.jupyter.widget-view+json": {
       "model_id": "c733dcb944cc470e839d022ce1a1c056",
       "version_major": 2,
       "version_minor": 0
      },
      "text/plain": [
       "  0%|          | 0/1 [00:00<?, ?it/s]"
      ]
     },
     "metadata": {},
     "output_type": "display_data"
    },
    {
     "name": "stderr",
     "output_type": "stream",
     "text": [
      "Checking SHAP issues:   0%|                                                                       | 30/35346 [00:15<5:00:21,  1.96it/s]C:\\Users\\slowd\\OneDrive\\Desktop\\Projects\\MLProjects\\Diabeties\\diabeties\\Lib\\site-packages\\sklearn\\utils\\validation.py:2739: UserWarning: X does not have valid feature names, but SimpleImputer was fitted with feature names\n",
      "  warnings.warn(\n"
     ]
    },
    {
     "data": {
      "application/vnd.jupyter.widget-view+json": {
       "model_id": "ce7ff259dabc4e0da5f7e1419a9ded05",
       "version_major": 2,
       "version_minor": 0
      },
      "text/plain": [
       "  0%|          | 0/1 [00:00<?, ?it/s]"
      ]
     },
     "metadata": {},
     "output_type": "display_data"
    },
    {
     "name": "stderr",
     "output_type": "stream",
     "text": [
      "Checking SHAP issues:   0%|                                                                       | 31/35346 [00:15<5:04:05,  1.94it/s]C:\\Users\\slowd\\OneDrive\\Desktop\\Projects\\MLProjects\\Diabeties\\diabeties\\Lib\\site-packages\\sklearn\\utils\\validation.py:2739: UserWarning: X does not have valid feature names, but SimpleImputer was fitted with feature names\n",
      "  warnings.warn(\n"
     ]
    },
    {
     "data": {
      "application/vnd.jupyter.widget-view+json": {
       "model_id": "e475042c59e640a495179b7b91e02eda",
       "version_major": 2,
       "version_minor": 0
      },
      "text/plain": [
       "  0%|          | 0/1 [00:00<?, ?it/s]"
      ]
     },
     "metadata": {},
     "output_type": "display_data"
    },
    {
     "name": "stderr",
     "output_type": "stream",
     "text": [
      "Checking SHAP issues:   0%|                                                                       | 32/35346 [00:16<5:02:26,  1.95it/s]C:\\Users\\slowd\\OneDrive\\Desktop\\Projects\\MLProjects\\Diabeties\\diabeties\\Lib\\site-packages\\sklearn\\utils\\validation.py:2739: UserWarning: X does not have valid feature names, but SimpleImputer was fitted with feature names\n",
      "  warnings.warn(\n"
     ]
    },
    {
     "data": {
      "application/vnd.jupyter.widget-view+json": {
       "model_id": "efbef35401eb409cb91a873f08e36409",
       "version_major": 2,
       "version_minor": 0
      },
      "text/plain": [
       "  0%|          | 0/1 [00:00<?, ?it/s]"
      ]
     },
     "metadata": {},
     "output_type": "display_data"
    },
    {
     "name": "stderr",
     "output_type": "stream",
     "text": [
      "Checking SHAP issues:   0%|                                                                       | 33/35346 [00:16<5:03:00,  1.94it/s]C:\\Users\\slowd\\OneDrive\\Desktop\\Projects\\MLProjects\\Diabeties\\diabeties\\Lib\\site-packages\\sklearn\\utils\\validation.py:2739: UserWarning: X does not have valid feature names, but SimpleImputer was fitted with feature names\n",
      "  warnings.warn(\n"
     ]
    },
    {
     "data": {
      "application/vnd.jupyter.widget-view+json": {
       "model_id": "16f4cc136b384009b6f61e7d804c052b",
       "version_major": 2,
       "version_minor": 0
      },
      "text/plain": [
       "  0%|          | 0/1 [00:00<?, ?it/s]"
      ]
     },
     "metadata": {},
     "output_type": "display_data"
    },
    {
     "name": "stderr",
     "output_type": "stream",
     "text": [
      "Checking SHAP issues:   0%|                                                                       | 34/35346 [00:17<5:01:24,  1.95it/s]C:\\Users\\slowd\\OneDrive\\Desktop\\Projects\\MLProjects\\Diabeties\\diabeties\\Lib\\site-packages\\sklearn\\utils\\validation.py:2739: UserWarning: X does not have valid feature names, but SimpleImputer was fitted with feature names\n",
      "  warnings.warn(\n"
     ]
    },
    {
     "data": {
      "application/vnd.jupyter.widget-view+json": {
       "model_id": "f00c7bde9341423f808fc6f3f8d5ffac",
       "version_major": 2,
       "version_minor": 0
      },
      "text/plain": [
       "  0%|          | 0/1 [00:00<?, ?it/s]"
      ]
     },
     "metadata": {},
     "output_type": "display_data"
    },
    {
     "name": "stderr",
     "output_type": "stream",
     "text": [
      "Checking SHAP issues:   0%|                                                                       | 35/35346 [00:17<5:01:11,  1.95it/s]C:\\Users\\slowd\\OneDrive\\Desktop\\Projects\\MLProjects\\Diabeties\\diabeties\\Lib\\site-packages\\sklearn\\utils\\validation.py:2739: UserWarning: X does not have valid feature names, but SimpleImputer was fitted with feature names\n",
      "  warnings.warn(\n"
     ]
    },
    {
     "data": {
      "application/vnd.jupyter.widget-view+json": {
       "model_id": "b82a67cd94224d6c9b7e255df94b5025",
       "version_major": 2,
       "version_minor": 0
      },
      "text/plain": [
       "  0%|          | 0/1 [00:00<?, ?it/s]"
      ]
     },
     "metadata": {},
     "output_type": "display_data"
    },
    {
     "name": "stderr",
     "output_type": "stream",
     "text": [
      "Checking SHAP issues:   0%|                                                                       | 36/35346 [00:18<5:01:13,  1.95it/s]C:\\Users\\slowd\\OneDrive\\Desktop\\Projects\\MLProjects\\Diabeties\\diabeties\\Lib\\site-packages\\sklearn\\utils\\validation.py:2739: UserWarning: X does not have valid feature names, but SimpleImputer was fitted with feature names\n",
      "  warnings.warn(\n"
     ]
    },
    {
     "data": {
      "application/vnd.jupyter.widget-view+json": {
       "model_id": "c4d4fb78c7de438cb06e62a375496437",
       "version_major": 2,
       "version_minor": 0
      },
      "text/plain": [
       "  0%|          | 0/1 [00:00<?, ?it/s]"
      ]
     },
     "metadata": {},
     "output_type": "display_data"
    },
    {
     "name": "stderr",
     "output_type": "stream",
     "text": [
      "Checking SHAP issues:   0%|                                                                       | 37/35346 [00:19<5:03:31,  1.94it/s]C:\\Users\\slowd\\OneDrive\\Desktop\\Projects\\MLProjects\\Diabeties\\diabeties\\Lib\\site-packages\\sklearn\\utils\\validation.py:2739: UserWarning: X does not have valid feature names, but SimpleImputer was fitted with feature names\n",
      "  warnings.warn(\n"
     ]
    },
    {
     "data": {
      "application/vnd.jupyter.widget-view+json": {
       "model_id": "898a1b9c5e184131b855bc13c288b4ee",
       "version_major": 2,
       "version_minor": 0
      },
      "text/plain": [
       "  0%|          | 0/1 [00:00<?, ?it/s]"
      ]
     },
     "metadata": {},
     "output_type": "display_data"
    },
    {
     "name": "stderr",
     "output_type": "stream",
     "text": [
      "Checking SHAP issues:   0%|                                                                       | 38/35346 [00:19<4:57:49,  1.98it/s]C:\\Users\\slowd\\OneDrive\\Desktop\\Projects\\MLProjects\\Diabeties\\diabeties\\Lib\\site-packages\\sklearn\\utils\\validation.py:2739: UserWarning: X does not have valid feature names, but SimpleImputer was fitted with feature names\n",
      "  warnings.warn(\n"
     ]
    },
    {
     "data": {
      "application/vnd.jupyter.widget-view+json": {
       "model_id": "b98bbba1578c415ab4bc0afd4df07345",
       "version_major": 2,
       "version_minor": 0
      },
      "text/plain": [
       "  0%|          | 0/1 [00:00<?, ?it/s]"
      ]
     },
     "metadata": {},
     "output_type": "display_data"
    },
    {
     "name": "stderr",
     "output_type": "stream",
     "text": [
      "Checking SHAP issues:   0%|                                                                       | 39/35346 [00:20<4:58:19,  1.97it/s]C:\\Users\\slowd\\OneDrive\\Desktop\\Projects\\MLProjects\\Diabeties\\diabeties\\Lib\\site-packages\\sklearn\\utils\\validation.py:2739: UserWarning: X does not have valid feature names, but SimpleImputer was fitted with feature names\n",
      "  warnings.warn(\n"
     ]
    },
    {
     "data": {
      "application/vnd.jupyter.widget-view+json": {
       "model_id": "4608a9e521564d7da5954eb8c5c8156d",
       "version_major": 2,
       "version_minor": 0
      },
      "text/plain": [
       "  0%|          | 0/1 [00:00<?, ?it/s]"
      ]
     },
     "metadata": {},
     "output_type": "display_data"
    },
    {
     "name": "stderr",
     "output_type": "stream",
     "text": [
      "Checking SHAP issues:   0%|                                                                       | 40/35346 [00:20<4:56:17,  1.99it/s]C:\\Users\\slowd\\OneDrive\\Desktop\\Projects\\MLProjects\\Diabeties\\diabeties\\Lib\\site-packages\\sklearn\\utils\\validation.py:2739: UserWarning: X does not have valid feature names, but SimpleImputer was fitted with feature names\n",
      "  warnings.warn(\n"
     ]
    },
    {
     "data": {
      "application/vnd.jupyter.widget-view+json": {
       "model_id": "821e2a5ab7034e239d4d2dbb124d4395",
       "version_major": 2,
       "version_minor": 0
      },
      "text/plain": [
       "  0%|          | 0/1 [00:00<?, ?it/s]"
      ]
     },
     "metadata": {},
     "output_type": "display_data"
    },
    {
     "name": "stderr",
     "output_type": "stream",
     "text": [
      "Checking SHAP issues:   0%|                                                                       | 41/35346 [00:21<4:55:30,  1.99it/s]C:\\Users\\slowd\\OneDrive\\Desktop\\Projects\\MLProjects\\Diabeties\\diabeties\\Lib\\site-packages\\sklearn\\utils\\validation.py:2739: UserWarning: X does not have valid feature names, but SimpleImputer was fitted with feature names\n",
      "  warnings.warn(\n"
     ]
    },
    {
     "data": {
      "application/vnd.jupyter.widget-view+json": {
       "model_id": "9a5bd7aaa1a44f8b939b712e9f0cc23d",
       "version_major": 2,
       "version_minor": 0
      },
      "text/plain": [
       "  0%|          | 0/1 [00:00<?, ?it/s]"
      ]
     },
     "metadata": {},
     "output_type": "display_data"
    },
    {
     "name": "stderr",
     "output_type": "stream",
     "text": [
      "Checking SHAP issues:   0%|                                                                       | 42/35346 [00:21<4:58:31,  1.97it/s]C:\\Users\\slowd\\OneDrive\\Desktop\\Projects\\MLProjects\\Diabeties\\diabeties\\Lib\\site-packages\\sklearn\\utils\\validation.py:2739: UserWarning: X does not have valid feature names, but SimpleImputer was fitted with feature names\n",
      "  warnings.warn(\n"
     ]
    },
    {
     "data": {
      "application/vnd.jupyter.widget-view+json": {
       "model_id": "89b4eccb414b441da5d5bb407c86f338",
       "version_major": 2,
       "version_minor": 0
      },
      "text/plain": [
       "  0%|          | 0/1 [00:00<?, ?it/s]"
      ]
     },
     "metadata": {},
     "output_type": "display_data"
    },
    {
     "name": "stderr",
     "output_type": "stream",
     "text": [
      "Checking SHAP issues:   0%|                                                                       | 43/35346 [00:22<4:56:47,  1.98it/s]C:\\Users\\slowd\\OneDrive\\Desktop\\Projects\\MLProjects\\Diabeties\\diabeties\\Lib\\site-packages\\sklearn\\utils\\validation.py:2739: UserWarning: X does not have valid feature names, but SimpleImputer was fitted with feature names\n",
      "  warnings.warn(\n"
     ]
    },
    {
     "data": {
      "application/vnd.jupyter.widget-view+json": {
       "model_id": "8fbc249fb374448e96204c62b46607c3",
       "version_major": 2,
       "version_minor": 0
      },
      "text/plain": [
       "  0%|          | 0/1 [00:00<?, ?it/s]"
      ]
     },
     "metadata": {},
     "output_type": "display_data"
    },
    {
     "name": "stderr",
     "output_type": "stream",
     "text": [
      "Checking SHAP issues:   0%|                                                                       | 44/35346 [00:22<4:59:34,  1.96it/s]C:\\Users\\slowd\\OneDrive\\Desktop\\Projects\\MLProjects\\Diabeties\\diabeties\\Lib\\site-packages\\sklearn\\utils\\validation.py:2739: UserWarning: X does not have valid feature names, but SimpleImputer was fitted with feature names\n",
      "  warnings.warn(\n"
     ]
    },
    {
     "data": {
      "application/vnd.jupyter.widget-view+json": {
       "model_id": "e5c3872221c547679c70a4cc855ba36f",
       "version_major": 2,
       "version_minor": 0
      },
      "text/plain": [
       "  0%|          | 0/1 [00:00<?, ?it/s]"
      ]
     },
     "metadata": {},
     "output_type": "display_data"
    },
    {
     "name": "stderr",
     "output_type": "stream",
     "text": [
      "Checking SHAP issues:   0%|                                                                       | 45/35346 [00:23<4:58:35,  1.97it/s]C:\\Users\\slowd\\OneDrive\\Desktop\\Projects\\MLProjects\\Diabeties\\diabeties\\Lib\\site-packages\\sklearn\\utils\\validation.py:2739: UserWarning: X does not have valid feature names, but SimpleImputer was fitted with feature names\n",
      "  warnings.warn(\n"
     ]
    },
    {
     "data": {
      "application/vnd.jupyter.widget-view+json": {
       "model_id": "3a09610a762a4dbf980b116f37849ed8",
       "version_major": 2,
       "version_minor": 0
      },
      "text/plain": [
       "  0%|          | 0/1 [00:00<?, ?it/s]"
      ]
     },
     "metadata": {},
     "output_type": "display_data"
    },
    {
     "name": "stderr",
     "output_type": "stream",
     "text": [
      "Checking SHAP issues:   0%|                                                                       | 46/35346 [00:23<4:59:18,  1.97it/s]C:\\Users\\slowd\\OneDrive\\Desktop\\Projects\\MLProjects\\Diabeties\\diabeties\\Lib\\site-packages\\sklearn\\utils\\validation.py:2739: UserWarning: X does not have valid feature names, but SimpleImputer was fitted with feature names\n",
      "  warnings.warn(\n"
     ]
    },
    {
     "data": {
      "application/vnd.jupyter.widget-view+json": {
       "model_id": "3f6953cd03604c009b71c15972e18ea7",
       "version_major": 2,
       "version_minor": 0
      },
      "text/plain": [
       "  0%|          | 0/1 [00:00<?, ?it/s]"
      ]
     },
     "metadata": {},
     "output_type": "display_data"
    },
    {
     "name": "stderr",
     "output_type": "stream",
     "text": [
      "Checking SHAP issues:   0%|                                                                       | 47/35346 [00:24<5:00:14,  1.96it/s]C:\\Users\\slowd\\OneDrive\\Desktop\\Projects\\MLProjects\\Diabeties\\diabeties\\Lib\\site-packages\\sklearn\\utils\\validation.py:2739: UserWarning: X does not have valid feature names, but SimpleImputer was fitted with feature names\n",
      "  warnings.warn(\n"
     ]
    },
    {
     "data": {
      "application/vnd.jupyter.widget-view+json": {
       "model_id": "a0406f42ae254cbfafe038fba3c59f36",
       "version_major": 2,
       "version_minor": 0
      },
      "text/plain": [
       "  0%|          | 0/1 [00:00<?, ?it/s]"
      ]
     },
     "metadata": {},
     "output_type": "display_data"
    },
    {
     "name": "stderr",
     "output_type": "stream",
     "text": [
      "Checking SHAP issues:   0%|                                                                       | 48/35346 [00:24<5:00:50,  1.96it/s]C:\\Users\\slowd\\OneDrive\\Desktop\\Projects\\MLProjects\\Diabeties\\diabeties\\Lib\\site-packages\\sklearn\\utils\\validation.py:2739: UserWarning: X does not have valid feature names, but SimpleImputer was fitted with feature names\n",
      "  warnings.warn(\n"
     ]
    },
    {
     "data": {
      "application/vnd.jupyter.widget-view+json": {
       "model_id": "eb6adf3d6cce4c19af49437e2f8d6068",
       "version_major": 2,
       "version_minor": 0
      },
      "text/plain": [
       "  0%|          | 0/1 [00:00<?, ?it/s]"
      ]
     },
     "metadata": {},
     "output_type": "display_data"
    },
    {
     "name": "stderr",
     "output_type": "stream",
     "text": [
      "Checking SHAP issues:   0%|                                                                       | 49/35346 [00:25<5:00:53,  1.96it/s]C:\\Users\\slowd\\OneDrive\\Desktop\\Projects\\MLProjects\\Diabeties\\diabeties\\Lib\\site-packages\\sklearn\\utils\\validation.py:2739: UserWarning: X does not have valid feature names, but SimpleImputer was fitted with feature names\n",
      "  warnings.warn(\n"
     ]
    },
    {
     "data": {
      "application/vnd.jupyter.widget-view+json": {
       "model_id": "1c015ffdedc1419aaec271e024fca987",
       "version_major": 2,
       "version_minor": 0
      },
      "text/plain": [
       "  0%|          | 0/1 [00:00<?, ?it/s]"
      ]
     },
     "metadata": {},
     "output_type": "display_data"
    },
    {
     "name": "stderr",
     "output_type": "stream",
     "text": [
      "Checking SHAP issues:   0%|                                                                       | 50/35346 [00:25<5:00:31,  1.96it/s]C:\\Users\\slowd\\OneDrive\\Desktop\\Projects\\MLProjects\\Diabeties\\diabeties\\Lib\\site-packages\\sklearn\\utils\\validation.py:2739: UserWarning: X does not have valid feature names, but SimpleImputer was fitted with feature names\n",
      "  warnings.warn(\n"
     ]
    },
    {
     "data": {
      "application/vnd.jupyter.widget-view+json": {
       "model_id": "b1a01fa6028d47bbbd814e2cfc2a3d5e",
       "version_major": 2,
       "version_minor": 0
      },
      "text/plain": [
       "  0%|          | 0/1 [00:00<?, ?it/s]"
      ]
     },
     "metadata": {},
     "output_type": "display_data"
    },
    {
     "name": "stderr",
     "output_type": "stream",
     "text": [
      "Checking SHAP issues:   0%|                                                                       | 51/35346 [00:26<5:03:20,  1.94it/s]C:\\Users\\slowd\\OneDrive\\Desktop\\Projects\\MLProjects\\Diabeties\\diabeties\\Lib\\site-packages\\sklearn\\utils\\validation.py:2739: UserWarning: X does not have valid feature names, but SimpleImputer was fitted with feature names\n",
      "  warnings.warn(\n"
     ]
    },
    {
     "data": {
      "application/vnd.jupyter.widget-view+json": {
       "model_id": "3de22a1cf102417f994b6b1b6a2b50b4",
       "version_major": 2,
       "version_minor": 0
      },
      "text/plain": [
       "  0%|          | 0/1 [00:00<?, ?it/s]"
      ]
     },
     "metadata": {},
     "output_type": "display_data"
    },
    {
     "name": "stderr",
     "output_type": "stream",
     "text": [
      "Checking SHAP issues:   0%|                                                                       | 52/35346 [00:26<5:03:08,  1.94it/s]C:\\Users\\slowd\\OneDrive\\Desktop\\Projects\\MLProjects\\Diabeties\\diabeties\\Lib\\site-packages\\sklearn\\utils\\validation.py:2739: UserWarning: X does not have valid feature names, but SimpleImputer was fitted with feature names\n",
      "  warnings.warn(\n"
     ]
    },
    {
     "data": {
      "application/vnd.jupyter.widget-view+json": {
       "model_id": "af73bb60d9354a58938b46108e38846e",
       "version_major": 2,
       "version_minor": 0
      },
      "text/plain": [
       "  0%|          | 0/1 [00:00<?, ?it/s]"
      ]
     },
     "metadata": {},
     "output_type": "display_data"
    },
    {
     "name": "stderr",
     "output_type": "stream",
     "text": [
      "Checking SHAP issues:   0%|                                                                       | 53/35346 [00:27<4:53:22,  2.00it/s]C:\\Users\\slowd\\OneDrive\\Desktop\\Projects\\MLProjects\\Diabeties\\diabeties\\Lib\\site-packages\\sklearn\\utils\\validation.py:2739: UserWarning: X does not have valid feature names, but SimpleImputer was fitted with feature names\n",
      "  warnings.warn(\n"
     ]
    },
    {
     "data": {
      "application/vnd.jupyter.widget-view+json": {
       "model_id": "a7ea394b053847aba3d4a72d2387d901",
       "version_major": 2,
       "version_minor": 0
      },
      "text/plain": [
       "  0%|          | 0/1 [00:00<?, ?it/s]"
      ]
     },
     "metadata": {},
     "output_type": "display_data"
    },
    {
     "name": "stderr",
     "output_type": "stream",
     "text": [
      "Checking SHAP issues:   0%|                                                                       | 54/35346 [00:27<4:56:33,  1.98it/s]C:\\Users\\slowd\\OneDrive\\Desktop\\Projects\\MLProjects\\Diabeties\\diabeties\\Lib\\site-packages\\sklearn\\utils\\validation.py:2739: UserWarning: X does not have valid feature names, but SimpleImputer was fitted with feature names\n",
      "  warnings.warn(\n"
     ]
    },
    {
     "data": {
      "application/vnd.jupyter.widget-view+json": {
       "model_id": "4b0feb766f534b7db38287953389117d",
       "version_major": 2,
       "version_minor": 0
      },
      "text/plain": [
       "  0%|          | 0/1 [00:00<?, ?it/s]"
      ]
     },
     "metadata": {},
     "output_type": "display_data"
    },
    {
     "name": "stderr",
     "output_type": "stream",
     "text": [
      "Checking SHAP issues:   0%|                                                                       | 55/35346 [00:28<4:56:35,  1.98it/s]C:\\Users\\slowd\\OneDrive\\Desktop\\Projects\\MLProjects\\Diabeties\\diabeties\\Lib\\site-packages\\sklearn\\utils\\validation.py:2739: UserWarning: X does not have valid feature names, but SimpleImputer was fitted with feature names\n",
      "  warnings.warn(\n"
     ]
    },
    {
     "data": {
      "application/vnd.jupyter.widget-view+json": {
       "model_id": "71738f35b86840e18fdf7b5db773b09e",
       "version_major": 2,
       "version_minor": 0
      },
      "text/plain": [
       "  0%|          | 0/1 [00:00<?, ?it/s]"
      ]
     },
     "metadata": {},
     "output_type": "display_data"
    },
    {
     "name": "stderr",
     "output_type": "stream",
     "text": [
      "Checking SHAP issues:   0%|                                                                       | 56/35346 [00:28<4:56:34,  1.98it/s]C:\\Users\\slowd\\OneDrive\\Desktop\\Projects\\MLProjects\\Diabeties\\diabeties\\Lib\\site-packages\\sklearn\\utils\\validation.py:2739: UserWarning: X does not have valid feature names, but SimpleImputer was fitted with feature names\n",
      "  warnings.warn(\n"
     ]
    },
    {
     "data": {
      "application/vnd.jupyter.widget-view+json": {
       "model_id": "8f617989ff3e40f88e6086925f4a74d5",
       "version_major": 2,
       "version_minor": 0
      },
      "text/plain": [
       "  0%|          | 0/1 [00:00<?, ?it/s]"
      ]
     },
     "metadata": {},
     "output_type": "display_data"
    },
    {
     "name": "stderr",
     "output_type": "stream",
     "text": [
      "Checking SHAP issues:   0%|                                                                       | 57/35346 [00:29<4:57:06,  1.98it/s]C:\\Users\\slowd\\OneDrive\\Desktop\\Projects\\MLProjects\\Diabeties\\diabeties\\Lib\\site-packages\\sklearn\\utils\\validation.py:2739: UserWarning: X does not have valid feature names, but SimpleImputer was fitted with feature names\n",
      "  warnings.warn(\n"
     ]
    },
    {
     "data": {
      "application/vnd.jupyter.widget-view+json": {
       "model_id": "a98db7d230e44edbbbc69f8a96d353a3",
       "version_major": 2,
       "version_minor": 0
      },
      "text/plain": [
       "  0%|          | 0/1 [00:00<?, ?it/s]"
      ]
     },
     "metadata": {},
     "output_type": "display_data"
    },
    {
     "name": "stderr",
     "output_type": "stream",
     "text": [
      "Checking SHAP issues:   0%|                                                                       | 58/35346 [00:29<4:57:16,  1.98it/s]C:\\Users\\slowd\\OneDrive\\Desktop\\Projects\\MLProjects\\Diabeties\\diabeties\\Lib\\site-packages\\sklearn\\utils\\validation.py:2739: UserWarning: X does not have valid feature names, but SimpleImputer was fitted with feature names\n",
      "  warnings.warn(\n"
     ]
    },
    {
     "data": {
      "application/vnd.jupyter.widget-view+json": {
       "model_id": "762c58a3f7ee4423a18862b7c450988d",
       "version_major": 2,
       "version_minor": 0
      },
      "text/plain": [
       "  0%|          | 0/1 [00:00<?, ?it/s]"
      ]
     },
     "metadata": {},
     "output_type": "display_data"
    },
    {
     "name": "stderr",
     "output_type": "stream",
     "text": [
      "Checking SHAP issues:   0%|                                                                       | 59/35346 [00:30<4:56:23,  1.98it/s]C:\\Users\\slowd\\OneDrive\\Desktop\\Projects\\MLProjects\\Diabeties\\diabeties\\Lib\\site-packages\\sklearn\\utils\\validation.py:2739: UserWarning: X does not have valid feature names, but SimpleImputer was fitted with feature names\n",
      "  warnings.warn(\n"
     ]
    },
    {
     "data": {
      "application/vnd.jupyter.widget-view+json": {
       "model_id": "dabe8dc9fe09459fa012ca6208406ece",
       "version_major": 2,
       "version_minor": 0
      },
      "text/plain": [
       "  0%|          | 0/1 [00:00<?, ?it/s]"
      ]
     },
     "metadata": {},
     "output_type": "display_data"
    },
    {
     "name": "stderr",
     "output_type": "stream",
     "text": [
      "Checking SHAP issues:   0%|                                                                       | 60/35346 [00:30<4:59:40,  1.96it/s]C:\\Users\\slowd\\OneDrive\\Desktop\\Projects\\MLProjects\\Diabeties\\diabeties\\Lib\\site-packages\\sklearn\\utils\\validation.py:2739: UserWarning: X does not have valid feature names, but SimpleImputer was fitted with feature names\n",
      "  warnings.warn(\n"
     ]
    },
    {
     "data": {
      "application/vnd.jupyter.widget-view+json": {
       "model_id": "2581f841464649dbbf5aeed76ebe540f",
       "version_major": 2,
       "version_minor": 0
      },
      "text/plain": [
       "  0%|          | 0/1 [00:00<?, ?it/s]"
      ]
     },
     "metadata": {},
     "output_type": "display_data"
    },
    {
     "name": "stderr",
     "output_type": "stream",
     "text": [
      "Checking SHAP issues:   0%|                                                                       | 61/35346 [00:31<4:58:37,  1.97it/s]C:\\Users\\slowd\\OneDrive\\Desktop\\Projects\\MLProjects\\Diabeties\\diabeties\\Lib\\site-packages\\sklearn\\utils\\validation.py:2739: UserWarning: X does not have valid feature names, but SimpleImputer was fitted with feature names\n",
      "  warnings.warn(\n"
     ]
    },
    {
     "data": {
      "application/vnd.jupyter.widget-view+json": {
       "model_id": "41b7dba72ae447f9974859a944e456aa",
       "version_major": 2,
       "version_minor": 0
      },
      "text/plain": [
       "  0%|          | 0/1 [00:00<?, ?it/s]"
      ]
     },
     "metadata": {},
     "output_type": "display_data"
    },
    {
     "name": "stderr",
     "output_type": "stream",
     "text": [
      "Checking SHAP issues:   0%|                                                                       | 62/35346 [00:31<4:59:54,  1.96it/s]C:\\Users\\slowd\\OneDrive\\Desktop\\Projects\\MLProjects\\Diabeties\\diabeties\\Lib\\site-packages\\sklearn\\utils\\validation.py:2739: UserWarning: X does not have valid feature names, but SimpleImputer was fitted with feature names\n",
      "  warnings.warn(\n"
     ]
    },
    {
     "data": {
      "application/vnd.jupyter.widget-view+json": {
       "model_id": "0c87858b714b4478a5a1736ac520d887",
       "version_major": 2,
       "version_minor": 0
      },
      "text/plain": [
       "  0%|          | 0/1 [00:00<?, ?it/s]"
      ]
     },
     "metadata": {},
     "output_type": "display_data"
    },
    {
     "name": "stderr",
     "output_type": "stream",
     "text": [
      "Checking SHAP issues:   0%|▏                                                                      | 63/35346 [00:32<4:56:38,  1.98it/s]C:\\Users\\slowd\\OneDrive\\Desktop\\Projects\\MLProjects\\Diabeties\\diabeties\\Lib\\site-packages\\sklearn\\utils\\validation.py:2739: UserWarning: X does not have valid feature names, but SimpleImputer was fitted with feature names\n",
      "  warnings.warn(\n"
     ]
    },
    {
     "data": {
      "application/vnd.jupyter.widget-view+json": {
       "model_id": "abf4e0ca93a94482b88ef961a1168088",
       "version_major": 2,
       "version_minor": 0
      },
      "text/plain": [
       "  0%|          | 0/1 [00:00<?, ?it/s]"
      ]
     },
     "metadata": {},
     "output_type": "display_data"
    },
    {
     "name": "stderr",
     "output_type": "stream",
     "text": [
      "Checking SHAP issues:   0%|▏                                                                      | 64/35346 [00:32<4:57:28,  1.98it/s]C:\\Users\\slowd\\OneDrive\\Desktop\\Projects\\MLProjects\\Diabeties\\diabeties\\Lib\\site-packages\\sklearn\\utils\\validation.py:2739: UserWarning: X does not have valid feature names, but SimpleImputer was fitted with feature names\n",
      "  warnings.warn(\n"
     ]
    },
    {
     "data": {
      "application/vnd.jupyter.widget-view+json": {
       "model_id": "d8f4687f81db48238aaa0accf563a611",
       "version_major": 2,
       "version_minor": 0
      },
      "text/plain": [
       "  0%|          | 0/1 [00:00<?, ?it/s]"
      ]
     },
     "metadata": {},
     "output_type": "display_data"
    },
    {
     "name": "stderr",
     "output_type": "stream",
     "text": [
      "Checking SHAP issues:   0%|▏                                                                      | 65/35346 [00:33<4:58:23,  1.97it/s]C:\\Users\\slowd\\OneDrive\\Desktop\\Projects\\MLProjects\\Diabeties\\diabeties\\Lib\\site-packages\\sklearn\\utils\\validation.py:2739: UserWarning: X does not have valid feature names, but SimpleImputer was fitted with feature names\n",
      "  warnings.warn(\n"
     ]
    },
    {
     "data": {
      "application/vnd.jupyter.widget-view+json": {
       "model_id": "84f4389690b142be96fa70346c416dd1",
       "version_major": 2,
       "version_minor": 0
      },
      "text/plain": [
       "  0%|          | 0/1 [00:00<?, ?it/s]"
      ]
     },
     "metadata": {},
     "output_type": "display_data"
    },
    {
     "name": "stderr",
     "output_type": "stream",
     "text": [
      "Checking SHAP issues:   0%|▏                                                                      | 66/35346 [00:33<5:00:46,  1.95it/s]C:\\Users\\slowd\\OneDrive\\Desktop\\Projects\\MLProjects\\Diabeties\\diabeties\\Lib\\site-packages\\sklearn\\utils\\validation.py:2739: UserWarning: X does not have valid feature names, but SimpleImputer was fitted with feature names\n",
      "  warnings.warn(\n"
     ]
    },
    {
     "data": {
      "application/vnd.jupyter.widget-view+json": {
       "model_id": "7ea917b4b10c440487ccc2d0d8e9e33b",
       "version_major": 2,
       "version_minor": 0
      },
      "text/plain": [
       "  0%|          | 0/1 [00:00<?, ?it/s]"
      ]
     },
     "metadata": {},
     "output_type": "display_data"
    },
    {
     "name": "stderr",
     "output_type": "stream",
     "text": [
      "Checking SHAP issues:   0%|▏                                                                      | 67/35346 [00:34<5:01:00,  1.95it/s]C:\\Users\\slowd\\OneDrive\\Desktop\\Projects\\MLProjects\\Diabeties\\diabeties\\Lib\\site-packages\\sklearn\\utils\\validation.py:2739: UserWarning: X does not have valid feature names, but SimpleImputer was fitted with feature names\n",
      "  warnings.warn(\n"
     ]
    },
    {
     "data": {
      "application/vnd.jupyter.widget-view+json": {
       "model_id": "7dded069b17741deb9c24fbaccbc5b80",
       "version_major": 2,
       "version_minor": 0
      },
      "text/plain": [
       "  0%|          | 0/1 [00:00<?, ?it/s]"
      ]
     },
     "metadata": {},
     "output_type": "display_data"
    },
    {
     "name": "stderr",
     "output_type": "stream",
     "text": [
      "Checking SHAP issues:   0%|▏                                                                      | 68/35346 [00:34<5:01:35,  1.95it/s]C:\\Users\\slowd\\OneDrive\\Desktop\\Projects\\MLProjects\\Diabeties\\diabeties\\Lib\\site-packages\\sklearn\\utils\\validation.py:2739: UserWarning: X does not have valid feature names, but SimpleImputer was fitted with feature names\n",
      "  warnings.warn(\n"
     ]
    },
    {
     "data": {
      "application/vnd.jupyter.widget-view+json": {
       "model_id": "f9a955746b6f45298c4259fd0881feed",
       "version_major": 2,
       "version_minor": 0
      },
      "text/plain": [
       "  0%|          | 0/1 [00:00<?, ?it/s]"
      ]
     },
     "metadata": {},
     "output_type": "display_data"
    },
    {
     "name": "stderr",
     "output_type": "stream",
     "text": [
      "Checking SHAP issues:   0%|▏                                                                      | 69/35346 [00:35<5:03:26,  1.94it/s]C:\\Users\\slowd\\OneDrive\\Desktop\\Projects\\MLProjects\\Diabeties\\diabeties\\Lib\\site-packages\\sklearn\\utils\\validation.py:2739: UserWarning: X does not have valid feature names, but SimpleImputer was fitted with feature names\n",
      "  warnings.warn(\n"
     ]
    },
    {
     "data": {
      "application/vnd.jupyter.widget-view+json": {
       "model_id": "d829da94ac134927bba68718c9dbde27",
       "version_major": 2,
       "version_minor": 0
      },
      "text/plain": [
       "  0%|          | 0/1 [00:00<?, ?it/s]"
      ]
     },
     "metadata": {},
     "output_type": "display_data"
    },
    {
     "name": "stderr",
     "output_type": "stream",
     "text": [
      "Checking SHAP issues:   0%|▏                                                                      | 70/35346 [00:35<5:04:10,  1.93it/s]C:\\Users\\slowd\\OneDrive\\Desktop\\Projects\\MLProjects\\Diabeties\\diabeties\\Lib\\site-packages\\sklearn\\utils\\validation.py:2739: UserWarning: X does not have valid feature names, but SimpleImputer was fitted with feature names\n",
      "  warnings.warn(\n"
     ]
    },
    {
     "data": {
      "application/vnd.jupyter.widget-view+json": {
       "model_id": "1d7d5660d94647cdaa1761920c052426",
       "version_major": 2,
       "version_minor": 0
      },
      "text/plain": [
       "  0%|          | 0/1 [00:00<?, ?it/s]"
      ]
     },
     "metadata": {},
     "output_type": "display_data"
    },
    {
     "name": "stderr",
     "output_type": "stream",
     "text": [
      "Checking SHAP issues:   0%|▏                                                                      | 71/35346 [00:36<5:05:35,  1.92it/s]C:\\Users\\slowd\\OneDrive\\Desktop\\Projects\\MLProjects\\Diabeties\\diabeties\\Lib\\site-packages\\sklearn\\utils\\validation.py:2739: UserWarning: X does not have valid feature names, but SimpleImputer was fitted with feature names\n",
      "  warnings.warn(\n"
     ]
    },
    {
     "data": {
      "application/vnd.jupyter.widget-view+json": {
       "model_id": "56ad89809efd42c6b5227df6e68b1c86",
       "version_major": 2,
       "version_minor": 0
      },
      "text/plain": [
       "  0%|          | 0/1 [00:00<?, ?it/s]"
      ]
     },
     "metadata": {},
     "output_type": "display_data"
    },
    {
     "name": "stderr",
     "output_type": "stream",
     "text": [
      "Checking SHAP issues:   0%|▏                                                                      | 72/35346 [00:36<5:07:06,  1.91it/s]C:\\Users\\slowd\\OneDrive\\Desktop\\Projects\\MLProjects\\Diabeties\\diabeties\\Lib\\site-packages\\sklearn\\utils\\validation.py:2739: UserWarning: X does not have valid feature names, but SimpleImputer was fitted with feature names\n",
      "  warnings.warn(\n"
     ]
    },
    {
     "data": {
      "application/vnd.jupyter.widget-view+json": {
       "model_id": "179f2e0909184ff6a8dbde9484204649",
       "version_major": 2,
       "version_minor": 0
      },
      "text/plain": [
       "  0%|          | 0/1 [00:00<?, ?it/s]"
      ]
     },
     "metadata": {},
     "output_type": "display_data"
    },
    {
     "name": "stderr",
     "output_type": "stream",
     "text": [
      "Checking SHAP issues:   0%|▏                                                                      | 73/35346 [00:37<5:08:47,  1.90it/s]C:\\Users\\slowd\\OneDrive\\Desktop\\Projects\\MLProjects\\Diabeties\\diabeties\\Lib\\site-packages\\sklearn\\utils\\validation.py:2739: UserWarning: X does not have valid feature names, but SimpleImputer was fitted with feature names\n",
      "  warnings.warn(\n"
     ]
    },
    {
     "data": {
      "application/vnd.jupyter.widget-view+json": {
       "model_id": "251f9dcb55b5411c96abfc368c09c157",
       "version_major": 2,
       "version_minor": 0
      },
      "text/plain": [
       "  0%|          | 0/1 [00:00<?, ?it/s]"
      ]
     },
     "metadata": {},
     "output_type": "display_data"
    },
    {
     "name": "stderr",
     "output_type": "stream",
     "text": [
      "Checking SHAP issues:   0%|▏                                                                      | 74/35346 [00:37<5:05:39,  1.92it/s]C:\\Users\\slowd\\OneDrive\\Desktop\\Projects\\MLProjects\\Diabeties\\diabeties\\Lib\\site-packages\\sklearn\\utils\\validation.py:2739: UserWarning: X does not have valid feature names, but SimpleImputer was fitted with feature names\n",
      "  warnings.warn(\n"
     ]
    },
    {
     "data": {
      "application/vnd.jupyter.widget-view+json": {
       "model_id": "efc4cfb81159489cb901cd65f68978d7",
       "version_major": 2,
       "version_minor": 0
      },
      "text/plain": [
       "  0%|          | 0/1 [00:00<?, ?it/s]"
      ]
     },
     "metadata": {},
     "output_type": "display_data"
    },
    {
     "name": "stderr",
     "output_type": "stream",
     "text": [
      "Checking SHAP issues:   0%|▏                                                                      | 75/35346 [00:38<5:04:11,  1.93it/s]C:\\Users\\slowd\\OneDrive\\Desktop\\Projects\\MLProjects\\Diabeties\\diabeties\\Lib\\site-packages\\sklearn\\utils\\validation.py:2739: UserWarning: X does not have valid feature names, but SimpleImputer was fitted with feature names\n",
      "  warnings.warn(\n"
     ]
    },
    {
     "data": {
      "application/vnd.jupyter.widget-view+json": {
       "model_id": "f2e89c55e9fe4d5aa7d4614de0496770",
       "version_major": 2,
       "version_minor": 0
      },
      "text/plain": [
       "  0%|          | 0/1 [00:00<?, ?it/s]"
      ]
     },
     "metadata": {},
     "output_type": "display_data"
    },
    {
     "name": "stderr",
     "output_type": "stream",
     "text": [
      "Checking SHAP issues:   0%|▏                                                                      | 76/35346 [00:38<5:01:35,  1.95it/s]C:\\Users\\slowd\\OneDrive\\Desktop\\Projects\\MLProjects\\Diabeties\\diabeties\\Lib\\site-packages\\sklearn\\utils\\validation.py:2739: UserWarning: X does not have valid feature names, but SimpleImputer was fitted with feature names\n",
      "  warnings.warn(\n"
     ]
    },
    {
     "data": {
      "application/vnd.jupyter.widget-view+json": {
       "model_id": "21795d7c615148b5aa12b55cb71c71b1",
       "version_major": 2,
       "version_minor": 0
      },
      "text/plain": [
       "  0%|          | 0/1 [00:00<?, ?it/s]"
      ]
     },
     "metadata": {},
     "output_type": "display_data"
    },
    {
     "name": "stderr",
     "output_type": "stream",
     "text": [
      "Checking SHAP issues:   0%|▏                                                                      | 77/35346 [00:39<5:03:47,  1.93it/s]C:\\Users\\slowd\\OneDrive\\Desktop\\Projects\\MLProjects\\Diabeties\\diabeties\\Lib\\site-packages\\sklearn\\utils\\validation.py:2739: UserWarning: X does not have valid feature names, but SimpleImputer was fitted with feature names\n",
      "  warnings.warn(\n"
     ]
    },
    {
     "data": {
      "application/vnd.jupyter.widget-view+json": {
       "model_id": "6a64fbac23ae4822a964b24ebcf23ec4",
       "version_major": 2,
       "version_minor": 0
      },
      "text/plain": [
       "  0%|          | 0/1 [00:00<?, ?it/s]"
      ]
     },
     "metadata": {},
     "output_type": "display_data"
    },
    {
     "name": "stderr",
     "output_type": "stream",
     "text": [
      "Checking SHAP issues:   0%|▏                                                                      | 78/35346 [00:39<5:03:24,  1.94it/s]C:\\Users\\slowd\\OneDrive\\Desktop\\Projects\\MLProjects\\Diabeties\\diabeties\\Lib\\site-packages\\sklearn\\utils\\validation.py:2739: UserWarning: X does not have valid feature names, but SimpleImputer was fitted with feature names\n",
      "  warnings.warn(\n"
     ]
    },
    {
     "data": {
      "application/vnd.jupyter.widget-view+json": {
       "model_id": "29989be249f644108a409336ec10dcfe",
       "version_major": 2,
       "version_minor": 0
      },
      "text/plain": [
       "  0%|          | 0/1 [00:00<?, ?it/s]"
      ]
     },
     "metadata": {},
     "output_type": "display_data"
    },
    {
     "name": "stderr",
     "output_type": "stream",
     "text": [
      "Checking SHAP issues:   0%|▏                                                                      | 79/35346 [00:40<5:03:37,  1.94it/s]C:\\Users\\slowd\\OneDrive\\Desktop\\Projects\\MLProjects\\Diabeties\\diabeties\\Lib\\site-packages\\sklearn\\utils\\validation.py:2739: UserWarning: X does not have valid feature names, but SimpleImputer was fitted with feature names\n",
      "  warnings.warn(\n"
     ]
    },
    {
     "data": {
      "application/vnd.jupyter.widget-view+json": {
       "model_id": "e3ad636a0e80455bbb22a4583bf524cc",
       "version_major": 2,
       "version_minor": 0
      },
      "text/plain": [
       "  0%|          | 0/1 [00:00<?, ?it/s]"
      ]
     },
     "metadata": {},
     "output_type": "display_data"
    },
    {
     "name": "stderr",
     "output_type": "stream",
     "text": [
      "Checking SHAP issues:   0%|▏                                                                      | 80/35346 [00:40<5:02:22,  1.94it/s]C:\\Users\\slowd\\OneDrive\\Desktop\\Projects\\MLProjects\\Diabeties\\diabeties\\Lib\\site-packages\\sklearn\\utils\\validation.py:2739: UserWarning: X does not have valid feature names, but SimpleImputer was fitted with feature names\n",
      "  warnings.warn(\n"
     ]
    },
    {
     "data": {
      "application/vnd.jupyter.widget-view+json": {
       "model_id": "89052246b2d04165bbb80ee50a6b54c9",
       "version_major": 2,
       "version_minor": 0
      },
      "text/plain": [
       "  0%|          | 0/1 [00:00<?, ?it/s]"
      ]
     },
     "metadata": {},
     "output_type": "display_data"
    },
    {
     "name": "stderr",
     "output_type": "stream",
     "text": [
      "Checking SHAP issues:   0%|▏                                                                      | 81/35346 [00:41<5:04:04,  1.93it/s]C:\\Users\\slowd\\OneDrive\\Desktop\\Projects\\MLProjects\\Diabeties\\diabeties\\Lib\\site-packages\\sklearn\\utils\\validation.py:2739: UserWarning: X does not have valid feature names, but SimpleImputer was fitted with feature names\n",
      "  warnings.warn(\n"
     ]
    },
    {
     "data": {
      "application/vnd.jupyter.widget-view+json": {
       "model_id": "6212bc6d52f34f51b2c18ca11b954723",
       "version_major": 2,
       "version_minor": 0
      },
      "text/plain": [
       "  0%|          | 0/1 [00:00<?, ?it/s]"
      ]
     },
     "metadata": {},
     "output_type": "display_data"
    },
    {
     "name": "stderr",
     "output_type": "stream",
     "text": [
      "Checking SHAP issues:   0%|▏                                                                      | 82/35346 [00:41<5:00:13,  1.96it/s]C:\\Users\\slowd\\OneDrive\\Desktop\\Projects\\MLProjects\\Diabeties\\diabeties\\Lib\\site-packages\\sklearn\\utils\\validation.py:2739: UserWarning: X does not have valid feature names, but SimpleImputer was fitted with feature names\n",
      "  warnings.warn(\n"
     ]
    },
    {
     "data": {
      "application/vnd.jupyter.widget-view+json": {
       "model_id": "9d9f426d85f544d988a2deb881a50e86",
       "version_major": 2,
       "version_minor": 0
      },
      "text/plain": [
       "  0%|          | 0/1 [00:00<?, ?it/s]"
      ]
     },
     "metadata": {},
     "output_type": "display_data"
    },
    {
     "name": "stderr",
     "output_type": "stream",
     "text": [
      "Checking SHAP issues:   0%|▏                                                                      | 83/35346 [00:42<5:00:34,  1.96it/s]C:\\Users\\slowd\\OneDrive\\Desktop\\Projects\\MLProjects\\Diabeties\\diabeties\\Lib\\site-packages\\sklearn\\utils\\validation.py:2739: UserWarning: X does not have valid feature names, but SimpleImputer was fitted with feature names\n",
      "  warnings.warn(\n"
     ]
    },
    {
     "data": {
      "application/vnd.jupyter.widget-view+json": {
       "model_id": "7727d57596ca4008a1955b6fc621afb1",
       "version_major": 2,
       "version_minor": 0
      },
      "text/plain": [
       "  0%|          | 0/1 [00:00<?, ?it/s]"
      ]
     },
     "metadata": {},
     "output_type": "display_data"
    },
    {
     "name": "stderr",
     "output_type": "stream",
     "text": [
      "Checking SHAP issues:   0%|▏                                                                      | 84/35346 [00:43<4:59:47,  1.96it/s]C:\\Users\\slowd\\OneDrive\\Desktop\\Projects\\MLProjects\\Diabeties\\diabeties\\Lib\\site-packages\\sklearn\\utils\\validation.py:2739: UserWarning: X does not have valid feature names, but SimpleImputer was fitted with feature names\n",
      "  warnings.warn(\n"
     ]
    },
    {
     "data": {
      "application/vnd.jupyter.widget-view+json": {
       "model_id": "deb5e5ba7f374430879ae6229e55719b",
       "version_major": 2,
       "version_minor": 0
      },
      "text/plain": [
       "  0%|          | 0/1 [00:00<?, ?it/s]"
      ]
     },
     "metadata": {},
     "output_type": "display_data"
    },
    {
     "name": "stderr",
     "output_type": "stream",
     "text": [
      "Checking SHAP issues:   0%|▏                                                                      | 85/35346 [00:43<4:55:06,  1.99it/s]C:\\Users\\slowd\\OneDrive\\Desktop\\Projects\\MLProjects\\Diabeties\\diabeties\\Lib\\site-packages\\sklearn\\utils\\validation.py:2739: UserWarning: X does not have valid feature names, but SimpleImputer was fitted with feature names\n",
      "  warnings.warn(\n"
     ]
    },
    {
     "data": {
      "application/vnd.jupyter.widget-view+json": {
       "model_id": "ba53652cd39a4d34875def780dc83f7a",
       "version_major": 2,
       "version_minor": 0
      },
      "text/plain": [
       "  0%|          | 0/1 [00:00<?, ?it/s]"
      ]
     },
     "metadata": {},
     "output_type": "display_data"
    },
    {
     "name": "stderr",
     "output_type": "stream",
     "text": [
      "Checking SHAP issues:   0%|▏                                                                      | 86/35346 [00:43<4:53:10,  2.00it/s]C:\\Users\\slowd\\OneDrive\\Desktop\\Projects\\MLProjects\\Diabeties\\diabeties\\Lib\\site-packages\\sklearn\\utils\\validation.py:2739: UserWarning: X does not have valid feature names, but SimpleImputer was fitted with feature names\n",
      "  warnings.warn(\n"
     ]
    },
    {
     "data": {
      "application/vnd.jupyter.widget-view+json": {
       "model_id": "5dd90e5fce6444cba6e7a2d1c273a30e",
       "version_major": 2,
       "version_minor": 0
      },
      "text/plain": [
       "  0%|          | 0/1 [00:00<?, ?it/s]"
      ]
     },
     "metadata": {},
     "output_type": "display_data"
    },
    {
     "name": "stderr",
     "output_type": "stream",
     "text": [
      "Checking SHAP issues:   0%|▏                                                                      | 87/35346 [00:44<4:56:02,  1.99it/s]C:\\Users\\slowd\\OneDrive\\Desktop\\Projects\\MLProjects\\Diabeties\\diabeties\\Lib\\site-packages\\sklearn\\utils\\validation.py:2739: UserWarning: X does not have valid feature names, but SimpleImputer was fitted with feature names\n",
      "  warnings.warn(\n"
     ]
    },
    {
     "data": {
      "application/vnd.jupyter.widget-view+json": {
       "model_id": "12dd6c45b8c74719a863774d88155ad6",
       "version_major": 2,
       "version_minor": 0
      },
      "text/plain": [
       "  0%|          | 0/1 [00:00<?, ?it/s]"
      ]
     },
     "metadata": {},
     "output_type": "display_data"
    },
    {
     "name": "stderr",
     "output_type": "stream",
     "text": [
      "Checking SHAP issues:   0%|▏                                                                      | 88/35346 [00:45<4:57:04,  1.98it/s]C:\\Users\\slowd\\OneDrive\\Desktop\\Projects\\MLProjects\\Diabeties\\diabeties\\Lib\\site-packages\\sklearn\\utils\\validation.py:2739: UserWarning: X does not have valid feature names, but SimpleImputer was fitted with feature names\n",
      "  warnings.warn(\n"
     ]
    },
    {
     "data": {
      "application/vnd.jupyter.widget-view+json": {
       "model_id": "6652036f1120480e832500d3d8df8460",
       "version_major": 2,
       "version_minor": 0
      },
      "text/plain": [
       "  0%|          | 0/1 [00:00<?, ?it/s]"
      ]
     },
     "metadata": {},
     "output_type": "display_data"
    },
    {
     "name": "stderr",
     "output_type": "stream",
     "text": [
      "Checking SHAP issues:   0%|▏                                                                      | 89/35346 [00:45<4:58:54,  1.97it/s]C:\\Users\\slowd\\OneDrive\\Desktop\\Projects\\MLProjects\\Diabeties\\diabeties\\Lib\\site-packages\\sklearn\\utils\\validation.py:2739: UserWarning: X does not have valid feature names, but SimpleImputer was fitted with feature names\n",
      "  warnings.warn(\n"
     ]
    },
    {
     "data": {
      "application/vnd.jupyter.widget-view+json": {
       "model_id": "9e6db1444a7e415a91f511fbc00b0744",
       "version_major": 2,
       "version_minor": 0
      },
      "text/plain": [
       "  0%|          | 0/1 [00:00<?, ?it/s]"
      ]
     },
     "metadata": {},
     "output_type": "display_data"
    },
    {
     "name": "stderr",
     "output_type": "stream",
     "text": [
      "Checking SHAP issues:   0%|▏                                                                      | 90/35346 [00:46<4:57:51,  1.97it/s]C:\\Users\\slowd\\OneDrive\\Desktop\\Projects\\MLProjects\\Diabeties\\diabeties\\Lib\\site-packages\\sklearn\\utils\\validation.py:2739: UserWarning: X does not have valid feature names, but SimpleImputer was fitted with feature names\n",
      "  warnings.warn(\n"
     ]
    },
    {
     "data": {
      "application/vnd.jupyter.widget-view+json": {
       "model_id": "5a503a43b9d3413bacd592e573893d74",
       "version_major": 2,
       "version_minor": 0
      },
      "text/plain": [
       "  0%|          | 0/1 [00:00<?, ?it/s]"
      ]
     },
     "metadata": {},
     "output_type": "display_data"
    },
    {
     "name": "stderr",
     "output_type": "stream",
     "text": [
      "Checking SHAP issues:   0%|▏                                                                      | 91/35346 [00:46<4:56:03,  1.98it/s]C:\\Users\\slowd\\OneDrive\\Desktop\\Projects\\MLProjects\\Diabeties\\diabeties\\Lib\\site-packages\\sklearn\\utils\\validation.py:2739: UserWarning: X does not have valid feature names, but SimpleImputer was fitted with feature names\n",
      "  warnings.warn(\n"
     ]
    },
    {
     "data": {
      "application/vnd.jupyter.widget-view+json": {
       "model_id": "85b882fc61614ea9b00d090f024bf827",
       "version_major": 2,
       "version_minor": 0
      },
      "text/plain": [
       "  0%|          | 0/1 [00:00<?, ?it/s]"
      ]
     },
     "metadata": {},
     "output_type": "display_data"
    },
    {
     "name": "stderr",
     "output_type": "stream",
     "text": [
      "Checking SHAP issues:   0%|▏                                                                      | 92/35346 [00:47<4:55:36,  1.99it/s]C:\\Users\\slowd\\OneDrive\\Desktop\\Projects\\MLProjects\\Diabeties\\diabeties\\Lib\\site-packages\\sklearn\\utils\\validation.py:2739: UserWarning: X does not have valid feature names, but SimpleImputer was fitted with feature names\n",
      "  warnings.warn(\n"
     ]
    },
    {
     "data": {
      "application/vnd.jupyter.widget-view+json": {
       "model_id": "73e16936c1d84c70aa2a93b9cd3d7759",
       "version_major": 2,
       "version_minor": 0
      },
      "text/plain": [
       "  0%|          | 0/1 [00:00<?, ?it/s]"
      ]
     },
     "metadata": {},
     "output_type": "display_data"
    },
    {
     "name": "stderr",
     "output_type": "stream",
     "text": [
      "Checking SHAP issues:   0%|▏                                                                      | 93/35346 [00:47<4:59:47,  1.96it/s]C:\\Users\\slowd\\OneDrive\\Desktop\\Projects\\MLProjects\\Diabeties\\diabeties\\Lib\\site-packages\\sklearn\\utils\\validation.py:2739: UserWarning: X does not have valid feature names, but SimpleImputer was fitted with feature names\n",
      "  warnings.warn(\n"
     ]
    },
    {
     "data": {
      "application/vnd.jupyter.widget-view+json": {
       "model_id": "bf9d9a9965b94ed8a58eba257182e639",
       "version_major": 2,
       "version_minor": 0
      },
      "text/plain": [
       "  0%|          | 0/1 [00:00<?, ?it/s]"
      ]
     },
     "metadata": {},
     "output_type": "display_data"
    },
    {
     "name": "stderr",
     "output_type": "stream",
     "text": [
      "Checking SHAP issues:   0%|▏                                                                      | 94/35346 [00:48<4:59:18,  1.96it/s]C:\\Users\\slowd\\OneDrive\\Desktop\\Projects\\MLProjects\\Diabeties\\diabeties\\Lib\\site-packages\\sklearn\\utils\\validation.py:2739: UserWarning: X does not have valid feature names, but SimpleImputer was fitted with feature names\n",
      "  warnings.warn(\n"
     ]
    },
    {
     "data": {
      "application/vnd.jupyter.widget-view+json": {
       "model_id": "23aa2a100b9d491b933ac6668f2e226f",
       "version_major": 2,
       "version_minor": 0
      },
      "text/plain": [
       "  0%|          | 0/1 [00:00<?, ?it/s]"
      ]
     },
     "metadata": {},
     "output_type": "display_data"
    },
    {
     "name": "stderr",
     "output_type": "stream",
     "text": [
      "Checking SHAP issues:   0%|▏                                                                      | 95/35346 [00:48<4:57:51,  1.97it/s]C:\\Users\\slowd\\OneDrive\\Desktop\\Projects\\MLProjects\\Diabeties\\diabeties\\Lib\\site-packages\\sklearn\\utils\\validation.py:2739: UserWarning: X does not have valid feature names, but SimpleImputer was fitted with feature names\n",
      "  warnings.warn(\n"
     ]
    },
    {
     "data": {
      "application/vnd.jupyter.widget-view+json": {
       "model_id": "2753101e4e3f4496b1dd7593b7f51426",
       "version_major": 2,
       "version_minor": 0
      },
      "text/plain": [
       "  0%|          | 0/1 [00:00<?, ?it/s]"
      ]
     },
     "metadata": {},
     "output_type": "display_data"
    },
    {
     "name": "stderr",
     "output_type": "stream",
     "text": [
      "Checking SHAP issues:   0%|▏                                                                      | 96/35346 [00:49<4:56:58,  1.98it/s]C:\\Users\\slowd\\OneDrive\\Desktop\\Projects\\MLProjects\\Diabeties\\diabeties\\Lib\\site-packages\\sklearn\\utils\\validation.py:2739: UserWarning: X does not have valid feature names, but SimpleImputer was fitted with feature names\n",
      "  warnings.warn(\n"
     ]
    },
    {
     "data": {
      "application/vnd.jupyter.widget-view+json": {
       "model_id": "cc69a2f9d42f4152b122227e22a8587c",
       "version_major": 2,
       "version_minor": 0
      },
      "text/plain": [
       "  0%|          | 0/1 [00:00<?, ?it/s]"
      ]
     },
     "metadata": {},
     "output_type": "display_data"
    },
    {
     "name": "stderr",
     "output_type": "stream",
     "text": [
      "Checking SHAP issues:   0%|▏                                                                      | 97/35346 [00:49<5:02:53,  1.94it/s]C:\\Users\\slowd\\OneDrive\\Desktop\\Projects\\MLProjects\\Diabeties\\diabeties\\Lib\\site-packages\\sklearn\\utils\\validation.py:2739: UserWarning: X does not have valid feature names, but SimpleImputer was fitted with feature names\n",
      "  warnings.warn(\n"
     ]
    },
    {
     "data": {
      "application/vnd.jupyter.widget-view+json": {
       "model_id": "d29d06240f954ac2950156c514f9cc0c",
       "version_major": 2,
       "version_minor": 0
      },
      "text/plain": [
       "  0%|          | 0/1 [00:00<?, ?it/s]"
      ]
     },
     "metadata": {},
     "output_type": "display_data"
    },
    {
     "name": "stderr",
     "output_type": "stream",
     "text": [
      "Checking SHAP issues:   0%|▏                                                                      | 98/35346 [00:50<4:59:07,  1.96it/s]C:\\Users\\slowd\\OneDrive\\Desktop\\Projects\\MLProjects\\Diabeties\\diabeties\\Lib\\site-packages\\sklearn\\utils\\validation.py:2739: UserWarning: X does not have valid feature names, but SimpleImputer was fitted with feature names\n",
      "  warnings.warn(\n"
     ]
    },
    {
     "data": {
      "application/vnd.jupyter.widget-view+json": {
       "model_id": "91a0f7ac34124c67b0b8bd31e1522a4a",
       "version_major": 2,
       "version_minor": 0
      },
      "text/plain": [
       "  0%|          | 0/1 [00:00<?, ?it/s]"
      ]
     },
     "metadata": {},
     "output_type": "display_data"
    },
    {
     "name": "stderr",
     "output_type": "stream",
     "text": [
      "Checking SHAP issues:   0%|▏                                                                      | 99/35346 [00:50<4:51:51,  2.01it/s]C:\\Users\\slowd\\OneDrive\\Desktop\\Projects\\MLProjects\\Diabeties\\diabeties\\Lib\\site-packages\\sklearn\\utils\\validation.py:2739: UserWarning: X does not have valid feature names, but SimpleImputer was fitted with feature names\n",
      "  warnings.warn(\n"
     ]
    },
    {
     "data": {
      "application/vnd.jupyter.widget-view+json": {
       "model_id": "477963e9293046c68cab1ceed136e9ba",
       "version_major": 2,
       "version_minor": 0
      },
      "text/plain": [
       "  0%|          | 0/1 [00:00<?, ?it/s]"
      ]
     },
     "metadata": {},
     "output_type": "display_data"
    },
    {
     "name": "stderr",
     "output_type": "stream",
     "text": [
      "Checking SHAP issues:   0%|▏                                                                     | 100/35346 [00:51<4:50:43,  2.02it/s]C:\\Users\\slowd\\OneDrive\\Desktop\\Projects\\MLProjects\\Diabeties\\diabeties\\Lib\\site-packages\\sklearn\\utils\\validation.py:2739: UserWarning: X does not have valid feature names, but SimpleImputer was fitted with feature names\n",
      "  warnings.warn(\n"
     ]
    },
    {
     "data": {
      "application/vnd.jupyter.widget-view+json": {
       "model_id": "9ab94405176d4a3899f4eeebde8788cd",
       "version_major": 2,
       "version_minor": 0
      },
      "text/plain": [
       "  0%|          | 0/1 [00:00<?, ?it/s]"
      ]
     },
     "metadata": {},
     "output_type": "display_data"
    },
    {
     "name": "stderr",
     "output_type": "stream",
     "text": [
      "Checking SHAP issues:   0%|▏                                                                     | 101/35346 [00:51<4:55:56,  1.98it/s]C:\\Users\\slowd\\OneDrive\\Desktop\\Projects\\MLProjects\\Diabeties\\diabeties\\Lib\\site-packages\\sklearn\\utils\\validation.py:2739: UserWarning: X does not have valid feature names, but SimpleImputer was fitted with feature names\n",
      "  warnings.warn(\n"
     ]
    },
    {
     "data": {
      "application/vnd.jupyter.widget-view+json": {
       "model_id": "56bc679837614c6cbce6d61a1c4e01aa",
       "version_major": 2,
       "version_minor": 0
      },
      "text/plain": [
       "  0%|          | 0/1 [00:00<?, ?it/s]"
      ]
     },
     "metadata": {},
     "output_type": "display_data"
    },
    {
     "name": "stderr",
     "output_type": "stream",
     "text": [
      "Checking SHAP issues:   0%|▏                                                                     | 102/35346 [00:52<4:54:07,  2.00it/s]C:\\Users\\slowd\\OneDrive\\Desktop\\Projects\\MLProjects\\Diabeties\\diabeties\\Lib\\site-packages\\sklearn\\utils\\validation.py:2739: UserWarning: X does not have valid feature names, but SimpleImputer was fitted with feature names\n",
      "  warnings.warn(\n"
     ]
    },
    {
     "data": {
      "application/vnd.jupyter.widget-view+json": {
       "model_id": "6b606afd9e784c9dac0f6c539a0926ca",
       "version_major": 2,
       "version_minor": 0
      },
      "text/plain": [
       "  0%|          | 0/1 [00:00<?, ?it/s]"
      ]
     },
     "metadata": {},
     "output_type": "display_data"
    },
    {
     "name": "stderr",
     "output_type": "stream",
     "text": [
      "Checking SHAP issues:   0%|▏                                                                     | 103/35346 [00:52<4:53:25,  2.00it/s]C:\\Users\\slowd\\OneDrive\\Desktop\\Projects\\MLProjects\\Diabeties\\diabeties\\Lib\\site-packages\\sklearn\\utils\\validation.py:2739: UserWarning: X does not have valid feature names, but SimpleImputer was fitted with feature names\n",
      "  warnings.warn(\n"
     ]
    },
    {
     "data": {
      "application/vnd.jupyter.widget-view+json": {
       "model_id": "a083c4a7bce54f34b000ffdbb92eaf76",
       "version_major": 2,
       "version_minor": 0
      },
      "text/plain": [
       "  0%|          | 0/1 [00:00<?, ?it/s]"
      ]
     },
     "metadata": {},
     "output_type": "display_data"
    },
    {
     "name": "stderr",
     "output_type": "stream",
     "text": [
      "Checking SHAP issues:   0%|▏                                                                     | 104/35346 [00:53<4:54:39,  1.99it/s]C:\\Users\\slowd\\OneDrive\\Desktop\\Projects\\MLProjects\\Diabeties\\diabeties\\Lib\\site-packages\\sklearn\\utils\\validation.py:2739: UserWarning: X does not have valid feature names, but SimpleImputer was fitted with feature names\n",
      "  warnings.warn(\n"
     ]
    },
    {
     "data": {
      "application/vnd.jupyter.widget-view+json": {
       "model_id": "44c1fb3f25c245b2bb8b742334f8c7a1",
       "version_major": 2,
       "version_minor": 0
      },
      "text/plain": [
       "  0%|          | 0/1 [00:00<?, ?it/s]"
      ]
     },
     "metadata": {},
     "output_type": "display_data"
    },
    {
     "name": "stderr",
     "output_type": "stream",
     "text": [
      "Checking SHAP issues:   0%|▏                                                                     | 105/35346 [00:53<4:56:10,  1.98it/s]C:\\Users\\slowd\\OneDrive\\Desktop\\Projects\\MLProjects\\Diabeties\\diabeties\\Lib\\site-packages\\sklearn\\utils\\validation.py:2739: UserWarning: X does not have valid feature names, but SimpleImputer was fitted with feature names\n",
      "  warnings.warn(\n"
     ]
    },
    {
     "data": {
      "application/vnd.jupyter.widget-view+json": {
       "model_id": "2611d14a023445dfab1ab05dbbb7384e",
       "version_major": 2,
       "version_minor": 0
      },
      "text/plain": [
       "  0%|          | 0/1 [00:00<?, ?it/s]"
      ]
     },
     "metadata": {},
     "output_type": "display_data"
    },
    {
     "name": "stderr",
     "output_type": "stream",
     "text": [
      "Checking SHAP issues:   0%|▏                                                                     | 106/35346 [00:54<4:56:46,  1.98it/s]C:\\Users\\slowd\\OneDrive\\Desktop\\Projects\\MLProjects\\Diabeties\\diabeties\\Lib\\site-packages\\sklearn\\utils\\validation.py:2739: UserWarning: X does not have valid feature names, but SimpleImputer was fitted with feature names\n",
      "  warnings.warn(\n"
     ]
    },
    {
     "data": {
      "application/vnd.jupyter.widget-view+json": {
       "model_id": "449df67b14174c62809a101ddd6d553c",
       "version_major": 2,
       "version_minor": 0
      },
      "text/plain": [
       "  0%|          | 0/1 [00:00<?, ?it/s]"
      ]
     },
     "metadata": {},
     "output_type": "display_data"
    },
    {
     "name": "stderr",
     "output_type": "stream",
     "text": [
      "Checking SHAP issues:   0%|▏                                                                     | 107/35346 [00:54<4:55:27,  1.99it/s]C:\\Users\\slowd\\OneDrive\\Desktop\\Projects\\MLProjects\\Diabeties\\diabeties\\Lib\\site-packages\\sklearn\\utils\\validation.py:2739: UserWarning: X does not have valid feature names, but SimpleImputer was fitted with feature names\n",
      "  warnings.warn(\n"
     ]
    },
    {
     "data": {
      "application/vnd.jupyter.widget-view+json": {
       "model_id": "7e6a8696d47d4c32b24e1362657b81de",
       "version_major": 2,
       "version_minor": 0
      },
      "text/plain": [
       "  0%|          | 0/1 [00:00<?, ?it/s]"
      ]
     },
     "metadata": {},
     "output_type": "display_data"
    },
    {
     "name": "stderr",
     "output_type": "stream",
     "text": [
      "Checking SHAP issues:   0%|▏                                                                     | 108/35346 [00:55<4:54:28,  1.99it/s]C:\\Users\\slowd\\OneDrive\\Desktop\\Projects\\MLProjects\\Diabeties\\diabeties\\Lib\\site-packages\\sklearn\\utils\\validation.py:2739: UserWarning: X does not have valid feature names, but SimpleImputer was fitted with feature names\n",
      "  warnings.warn(\n"
     ]
    },
    {
     "data": {
      "application/vnd.jupyter.widget-view+json": {
       "model_id": "5fef49f00b494312af0cdbfa9b9a1c0a",
       "version_major": 2,
       "version_minor": 0
      },
      "text/plain": [
       "  0%|          | 0/1 [00:00<?, ?it/s]"
      ]
     },
     "metadata": {},
     "output_type": "display_data"
    },
    {
     "name": "stderr",
     "output_type": "stream",
     "text": [
      "Checking SHAP issues:   0%|▏                                                                     | 109/35346 [00:55<4:48:29,  2.04it/s]C:\\Users\\slowd\\OneDrive\\Desktop\\Projects\\MLProjects\\Diabeties\\diabeties\\Lib\\site-packages\\sklearn\\utils\\validation.py:2739: UserWarning: X does not have valid feature names, but SimpleImputer was fitted with feature names\n",
      "  warnings.warn(\n"
     ]
    },
    {
     "data": {
      "application/vnd.jupyter.widget-view+json": {
       "model_id": "6a1a0311765a48f1ac5f7fac8bc95966",
       "version_major": 2,
       "version_minor": 0
      },
      "text/plain": [
       "  0%|          | 0/1 [00:00<?, ?it/s]"
      ]
     },
     "metadata": {},
     "output_type": "display_data"
    },
    {
     "name": "stderr",
     "output_type": "stream",
     "text": [
      "Checking SHAP issues:   0%|▏                                                                     | 110/35346 [00:56<4:50:47,  2.02it/s]C:\\Users\\slowd\\OneDrive\\Desktop\\Projects\\MLProjects\\Diabeties\\diabeties\\Lib\\site-packages\\sklearn\\utils\\validation.py:2739: UserWarning: X does not have valid feature names, but SimpleImputer was fitted with feature names\n",
      "  warnings.warn(\n"
     ]
    },
    {
     "data": {
      "application/vnd.jupyter.widget-view+json": {
       "model_id": "1e9e01fe56e54cfb860d19a1057d30f8",
       "version_major": 2,
       "version_minor": 0
      },
      "text/plain": [
       "  0%|          | 0/1 [00:00<?, ?it/s]"
      ]
     },
     "metadata": {},
     "output_type": "display_data"
    },
    {
     "name": "stderr",
     "output_type": "stream",
     "text": [
      "Checking SHAP issues:   0%|▏                                                                     | 111/35346 [00:56<4:55:12,  1.99it/s]C:\\Users\\slowd\\OneDrive\\Desktop\\Projects\\MLProjects\\Diabeties\\diabeties\\Lib\\site-packages\\sklearn\\utils\\validation.py:2739: UserWarning: X does not have valid feature names, but SimpleImputer was fitted with feature names\n",
      "  warnings.warn(\n"
     ]
    },
    {
     "data": {
      "application/vnd.jupyter.widget-view+json": {
       "model_id": "144ace1c744e44feb5ae99ac1e88a93d",
       "version_major": 2,
       "version_minor": 0
      },
      "text/plain": [
       "  0%|          | 0/1 [00:00<?, ?it/s]"
      ]
     },
     "metadata": {},
     "output_type": "display_data"
    },
    {
     "name": "stderr",
     "output_type": "stream",
     "text": [
      "Checking SHAP issues:   0%|▏                                                                     | 112/35346 [00:57<4:54:55,  1.99it/s]C:\\Users\\slowd\\OneDrive\\Desktop\\Projects\\MLProjects\\Diabeties\\diabeties\\Lib\\site-packages\\sklearn\\utils\\validation.py:2739: UserWarning: X does not have valid feature names, but SimpleImputer was fitted with feature names\n",
      "  warnings.warn(\n"
     ]
    },
    {
     "data": {
      "application/vnd.jupyter.widget-view+json": {
       "model_id": "8890b56b312749129ea35d42213672b7",
       "version_major": 2,
       "version_minor": 0
      },
      "text/plain": [
       "  0%|          | 0/1 [00:00<?, ?it/s]"
      ]
     },
     "metadata": {},
     "output_type": "display_data"
    },
    {
     "name": "stderr",
     "output_type": "stream",
     "text": [
      "Checking SHAP issues:   0%|▏                                                                     | 113/35346 [00:57<4:58:11,  1.97it/s]C:\\Users\\slowd\\OneDrive\\Desktop\\Projects\\MLProjects\\Diabeties\\diabeties\\Lib\\site-packages\\sklearn\\utils\\validation.py:2739: UserWarning: X does not have valid feature names, but SimpleImputer was fitted with feature names\n",
      "  warnings.warn(\n"
     ]
    },
    {
     "data": {
      "application/vnd.jupyter.widget-view+json": {
       "model_id": "2b8259ae6f1d41f48990603a2d995a6e",
       "version_major": 2,
       "version_minor": 0
      },
      "text/plain": [
       "  0%|          | 0/1 [00:00<?, ?it/s]"
      ]
     },
     "metadata": {},
     "output_type": "display_data"
    },
    {
     "name": "stderr",
     "output_type": "stream",
     "text": [
      "Checking SHAP issues:   0%|▏                                                                     | 114/35346 [00:58<4:50:42,  2.02it/s]C:\\Users\\slowd\\OneDrive\\Desktop\\Projects\\MLProjects\\Diabeties\\diabeties\\Lib\\site-packages\\sklearn\\utils\\validation.py:2739: UserWarning: X does not have valid feature names, but SimpleImputer was fitted with feature names\n",
      "  warnings.warn(\n"
     ]
    },
    {
     "data": {
      "application/vnd.jupyter.widget-view+json": {
       "model_id": "7af6e83ccfcb49cebe36049d448b95fc",
       "version_major": 2,
       "version_minor": 0
      },
      "text/plain": [
       "  0%|          | 0/1 [00:00<?, ?it/s]"
      ]
     },
     "metadata": {},
     "output_type": "display_data"
    },
    {
     "name": "stderr",
     "output_type": "stream",
     "text": [
      "Checking SHAP issues:   0%|▏                                                                     | 115/35346 [00:58<4:40:04,  2.10it/s]C:\\Users\\slowd\\OneDrive\\Desktop\\Projects\\MLProjects\\Diabeties\\diabeties\\Lib\\site-packages\\sklearn\\utils\\validation.py:2739: UserWarning: X does not have valid feature names, but SimpleImputer was fitted with feature names\n",
      "  warnings.warn(\n"
     ]
    },
    {
     "data": {
      "application/vnd.jupyter.widget-view+json": {
       "model_id": "3fdbc7a5b4b84a889ce37294ac67331b",
       "version_major": 2,
       "version_minor": 0
      },
      "text/plain": [
       "  0%|          | 0/1 [00:00<?, ?it/s]"
      ]
     },
     "metadata": {},
     "output_type": "display_data"
    },
    {
     "name": "stderr",
     "output_type": "stream",
     "text": [
      "Checking SHAP issues:   0%|▏                                                                     | 116/35346 [00:59<4:44:06,  2.07it/s]C:\\Users\\slowd\\OneDrive\\Desktop\\Projects\\MLProjects\\Diabeties\\diabeties\\Lib\\site-packages\\sklearn\\utils\\validation.py:2739: UserWarning: X does not have valid feature names, but SimpleImputer was fitted with feature names\n",
      "  warnings.warn(\n"
     ]
    },
    {
     "data": {
      "application/vnd.jupyter.widget-view+json": {
       "model_id": "ef6253ec401b4383950c1d07b463414f",
       "version_major": 2,
       "version_minor": 0
      },
      "text/plain": [
       "  0%|          | 0/1 [00:00<?, ?it/s]"
      ]
     },
     "metadata": {},
     "output_type": "display_data"
    },
    {
     "name": "stderr",
     "output_type": "stream",
     "text": [
      "Checking SHAP issues:   0%|▏                                                                     | 117/35346 [00:59<4:50:52,  2.02it/s]C:\\Users\\slowd\\OneDrive\\Desktop\\Projects\\MLProjects\\Diabeties\\diabeties\\Lib\\site-packages\\sklearn\\utils\\validation.py:2739: UserWarning: X does not have valid feature names, but SimpleImputer was fitted with feature names\n",
      "  warnings.warn(\n"
     ]
    },
    {
     "data": {
      "application/vnd.jupyter.widget-view+json": {
       "model_id": "94abae111ca24f3287c3625672ecb988",
       "version_major": 2,
       "version_minor": 0
      },
      "text/plain": [
       "  0%|          | 0/1 [00:00<?, ?it/s]"
      ]
     },
     "metadata": {},
     "output_type": "display_data"
    },
    {
     "name": "stderr",
     "output_type": "stream",
     "text": [
      "Checking SHAP issues:   0%|▏                                                                     | 118/35346 [01:00<4:55:27,  1.99it/s]C:\\Users\\slowd\\OneDrive\\Desktop\\Projects\\MLProjects\\Diabeties\\diabeties\\Lib\\site-packages\\sklearn\\utils\\validation.py:2739: UserWarning: X does not have valid feature names, but SimpleImputer was fitted with feature names\n",
      "  warnings.warn(\n"
     ]
    },
    {
     "data": {
      "application/vnd.jupyter.widget-view+json": {
       "model_id": "6770b2e4a47d4442b9bc402ab30f9292",
       "version_major": 2,
       "version_minor": 0
      },
      "text/plain": [
       "  0%|          | 0/1 [00:00<?, ?it/s]"
      ]
     },
     "metadata": {},
     "output_type": "display_data"
    },
    {
     "name": "stderr",
     "output_type": "stream",
     "text": [
      "Checking SHAP issues:   0%|▏                                                                     | 119/35346 [01:00<4:57:17,  1.97it/s]C:\\Users\\slowd\\OneDrive\\Desktop\\Projects\\MLProjects\\Diabeties\\diabeties\\Lib\\site-packages\\sklearn\\utils\\validation.py:2739: UserWarning: X does not have valid feature names, but SimpleImputer was fitted with feature names\n",
      "  warnings.warn(\n"
     ]
    },
    {
     "data": {
      "application/vnd.jupyter.widget-view+json": {
       "model_id": "9c7a47fcb4544272975101c9bc76cd7d",
       "version_major": 2,
       "version_minor": 0
      },
      "text/plain": [
       "  0%|          | 0/1 [00:00<?, ?it/s]"
      ]
     },
     "metadata": {},
     "output_type": "display_data"
    },
    {
     "name": "stderr",
     "output_type": "stream",
     "text": [
      "Checking SHAP issues:   0%|▏                                                                     | 120/35346 [01:01<4:56:25,  1.98it/s]C:\\Users\\slowd\\OneDrive\\Desktop\\Projects\\MLProjects\\Diabeties\\diabeties\\Lib\\site-packages\\sklearn\\utils\\validation.py:2739: UserWarning: X does not have valid feature names, but SimpleImputer was fitted with feature names\n",
      "  warnings.warn(\n"
     ]
    },
    {
     "data": {
      "application/vnd.jupyter.widget-view+json": {
       "model_id": "eff33e0a17374c4ea802f6fbec461a03",
       "version_major": 2,
       "version_minor": 0
      },
      "text/plain": [
       "  0%|          | 0/1 [00:00<?, ?it/s]"
      ]
     },
     "metadata": {},
     "output_type": "display_data"
    },
    {
     "name": "stderr",
     "output_type": "stream",
     "text": [
      "Checking SHAP issues:   0%|▏                                                                     | 121/35346 [01:01<4:53:41,  2.00it/s]C:\\Users\\slowd\\OneDrive\\Desktop\\Projects\\MLProjects\\Diabeties\\diabeties\\Lib\\site-packages\\sklearn\\utils\\validation.py:2739: UserWarning: X does not have valid feature names, but SimpleImputer was fitted with feature names\n",
      "  warnings.warn(\n"
     ]
    },
    {
     "data": {
      "application/vnd.jupyter.widget-view+json": {
       "model_id": "8ce2f6cf58fe4e0d96596275f7ed094c",
       "version_major": 2,
       "version_minor": 0
      },
      "text/plain": [
       "  0%|          | 0/1 [00:00<?, ?it/s]"
      ]
     },
     "metadata": {},
     "output_type": "display_data"
    },
    {
     "name": "stderr",
     "output_type": "stream",
     "text": [
      "Checking SHAP issues:   0%|▏                                                                     | 122/35346 [01:02<4:52:49,  2.00it/s]C:\\Users\\slowd\\OneDrive\\Desktop\\Projects\\MLProjects\\Diabeties\\diabeties\\Lib\\site-packages\\sklearn\\utils\\validation.py:2739: UserWarning: X does not have valid feature names, but SimpleImputer was fitted with feature names\n",
      "  warnings.warn(\n"
     ]
    },
    {
     "data": {
      "application/vnd.jupyter.widget-view+json": {
       "model_id": "bcc7d432ba6849e3a3d866d4da74a327",
       "version_major": 2,
       "version_minor": 0
      },
      "text/plain": [
       "  0%|          | 0/1 [00:00<?, ?it/s]"
      ]
     },
     "metadata": {},
     "output_type": "display_data"
    },
    {
     "name": "stderr",
     "output_type": "stream",
     "text": [
      "Checking SHAP issues:   0%|▏                                                                     | 123/35346 [01:02<4:48:29,  2.03it/s]C:\\Users\\slowd\\OneDrive\\Desktop\\Projects\\MLProjects\\Diabeties\\diabeties\\Lib\\site-packages\\sklearn\\utils\\validation.py:2739: UserWarning: X does not have valid feature names, but SimpleImputer was fitted with feature names\n",
      "  warnings.warn(\n"
     ]
    },
    {
     "data": {
      "application/vnd.jupyter.widget-view+json": {
       "model_id": "2f680d6bf5514520a5a9fdc9285a7369",
       "version_major": 2,
       "version_minor": 0
      },
      "text/plain": [
       "  0%|          | 0/1 [00:00<?, ?it/s]"
      ]
     },
     "metadata": {},
     "output_type": "display_data"
    },
    {
     "name": "stderr",
     "output_type": "stream",
     "text": [
      "Checking SHAP issues:   0%|▏                                                                     | 124/35346 [01:03<4:54:30,  1.99it/s]C:\\Users\\slowd\\OneDrive\\Desktop\\Projects\\MLProjects\\Diabeties\\diabeties\\Lib\\site-packages\\sklearn\\utils\\validation.py:2739: UserWarning: X does not have valid feature names, but SimpleImputer was fitted with feature names\n",
      "  warnings.warn(\n"
     ]
    },
    {
     "data": {
      "application/vnd.jupyter.widget-view+json": {
       "model_id": "ab7e204eb64b4a68880bdca65b0aa89f",
       "version_major": 2,
       "version_minor": 0
      },
      "text/plain": [
       "  0%|          | 0/1 [00:00<?, ?it/s]"
      ]
     },
     "metadata": {},
     "output_type": "display_data"
    },
    {
     "name": "stderr",
     "output_type": "stream",
     "text": [
      "Checking SHAP issues:   0%|▏                                                                     | 125/35346 [01:03<4:50:40,  2.02it/s]C:\\Users\\slowd\\OneDrive\\Desktop\\Projects\\MLProjects\\Diabeties\\diabeties\\Lib\\site-packages\\sklearn\\utils\\validation.py:2739: UserWarning: X does not have valid feature names, but SimpleImputer was fitted with feature names\n",
      "  warnings.warn(\n"
     ]
    },
    {
     "data": {
      "application/vnd.jupyter.widget-view+json": {
       "model_id": "6732247bf7534444a0e02459c6dba6d6",
       "version_major": 2,
       "version_minor": 0
      },
      "text/plain": [
       "  0%|          | 0/1 [00:00<?, ?it/s]"
      ]
     },
     "metadata": {},
     "output_type": "display_data"
    },
    {
     "name": "stderr",
     "output_type": "stream",
     "text": [
      "Checking SHAP issues:   0%|▏                                                                     | 126/35346 [01:04<4:55:58,  1.98it/s]C:\\Users\\slowd\\OneDrive\\Desktop\\Projects\\MLProjects\\Diabeties\\diabeties\\Lib\\site-packages\\sklearn\\utils\\validation.py:2739: UserWarning: X does not have valid feature names, but SimpleImputer was fitted with feature names\n",
      "  warnings.warn(\n"
     ]
    },
    {
     "data": {
      "application/vnd.jupyter.widget-view+json": {
       "model_id": "88d79e87d08d464b83775fdbd4af30d4",
       "version_major": 2,
       "version_minor": 0
      },
      "text/plain": [
       "  0%|          | 0/1 [00:00<?, ?it/s]"
      ]
     },
     "metadata": {},
     "output_type": "display_data"
    },
    {
     "name": "stderr",
     "output_type": "stream",
     "text": [
      "Checking SHAP issues:   0%|▎                                                                     | 127/35346 [01:04<4:50:03,  2.02it/s]C:\\Users\\slowd\\OneDrive\\Desktop\\Projects\\MLProjects\\Diabeties\\diabeties\\Lib\\site-packages\\sklearn\\utils\\validation.py:2739: UserWarning: X does not have valid feature names, but SimpleImputer was fitted with feature names\n",
      "  warnings.warn(\n"
     ]
    },
    {
     "data": {
      "application/vnd.jupyter.widget-view+json": {
       "model_id": "4713d8a8964548ec864fc3434d77476d",
       "version_major": 2,
       "version_minor": 0
      },
      "text/plain": [
       "  0%|          | 0/1 [00:00<?, ?it/s]"
      ]
     },
     "metadata": {},
     "output_type": "display_data"
    },
    {
     "name": "stderr",
     "output_type": "stream",
     "text": [
      "Checking SHAP issues:   0%|▎                                                                     | 128/35346 [01:05<4:52:00,  2.01it/s]C:\\Users\\slowd\\OneDrive\\Desktop\\Projects\\MLProjects\\Diabeties\\diabeties\\Lib\\site-packages\\sklearn\\utils\\validation.py:2739: UserWarning: X does not have valid feature names, but SimpleImputer was fitted with feature names\n",
      "  warnings.warn(\n"
     ]
    },
    {
     "data": {
      "application/vnd.jupyter.widget-view+json": {
       "model_id": "3bf7de5858544b11ad488cd3326e5608",
       "version_major": 2,
       "version_minor": 0
      },
      "text/plain": [
       "  0%|          | 0/1 [00:00<?, ?it/s]"
      ]
     },
     "metadata": {},
     "output_type": "display_data"
    },
    {
     "name": "stderr",
     "output_type": "stream",
     "text": [
      "Checking SHAP issues:   0%|▎                                                                     | 129/35346 [01:05<4:46:12,  2.05it/s]C:\\Users\\slowd\\OneDrive\\Desktop\\Projects\\MLProjects\\Diabeties\\diabeties\\Lib\\site-packages\\sklearn\\utils\\validation.py:2739: UserWarning: X does not have valid feature names, but SimpleImputer was fitted with feature names\n",
      "  warnings.warn(\n"
     ]
    },
    {
     "data": {
      "application/vnd.jupyter.widget-view+json": {
       "model_id": "898930b7665642ceae4a3d99bed55836",
       "version_major": 2,
       "version_minor": 0
      },
      "text/plain": [
       "  0%|          | 0/1 [00:00<?, ?it/s]"
      ]
     },
     "metadata": {},
     "output_type": "display_data"
    },
    {
     "name": "stderr",
     "output_type": "stream",
     "text": [
      "Checking SHAP issues:   0%|▎                                                                     | 130/35346 [01:05<4:48:11,  2.04it/s]C:\\Users\\slowd\\OneDrive\\Desktop\\Projects\\MLProjects\\Diabeties\\diabeties\\Lib\\site-packages\\sklearn\\utils\\validation.py:2739: UserWarning: X does not have valid feature names, but SimpleImputer was fitted with feature names\n",
      "  warnings.warn(\n"
     ]
    },
    {
     "data": {
      "application/vnd.jupyter.widget-view+json": {
       "model_id": "a571d852fcad4e289c0649303f42af2f",
       "version_major": 2,
       "version_minor": 0
      },
      "text/plain": [
       "  0%|          | 0/1 [00:00<?, ?it/s]"
      ]
     },
     "metadata": {},
     "output_type": "display_data"
    },
    {
     "name": "stderr",
     "output_type": "stream",
     "text": [
      "Checking SHAP issues:   0%|▎                                                                     | 131/35346 [01:06<4:45:42,  2.05it/s]C:\\Users\\slowd\\OneDrive\\Desktop\\Projects\\MLProjects\\Diabeties\\diabeties\\Lib\\site-packages\\sklearn\\utils\\validation.py:2739: UserWarning: X does not have valid feature names, but SimpleImputer was fitted with feature names\n",
      "  warnings.warn(\n"
     ]
    },
    {
     "data": {
      "application/vnd.jupyter.widget-view+json": {
       "model_id": "2e3a1ca71d4543d1993c5ea61193636f",
       "version_major": 2,
       "version_minor": 0
      },
      "text/plain": [
       "  0%|          | 0/1 [00:00<?, ?it/s]"
      ]
     },
     "metadata": {},
     "output_type": "display_data"
    },
    {
     "name": "stderr",
     "output_type": "stream",
     "text": [
      "Checking SHAP issues:   0%|▎                                                                     | 132/35346 [01:06<4:38:07,  2.11it/s]C:\\Users\\slowd\\OneDrive\\Desktop\\Projects\\MLProjects\\Diabeties\\diabeties\\Lib\\site-packages\\sklearn\\utils\\validation.py:2739: UserWarning: X does not have valid feature names, but SimpleImputer was fitted with feature names\n",
      "  warnings.warn(\n"
     ]
    },
    {
     "data": {
      "application/vnd.jupyter.widget-view+json": {
       "model_id": "58f17ed3b22f43a3a61376d084f63720",
       "version_major": 2,
       "version_minor": 0
      },
      "text/plain": [
       "  0%|          | 0/1 [00:00<?, ?it/s]"
      ]
     },
     "metadata": {},
     "output_type": "display_data"
    },
    {
     "name": "stderr",
     "output_type": "stream",
     "text": [
      "Checking SHAP issues:   0%|▎                                                                     | 133/35346 [01:07<4:40:13,  2.09it/s]C:\\Users\\slowd\\OneDrive\\Desktop\\Projects\\MLProjects\\Diabeties\\diabeties\\Lib\\site-packages\\sklearn\\utils\\validation.py:2739: UserWarning: X does not have valid feature names, but SimpleImputer was fitted with feature names\n",
      "  warnings.warn(\n"
     ]
    },
    {
     "data": {
      "application/vnd.jupyter.widget-view+json": {
       "model_id": "a681f9de2a754da1b5ecafb683f2cad5",
       "version_major": 2,
       "version_minor": 0
      },
      "text/plain": [
       "  0%|          | 0/1 [00:00<?, ?it/s]"
      ]
     },
     "metadata": {},
     "output_type": "display_data"
    },
    {
     "name": "stderr",
     "output_type": "stream",
     "text": [
      "Checking SHAP issues:   0%|▎                                                                     | 134/35346 [01:07<4:41:54,  2.08it/s]C:\\Users\\slowd\\OneDrive\\Desktop\\Projects\\MLProjects\\Diabeties\\diabeties\\Lib\\site-packages\\sklearn\\utils\\validation.py:2739: UserWarning: X does not have valid feature names, but SimpleImputer was fitted with feature names\n",
      "  warnings.warn(\n"
     ]
    },
    {
     "data": {
      "application/vnd.jupyter.widget-view+json": {
       "model_id": "e34ce9cbec3745a5bf1cb1aad8b65d99",
       "version_major": 2,
       "version_minor": 0
      },
      "text/plain": [
       "  0%|          | 0/1 [00:00<?, ?it/s]"
      ]
     },
     "metadata": {},
     "output_type": "display_data"
    },
    {
     "name": "stderr",
     "output_type": "stream",
     "text": [
      "Checking SHAP issues:   0%|▎                                                                     | 135/35346 [01:08<4:37:29,  2.11it/s]C:\\Users\\slowd\\OneDrive\\Desktop\\Projects\\MLProjects\\Diabeties\\diabeties\\Lib\\site-packages\\sklearn\\utils\\validation.py:2739: UserWarning: X does not have valid feature names, but SimpleImputer was fitted with feature names\n",
      "  warnings.warn(\n"
     ]
    },
    {
     "data": {
      "application/vnd.jupyter.widget-view+json": {
       "model_id": "572e5ec80d6a45329c6804ab3716ce6c",
       "version_major": 2,
       "version_minor": 0
      },
      "text/plain": [
       "  0%|          | 0/1 [00:00<?, ?it/s]"
      ]
     },
     "metadata": {},
     "output_type": "display_data"
    },
    {
     "name": "stderr",
     "output_type": "stream",
     "text": [
      "Checking SHAP issues:   0%|▎                                                                     | 136/35346 [01:08<4:44:58,  2.06it/s]C:\\Users\\slowd\\OneDrive\\Desktop\\Projects\\MLProjects\\Diabeties\\diabeties\\Lib\\site-packages\\sklearn\\utils\\validation.py:2739: UserWarning: X does not have valid feature names, but SimpleImputer was fitted with feature names\n",
      "  warnings.warn(\n"
     ]
    },
    {
     "data": {
      "application/vnd.jupyter.widget-view+json": {
       "model_id": "f07feb790b7b4b768b060777864c0563",
       "version_major": 2,
       "version_minor": 0
      },
      "text/plain": [
       "  0%|          | 0/1 [00:00<?, ?it/s]"
      ]
     },
     "metadata": {},
     "output_type": "display_data"
    },
    {
     "name": "stderr",
     "output_type": "stream",
     "text": [
      "Checking SHAP issues:   0%|▎                                                                     | 137/35346 [01:09<4:42:05,  2.08it/s]C:\\Users\\slowd\\OneDrive\\Desktop\\Projects\\MLProjects\\Diabeties\\diabeties\\Lib\\site-packages\\sklearn\\utils\\validation.py:2739: UserWarning: X does not have valid feature names, but SimpleImputer was fitted with feature names\n",
      "  warnings.warn(\n"
     ]
    },
    {
     "data": {
      "application/vnd.jupyter.widget-view+json": {
       "model_id": "b6c5ea72952d4d66b6f864c92ebd0344",
       "version_major": 2,
       "version_minor": 0
      },
      "text/plain": [
       "  0%|          | 0/1 [00:00<?, ?it/s]"
      ]
     },
     "metadata": {},
     "output_type": "display_data"
    },
    {
     "name": "stderr",
     "output_type": "stream",
     "text": [
      "Checking SHAP issues:   0%|▎                                                                     | 138/35346 [01:09<4:50:28,  2.02it/s]C:\\Users\\slowd\\OneDrive\\Desktop\\Projects\\MLProjects\\Diabeties\\diabeties\\Lib\\site-packages\\sklearn\\utils\\validation.py:2739: UserWarning: X does not have valid feature names, but SimpleImputer was fitted with feature names\n",
      "  warnings.warn(\n"
     ]
    },
    {
     "data": {
      "application/vnd.jupyter.widget-view+json": {
       "model_id": "0dcec383011e4748908a5e2e10f2c31d",
       "version_major": 2,
       "version_minor": 0
      },
      "text/plain": [
       "  0%|          | 0/1 [00:00<?, ?it/s]"
      ]
     },
     "metadata": {},
     "output_type": "display_data"
    },
    {
     "name": "stderr",
     "output_type": "stream",
     "text": [
      "Checking SHAP issues:   0%|▎                                                                     | 139/35346 [01:10<4:48:52,  2.03it/s]C:\\Users\\slowd\\OneDrive\\Desktop\\Projects\\MLProjects\\Diabeties\\diabeties\\Lib\\site-packages\\sklearn\\utils\\validation.py:2739: UserWarning: X does not have valid feature names, but SimpleImputer was fitted with feature names\n",
      "  warnings.warn(\n"
     ]
    },
    {
     "data": {
      "application/vnd.jupyter.widget-view+json": {
       "model_id": "dc9ce0b4c234411ebc6bfae17d24916a",
       "version_major": 2,
       "version_minor": 0
      },
      "text/plain": [
       "  0%|          | 0/1 [00:00<?, ?it/s]"
      ]
     },
     "metadata": {},
     "output_type": "display_data"
    },
    {
     "name": "stderr",
     "output_type": "stream",
     "text": [
      "Checking SHAP issues:   0%|▎                                                                     | 140/35346 [01:10<4:51:27,  2.01it/s]C:\\Users\\slowd\\OneDrive\\Desktop\\Projects\\MLProjects\\Diabeties\\diabeties\\Lib\\site-packages\\sklearn\\utils\\validation.py:2739: UserWarning: X does not have valid feature names, but SimpleImputer was fitted with feature names\n",
      "  warnings.warn(\n"
     ]
    },
    {
     "data": {
      "application/vnd.jupyter.widget-view+json": {
       "model_id": "322f74f84ee54b758447a55f338eaa1d",
       "version_major": 2,
       "version_minor": 0
      },
      "text/plain": [
       "  0%|          | 0/1 [00:00<?, ?it/s]"
      ]
     },
     "metadata": {},
     "output_type": "display_data"
    },
    {
     "name": "stderr",
     "output_type": "stream",
     "text": [
      "Checking SHAP issues:   0%|▎                                                                     | 141/35346 [01:11<4:38:12,  2.11it/s]C:\\Users\\slowd\\OneDrive\\Desktop\\Projects\\MLProjects\\Diabeties\\diabeties\\Lib\\site-packages\\sklearn\\utils\\validation.py:2739: UserWarning: X does not have valid feature names, but SimpleImputer was fitted with feature names\n",
      "  warnings.warn(\n"
     ]
    },
    {
     "data": {
      "application/vnd.jupyter.widget-view+json": {
       "model_id": "6f33e8caacf14ff2a72a291895021d7f",
       "version_major": 2,
       "version_minor": 0
      },
      "text/plain": [
       "  0%|          | 0/1 [00:00<?, ?it/s]"
      ]
     },
     "metadata": {},
     "output_type": "display_data"
    },
    {
     "name": "stderr",
     "output_type": "stream",
     "text": [
      "Checking SHAP issues:   0%|▎                                                                     | 142/35346 [01:11<4:40:36,  2.09it/s]C:\\Users\\slowd\\OneDrive\\Desktop\\Projects\\MLProjects\\Diabeties\\diabeties\\Lib\\site-packages\\sklearn\\utils\\validation.py:2739: UserWarning: X does not have valid feature names, but SimpleImputer was fitted with feature names\n",
      "  warnings.warn(\n"
     ]
    },
    {
     "data": {
      "application/vnd.jupyter.widget-view+json": {
       "model_id": "708813dc19f644bdbd871c50fc1b9dd3",
       "version_major": 2,
       "version_minor": 0
      },
      "text/plain": [
       "  0%|          | 0/1 [00:00<?, ?it/s]"
      ]
     },
     "metadata": {},
     "output_type": "display_data"
    },
    {
     "name": "stderr",
     "output_type": "stream",
     "text": [
      "Checking SHAP issues:   0%|▎                                                                     | 143/35346 [01:12<4:43:52,  2.07it/s]C:\\Users\\slowd\\OneDrive\\Desktop\\Projects\\MLProjects\\Diabeties\\diabeties\\Lib\\site-packages\\sklearn\\utils\\validation.py:2739: UserWarning: X does not have valid feature names, but SimpleImputer was fitted with feature names\n",
      "  warnings.warn(\n"
     ]
    },
    {
     "data": {
      "application/vnd.jupyter.widget-view+json": {
       "model_id": "ad7c2ed5b9cb4ebf8ba63a7c8f77183f",
       "version_major": 2,
       "version_minor": 0
      },
      "text/plain": [
       "  0%|          | 0/1 [00:00<?, ?it/s]"
      ]
     },
     "metadata": {},
     "output_type": "display_data"
    },
    {
     "name": "stderr",
     "output_type": "stream",
     "text": [
      "Checking SHAP issues:   0%|▎                                                                     | 144/35346 [01:12<4:42:17,  2.08it/s]C:\\Users\\slowd\\OneDrive\\Desktop\\Projects\\MLProjects\\Diabeties\\diabeties\\Lib\\site-packages\\sklearn\\utils\\validation.py:2739: UserWarning: X does not have valid feature names, but SimpleImputer was fitted with feature names\n",
      "  warnings.warn(\n"
     ]
    },
    {
     "data": {
      "application/vnd.jupyter.widget-view+json": {
       "model_id": "9523937c2e4b41bbbbf9ba200d80be11",
       "version_major": 2,
       "version_minor": 0
      },
      "text/plain": [
       "  0%|          | 0/1 [00:00<?, ?it/s]"
      ]
     },
     "metadata": {},
     "output_type": "display_data"
    },
    {
     "name": "stderr",
     "output_type": "stream",
     "text": [
      "Checking SHAP issues:   0%|▎                                                                     | 145/35346 [01:13<4:43:15,  2.07it/s]C:\\Users\\slowd\\OneDrive\\Desktop\\Projects\\MLProjects\\Diabeties\\diabeties\\Lib\\site-packages\\sklearn\\utils\\validation.py:2739: UserWarning: X does not have valid feature names, but SimpleImputer was fitted with feature names\n",
      "  warnings.warn(\n"
     ]
    },
    {
     "data": {
      "application/vnd.jupyter.widget-view+json": {
       "model_id": "16c647326ef04a7cac02d63bb6aa8302",
       "version_major": 2,
       "version_minor": 0
      },
      "text/plain": [
       "  0%|          | 0/1 [00:00<?, ?it/s]"
      ]
     },
     "metadata": {},
     "output_type": "display_data"
    },
    {
     "name": "stderr",
     "output_type": "stream",
     "text": [
      "Checking SHAP issues:   0%|▎                                                                     | 146/35346 [01:13<4:42:38,  2.08it/s]C:\\Users\\slowd\\OneDrive\\Desktop\\Projects\\MLProjects\\Diabeties\\diabeties\\Lib\\site-packages\\sklearn\\utils\\validation.py:2739: UserWarning: X does not have valid feature names, but SimpleImputer was fitted with feature names\n",
      "  warnings.warn(\n"
     ]
    },
    {
     "data": {
      "application/vnd.jupyter.widget-view+json": {
       "model_id": "e06d5afba3bf4c1281dacd7064e63c2e",
       "version_major": 2,
       "version_minor": 0
      },
      "text/plain": [
       "  0%|          | 0/1 [00:00<?, ?it/s]"
      ]
     },
     "metadata": {},
     "output_type": "display_data"
    },
    {
     "name": "stderr",
     "output_type": "stream",
     "text": [
      "Checking SHAP issues:   0%|▎                                                                     | 147/35346 [01:14<4:47:14,  2.04it/s]C:\\Users\\slowd\\OneDrive\\Desktop\\Projects\\MLProjects\\Diabeties\\diabeties\\Lib\\site-packages\\sklearn\\utils\\validation.py:2739: UserWarning: X does not have valid feature names, but SimpleImputer was fitted with feature names\n",
      "  warnings.warn(\n"
     ]
    },
    {
     "data": {
      "application/vnd.jupyter.widget-view+json": {
       "model_id": "bb2b2d1434f444e68f624f075cef57b4",
       "version_major": 2,
       "version_minor": 0
      },
      "text/plain": [
       "  0%|          | 0/1 [00:00<?, ?it/s]"
      ]
     },
     "metadata": {},
     "output_type": "display_data"
    },
    {
     "name": "stderr",
     "output_type": "stream",
     "text": [
      "Checking SHAP issues:   0%|▎                                                                     | 148/35346 [01:14<4:49:01,  2.03it/s]C:\\Users\\slowd\\OneDrive\\Desktop\\Projects\\MLProjects\\Diabeties\\diabeties\\Lib\\site-packages\\sklearn\\utils\\validation.py:2739: UserWarning: X does not have valid feature names, but SimpleImputer was fitted with feature names\n",
      "  warnings.warn(\n"
     ]
    },
    {
     "data": {
      "application/vnd.jupyter.widget-view+json": {
       "model_id": "87eed15067674ed188512b0908faf749",
       "version_major": 2,
       "version_minor": 0
      },
      "text/plain": [
       "  0%|          | 0/1 [00:00<?, ?it/s]"
      ]
     },
     "metadata": {},
     "output_type": "display_data"
    },
    {
     "name": "stderr",
     "output_type": "stream",
     "text": [
      "Checking SHAP issues:   0%|▎                                                                     | 149/35346 [01:15<4:52:03,  2.01it/s]C:\\Users\\slowd\\OneDrive\\Desktop\\Projects\\MLProjects\\Diabeties\\diabeties\\Lib\\site-packages\\sklearn\\utils\\validation.py:2739: UserWarning: X does not have valid feature names, but SimpleImputer was fitted with feature names\n",
      "  warnings.warn(\n"
     ]
    },
    {
     "data": {
      "application/vnd.jupyter.widget-view+json": {
       "model_id": "92e9fcf89e144c8588c22a3a59bc4ec5",
       "version_major": 2,
       "version_minor": 0
      },
      "text/plain": [
       "  0%|          | 0/1 [00:00<?, ?it/s]"
      ]
     },
     "metadata": {},
     "output_type": "display_data"
    },
    {
     "name": "stderr",
     "output_type": "stream",
     "text": [
      "Checking SHAP issues:   0%|▎                                                                     | 150/35346 [01:15<4:46:07,  2.05it/s]C:\\Users\\slowd\\OneDrive\\Desktop\\Projects\\MLProjects\\Diabeties\\diabeties\\Lib\\site-packages\\sklearn\\utils\\validation.py:2739: UserWarning: X does not have valid feature names, but SimpleImputer was fitted with feature names\n",
      "  warnings.warn(\n"
     ]
    },
    {
     "data": {
      "application/vnd.jupyter.widget-view+json": {
       "model_id": "b461f0565a5c471d8f3d482afc4a0011",
       "version_major": 2,
       "version_minor": 0
      },
      "text/plain": [
       "  0%|          | 0/1 [00:00<?, ?it/s]"
      ]
     },
     "metadata": {},
     "output_type": "display_data"
    },
    {
     "name": "stderr",
     "output_type": "stream",
     "text": [
      "Checking SHAP issues:   0%|▎                                                                     | 151/35346 [01:16<4:48:00,  2.04it/s]C:\\Users\\slowd\\OneDrive\\Desktop\\Projects\\MLProjects\\Diabeties\\diabeties\\Lib\\site-packages\\sklearn\\utils\\validation.py:2739: UserWarning: X does not have valid feature names, but SimpleImputer was fitted with feature names\n",
      "  warnings.warn(\n"
     ]
    },
    {
     "data": {
      "application/vnd.jupyter.widget-view+json": {
       "model_id": "7c97c2d5af5644d8a5dd12d04adc6fe1",
       "version_major": 2,
       "version_minor": 0
      },
      "text/plain": [
       "  0%|          | 0/1 [00:00<?, ?it/s]"
      ]
     },
     "metadata": {},
     "output_type": "display_data"
    },
    {
     "name": "stderr",
     "output_type": "stream",
     "text": [
      "Checking SHAP issues:   0%|▎                                                                     | 152/35346 [01:16<4:51:51,  2.01it/s]C:\\Users\\slowd\\OneDrive\\Desktop\\Projects\\MLProjects\\Diabeties\\diabeties\\Lib\\site-packages\\sklearn\\utils\\validation.py:2739: UserWarning: X does not have valid feature names, but SimpleImputer was fitted with feature names\n",
      "  warnings.warn(\n"
     ]
    },
    {
     "data": {
      "application/vnd.jupyter.widget-view+json": {
       "model_id": "63cf936e7e57428e88bd30db18492e58",
       "version_major": 2,
       "version_minor": 0
      },
      "text/plain": [
       "  0%|          | 0/1 [00:00<?, ?it/s]"
      ]
     },
     "metadata": {},
     "output_type": "display_data"
    },
    {
     "name": "stderr",
     "output_type": "stream",
     "text": [
      "Checking SHAP issues:   0%|▎                                                                     | 153/35346 [01:17<4:52:29,  2.01it/s]C:\\Users\\slowd\\OneDrive\\Desktop\\Projects\\MLProjects\\Diabeties\\diabeties\\Lib\\site-packages\\sklearn\\utils\\validation.py:2739: UserWarning: X does not have valid feature names, but SimpleImputer was fitted with feature names\n",
      "  warnings.warn(\n"
     ]
    },
    {
     "data": {
      "application/vnd.jupyter.widget-view+json": {
       "model_id": "5b25cbce26e04c30bbdd1740a9fa1913",
       "version_major": 2,
       "version_minor": 0
      },
      "text/plain": [
       "  0%|          | 0/1 [00:00<?, ?it/s]"
      ]
     },
     "metadata": {},
     "output_type": "display_data"
    },
    {
     "name": "stderr",
     "output_type": "stream",
     "text": [
      "Checking SHAP issues:   0%|▎                                                                     | 154/35346 [01:17<4:52:31,  2.01it/s]C:\\Users\\slowd\\OneDrive\\Desktop\\Projects\\MLProjects\\Diabeties\\diabeties\\Lib\\site-packages\\sklearn\\utils\\validation.py:2739: UserWarning: X does not have valid feature names, but SimpleImputer was fitted with feature names\n",
      "  warnings.warn(\n"
     ]
    },
    {
     "data": {
      "application/vnd.jupyter.widget-view+json": {
       "model_id": "ab4d8df4dce64ef3a7f6327679acfbcb",
       "version_major": 2,
       "version_minor": 0
      },
      "text/plain": [
       "  0%|          | 0/1 [00:00<?, ?it/s]"
      ]
     },
     "metadata": {},
     "output_type": "display_data"
    },
    {
     "name": "stderr",
     "output_type": "stream",
     "text": [
      "Checking SHAP issues:   0%|▎                                                                     | 155/35346 [01:18<4:53:13,  2.00it/s]C:\\Users\\slowd\\OneDrive\\Desktop\\Projects\\MLProjects\\Diabeties\\diabeties\\Lib\\site-packages\\sklearn\\utils\\validation.py:2739: UserWarning: X does not have valid feature names, but SimpleImputer was fitted with feature names\n",
      "  warnings.warn(\n"
     ]
    },
    {
     "data": {
      "application/vnd.jupyter.widget-view+json": {
       "model_id": "258cffd7ca5841b89b00a0bab3d9992e",
       "version_major": 2,
       "version_minor": 0
      },
      "text/plain": [
       "  0%|          | 0/1 [00:00<?, ?it/s]"
      ]
     },
     "metadata": {},
     "output_type": "display_data"
    },
    {
     "name": "stderr",
     "output_type": "stream",
     "text": [
      "Checking SHAP issues:   0%|▎                                                                     | 156/35346 [01:18<4:51:31,  2.01it/s]C:\\Users\\slowd\\OneDrive\\Desktop\\Projects\\MLProjects\\Diabeties\\diabeties\\Lib\\site-packages\\sklearn\\utils\\validation.py:2739: UserWarning: X does not have valid feature names, but SimpleImputer was fitted with feature names\n",
      "  warnings.warn(\n"
     ]
    },
    {
     "data": {
      "application/vnd.jupyter.widget-view+json": {
       "model_id": "759295fd430049ca912034da3b54ea3a",
       "version_major": 2,
       "version_minor": 0
      },
      "text/plain": [
       "  0%|          | 0/1 [00:00<?, ?it/s]"
      ]
     },
     "metadata": {},
     "output_type": "display_data"
    },
    {
     "name": "stderr",
     "output_type": "stream",
     "text": [
      "Checking SHAP issues:   0%|▎                                                                     | 157/35346 [01:19<4:52:28,  2.01it/s]C:\\Users\\slowd\\OneDrive\\Desktop\\Projects\\MLProjects\\Diabeties\\diabeties\\Lib\\site-packages\\sklearn\\utils\\validation.py:2739: UserWarning: X does not have valid feature names, but SimpleImputer was fitted with feature names\n",
      "  warnings.warn(\n"
     ]
    },
    {
     "data": {
      "application/vnd.jupyter.widget-view+json": {
       "model_id": "61181246398641f490ef51899e2ccd46",
       "version_major": 2,
       "version_minor": 0
      },
      "text/plain": [
       "  0%|          | 0/1 [00:00<?, ?it/s]"
      ]
     },
     "metadata": {},
     "output_type": "display_data"
    },
    {
     "name": "stderr",
     "output_type": "stream",
     "text": [
      "Checking SHAP issues:   0%|▎                                                                     | 158/35346 [01:19<4:51:43,  2.01it/s]C:\\Users\\slowd\\OneDrive\\Desktop\\Projects\\MLProjects\\Diabeties\\diabeties\\Lib\\site-packages\\sklearn\\utils\\validation.py:2739: UserWarning: X does not have valid feature names, but SimpleImputer was fitted with feature names\n",
      "  warnings.warn(\n"
     ]
    },
    {
     "data": {
      "application/vnd.jupyter.widget-view+json": {
       "model_id": "fe27103aeda2423e925b05f7f80214b0",
       "version_major": 2,
       "version_minor": 0
      },
      "text/plain": [
       "  0%|          | 0/1 [00:00<?, ?it/s]"
      ]
     },
     "metadata": {},
     "output_type": "display_data"
    },
    {
     "name": "stderr",
     "output_type": "stream",
     "text": [
      "Checking SHAP issues:   0%|▎                                                                     | 159/35346 [01:20<4:50:05,  2.02it/s]C:\\Users\\slowd\\OneDrive\\Desktop\\Projects\\MLProjects\\Diabeties\\diabeties\\Lib\\site-packages\\sklearn\\utils\\validation.py:2739: UserWarning: X does not have valid feature names, but SimpleImputer was fitted with feature names\n",
      "  warnings.warn(\n"
     ]
    },
    {
     "data": {
      "application/vnd.jupyter.widget-view+json": {
       "model_id": "dd538e4ffbf940358da9127343428300",
       "version_major": 2,
       "version_minor": 0
      },
      "text/plain": [
       "  0%|          | 0/1 [00:00<?, ?it/s]"
      ]
     },
     "metadata": {},
     "output_type": "display_data"
    },
    {
     "name": "stderr",
     "output_type": "stream",
     "text": [
      "Checking SHAP issues:   0%|▎                                                                     | 160/35346 [01:20<4:48:24,  2.03it/s]C:\\Users\\slowd\\OneDrive\\Desktop\\Projects\\MLProjects\\Diabeties\\diabeties\\Lib\\site-packages\\sklearn\\utils\\validation.py:2739: UserWarning: X does not have valid feature names, but SimpleImputer was fitted with feature names\n",
      "  warnings.warn(\n"
     ]
    },
    {
     "data": {
      "application/vnd.jupyter.widget-view+json": {
       "model_id": "a22035a7860f490daf0cfa7e79edc19d",
       "version_major": 2,
       "version_minor": 0
      },
      "text/plain": [
       "  0%|          | 0/1 [00:00<?, ?it/s]"
      ]
     },
     "metadata": {},
     "output_type": "display_data"
    },
    {
     "name": "stderr",
     "output_type": "stream",
     "text": [
      "Checking SHAP issues:   0%|▎                                                                     | 161/35346 [01:21<4:48:47,  2.03it/s]C:\\Users\\slowd\\OneDrive\\Desktop\\Projects\\MLProjects\\Diabeties\\diabeties\\Lib\\site-packages\\sklearn\\utils\\validation.py:2739: UserWarning: X does not have valid feature names, but SimpleImputer was fitted with feature names\n",
      "  warnings.warn(\n"
     ]
    },
    {
     "data": {
      "application/vnd.jupyter.widget-view+json": {
       "model_id": "067f7a60b28e478fa48a3104794160c8",
       "version_major": 2,
       "version_minor": 0
      },
      "text/plain": [
       "  0%|          | 0/1 [00:00<?, ?it/s]"
      ]
     },
     "metadata": {},
     "output_type": "display_data"
    },
    {
     "name": "stderr",
     "output_type": "stream",
     "text": [
      "Checking SHAP issues:   0%|▎                                                                     | 162/35346 [01:21<4:49:48,  2.02it/s]C:\\Users\\slowd\\OneDrive\\Desktop\\Projects\\MLProjects\\Diabeties\\diabeties\\Lib\\site-packages\\sklearn\\utils\\validation.py:2739: UserWarning: X does not have valid feature names, but SimpleImputer was fitted with feature names\n",
      "  warnings.warn(\n"
     ]
    },
    {
     "data": {
      "application/vnd.jupyter.widget-view+json": {
       "model_id": "4cfeac11ecd1430ba794c46e5b00ad39",
       "version_major": 2,
       "version_minor": 0
      },
      "text/plain": [
       "  0%|          | 0/1 [00:00<?, ?it/s]"
      ]
     },
     "metadata": {},
     "output_type": "display_data"
    },
    {
     "name": "stderr",
     "output_type": "stream",
     "text": [
      "Checking SHAP issues:   0%|▎                                                                     | 163/35346 [01:22<4:49:27,  2.03it/s]C:\\Users\\slowd\\OneDrive\\Desktop\\Projects\\MLProjects\\Diabeties\\diabeties\\Lib\\site-packages\\sklearn\\utils\\validation.py:2739: UserWarning: X does not have valid feature names, but SimpleImputer was fitted with feature names\n",
      "  warnings.warn(\n"
     ]
    },
    {
     "data": {
      "application/vnd.jupyter.widget-view+json": {
       "model_id": "7db802be7847436fba33c0a52a710eff",
       "version_major": 2,
       "version_minor": 0
      },
      "text/plain": [
       "  0%|          | 0/1 [00:00<?, ?it/s]"
      ]
     },
     "metadata": {},
     "output_type": "display_data"
    },
    {
     "name": "stderr",
     "output_type": "stream",
     "text": [
      "Checking SHAP issues:   0%|▎                                                                     | 164/35346 [01:22<4:45:34,  2.05it/s]C:\\Users\\slowd\\OneDrive\\Desktop\\Projects\\MLProjects\\Diabeties\\diabeties\\Lib\\site-packages\\sklearn\\utils\\validation.py:2739: UserWarning: X does not have valid feature names, but SimpleImputer was fitted with feature names\n",
      "  warnings.warn(\n"
     ]
    },
    {
     "data": {
      "application/vnd.jupyter.widget-view+json": {
       "model_id": "d88fa62d5c4043afbdd11e56191fd976",
       "version_major": 2,
       "version_minor": 0
      },
      "text/plain": [
       "  0%|          | 0/1 [00:00<?, ?it/s]"
      ]
     },
     "metadata": {},
     "output_type": "display_data"
    },
    {
     "name": "stderr",
     "output_type": "stream",
     "text": [
      "Checking SHAP issues:   0%|▎                                                                     | 165/35346 [01:23<4:42:53,  2.07it/s]C:\\Users\\slowd\\OneDrive\\Desktop\\Projects\\MLProjects\\Diabeties\\diabeties\\Lib\\site-packages\\sklearn\\utils\\validation.py:2739: UserWarning: X does not have valid feature names, but SimpleImputer was fitted with feature names\n",
      "  warnings.warn(\n"
     ]
    },
    {
     "data": {
      "application/vnd.jupyter.widget-view+json": {
       "model_id": "5611811b57e347709936a537a9ffeeb1",
       "version_major": 2,
       "version_minor": 0
      },
      "text/plain": [
       "  0%|          | 0/1 [00:00<?, ?it/s]"
      ]
     },
     "metadata": {},
     "output_type": "display_data"
    },
    {
     "name": "stderr",
     "output_type": "stream",
     "text": [
      "Checking SHAP issues:   0%|▎                                                                     | 166/35346 [01:23<4:28:00,  2.19it/s]C:\\Users\\slowd\\OneDrive\\Desktop\\Projects\\MLProjects\\Diabeties\\diabeties\\Lib\\site-packages\\sklearn\\utils\\validation.py:2739: UserWarning: X does not have valid feature names, but SimpleImputer was fitted with feature names\n",
      "  warnings.warn(\n"
     ]
    },
    {
     "data": {
      "application/vnd.jupyter.widget-view+json": {
       "model_id": "2f23d0f41d394ed482d3a75a26a313b1",
       "version_major": 2,
       "version_minor": 0
      },
      "text/plain": [
       "  0%|          | 0/1 [00:00<?, ?it/s]"
      ]
     },
     "metadata": {},
     "output_type": "display_data"
    },
    {
     "name": "stderr",
     "output_type": "stream",
     "text": [
      "Checking SHAP issues:   0%|▎                                                                     | 167/35346 [01:23<4:27:24,  2.19it/s]C:\\Users\\slowd\\OneDrive\\Desktop\\Projects\\MLProjects\\Diabeties\\diabeties\\Lib\\site-packages\\sklearn\\utils\\validation.py:2739: UserWarning: X does not have valid feature names, but SimpleImputer was fitted with feature names\n",
      "  warnings.warn(\n"
     ]
    },
    {
     "data": {
      "application/vnd.jupyter.widget-view+json": {
       "model_id": "a76e3a2d84c64e148499196e19a36e10",
       "version_major": 2,
       "version_minor": 0
      },
      "text/plain": [
       "  0%|          | 0/1 [00:00<?, ?it/s]"
      ]
     },
     "metadata": {},
     "output_type": "display_data"
    },
    {
     "name": "stderr",
     "output_type": "stream",
     "text": [
      "Checking SHAP issues:   0%|▎                                                                     | 168/35346 [01:24<4:31:05,  2.16it/s]C:\\Users\\slowd\\OneDrive\\Desktop\\Projects\\MLProjects\\Diabeties\\diabeties\\Lib\\site-packages\\sklearn\\utils\\validation.py:2739: UserWarning: X does not have valid feature names, but SimpleImputer was fitted with feature names\n",
      "  warnings.warn(\n"
     ]
    },
    {
     "data": {
      "application/vnd.jupyter.widget-view+json": {
       "model_id": "5ba2039d139a478d981666081a2a0201",
       "version_major": 2,
       "version_minor": 0
      },
      "text/plain": [
       "  0%|          | 0/1 [00:00<?, ?it/s]"
      ]
     },
     "metadata": {},
     "output_type": "display_data"
    },
    {
     "name": "stderr",
     "output_type": "stream",
     "text": [
      "Checking SHAP issues:   0%|▎                                                                     | 169/35346 [01:24<4:37:25,  2.11it/s]C:\\Users\\slowd\\OneDrive\\Desktop\\Projects\\MLProjects\\Diabeties\\diabeties\\Lib\\site-packages\\sklearn\\utils\\validation.py:2739: UserWarning: X does not have valid feature names, but SimpleImputer was fitted with feature names\n",
      "  warnings.warn(\n"
     ]
    },
    {
     "data": {
      "application/vnd.jupyter.widget-view+json": {
       "model_id": "c212ec78c05a468b94f232d6f7f5e7ad",
       "version_major": 2,
       "version_minor": 0
      },
      "text/plain": [
       "  0%|          | 0/1 [00:00<?, ?it/s]"
      ]
     },
     "metadata": {},
     "output_type": "display_data"
    },
    {
     "name": "stderr",
     "output_type": "stream",
     "text": [
      "Checking SHAP issues:   0%|▎                                                                     | 170/35346 [01:25<4:38:00,  2.11it/s]C:\\Users\\slowd\\OneDrive\\Desktop\\Projects\\MLProjects\\Diabeties\\diabeties\\Lib\\site-packages\\sklearn\\utils\\validation.py:2739: UserWarning: X does not have valid feature names, but SimpleImputer was fitted with feature names\n",
      "  warnings.warn(\n"
     ]
    },
    {
     "data": {
      "application/vnd.jupyter.widget-view+json": {
       "model_id": "7296b896c40a405aa6b97003837d3d41",
       "version_major": 2,
       "version_minor": 0
      },
      "text/plain": [
       "  0%|          | 0/1 [00:00<?, ?it/s]"
      ]
     },
     "metadata": {},
     "output_type": "display_data"
    },
    {
     "name": "stderr",
     "output_type": "stream",
     "text": [
      "Checking SHAP issues:   0%|▎                                                                     | 171/35346 [01:25<4:36:36,  2.12it/s]C:\\Users\\slowd\\OneDrive\\Desktop\\Projects\\MLProjects\\Diabeties\\diabeties\\Lib\\site-packages\\sklearn\\utils\\validation.py:2739: UserWarning: X does not have valid feature names, but SimpleImputer was fitted with feature names\n",
      "  warnings.warn(\n"
     ]
    },
    {
     "data": {
      "application/vnd.jupyter.widget-view+json": {
       "model_id": "dd095af8011546728a33866900ecb7c4",
       "version_major": 2,
       "version_minor": 0
      },
      "text/plain": [
       "  0%|          | 0/1 [00:00<?, ?it/s]"
      ]
     },
     "metadata": {},
     "output_type": "display_data"
    },
    {
     "name": "stderr",
     "output_type": "stream",
     "text": [
      "Checking SHAP issues:   0%|▎                                                                     | 172/35346 [01:26<4:42:02,  2.08it/s]C:\\Users\\slowd\\OneDrive\\Desktop\\Projects\\MLProjects\\Diabeties\\diabeties\\Lib\\site-packages\\sklearn\\utils\\validation.py:2739: UserWarning: X does not have valid feature names, but SimpleImputer was fitted with feature names\n",
      "  warnings.warn(\n"
     ]
    },
    {
     "data": {
      "application/vnd.jupyter.widget-view+json": {
       "model_id": "2ee73fbd397944749c68373ba4ea5efc",
       "version_major": 2,
       "version_minor": 0
      },
      "text/plain": [
       "  0%|          | 0/1 [00:00<?, ?it/s]"
      ]
     },
     "metadata": {},
     "output_type": "display_data"
    },
    {
     "name": "stderr",
     "output_type": "stream",
     "text": [
      "Checking SHAP issues:   0%|▎                                                                     | 173/35346 [01:26<4:43:35,  2.07it/s]C:\\Users\\slowd\\OneDrive\\Desktop\\Projects\\MLProjects\\Diabeties\\diabeties\\Lib\\site-packages\\sklearn\\utils\\validation.py:2739: UserWarning: X does not have valid feature names, but SimpleImputer was fitted with feature names\n",
      "  warnings.warn(\n"
     ]
    },
    {
     "data": {
      "application/vnd.jupyter.widget-view+json": {
       "model_id": "f6d233a6a5184287bbe959b664ebbe7d",
       "version_major": 2,
       "version_minor": 0
      },
      "text/plain": [
       "  0%|          | 0/1 [00:00<?, ?it/s]"
      ]
     },
     "metadata": {},
     "output_type": "display_data"
    },
    {
     "name": "stderr",
     "output_type": "stream",
     "text": [
      "Checking SHAP issues:   0%|▎                                                                     | 174/35346 [01:27<4:50:14,  2.02it/s]C:\\Users\\slowd\\OneDrive\\Desktop\\Projects\\MLProjects\\Diabeties\\diabeties\\Lib\\site-packages\\sklearn\\utils\\validation.py:2739: UserWarning: X does not have valid feature names, but SimpleImputer was fitted with feature names\n",
      "  warnings.warn(\n"
     ]
    },
    {
     "data": {
      "application/vnd.jupyter.widget-view+json": {
       "model_id": "886d9b58a006495fb6b96f06d822a6a9",
       "version_major": 2,
       "version_minor": 0
      },
      "text/plain": [
       "  0%|          | 0/1 [00:00<?, ?it/s]"
      ]
     },
     "metadata": {},
     "output_type": "display_data"
    },
    {
     "name": "stderr",
     "output_type": "stream",
     "text": [
      "Checking SHAP issues:   0%|▎                                                                     | 175/35346 [01:27<4:50:10,  2.02it/s]C:\\Users\\slowd\\OneDrive\\Desktop\\Projects\\MLProjects\\Diabeties\\diabeties\\Lib\\site-packages\\sklearn\\utils\\validation.py:2739: UserWarning: X does not have valid feature names, but SimpleImputer was fitted with feature names\n",
      "  warnings.warn(\n"
     ]
    },
    {
     "data": {
      "application/vnd.jupyter.widget-view+json": {
       "model_id": "97882c2caba6406894b91aedb24a73f4",
       "version_major": 2,
       "version_minor": 0
      },
      "text/plain": [
       "  0%|          | 0/1 [00:00<?, ?it/s]"
      ]
     },
     "metadata": {},
     "output_type": "display_data"
    },
    {
     "name": "stderr",
     "output_type": "stream",
     "text": [
      "Checking SHAP issues:   0%|▎                                                                     | 176/35346 [01:28<4:50:28,  2.02it/s]C:\\Users\\slowd\\OneDrive\\Desktop\\Projects\\MLProjects\\Diabeties\\diabeties\\Lib\\site-packages\\sklearn\\utils\\validation.py:2739: UserWarning: X does not have valid feature names, but SimpleImputer was fitted with feature names\n",
      "  warnings.warn(\n"
     ]
    },
    {
     "data": {
      "application/vnd.jupyter.widget-view+json": {
       "model_id": "4a6da24df4234fd989b47323b8355785",
       "version_major": 2,
       "version_minor": 0
      },
      "text/plain": [
       "  0%|          | 0/1 [00:00<?, ?it/s]"
      ]
     },
     "metadata": {},
     "output_type": "display_data"
    },
    {
     "name": "stderr",
     "output_type": "stream",
     "text": [
      "Checking SHAP issues:   1%|▎                                                                     | 177/35346 [01:28<4:51:05,  2.01it/s]C:\\Users\\slowd\\OneDrive\\Desktop\\Projects\\MLProjects\\Diabeties\\diabeties\\Lib\\site-packages\\sklearn\\utils\\validation.py:2739: UserWarning: X does not have valid feature names, but SimpleImputer was fitted with feature names\n",
      "  warnings.warn(\n"
     ]
    },
    {
     "data": {
      "application/vnd.jupyter.widget-view+json": {
       "model_id": "103400cd369a4f95a7183aa8be11c8c3",
       "version_major": 2,
       "version_minor": 0
      },
      "text/plain": [
       "  0%|          | 0/1 [00:00<?, ?it/s]"
      ]
     },
     "metadata": {},
     "output_type": "display_data"
    },
    {
     "name": "stderr",
     "output_type": "stream",
     "text": [
      "Checking SHAP issues:   1%|▎                                                                     | 178/35346 [01:29<4:52:14,  2.01it/s]C:\\Users\\slowd\\OneDrive\\Desktop\\Projects\\MLProjects\\Diabeties\\diabeties\\Lib\\site-packages\\sklearn\\utils\\validation.py:2739: UserWarning: X does not have valid feature names, but SimpleImputer was fitted with feature names\n",
      "  warnings.warn(\n"
     ]
    },
    {
     "data": {
      "application/vnd.jupyter.widget-view+json": {
       "model_id": "94be3306cd4b407db9b89adaa9c769b6",
       "version_major": 2,
       "version_minor": 0
      },
      "text/plain": [
       "  0%|          | 0/1 [00:00<?, ?it/s]"
      ]
     },
     "metadata": {},
     "output_type": "display_data"
    },
    {
     "name": "stderr",
     "output_type": "stream",
     "text": [
      "Checking SHAP issues:   1%|▎                                                                     | 179/35346 [01:29<4:49:51,  2.02it/s]C:\\Users\\slowd\\OneDrive\\Desktop\\Projects\\MLProjects\\Diabeties\\diabeties\\Lib\\site-packages\\sklearn\\utils\\validation.py:2739: UserWarning: X does not have valid feature names, but SimpleImputer was fitted with feature names\n",
      "  warnings.warn(\n"
     ]
    },
    {
     "data": {
      "application/vnd.jupyter.widget-view+json": {
       "model_id": "9934e3b7288043cd9a8acd0dbdcd97b4",
       "version_major": 2,
       "version_minor": 0
      },
      "text/plain": [
       "  0%|          | 0/1 [00:00<?, ?it/s]"
      ]
     },
     "metadata": {},
     "output_type": "display_data"
    },
    {
     "name": "stderr",
     "output_type": "stream",
     "text": [
      "Checking SHAP issues:   1%|▎                                                                     | 180/35346 [01:30<4:46:14,  2.05it/s]C:\\Users\\slowd\\OneDrive\\Desktop\\Projects\\MLProjects\\Diabeties\\diabeties\\Lib\\site-packages\\sklearn\\utils\\validation.py:2739: UserWarning: X does not have valid feature names, but SimpleImputer was fitted with feature names\n",
      "  warnings.warn(\n"
     ]
    },
    {
     "data": {
      "application/vnd.jupyter.widget-view+json": {
       "model_id": "de02a9637ac645228f352de4efe757c4",
       "version_major": 2,
       "version_minor": 0
      },
      "text/plain": [
       "  0%|          | 0/1 [00:00<?, ?it/s]"
      ]
     },
     "metadata": {},
     "output_type": "display_data"
    },
    {
     "name": "stderr",
     "output_type": "stream",
     "text": [
      "Checking SHAP issues:   1%|▎                                                                     | 181/35346 [01:30<4:46:48,  2.04it/s]C:\\Users\\slowd\\OneDrive\\Desktop\\Projects\\MLProjects\\Diabeties\\diabeties\\Lib\\site-packages\\sklearn\\utils\\validation.py:2739: UserWarning: X does not have valid feature names, but SimpleImputer was fitted with feature names\n",
      "  warnings.warn(\n"
     ]
    },
    {
     "data": {
      "application/vnd.jupyter.widget-view+json": {
       "model_id": "24e7458370ba4f09b63548fdd6ce837d",
       "version_major": 2,
       "version_minor": 0
      },
      "text/plain": [
       "  0%|          | 0/1 [00:00<?, ?it/s]"
      ]
     },
     "metadata": {},
     "output_type": "display_data"
    },
    {
     "name": "stderr",
     "output_type": "stream",
     "text": [
      "Checking SHAP issues:   1%|▎                                                                     | 182/35346 [01:31<4:47:05,  2.04it/s]C:\\Users\\slowd\\OneDrive\\Desktop\\Projects\\MLProjects\\Diabeties\\diabeties\\Lib\\site-packages\\sklearn\\utils\\validation.py:2739: UserWarning: X does not have valid feature names, but SimpleImputer was fitted with feature names\n",
      "  warnings.warn(\n"
     ]
    },
    {
     "data": {
      "application/vnd.jupyter.widget-view+json": {
       "model_id": "3f204bea07804d22a86279fe5e7c30cb",
       "version_major": 2,
       "version_minor": 0
      },
      "text/plain": [
       "  0%|          | 0/1 [00:00<?, ?it/s]"
      ]
     },
     "metadata": {},
     "output_type": "display_data"
    },
    {
     "name": "stderr",
     "output_type": "stream",
     "text": [
      "Checking SHAP issues:   1%|▎                                                                     | 183/35346 [01:31<4:57:27,  1.97it/s]C:\\Users\\slowd\\OneDrive\\Desktop\\Projects\\MLProjects\\Diabeties\\diabeties\\Lib\\site-packages\\sklearn\\utils\\validation.py:2739: UserWarning: X does not have valid feature names, but SimpleImputer was fitted with feature names\n",
      "  warnings.warn(\n"
     ]
    },
    {
     "data": {
      "application/vnd.jupyter.widget-view+json": {
       "model_id": "7be454b169c7441e9a721beb35408538",
       "version_major": 2,
       "version_minor": 0
      },
      "text/plain": [
       "  0%|          | 0/1 [00:00<?, ?it/s]"
      ]
     },
     "metadata": {},
     "output_type": "display_data"
    },
    {
     "name": "stderr",
     "output_type": "stream",
     "text": [
      "Checking SHAP issues:   1%|▎                                                                     | 184/35346 [01:32<4:52:10,  2.01it/s]C:\\Users\\slowd\\OneDrive\\Desktop\\Projects\\MLProjects\\Diabeties\\diabeties\\Lib\\site-packages\\sklearn\\utils\\validation.py:2739: UserWarning: X does not have valid feature names, but SimpleImputer was fitted with feature names\n",
      "  warnings.warn(\n"
     ]
    },
    {
     "data": {
      "application/vnd.jupyter.widget-view+json": {
       "model_id": "fb653220546d4e0f8aed35088aed2cda",
       "version_major": 2,
       "version_minor": 0
      },
      "text/plain": [
       "  0%|          | 0/1 [00:00<?, ?it/s]"
      ]
     },
     "metadata": {},
     "output_type": "display_data"
    },
    {
     "name": "stderr",
     "output_type": "stream",
     "text": [
      "Checking SHAP issues:   1%|▎                                                                     | 185/35346 [01:32<4:52:05,  2.01it/s]C:\\Users\\slowd\\OneDrive\\Desktop\\Projects\\MLProjects\\Diabeties\\diabeties\\Lib\\site-packages\\sklearn\\utils\\validation.py:2739: UserWarning: X does not have valid feature names, but SimpleImputer was fitted with feature names\n",
      "  warnings.warn(\n"
     ]
    },
    {
     "data": {
      "application/vnd.jupyter.widget-view+json": {
       "model_id": "44e837b996e94280965d65756051668f",
       "version_major": 2,
       "version_minor": 0
      },
      "text/plain": [
       "  0%|          | 0/1 [00:00<?, ?it/s]"
      ]
     },
     "metadata": {},
     "output_type": "display_data"
    },
    {
     "name": "stderr",
     "output_type": "stream",
     "text": [
      "Checking SHAP issues:   1%|▎                                                                     | 186/35346 [01:33<4:45:37,  2.05it/s]C:\\Users\\slowd\\OneDrive\\Desktop\\Projects\\MLProjects\\Diabeties\\diabeties\\Lib\\site-packages\\sklearn\\utils\\validation.py:2739: UserWarning: X does not have valid feature names, but SimpleImputer was fitted with feature names\n",
      "  warnings.warn(\n"
     ]
    },
    {
     "data": {
      "application/vnd.jupyter.widget-view+json": {
       "model_id": "1de6cd431fb9456da777e337a16409fb",
       "version_major": 2,
       "version_minor": 0
      },
      "text/plain": [
       "  0%|          | 0/1 [00:00<?, ?it/s]"
      ]
     },
     "metadata": {},
     "output_type": "display_data"
    },
    {
     "name": "stderr",
     "output_type": "stream",
     "text": [
      "Checking SHAP issues:   1%|▎                                                                     | 187/35346 [01:33<4:41:54,  2.08it/s]C:\\Users\\slowd\\OneDrive\\Desktop\\Projects\\MLProjects\\Diabeties\\diabeties\\Lib\\site-packages\\sklearn\\utils\\validation.py:2739: UserWarning: X does not have valid feature names, but SimpleImputer was fitted with feature names\n",
      "  warnings.warn(\n"
     ]
    },
    {
     "data": {
      "application/vnd.jupyter.widget-view+json": {
       "model_id": "a405e7b543194fe3ab36ac74e7bdb3b8",
       "version_major": 2,
       "version_minor": 0
      },
      "text/plain": [
       "  0%|          | 0/1 [00:00<?, ?it/s]"
      ]
     },
     "metadata": {},
     "output_type": "display_data"
    },
    {
     "name": "stderr",
     "output_type": "stream",
     "text": [
      "Checking SHAP issues:   1%|▎                                                                     | 188/35346 [01:34<4:46:36,  2.04it/s]C:\\Users\\slowd\\OneDrive\\Desktop\\Projects\\MLProjects\\Diabeties\\diabeties\\Lib\\site-packages\\sklearn\\utils\\validation.py:2739: UserWarning: X does not have valid feature names, but SimpleImputer was fitted with feature names\n",
      "  warnings.warn(\n"
     ]
    },
    {
     "data": {
      "application/vnd.jupyter.widget-view+json": {
       "model_id": "b7ccfa7b17be4592835f5a8a6c934bf9",
       "version_major": 2,
       "version_minor": 0
      },
      "text/plain": [
       "  0%|          | 0/1 [00:00<?, ?it/s]"
      ]
     },
     "metadata": {},
     "output_type": "display_data"
    },
    {
     "name": "stderr",
     "output_type": "stream",
     "text": [
      "Checking SHAP issues:   1%|▎                                                                     | 189/35346 [01:34<4:44:42,  2.06it/s]C:\\Users\\slowd\\OneDrive\\Desktop\\Projects\\MLProjects\\Diabeties\\diabeties\\Lib\\site-packages\\sklearn\\utils\\validation.py:2739: UserWarning: X does not have valid feature names, but SimpleImputer was fitted with feature names\n",
      "  warnings.warn(\n"
     ]
    },
    {
     "data": {
      "application/vnd.jupyter.widget-view+json": {
       "model_id": "5eff54bb12a7439c826347b6b8fb51f1",
       "version_major": 2,
       "version_minor": 0
      },
      "text/plain": [
       "  0%|          | 0/1 [00:00<?, ?it/s]"
      ]
     },
     "metadata": {},
     "output_type": "display_data"
    },
    {
     "name": "stderr",
     "output_type": "stream",
     "text": [
      "Checking SHAP issues:   1%|▍                                                                     | 190/35346 [01:35<4:46:23,  2.05it/s]C:\\Users\\slowd\\OneDrive\\Desktop\\Projects\\MLProjects\\Diabeties\\diabeties\\Lib\\site-packages\\sklearn\\utils\\validation.py:2739: UserWarning: X does not have valid feature names, but SimpleImputer was fitted with feature names\n",
      "  warnings.warn(\n"
     ]
    },
    {
     "data": {
      "application/vnd.jupyter.widget-view+json": {
       "model_id": "38ec0f191aa84dd3a2268135fe1b442c",
       "version_major": 2,
       "version_minor": 0
      },
      "text/plain": [
       "  0%|          | 0/1 [00:00<?, ?it/s]"
      ]
     },
     "metadata": {},
     "output_type": "display_data"
    },
    {
     "name": "stderr",
     "output_type": "stream",
     "text": [
      "Checking SHAP issues:   1%|▍                                                                     | 191/35346 [01:35<4:44:54,  2.06it/s]C:\\Users\\slowd\\OneDrive\\Desktop\\Projects\\MLProjects\\Diabeties\\diabeties\\Lib\\site-packages\\sklearn\\utils\\validation.py:2739: UserWarning: X does not have valid feature names, but SimpleImputer was fitted with feature names\n",
      "  warnings.warn(\n"
     ]
    },
    {
     "data": {
      "application/vnd.jupyter.widget-view+json": {
       "model_id": "4a5705b890c14d01a78aaaa285529f08",
       "version_major": 2,
       "version_minor": 0
      },
      "text/plain": [
       "  0%|          | 0/1 [00:00<?, ?it/s]"
      ]
     },
     "metadata": {},
     "output_type": "display_data"
    },
    {
     "name": "stderr",
     "output_type": "stream",
     "text": [
      "Checking SHAP issues:   1%|▍                                                                     | 192/35346 [01:36<4:45:24,  2.05it/s]C:\\Users\\slowd\\OneDrive\\Desktop\\Projects\\MLProjects\\Diabeties\\diabeties\\Lib\\site-packages\\sklearn\\utils\\validation.py:2739: UserWarning: X does not have valid feature names, but SimpleImputer was fitted with feature names\n",
      "  warnings.warn(\n"
     ]
    },
    {
     "data": {
      "application/vnd.jupyter.widget-view+json": {
       "model_id": "64d13b8d68f84aa89bb59451798a0ebb",
       "version_major": 2,
       "version_minor": 0
      },
      "text/plain": [
       "  0%|          | 0/1 [00:00<?, ?it/s]"
      ]
     },
     "metadata": {},
     "output_type": "display_data"
    },
    {
     "name": "stderr",
     "output_type": "stream",
     "text": [
      "Checking SHAP issues:   1%|▍                                                                     | 193/35346 [01:36<4:46:32,  2.04it/s]C:\\Users\\slowd\\OneDrive\\Desktop\\Projects\\MLProjects\\Diabeties\\diabeties\\Lib\\site-packages\\sklearn\\utils\\validation.py:2739: UserWarning: X does not have valid feature names, but SimpleImputer was fitted with feature names\n",
      "  warnings.warn(\n"
     ]
    },
    {
     "data": {
      "application/vnd.jupyter.widget-view+json": {
       "model_id": "8d2a2597e12d43ec9b9f5eba18126c08",
       "version_major": 2,
       "version_minor": 0
      },
      "text/plain": [
       "  0%|          | 0/1 [00:00<?, ?it/s]"
      ]
     },
     "metadata": {},
     "output_type": "display_data"
    },
    {
     "name": "stderr",
     "output_type": "stream",
     "text": [
      "Checking SHAP issues:   1%|▍                                                                     | 194/35346 [01:37<4:43:34,  2.07it/s]C:\\Users\\slowd\\OneDrive\\Desktop\\Projects\\MLProjects\\Diabeties\\diabeties\\Lib\\site-packages\\sklearn\\utils\\validation.py:2739: UserWarning: X does not have valid feature names, but SimpleImputer was fitted with feature names\n",
      "  warnings.warn(\n"
     ]
    },
    {
     "data": {
      "application/vnd.jupyter.widget-view+json": {
       "model_id": "f1dec8455b534b1e883c8113c352d1d6",
       "version_major": 2,
       "version_minor": 0
      },
      "text/plain": [
       "  0%|          | 0/1 [00:00<?, ?it/s]"
      ]
     },
     "metadata": {},
     "output_type": "display_data"
    },
    {
     "name": "stderr",
     "output_type": "stream",
     "text": [
      "Checking SHAP issues:   1%|▍                                                                     | 195/35346 [01:37<4:44:56,  2.06it/s]C:\\Users\\slowd\\OneDrive\\Desktop\\Projects\\MLProjects\\Diabeties\\diabeties\\Lib\\site-packages\\sklearn\\utils\\validation.py:2739: UserWarning: X does not have valid feature names, but SimpleImputer was fitted with feature names\n",
      "  warnings.warn(\n"
     ]
    },
    {
     "data": {
      "application/vnd.jupyter.widget-view+json": {
       "model_id": "7ee182e67f5a44c98eacb11ed8a9ddbf",
       "version_major": 2,
       "version_minor": 0
      },
      "text/plain": [
       "  0%|          | 0/1 [00:00<?, ?it/s]"
      ]
     },
     "metadata": {},
     "output_type": "display_data"
    },
    {
     "name": "stderr",
     "output_type": "stream",
     "text": [
      "Checking SHAP issues:   1%|▍                                                                     | 196/35346 [01:38<4:47:18,  2.04it/s]C:\\Users\\slowd\\OneDrive\\Desktop\\Projects\\MLProjects\\Diabeties\\diabeties\\Lib\\site-packages\\sklearn\\utils\\validation.py:2739: UserWarning: X does not have valid feature names, but SimpleImputer was fitted with feature names\n",
      "  warnings.warn(\n"
     ]
    },
    {
     "data": {
      "application/vnd.jupyter.widget-view+json": {
       "model_id": "04ec7d6ae156494fb119b6b03ed5fc26",
       "version_major": 2,
       "version_minor": 0
      },
      "text/plain": [
       "  0%|          | 0/1 [00:00<?, ?it/s]"
      ]
     },
     "metadata": {},
     "output_type": "display_data"
    },
    {
     "name": "stderr",
     "output_type": "stream",
     "text": [
      "Checking SHAP issues:   1%|▍                                                                     | 197/35346 [01:38<4:46:50,  2.04it/s]C:\\Users\\slowd\\OneDrive\\Desktop\\Projects\\MLProjects\\Diabeties\\diabeties\\Lib\\site-packages\\sklearn\\utils\\validation.py:2739: UserWarning: X does not have valid feature names, but SimpleImputer was fitted with feature names\n",
      "  warnings.warn(\n"
     ]
    },
    {
     "data": {
      "application/vnd.jupyter.widget-view+json": {
       "model_id": "e0ebd97c4e7d4431af838bdfa9e9444c",
       "version_major": 2,
       "version_minor": 0
      },
      "text/plain": [
       "  0%|          | 0/1 [00:00<?, ?it/s]"
      ]
     },
     "metadata": {},
     "output_type": "display_data"
    },
    {
     "name": "stderr",
     "output_type": "stream",
     "text": [
      "Checking SHAP issues:   1%|▍                                                                     | 198/35346 [01:39<4:48:12,  2.03it/s]C:\\Users\\slowd\\OneDrive\\Desktop\\Projects\\MLProjects\\Diabeties\\diabeties\\Lib\\site-packages\\sklearn\\utils\\validation.py:2739: UserWarning: X does not have valid feature names, but SimpleImputer was fitted with feature names\n",
      "  warnings.warn(\n"
     ]
    },
    {
     "data": {
      "application/vnd.jupyter.widget-view+json": {
       "model_id": "e1fde40a68874c8f97c61bed28749f58",
       "version_major": 2,
       "version_minor": 0
      },
      "text/plain": [
       "  0%|          | 0/1 [00:00<?, ?it/s]"
      ]
     },
     "metadata": {},
     "output_type": "display_data"
    },
    {
     "name": "stderr",
     "output_type": "stream",
     "text": [
      "Checking SHAP issues:   1%|▍                                                                     | 199/35346 [01:39<4:51:27,  2.01it/s]C:\\Users\\slowd\\OneDrive\\Desktop\\Projects\\MLProjects\\Diabeties\\diabeties\\Lib\\site-packages\\sklearn\\utils\\validation.py:2739: UserWarning: X does not have valid feature names, but SimpleImputer was fitted with feature names\n",
      "  warnings.warn(\n"
     ]
    },
    {
     "data": {
      "application/vnd.jupyter.widget-view+json": {
       "model_id": "7cdb79066e344eb6aecd585a48851baf",
       "version_major": 2,
       "version_minor": 0
      },
      "text/plain": [
       "  0%|          | 0/1 [00:00<?, ?it/s]"
      ]
     },
     "metadata": {},
     "output_type": "display_data"
    },
    {
     "name": "stderr",
     "output_type": "stream",
     "text": [
      "Checking SHAP issues:   1%|▍                                                                     | 200/35346 [01:40<4:53:44,  1.99it/s]C:\\Users\\slowd\\OneDrive\\Desktop\\Projects\\MLProjects\\Diabeties\\diabeties\\Lib\\site-packages\\sklearn\\utils\\validation.py:2739: UserWarning: X does not have valid feature names, but SimpleImputer was fitted with feature names\n",
      "  warnings.warn(\n"
     ]
    },
    {
     "data": {
      "application/vnd.jupyter.widget-view+json": {
       "model_id": "22d99007efec4095811f1ff6dba8aee7",
       "version_major": 2,
       "version_minor": 0
      },
      "text/plain": [
       "  0%|          | 0/1 [00:00<?, ?it/s]"
      ]
     },
     "metadata": {},
     "output_type": "display_data"
    },
    {
     "name": "stderr",
     "output_type": "stream",
     "text": [
      "Checking SHAP issues:   1%|▍                                                                     | 201/35346 [01:40<4:57:38,  1.97it/s]C:\\Users\\slowd\\OneDrive\\Desktop\\Projects\\MLProjects\\Diabeties\\diabeties\\Lib\\site-packages\\sklearn\\utils\\validation.py:2739: UserWarning: X does not have valid feature names, but SimpleImputer was fitted with feature names\n",
      "  warnings.warn(\n"
     ]
    },
    {
     "data": {
      "application/vnd.jupyter.widget-view+json": {
       "model_id": "b7a00efc2c544bd5ba0ccf74202aea9d",
       "version_major": 2,
       "version_minor": 0
      },
      "text/plain": [
       "  0%|          | 0/1 [00:00<?, ?it/s]"
      ]
     },
     "metadata": {},
     "output_type": "display_data"
    },
    {
     "name": "stderr",
     "output_type": "stream",
     "text": [
      "Checking SHAP issues:   1%|▍                                                                     | 202/35346 [01:41<5:00:04,  1.95it/s]C:\\Users\\slowd\\OneDrive\\Desktop\\Projects\\MLProjects\\Diabeties\\diabeties\\Lib\\site-packages\\sklearn\\utils\\validation.py:2739: UserWarning: X does not have valid feature names, but SimpleImputer was fitted with feature names\n",
      "  warnings.warn(\n"
     ]
    },
    {
     "data": {
      "application/vnd.jupyter.widget-view+json": {
       "model_id": "67df7f84deb64d25ba4d7126c3a46308",
       "version_major": 2,
       "version_minor": 0
      },
      "text/plain": [
       "  0%|          | 0/1 [00:00<?, ?it/s]"
      ]
     },
     "metadata": {},
     "output_type": "display_data"
    },
    {
     "name": "stderr",
     "output_type": "stream",
     "text": [
      "Checking SHAP issues:   1%|▍                                                                     | 203/35346 [01:41<5:01:07,  1.95it/s]C:\\Users\\slowd\\OneDrive\\Desktop\\Projects\\MLProjects\\Diabeties\\diabeties\\Lib\\site-packages\\sklearn\\utils\\validation.py:2739: UserWarning: X does not have valid feature names, but SimpleImputer was fitted with feature names\n",
      "  warnings.warn(\n"
     ]
    },
    {
     "data": {
      "application/vnd.jupyter.widget-view+json": {
       "model_id": "20be369c561346ac8e3c6f36136fb83f",
       "version_major": 2,
       "version_minor": 0
      },
      "text/plain": [
       "  0%|          | 0/1 [00:00<?, ?it/s]"
      ]
     },
     "metadata": {},
     "output_type": "display_data"
    },
    {
     "name": "stderr",
     "output_type": "stream",
     "text": [
      "Checking SHAP issues:   1%|▍                                                                     | 204/35346 [01:42<4:56:43,  1.97it/s]C:\\Users\\slowd\\OneDrive\\Desktop\\Projects\\MLProjects\\Diabeties\\diabeties\\Lib\\site-packages\\sklearn\\utils\\validation.py:2739: UserWarning: X does not have valid feature names, but SimpleImputer was fitted with feature names\n",
      "  warnings.warn(\n"
     ]
    },
    {
     "data": {
      "application/vnd.jupyter.widget-view+json": {
       "model_id": "a77952eb63f7417f89abf071054a83e1",
       "version_major": 2,
       "version_minor": 0
      },
      "text/plain": [
       "  0%|          | 0/1 [00:00<?, ?it/s]"
      ]
     },
     "metadata": {},
     "output_type": "display_data"
    },
    {
     "name": "stderr",
     "output_type": "stream",
     "text": [
      "Checking SHAP issues:   1%|▍                                                                     | 205/35346 [01:42<4:56:12,  1.98it/s]C:\\Users\\slowd\\OneDrive\\Desktop\\Projects\\MLProjects\\Diabeties\\diabeties\\Lib\\site-packages\\sklearn\\utils\\validation.py:2739: UserWarning: X does not have valid feature names, but SimpleImputer was fitted with feature names\n",
      "  warnings.warn(\n"
     ]
    },
    {
     "data": {
      "application/vnd.jupyter.widget-view+json": {
       "model_id": "04710f6e253b45088f90f46b29597f71",
       "version_major": 2,
       "version_minor": 0
      },
      "text/plain": [
       "  0%|          | 0/1 [00:00<?, ?it/s]"
      ]
     },
     "metadata": {},
     "output_type": "display_data"
    },
    {
     "name": "stderr",
     "output_type": "stream",
     "text": [
      "Checking SHAP issues:   1%|▍                                                                     | 206/35346 [01:43<4:58:48,  1.96it/s]C:\\Users\\slowd\\OneDrive\\Desktop\\Projects\\MLProjects\\Diabeties\\diabeties\\Lib\\site-packages\\sklearn\\utils\\validation.py:2739: UserWarning: X does not have valid feature names, but SimpleImputer was fitted with feature names\n",
      "  warnings.warn(\n"
     ]
    },
    {
     "data": {
      "application/vnd.jupyter.widget-view+json": {
       "model_id": "8be27dd7fbcf4943ae4b8c2803077549",
       "version_major": 2,
       "version_minor": 0
      },
      "text/plain": [
       "  0%|          | 0/1 [00:00<?, ?it/s]"
      ]
     },
     "metadata": {},
     "output_type": "display_data"
    },
    {
     "name": "stderr",
     "output_type": "stream",
     "text": [
      "Checking SHAP issues:   1%|▍                                                                     | 207/35346 [01:43<4:59:56,  1.95it/s]C:\\Users\\slowd\\OneDrive\\Desktop\\Projects\\MLProjects\\Diabeties\\diabeties\\Lib\\site-packages\\sklearn\\utils\\validation.py:2739: UserWarning: X does not have valid feature names, but SimpleImputer was fitted with feature names\n",
      "  warnings.warn(\n"
     ]
    },
    {
     "data": {
      "application/vnd.jupyter.widget-view+json": {
       "model_id": "e700579481904c2a8349363976876758",
       "version_major": 2,
       "version_minor": 0
      },
      "text/plain": [
       "  0%|          | 0/1 [00:00<?, ?it/s]"
      ]
     },
     "metadata": {},
     "output_type": "display_data"
    },
    {
     "name": "stderr",
     "output_type": "stream",
     "text": [
      "Checking SHAP issues:   1%|▍                                                                     | 208/35346 [01:44<4:57:01,  1.97it/s]C:\\Users\\slowd\\OneDrive\\Desktop\\Projects\\MLProjects\\Diabeties\\diabeties\\Lib\\site-packages\\sklearn\\utils\\validation.py:2739: UserWarning: X does not have valid feature names, but SimpleImputer was fitted with feature names\n",
      "  warnings.warn(\n"
     ]
    },
    {
     "data": {
      "application/vnd.jupyter.widget-view+json": {
       "model_id": "fd6c996e5d154d10bc6c9d9e9257947d",
       "version_major": 2,
       "version_minor": 0
      },
      "text/plain": [
       "  0%|          | 0/1 [00:00<?, ?it/s]"
      ]
     },
     "metadata": {},
     "output_type": "display_data"
    },
    {
     "name": "stderr",
     "output_type": "stream",
     "text": [
      "Checking SHAP issues:   1%|▍                                                                     | 209/35346 [01:44<5:00:39,  1.95it/s]C:\\Users\\slowd\\OneDrive\\Desktop\\Projects\\MLProjects\\Diabeties\\diabeties\\Lib\\site-packages\\sklearn\\utils\\validation.py:2739: UserWarning: X does not have valid feature names, but SimpleImputer was fitted with feature names\n",
      "  warnings.warn(\n"
     ]
    },
    {
     "data": {
      "application/vnd.jupyter.widget-view+json": {
       "model_id": "67bda81ac5d9476c9c97728b8dbec2d8",
       "version_major": 2,
       "version_minor": 0
      },
      "text/plain": [
       "  0%|          | 0/1 [00:00<?, ?it/s]"
      ]
     },
     "metadata": {},
     "output_type": "display_data"
    },
    {
     "name": "stderr",
     "output_type": "stream",
     "text": [
      "Checking SHAP issues:   1%|▍                                                                     | 210/35346 [01:45<5:02:25,  1.94it/s]C:\\Users\\slowd\\OneDrive\\Desktop\\Projects\\MLProjects\\Diabeties\\diabeties\\Lib\\site-packages\\sklearn\\utils\\validation.py:2739: UserWarning: X does not have valid feature names, but SimpleImputer was fitted with feature names\n",
      "  warnings.warn(\n"
     ]
    },
    {
     "data": {
      "application/vnd.jupyter.widget-view+json": {
       "model_id": "4865c44739fa45afb59fd7b90091bf67",
       "version_major": 2,
       "version_minor": 0
      },
      "text/plain": [
       "  0%|          | 0/1 [00:00<?, ?it/s]"
      ]
     },
     "metadata": {},
     "output_type": "display_data"
    },
    {
     "name": "stderr",
     "output_type": "stream",
     "text": [
      "Checking SHAP issues:   1%|▍                                                                     | 211/35346 [01:45<4:57:54,  1.97it/s]C:\\Users\\slowd\\OneDrive\\Desktop\\Projects\\MLProjects\\Diabeties\\diabeties\\Lib\\site-packages\\sklearn\\utils\\validation.py:2739: UserWarning: X does not have valid feature names, but SimpleImputer was fitted with feature names\n",
      "  warnings.warn(\n"
     ]
    },
    {
     "data": {
      "application/vnd.jupyter.widget-view+json": {
       "model_id": "e4d2aa17361042d18489dc277591732f",
       "version_major": 2,
       "version_minor": 0
      },
      "text/plain": [
       "  0%|          | 0/1 [00:00<?, ?it/s]"
      ]
     },
     "metadata": {},
     "output_type": "display_data"
    },
    {
     "name": "stderr",
     "output_type": "stream",
     "text": [
      "Checking SHAP issues:   1%|▍                                                                     | 212/35346 [01:46<4:56:04,  1.98it/s]C:\\Users\\slowd\\OneDrive\\Desktop\\Projects\\MLProjects\\Diabeties\\diabeties\\Lib\\site-packages\\sklearn\\utils\\validation.py:2739: UserWarning: X does not have valid feature names, but SimpleImputer was fitted with feature names\n",
      "  warnings.warn(\n"
     ]
    },
    {
     "data": {
      "application/vnd.jupyter.widget-view+json": {
       "model_id": "3cc1ae550cb74ca193ac7a55463472f9",
       "version_major": 2,
       "version_minor": 0
      },
      "text/plain": [
       "  0%|          | 0/1 [00:00<?, ?it/s]"
      ]
     },
     "metadata": {},
     "output_type": "display_data"
    },
    {
     "name": "stderr",
     "output_type": "stream",
     "text": [
      "Checking SHAP issues:   1%|▍                                                                     | 213/35346 [01:46<4:56:29,  1.97it/s]C:\\Users\\slowd\\OneDrive\\Desktop\\Projects\\MLProjects\\Diabeties\\diabeties\\Lib\\site-packages\\sklearn\\utils\\validation.py:2739: UserWarning: X does not have valid feature names, but SimpleImputer was fitted with feature names\n",
      "  warnings.warn(\n"
     ]
    },
    {
     "data": {
      "application/vnd.jupyter.widget-view+json": {
       "model_id": "4d8ca2845f6141f9b486a037ed45ea05",
       "version_major": 2,
       "version_minor": 0
      },
      "text/plain": [
       "  0%|          | 0/1 [00:00<?, ?it/s]"
      ]
     },
     "metadata": {},
     "output_type": "display_data"
    },
    {
     "name": "stderr",
     "output_type": "stream",
     "text": [
      "Checking SHAP issues:   1%|▍                                                                     | 214/35346 [01:47<4:57:28,  1.97it/s]C:\\Users\\slowd\\OneDrive\\Desktop\\Projects\\MLProjects\\Diabeties\\diabeties\\Lib\\site-packages\\sklearn\\utils\\validation.py:2739: UserWarning: X does not have valid feature names, but SimpleImputer was fitted with feature names\n",
      "  warnings.warn(\n"
     ]
    },
    {
     "data": {
      "application/vnd.jupyter.widget-view+json": {
       "model_id": "c921436d1ce445c79f0ddc1e2d831a04",
       "version_major": 2,
       "version_minor": 0
      },
      "text/plain": [
       "  0%|          | 0/1 [00:00<?, ?it/s]"
      ]
     },
     "metadata": {},
     "output_type": "display_data"
    },
    {
     "name": "stderr",
     "output_type": "stream",
     "text": [
      "Checking SHAP issues:   1%|▍                                                                     | 215/35346 [01:47<4:56:18,  1.98it/s]C:\\Users\\slowd\\OneDrive\\Desktop\\Projects\\MLProjects\\Diabeties\\diabeties\\Lib\\site-packages\\sklearn\\utils\\validation.py:2739: UserWarning: X does not have valid feature names, but SimpleImputer was fitted with feature names\n",
      "  warnings.warn(\n"
     ]
    },
    {
     "data": {
      "application/vnd.jupyter.widget-view+json": {
       "model_id": "b093e1e98f7d4eb7ba0c2d93ebf36590",
       "version_major": 2,
       "version_minor": 0
      },
      "text/plain": [
       "  0%|          | 0/1 [00:00<?, ?it/s]"
      ]
     },
     "metadata": {},
     "output_type": "display_data"
    },
    {
     "name": "stderr",
     "output_type": "stream",
     "text": [
      "Checking SHAP issues:   1%|▍                                                                     | 216/35346 [01:48<4:59:16,  1.96it/s]C:\\Users\\slowd\\OneDrive\\Desktop\\Projects\\MLProjects\\Diabeties\\diabeties\\Lib\\site-packages\\sklearn\\utils\\validation.py:2739: UserWarning: X does not have valid feature names, but SimpleImputer was fitted with feature names\n",
      "  warnings.warn(\n"
     ]
    },
    {
     "data": {
      "application/vnd.jupyter.widget-view+json": {
       "model_id": "3ccf0c87bc1d4325a9649a0315574550",
       "version_major": 2,
       "version_minor": 0
      },
      "text/plain": [
       "  0%|          | 0/1 [00:00<?, ?it/s]"
      ]
     },
     "metadata": {},
     "output_type": "display_data"
    },
    {
     "name": "stderr",
     "output_type": "stream",
     "text": [
      "Checking SHAP issues:   1%|▍                                                                     | 217/35346 [01:48<5:00:55,  1.95it/s]C:\\Users\\slowd\\OneDrive\\Desktop\\Projects\\MLProjects\\Diabeties\\diabeties\\Lib\\site-packages\\sklearn\\utils\\validation.py:2739: UserWarning: X does not have valid feature names, but SimpleImputer was fitted with feature names\n",
      "  warnings.warn(\n"
     ]
    },
    {
     "data": {
      "application/vnd.jupyter.widget-view+json": {
       "model_id": "f717532d3f724bbbba5396c35da17429",
       "version_major": 2,
       "version_minor": 0
      },
      "text/plain": [
       "  0%|          | 0/1 [00:00<?, ?it/s]"
      ]
     },
     "metadata": {},
     "output_type": "display_data"
    },
    {
     "name": "stderr",
     "output_type": "stream",
     "text": [
      "Checking SHAP issues:   1%|▍                                                                     | 218/35346 [01:49<4:59:16,  1.96it/s]C:\\Users\\slowd\\OneDrive\\Desktop\\Projects\\MLProjects\\Diabeties\\diabeties\\Lib\\site-packages\\sklearn\\utils\\validation.py:2739: UserWarning: X does not have valid feature names, but SimpleImputer was fitted with feature names\n",
      "  warnings.warn(\n"
     ]
    },
    {
     "data": {
      "application/vnd.jupyter.widget-view+json": {
       "model_id": "14b8de27921645fd96b426b2cfbf036f",
       "version_major": 2,
       "version_minor": 0
      },
      "text/plain": [
       "  0%|          | 0/1 [00:00<?, ?it/s]"
      ]
     },
     "metadata": {},
     "output_type": "display_data"
    },
    {
     "name": "stderr",
     "output_type": "stream",
     "text": [
      "Checking SHAP issues:   1%|▍                                                                     | 219/35346 [01:49<5:00:18,  1.95it/s]C:\\Users\\slowd\\OneDrive\\Desktop\\Projects\\MLProjects\\Diabeties\\diabeties\\Lib\\site-packages\\sklearn\\utils\\validation.py:2739: UserWarning: X does not have valid feature names, but SimpleImputer was fitted with feature names\n",
      "  warnings.warn(\n"
     ]
    },
    {
     "data": {
      "application/vnd.jupyter.widget-view+json": {
       "model_id": "c32abe5c2b9a430db5964e9455e50705",
       "version_major": 2,
       "version_minor": 0
      },
      "text/plain": [
       "  0%|          | 0/1 [00:00<?, ?it/s]"
      ]
     },
     "metadata": {},
     "output_type": "display_data"
    },
    {
     "name": "stderr",
     "output_type": "stream",
     "text": [
      "Checking SHAP issues:   1%|▍                                                                     | 220/35346 [01:50<5:01:32,  1.94it/s]C:\\Users\\slowd\\OneDrive\\Desktop\\Projects\\MLProjects\\Diabeties\\diabeties\\Lib\\site-packages\\sklearn\\utils\\validation.py:2739: UserWarning: X does not have valid feature names, but SimpleImputer was fitted with feature names\n",
      "  warnings.warn(\n"
     ]
    },
    {
     "data": {
      "application/vnd.jupyter.widget-view+json": {
       "model_id": "93d939c38e724eb08f4df1c87949e955",
       "version_major": 2,
       "version_minor": 0
      },
      "text/plain": [
       "  0%|          | 0/1 [00:00<?, ?it/s]"
      ]
     },
     "metadata": {},
     "output_type": "display_data"
    },
    {
     "name": "stderr",
     "output_type": "stream",
     "text": [
      "Checking SHAP issues:   1%|▍                                                                     | 221/35346 [01:50<4:58:37,  1.96it/s]C:\\Users\\slowd\\OneDrive\\Desktop\\Projects\\MLProjects\\Diabeties\\diabeties\\Lib\\site-packages\\sklearn\\utils\\validation.py:2739: UserWarning: X does not have valid feature names, but SimpleImputer was fitted with feature names\n",
      "  warnings.warn(\n"
     ]
    },
    {
     "data": {
      "application/vnd.jupyter.widget-view+json": {
       "model_id": "7f9258b871b5481c855b7032b629c9a8",
       "version_major": 2,
       "version_minor": 0
      },
      "text/plain": [
       "  0%|          | 0/1 [00:00<?, ?it/s]"
      ]
     },
     "metadata": {},
     "output_type": "display_data"
    },
    {
     "name": "stderr",
     "output_type": "stream",
     "text": [
      "Checking SHAP issues:   1%|▍                                                                     | 222/35346 [01:51<4:59:48,  1.95it/s]C:\\Users\\slowd\\OneDrive\\Desktop\\Projects\\MLProjects\\Diabeties\\diabeties\\Lib\\site-packages\\sklearn\\utils\\validation.py:2739: UserWarning: X does not have valid feature names, but SimpleImputer was fitted with feature names\n",
      "  warnings.warn(\n"
     ]
    },
    {
     "data": {
      "application/vnd.jupyter.widget-view+json": {
       "model_id": "38220466bf8d407b81e80d21c97a2ccf",
       "version_major": 2,
       "version_minor": 0
      },
      "text/plain": [
       "  0%|          | 0/1 [00:00<?, ?it/s]"
      ]
     },
     "metadata": {},
     "output_type": "display_data"
    },
    {
     "name": "stderr",
     "output_type": "stream",
     "text": [
      "Checking SHAP issues:   1%|▍                                                                     | 223/35346 [01:51<5:11:45,  1.88it/s]C:\\Users\\slowd\\OneDrive\\Desktop\\Projects\\MLProjects\\Diabeties\\diabeties\\Lib\\site-packages\\sklearn\\utils\\validation.py:2739: UserWarning: X does not have valid feature names, but SimpleImputer was fitted with feature names\n",
      "  warnings.warn(\n"
     ]
    },
    {
     "data": {
      "application/vnd.jupyter.widget-view+json": {
       "model_id": "efb109287c534a2fa226005a68714eb3",
       "version_major": 2,
       "version_minor": 0
      },
      "text/plain": [
       "  0%|          | 0/1 [00:00<?, ?it/s]"
      ]
     },
     "metadata": {},
     "output_type": "display_data"
    },
    {
     "name": "stderr",
     "output_type": "stream",
     "text": [
      "Checking SHAP issues:   1%|▍                                                                     | 224/35346 [01:52<6:20:03,  1.54it/s]C:\\Users\\slowd\\OneDrive\\Desktop\\Projects\\MLProjects\\Diabeties\\diabeties\\Lib\\site-packages\\sklearn\\utils\\validation.py:2739: UserWarning: X does not have valid feature names, but SimpleImputer was fitted with feature names\n",
      "  warnings.warn(\n"
     ]
    },
    {
     "data": {
      "application/vnd.jupyter.widget-view+json": {
       "model_id": "377543a2df274ccdb87dbdc6300b5e87",
       "version_major": 2,
       "version_minor": 0
      },
      "text/plain": [
       "  0%|          | 0/1 [00:00<?, ?it/s]"
      ]
     },
     "metadata": {},
     "output_type": "display_data"
    },
    {
     "name": "stderr",
     "output_type": "stream",
     "text": [
      "Checking SHAP issues:   1%|▍                                                                     | 225/35346 [01:53<6:29:16,  1.50it/s]C:\\Users\\slowd\\OneDrive\\Desktop\\Projects\\MLProjects\\Diabeties\\diabeties\\Lib\\site-packages\\sklearn\\utils\\validation.py:2739: UserWarning: X does not have valid feature names, but SimpleImputer was fitted with feature names\n",
      "  warnings.warn(\n"
     ]
    },
    {
     "data": {
      "application/vnd.jupyter.widget-view+json": {
       "model_id": "01d95967e0bf4bb2aef9c4996d34353b",
       "version_major": 2,
       "version_minor": 0
      },
      "text/plain": [
       "  0%|          | 0/1 [00:00<?, ?it/s]"
      ]
     },
     "metadata": {},
     "output_type": "display_data"
    },
    {
     "name": "stderr",
     "output_type": "stream",
     "text": [
      "Checking SHAP issues:   1%|▍                                                                     | 226/35346 [01:54<6:10:23,  1.58it/s]C:\\Users\\slowd\\OneDrive\\Desktop\\Projects\\MLProjects\\Diabeties\\diabeties\\Lib\\site-packages\\sklearn\\utils\\validation.py:2739: UserWarning: X does not have valid feature names, but SimpleImputer was fitted with feature names\n",
      "  warnings.warn(\n"
     ]
    },
    {
     "data": {
      "application/vnd.jupyter.widget-view+json": {
       "model_id": "216b10269f0d4b6abb83ebf214a4ebcf",
       "version_major": 2,
       "version_minor": 0
      },
      "text/plain": [
       "  0%|          | 0/1 [00:00<?, ?it/s]"
      ]
     },
     "metadata": {},
     "output_type": "display_data"
    },
    {
     "name": "stderr",
     "output_type": "stream",
     "text": [
      "Checking SHAP issues:   1%|▍                                                                     | 227/35346 [01:54<5:52:20,  1.66it/s]C:\\Users\\slowd\\OneDrive\\Desktop\\Projects\\MLProjects\\Diabeties\\diabeties\\Lib\\site-packages\\sklearn\\utils\\validation.py:2739: UserWarning: X does not have valid feature names, but SimpleImputer was fitted with feature names\n",
      "  warnings.warn(\n"
     ]
    },
    {
     "data": {
      "application/vnd.jupyter.widget-view+json": {
       "model_id": "3efbb4d8130145058105739d4db0d5ca",
       "version_major": 2,
       "version_minor": 0
      },
      "text/plain": [
       "  0%|          | 0/1 [00:00<?, ?it/s]"
      ]
     },
     "metadata": {},
     "output_type": "display_data"
    },
    {
     "name": "stderr",
     "output_type": "stream",
     "text": [
      "Checking SHAP issues:   1%|▍                                                                     | 228/35346 [01:55<5:34:54,  1.75it/s]C:\\Users\\slowd\\OneDrive\\Desktop\\Projects\\MLProjects\\Diabeties\\diabeties\\Lib\\site-packages\\sklearn\\utils\\validation.py:2739: UserWarning: X does not have valid feature names, but SimpleImputer was fitted with feature names\n",
      "  warnings.warn(\n"
     ]
    },
    {
     "data": {
      "application/vnd.jupyter.widget-view+json": {
       "model_id": "55103dab3ba941e0b6e4cb1c1f893bb2",
       "version_major": 2,
       "version_minor": 0
      },
      "text/plain": [
       "  0%|          | 0/1 [00:00<?, ?it/s]"
      ]
     },
     "metadata": {},
     "output_type": "display_data"
    },
    {
     "name": "stderr",
     "output_type": "stream",
     "text": [
      "Checking SHAP issues:   1%|▍                                                                     | 229/35346 [01:55<5:22:31,  1.81it/s]C:\\Users\\slowd\\OneDrive\\Desktop\\Projects\\MLProjects\\Diabeties\\diabeties\\Lib\\site-packages\\sklearn\\utils\\validation.py:2739: UserWarning: X does not have valid feature names, but SimpleImputer was fitted with feature names\n",
      "  warnings.warn(\n"
     ]
    },
    {
     "data": {
      "application/vnd.jupyter.widget-view+json": {
       "model_id": "343d82b5690b402387a04a7e1ed4ea9a",
       "version_major": 2,
       "version_minor": 0
      },
      "text/plain": [
       "  0%|          | 0/1 [00:00<?, ?it/s]"
      ]
     },
     "metadata": {},
     "output_type": "display_data"
    },
    {
     "name": "stderr",
     "output_type": "stream",
     "text": [
      "Checking SHAP issues:   1%|▍                                                                     | 230/35346 [01:56<5:06:52,  1.91it/s]C:\\Users\\slowd\\OneDrive\\Desktop\\Projects\\MLProjects\\Diabeties\\diabeties\\Lib\\site-packages\\sklearn\\utils\\validation.py:2739: UserWarning: X does not have valid feature names, but SimpleImputer was fitted with feature names\n",
      "  warnings.warn(\n"
     ]
    },
    {
     "data": {
      "application/vnd.jupyter.widget-view+json": {
       "model_id": "a04e3d855d0e438d90fe7d9756fbb3d4",
       "version_major": 2,
       "version_minor": 0
      },
      "text/plain": [
       "  0%|          | 0/1 [00:00<?, ?it/s]"
      ]
     },
     "metadata": {},
     "output_type": "display_data"
    },
    {
     "name": "stderr",
     "output_type": "stream",
     "text": [
      "Checking SHAP issues:   1%|▍                                                                     | 231/35346 [01:56<4:59:01,  1.96it/s]C:\\Users\\slowd\\OneDrive\\Desktop\\Projects\\MLProjects\\Diabeties\\diabeties\\Lib\\site-packages\\sklearn\\utils\\validation.py:2739: UserWarning: X does not have valid feature names, but SimpleImputer was fitted with feature names\n",
      "  warnings.warn(\n"
     ]
    },
    {
     "data": {
      "application/vnd.jupyter.widget-view+json": {
       "model_id": "a6e184c701524ffe9aefa2f2850cc8db",
       "version_major": 2,
       "version_minor": 0
      },
      "text/plain": [
       "  0%|          | 0/1 [00:00<?, ?it/s]"
      ]
     },
     "metadata": {},
     "output_type": "display_data"
    },
    {
     "name": "stderr",
     "output_type": "stream",
     "text": [
      "Checking SHAP issues:   1%|▍                                                                     | 232/35346 [01:57<4:57:09,  1.97it/s]C:\\Users\\slowd\\OneDrive\\Desktop\\Projects\\MLProjects\\Diabeties\\diabeties\\Lib\\site-packages\\sklearn\\utils\\validation.py:2739: UserWarning: X does not have valid feature names, but SimpleImputer was fitted with feature names\n",
      "  warnings.warn(\n"
     ]
    },
    {
     "data": {
      "application/vnd.jupyter.widget-view+json": {
       "model_id": "5272b48a0e3440a280b12d27262dbe60",
       "version_major": 2,
       "version_minor": 0
      },
      "text/plain": [
       "  0%|          | 0/1 [00:00<?, ?it/s]"
      ]
     },
     "metadata": {},
     "output_type": "display_data"
    },
    {
     "name": "stderr",
     "output_type": "stream",
     "text": [
      "Checking SHAP issues:   1%|▍                                                                     | 233/35346 [01:57<4:51:58,  2.00it/s]C:\\Users\\slowd\\OneDrive\\Desktop\\Projects\\MLProjects\\Diabeties\\diabeties\\Lib\\site-packages\\sklearn\\utils\\validation.py:2739: UserWarning: X does not have valid feature names, but SimpleImputer was fitted with feature names\n",
      "  warnings.warn(\n"
     ]
    },
    {
     "data": {
      "application/vnd.jupyter.widget-view+json": {
       "model_id": "bb8dd02c99394646a799de68bcd30350",
       "version_major": 2,
       "version_minor": 0
      },
      "text/plain": [
       "  0%|          | 0/1 [00:00<?, ?it/s]"
      ]
     },
     "metadata": {},
     "output_type": "display_data"
    },
    {
     "name": "stderr",
     "output_type": "stream",
     "text": [
      "Checking SHAP issues:   1%|▍                                                                     | 234/35346 [01:58<4:52:56,  2.00it/s]C:\\Users\\slowd\\OneDrive\\Desktop\\Projects\\MLProjects\\Diabeties\\diabeties\\Lib\\site-packages\\sklearn\\utils\\validation.py:2739: UserWarning: X does not have valid feature names, but SimpleImputer was fitted with feature names\n",
      "  warnings.warn(\n"
     ]
    },
    {
     "data": {
      "application/vnd.jupyter.widget-view+json": {
       "model_id": "dc7f366ac92748f6b36dc82787de5c85",
       "version_major": 2,
       "version_minor": 0
      },
      "text/plain": [
       "  0%|          | 0/1 [00:00<?, ?it/s]"
      ]
     },
     "metadata": {},
     "output_type": "display_data"
    },
    {
     "name": "stderr",
     "output_type": "stream",
     "text": [
      "Checking SHAP issues:   1%|▍                                                                     | 235/35346 [01:58<4:53:50,  1.99it/s]C:\\Users\\slowd\\OneDrive\\Desktop\\Projects\\MLProjects\\Diabeties\\diabeties\\Lib\\site-packages\\sklearn\\utils\\validation.py:2739: UserWarning: X does not have valid feature names, but SimpleImputer was fitted with feature names\n",
      "  warnings.warn(\n"
     ]
    },
    {
     "data": {
      "application/vnd.jupyter.widget-view+json": {
       "model_id": "064981ec1ef1461a90e04fd3e1594cb0",
       "version_major": 2,
       "version_minor": 0
      },
      "text/plain": [
       "  0%|          | 0/1 [00:00<?, ?it/s]"
      ]
     },
     "metadata": {},
     "output_type": "display_data"
    },
    {
     "name": "stderr",
     "output_type": "stream",
     "text": [
      "Checking SHAP issues:   1%|▍                                                                     | 236/35346 [01:59<4:54:10,  1.99it/s]C:\\Users\\slowd\\OneDrive\\Desktop\\Projects\\MLProjects\\Diabeties\\diabeties\\Lib\\site-packages\\sklearn\\utils\\validation.py:2739: UserWarning: X does not have valid feature names, but SimpleImputer was fitted with feature names\n",
      "  warnings.warn(\n"
     ]
    },
    {
     "data": {
      "application/vnd.jupyter.widget-view+json": {
       "model_id": "12bda7b77759443695f4dc0013bd8bd3",
       "version_major": 2,
       "version_minor": 0
      },
      "text/plain": [
       "  0%|          | 0/1 [00:00<?, ?it/s]"
      ]
     },
     "metadata": {},
     "output_type": "display_data"
    },
    {
     "name": "stderr",
     "output_type": "stream",
     "text": [
      "Checking SHAP issues:   1%|▍                                                                     | 237/35346 [01:59<4:54:12,  1.99it/s]C:\\Users\\slowd\\OneDrive\\Desktop\\Projects\\MLProjects\\Diabeties\\diabeties\\Lib\\site-packages\\sklearn\\utils\\validation.py:2739: UserWarning: X does not have valid feature names, but SimpleImputer was fitted with feature names\n",
      "  warnings.warn(\n"
     ]
    },
    {
     "data": {
      "application/vnd.jupyter.widget-view+json": {
       "model_id": "0b739b7e08da4d95ac6f7af18446d603",
       "version_major": 2,
       "version_minor": 0
      },
      "text/plain": [
       "  0%|          | 0/1 [00:00<?, ?it/s]"
      ]
     },
     "metadata": {},
     "output_type": "display_data"
    },
    {
     "name": "stderr",
     "output_type": "stream",
     "text": [
      "Checking SHAP issues:   1%|▍                                                                     | 238/35346 [02:00<4:55:05,  1.98it/s]C:\\Users\\slowd\\OneDrive\\Desktop\\Projects\\MLProjects\\Diabeties\\diabeties\\Lib\\site-packages\\sklearn\\utils\\validation.py:2739: UserWarning: X does not have valid feature names, but SimpleImputer was fitted with feature names\n",
      "  warnings.warn(\n"
     ]
    },
    {
     "data": {
      "application/vnd.jupyter.widget-view+json": {
       "model_id": "70a123cafa504dcf824bdb080e96032d",
       "version_major": 2,
       "version_minor": 0
      },
      "text/plain": [
       "  0%|          | 0/1 [00:00<?, ?it/s]"
      ]
     },
     "metadata": {},
     "output_type": "display_data"
    },
    {
     "name": "stderr",
     "output_type": "stream",
     "text": [
      "Checking SHAP issues:   1%|▍                                                                     | 239/35346 [02:00<4:55:01,  1.98it/s]C:\\Users\\slowd\\OneDrive\\Desktop\\Projects\\MLProjects\\Diabeties\\diabeties\\Lib\\site-packages\\sklearn\\utils\\validation.py:2739: UserWarning: X does not have valid feature names, but SimpleImputer was fitted with feature names\n",
      "  warnings.warn(\n"
     ]
    },
    {
     "data": {
      "application/vnd.jupyter.widget-view+json": {
       "model_id": "a09129d64a734f8f853c147398b86402",
       "version_major": 2,
       "version_minor": 0
      },
      "text/plain": [
       "  0%|          | 0/1 [00:00<?, ?it/s]"
      ]
     },
     "metadata": {},
     "output_type": "display_data"
    },
    {
     "name": "stderr",
     "output_type": "stream",
     "text": [
      "Checking SHAP issues:   1%|▍                                                                     | 240/35346 [02:01<4:54:51,  1.98it/s]C:\\Users\\slowd\\OneDrive\\Desktop\\Projects\\MLProjects\\Diabeties\\diabeties\\Lib\\site-packages\\sklearn\\utils\\validation.py:2739: UserWarning: X does not have valid feature names, but SimpleImputer was fitted with feature names\n",
      "  warnings.warn(\n"
     ]
    },
    {
     "data": {
      "application/vnd.jupyter.widget-view+json": {
       "model_id": "b2305b1dc4c54a82aa7b8edadd85555d",
       "version_major": 2,
       "version_minor": 0
      },
      "text/plain": [
       "  0%|          | 0/1 [00:00<?, ?it/s]"
      ]
     },
     "metadata": {},
     "output_type": "display_data"
    },
    {
     "name": "stderr",
     "output_type": "stream",
     "text": [
      "Checking SHAP issues:   1%|▍                                                                     | 241/35346 [02:01<4:52:15,  2.00it/s]C:\\Users\\slowd\\OneDrive\\Desktop\\Projects\\MLProjects\\Diabeties\\diabeties\\Lib\\site-packages\\sklearn\\utils\\validation.py:2739: UserWarning: X does not have valid feature names, but SimpleImputer was fitted with feature names\n",
      "  warnings.warn(\n"
     ]
    },
    {
     "data": {
      "application/vnd.jupyter.widget-view+json": {
       "model_id": "2202f888b569402b8d5039689e8ecbc4",
       "version_major": 2,
       "version_minor": 0
      },
      "text/plain": [
       "  0%|          | 0/1 [00:00<?, ?it/s]"
      ]
     },
     "metadata": {},
     "output_type": "display_data"
    },
    {
     "name": "stderr",
     "output_type": "stream",
     "text": [
      "Checking SHAP issues:   1%|▍                                                                     | 242/35346 [02:02<4:52:08,  2.00it/s]C:\\Users\\slowd\\OneDrive\\Desktop\\Projects\\MLProjects\\Diabeties\\diabeties\\Lib\\site-packages\\sklearn\\utils\\validation.py:2739: UserWarning: X does not have valid feature names, but SimpleImputer was fitted with feature names\n",
      "  warnings.warn(\n"
     ]
    },
    {
     "data": {
      "application/vnd.jupyter.widget-view+json": {
       "model_id": "c3de1fef3793487c92927d64ed44ddc1",
       "version_major": 2,
       "version_minor": 0
      },
      "text/plain": [
       "  0%|          | 0/1 [00:00<?, ?it/s]"
      ]
     },
     "metadata": {},
     "output_type": "display_data"
    },
    {
     "name": "stderr",
     "output_type": "stream",
     "text": [
      "Checking SHAP issues:   1%|▍                                                                     | 243/35346 [02:02<4:59:01,  1.96it/s]C:\\Users\\slowd\\OneDrive\\Desktop\\Projects\\MLProjects\\Diabeties\\diabeties\\Lib\\site-packages\\sklearn\\utils\\validation.py:2739: UserWarning: X does not have valid feature names, but SimpleImputer was fitted with feature names\n",
      "  warnings.warn(\n"
     ]
    },
    {
     "data": {
      "application/vnd.jupyter.widget-view+json": {
       "model_id": "d59f4bed718d468583f8a05a5e17dbd1",
       "version_major": 2,
       "version_minor": 0
      },
      "text/plain": [
       "  0%|          | 0/1 [00:00<?, ?it/s]"
      ]
     },
     "metadata": {},
     "output_type": "display_data"
    },
    {
     "name": "stderr",
     "output_type": "stream",
     "text": [
      "Checking SHAP issues:   1%|▍                                                                     | 244/35346 [02:03<4:58:07,  1.96it/s]C:\\Users\\slowd\\OneDrive\\Desktop\\Projects\\MLProjects\\Diabeties\\diabeties\\Lib\\site-packages\\sklearn\\utils\\validation.py:2739: UserWarning: X does not have valid feature names, but SimpleImputer was fitted with feature names\n",
      "  warnings.warn(\n"
     ]
    },
    {
     "data": {
      "application/vnd.jupyter.widget-view+json": {
       "model_id": "d56400f46089451b89d8bb77c2654f32",
       "version_major": 2,
       "version_minor": 0
      },
      "text/plain": [
       "  0%|          | 0/1 [00:00<?, ?it/s]"
      ]
     },
     "metadata": {},
     "output_type": "display_data"
    },
    {
     "name": "stderr",
     "output_type": "stream",
     "text": [
      "Checking SHAP issues:   1%|▍                                                                     | 245/35346 [02:03<4:57:06,  1.97it/s]C:\\Users\\slowd\\OneDrive\\Desktop\\Projects\\MLProjects\\Diabeties\\diabeties\\Lib\\site-packages\\sklearn\\utils\\validation.py:2739: UserWarning: X does not have valid feature names, but SimpleImputer was fitted with feature names\n",
      "  warnings.warn(\n"
     ]
    },
    {
     "data": {
      "application/vnd.jupyter.widget-view+json": {
       "model_id": "20bd5d4eddfa4151b38232cf6088e02a",
       "version_major": 2,
       "version_minor": 0
      },
      "text/plain": [
       "  0%|          | 0/1 [00:00<?, ?it/s]"
      ]
     },
     "metadata": {},
     "output_type": "display_data"
    },
    {
     "name": "stderr",
     "output_type": "stream",
     "text": [
      "Checking SHAP issues:   1%|▍                                                                     | 246/35346 [02:04<5:01:25,  1.94it/s]C:\\Users\\slowd\\OneDrive\\Desktop\\Projects\\MLProjects\\Diabeties\\diabeties\\Lib\\site-packages\\sklearn\\utils\\validation.py:2739: UserWarning: X does not have valid feature names, but SimpleImputer was fitted with feature names\n",
      "  warnings.warn(\n"
     ]
    },
    {
     "data": {
      "application/vnd.jupyter.widget-view+json": {
       "model_id": "2f8c77780ac7497eae0f28fd8dddc0b9",
       "version_major": 2,
       "version_minor": 0
      },
      "text/plain": [
       "  0%|          | 0/1 [00:00<?, ?it/s]"
      ]
     },
     "metadata": {},
     "output_type": "display_data"
    },
    {
     "name": "stderr",
     "output_type": "stream",
     "text": [
      "Checking SHAP issues:   1%|▍                                                                     | 247/35346 [02:04<4:59:09,  1.96it/s]C:\\Users\\slowd\\OneDrive\\Desktop\\Projects\\MLProjects\\Diabeties\\diabeties\\Lib\\site-packages\\sklearn\\utils\\validation.py:2739: UserWarning: X does not have valid feature names, but SimpleImputer was fitted with feature names\n",
      "  warnings.warn(\n"
     ]
    },
    {
     "data": {
      "application/vnd.jupyter.widget-view+json": {
       "model_id": "577274bf7f164140b7d414eaa166ff9c",
       "version_major": 2,
       "version_minor": 0
      },
      "text/plain": [
       "  0%|          | 0/1 [00:00<?, ?it/s]"
      ]
     },
     "metadata": {},
     "output_type": "display_data"
    },
    {
     "name": "stderr",
     "output_type": "stream",
     "text": [
      "Checking SHAP issues:   1%|▍                                                                     | 248/35346 [02:05<4:55:58,  1.98it/s]C:\\Users\\slowd\\OneDrive\\Desktop\\Projects\\MLProjects\\Diabeties\\diabeties\\Lib\\site-packages\\sklearn\\utils\\validation.py:2739: UserWarning: X does not have valid feature names, but SimpleImputer was fitted with feature names\n",
      "  warnings.warn(\n"
     ]
    },
    {
     "data": {
      "application/vnd.jupyter.widget-view+json": {
       "model_id": "acc4b93917b14af48287fb7fa4e1a01a",
       "version_major": 2,
       "version_minor": 0
      },
      "text/plain": [
       "  0%|          | 0/1 [00:00<?, ?it/s]"
      ]
     },
     "metadata": {},
     "output_type": "display_data"
    },
    {
     "name": "stderr",
     "output_type": "stream",
     "text": [
      "Checking SHAP issues:   1%|▍                                                                     | 249/35346 [02:05<4:51:53,  2.00it/s]C:\\Users\\slowd\\OneDrive\\Desktop\\Projects\\MLProjects\\Diabeties\\diabeties\\Lib\\site-packages\\sklearn\\utils\\validation.py:2739: UserWarning: X does not have valid feature names, but SimpleImputer was fitted with feature names\n",
      "  warnings.warn(\n"
     ]
    },
    {
     "data": {
      "application/vnd.jupyter.widget-view+json": {
       "model_id": "b70d85ee111746bab47b0e7a2b76e8f8",
       "version_major": 2,
       "version_minor": 0
      },
      "text/plain": [
       "  0%|          | 0/1 [00:00<?, ?it/s]"
      ]
     },
     "metadata": {},
     "output_type": "display_data"
    },
    {
     "name": "stderr",
     "output_type": "stream",
     "text": [
      "Checking SHAP issues:   1%|▍                                                                     | 250/35346 [02:06<4:52:42,  2.00it/s]C:\\Users\\slowd\\OneDrive\\Desktop\\Projects\\MLProjects\\Diabeties\\diabeties\\Lib\\site-packages\\sklearn\\utils\\validation.py:2739: UserWarning: X does not have valid feature names, but SimpleImputer was fitted with feature names\n",
      "  warnings.warn(\n"
     ]
    },
    {
     "data": {
      "application/vnd.jupyter.widget-view+json": {
       "model_id": "639a93a09cf54e1fac0e065a623edae6",
       "version_major": 2,
       "version_minor": 0
      },
      "text/plain": [
       "  0%|          | 0/1 [00:00<?, ?it/s]"
      ]
     },
     "metadata": {},
     "output_type": "display_data"
    },
    {
     "name": "stderr",
     "output_type": "stream",
     "text": [
      "Checking SHAP issues:   1%|▍                                                                     | 251/35346 [02:06<4:28:58,  2.17it/s]C:\\Users\\slowd\\OneDrive\\Desktop\\Projects\\MLProjects\\Diabeties\\diabeties\\Lib\\site-packages\\sklearn\\utils\\validation.py:2739: UserWarning: X does not have valid feature names, but SimpleImputer was fitted with feature names\n",
      "  warnings.warn(\n"
     ]
    },
    {
     "data": {
      "application/vnd.jupyter.widget-view+json": {
       "model_id": "f3496dbbf2cf41e880bb25db3d4c3c31",
       "version_major": 2,
       "version_minor": 0
      },
      "text/plain": [
       "  0%|          | 0/1 [00:00<?, ?it/s]"
      ]
     },
     "metadata": {},
     "output_type": "display_data"
    },
    {
     "name": "stderr",
     "output_type": "stream",
     "text": [
      "C:\\Users\\slowd\\OneDrive\\Desktop\\Projects\\MLProjects\\Diabeties\\diabeties\\Lib\\site-packages\\sklearn\\utils\\validation.py:2739: UserWarning: X does not have valid feature names, but SimpleImputer was fitted with feature names\n",
      "  warnings.warn(\n"
     ]
    },
    {
     "data": {
      "application/vnd.jupyter.widget-view+json": {
       "model_id": "48623688ff524825b8876bcdd6848e49",
       "version_major": 2,
       "version_minor": 0
      },
      "text/plain": [
       "  0%|          | 0/1 [00:00<?, ?it/s]"
      ]
     },
     "metadata": {},
     "output_type": "display_data"
    },
    {
     "name": "stderr",
     "output_type": "stream",
     "text": [
      "Checking SHAP issues:   1%|▌                                                                     | 253/35346 [02:06<2:48:28,  3.47it/s]C:\\Users\\slowd\\OneDrive\\Desktop\\Projects\\MLProjects\\Diabeties\\diabeties\\Lib\\site-packages\\sklearn\\utils\\validation.py:2739: UserWarning: X does not have valid feature names, but SimpleImputer was fitted with feature names\n",
      "  warnings.warn(\n"
     ]
    },
    {
     "data": {
      "application/vnd.jupyter.widget-view+json": {
       "model_id": "c0ab6cb60359414f9484b36d5c629469",
       "version_major": 2,
       "version_minor": 0
      },
      "text/plain": [
       "  0%|          | 0/1 [00:00<?, ?it/s]"
      ]
     },
     "metadata": {},
     "output_type": "display_data"
    },
    {
     "name": "stderr",
     "output_type": "stream",
     "text": [
      "C:\\Users\\slowd\\OneDrive\\Desktop\\Projects\\MLProjects\\Diabeties\\diabeties\\Lib\\site-packages\\sklearn\\utils\\validation.py:2739: UserWarning: X does not have valid feature names, but SimpleImputer was fitted with feature names\n",
      "  warnings.warn(\n"
     ]
    },
    {
     "data": {
      "application/vnd.jupyter.widget-view+json": {
       "model_id": "f9679fc1129847bd9a90e1b4fae76d87",
       "version_major": 2,
       "version_minor": 0
      },
      "text/plain": [
       "  0%|          | 0/1 [00:00<?, ?it/s]"
      ]
     },
     "metadata": {},
     "output_type": "display_data"
    },
    {
     "name": "stderr",
     "output_type": "stream",
     "text": [
      "Checking SHAP issues:   1%|▌                                                                     | 255/35346 [02:06<1:59:56,  4.88it/s]C:\\Users\\slowd\\OneDrive\\Desktop\\Projects\\MLProjects\\Diabeties\\diabeties\\Lib\\site-packages\\sklearn\\utils\\validation.py:2739: UserWarning: X does not have valid feature names, but SimpleImputer was fitted with feature names\n",
      "  warnings.warn(\n"
     ]
    },
    {
     "data": {
      "application/vnd.jupyter.widget-view+json": {
       "model_id": "243ebd40efa54ca4b89dccb56aaa93fb",
       "version_major": 2,
       "version_minor": 0
      },
      "text/plain": [
       "  0%|          | 0/1 [00:00<?, ?it/s]"
      ]
     },
     "metadata": {},
     "output_type": "display_data"
    },
    {
     "name": "stderr",
     "output_type": "stream",
     "text": [
      "C:\\Users\\slowd\\OneDrive\\Desktop\\Projects\\MLProjects\\Diabeties\\diabeties\\Lib\\site-packages\\sklearn\\utils\\validation.py:2739: UserWarning: X does not have valid feature names, but SimpleImputer was fitted with feature names\n",
      "  warnings.warn(\n"
     ]
    },
    {
     "data": {
      "application/vnd.jupyter.widget-view+json": {
       "model_id": "7b5f95e40dec496ba73b49260a34fbde",
       "version_major": 2,
       "version_minor": 0
      },
      "text/plain": [
       "  0%|          | 0/1 [00:00<?, ?it/s]"
      ]
     },
     "metadata": {},
     "output_type": "display_data"
    },
    {
     "name": "stderr",
     "output_type": "stream",
     "text": [
      "Checking SHAP issues:   1%|▌                                                                     | 257/35346 [02:07<1:32:52,  6.30it/s]C:\\Users\\slowd\\OneDrive\\Desktop\\Projects\\MLProjects\\Diabeties\\diabeties\\Lib\\site-packages\\sklearn\\utils\\validation.py:2739: UserWarning: X does not have valid feature names, but SimpleImputer was fitted with feature names\n",
      "  warnings.warn(\n"
     ]
    },
    {
     "data": {
      "application/vnd.jupyter.widget-view+json": {
       "model_id": "6201dc634e414fb0940314ba76fe219d",
       "version_major": 2,
       "version_minor": 0
      },
      "text/plain": [
       "  0%|          | 0/1 [00:00<?, ?it/s]"
      ]
     },
     "metadata": {},
     "output_type": "display_data"
    },
    {
     "name": "stderr",
     "output_type": "stream",
     "text": [
      "C:\\Users\\slowd\\OneDrive\\Desktop\\Projects\\MLProjects\\Diabeties\\diabeties\\Lib\\site-packages\\sklearn\\utils\\validation.py:2739: UserWarning: X does not have valid feature names, but SimpleImputer was fitted with feature names\n",
      "  warnings.warn(\n"
     ]
    },
    {
     "data": {
      "application/vnd.jupyter.widget-view+json": {
       "model_id": "916f4acb511e4218a3a4c9edf2a81b9c",
       "version_major": 2,
       "version_minor": 0
      },
      "text/plain": [
       "  0%|          | 0/1 [00:00<?, ?it/s]"
      ]
     },
     "metadata": {},
     "output_type": "display_data"
    },
    {
     "name": "stderr",
     "output_type": "stream",
     "text": [
      "Checking SHAP issues:   1%|▌                                                                     | 259/35346 [02:07<1:17:14,  7.57it/s]C:\\Users\\slowd\\OneDrive\\Desktop\\Projects\\MLProjects\\Diabeties\\diabeties\\Lib\\site-packages\\sklearn\\utils\\validation.py:2739: UserWarning: X does not have valid feature names, but SimpleImputer was fitted with feature names\n",
      "  warnings.warn(\n"
     ]
    },
    {
     "data": {
      "application/vnd.jupyter.widget-view+json": {
       "model_id": "d2146e2842484fd3a7c2273bb95e7d53",
       "version_major": 2,
       "version_minor": 0
      },
      "text/plain": [
       "  0%|          | 0/1 [00:00<?, ?it/s]"
      ]
     },
     "metadata": {},
     "output_type": "display_data"
    },
    {
     "name": "stderr",
     "output_type": "stream",
     "text": [
      "C:\\Users\\slowd\\OneDrive\\Desktop\\Projects\\MLProjects\\Diabeties\\diabeties\\Lib\\site-packages\\sklearn\\utils\\validation.py:2739: UserWarning: X does not have valid feature names, but SimpleImputer was fitted with feature names\n",
      "  warnings.warn(\n"
     ]
    },
    {
     "data": {
      "application/vnd.jupyter.widget-view+json": {
       "model_id": "8c2e08f421a7491b9358aced329b9906",
       "version_major": 2,
       "version_minor": 0
      },
      "text/plain": [
       "  0%|          | 0/1 [00:00<?, ?it/s]"
      ]
     },
     "metadata": {},
     "output_type": "display_data"
    },
    {
     "name": "stderr",
     "output_type": "stream",
     "text": [
      "Checking SHAP issues:   1%|▌                                                                     | 261/35346 [02:07<1:07:14,  8.70it/s]C:\\Users\\slowd\\OneDrive\\Desktop\\Projects\\MLProjects\\Diabeties\\diabeties\\Lib\\site-packages\\sklearn\\utils\\validation.py:2739: UserWarning: X does not have valid feature names, but SimpleImputer was fitted with feature names\n",
      "  warnings.warn(\n"
     ]
    },
    {
     "data": {
      "application/vnd.jupyter.widget-view+json": {
       "model_id": "8cf5baa9a0be41f383592c316e693c10",
       "version_major": 2,
       "version_minor": 0
      },
      "text/plain": [
       "  0%|          | 0/1 [00:00<?, ?it/s]"
      ]
     },
     "metadata": {},
     "output_type": "display_data"
    },
    {
     "name": "stderr",
     "output_type": "stream",
     "text": [
      "C:\\Users\\slowd\\OneDrive\\Desktop\\Projects\\MLProjects\\Diabeties\\diabeties\\Lib\\site-packages\\sklearn\\utils\\validation.py:2739: UserWarning: X does not have valid feature names, but SimpleImputer was fitted with feature names\n",
      "  warnings.warn(\n"
     ]
    },
    {
     "data": {
      "application/vnd.jupyter.widget-view+json": {
       "model_id": "7bb7630a312e4198942d75083ecd0ba2",
       "version_major": 2,
       "version_minor": 0
      },
      "text/plain": [
       "  0%|          | 0/1 [00:00<?, ?it/s]"
      ]
     },
     "metadata": {},
     "output_type": "display_data"
    },
    {
     "name": "stderr",
     "output_type": "stream",
     "text": [
      "Checking SHAP issues:   1%|▌                                                                     | 263/35346 [02:07<1:00:22,  9.68it/s]C:\\Users\\slowd\\OneDrive\\Desktop\\Projects\\MLProjects\\Diabeties\\diabeties\\Lib\\site-packages\\sklearn\\utils\\validation.py:2739: UserWarning: X does not have valid feature names, but SimpleImputer was fitted with feature names\n",
      "  warnings.warn(\n"
     ]
    },
    {
     "data": {
      "application/vnd.jupyter.widget-view+json": {
       "model_id": "7e850e0c06cc468cbd279ceb0c0539bb",
       "version_major": 2,
       "version_minor": 0
      },
      "text/plain": [
       "  0%|          | 0/1 [00:00<?, ?it/s]"
      ]
     },
     "metadata": {},
     "output_type": "display_data"
    },
    {
     "name": "stderr",
     "output_type": "stream",
     "text": [
      "C:\\Users\\slowd\\OneDrive\\Desktop\\Projects\\MLProjects\\Diabeties\\diabeties\\Lib\\site-packages\\sklearn\\utils\\validation.py:2739: UserWarning: X does not have valid feature names, but SimpleImputer was fitted with feature names\n",
      "  warnings.warn(\n"
     ]
    },
    {
     "data": {
      "application/vnd.jupyter.widget-view+json": {
       "model_id": "886bb0e4a60d4cd499c8123a2838924f",
       "version_major": 2,
       "version_minor": 0
      },
      "text/plain": [
       "  0%|          | 0/1 [00:00<?, ?it/s]"
      ]
     },
     "metadata": {},
     "output_type": "display_data"
    },
    {
     "name": "stderr",
     "output_type": "stream",
     "text": [
      "Checking SHAP issues:   1%|▌                                                                       | 265/35346 [02:07<56:14, 10.40it/s]C:\\Users\\slowd\\OneDrive\\Desktop\\Projects\\MLProjects\\Diabeties\\diabeties\\Lib\\site-packages\\sklearn\\utils\\validation.py:2739: UserWarning: X does not have valid feature names, but SimpleImputer was fitted with feature names\n",
      "  warnings.warn(\n"
     ]
    },
    {
     "data": {
      "application/vnd.jupyter.widget-view+json": {
       "model_id": "5782869907e44106b8c39d17329d502e",
       "version_major": 2,
       "version_minor": 0
      },
      "text/plain": [
       "  0%|          | 0/1 [00:00<?, ?it/s]"
      ]
     },
     "metadata": {},
     "output_type": "display_data"
    },
    {
     "name": "stderr",
     "output_type": "stream",
     "text": [
      "C:\\Users\\slowd\\OneDrive\\Desktop\\Projects\\MLProjects\\Diabeties\\diabeties\\Lib\\site-packages\\sklearn\\utils\\validation.py:2739: UserWarning: X does not have valid feature names, but SimpleImputer was fitted with feature names\n",
      "  warnings.warn(\n"
     ]
    },
    {
     "data": {
      "application/vnd.jupyter.widget-view+json": {
       "model_id": "93eefc64918942e08475518298f7e879",
       "version_major": 2,
       "version_minor": 0
      },
      "text/plain": [
       "  0%|          | 0/1 [00:00<?, ?it/s]"
      ]
     },
     "metadata": {},
     "output_type": "display_data"
    },
    {
     "name": "stderr",
     "output_type": "stream",
     "text": [
      "Checking SHAP issues:   1%|▌                                                                       | 267/35346 [02:07<52:33, 11.12it/s]C:\\Users\\slowd\\OneDrive\\Desktop\\Projects\\MLProjects\\Diabeties\\diabeties\\Lib\\site-packages\\sklearn\\utils\\validation.py:2739: UserWarning: X does not have valid feature names, but SimpleImputer was fitted with feature names\n",
      "  warnings.warn(\n"
     ]
    },
    {
     "data": {
      "application/vnd.jupyter.widget-view+json": {
       "model_id": "58f532e3849140bb9fe011a21d183dd1",
       "version_major": 2,
       "version_minor": 0
      },
      "text/plain": [
       "  0%|          | 0/1 [00:00<?, ?it/s]"
      ]
     },
     "metadata": {},
     "output_type": "display_data"
    },
    {
     "name": "stderr",
     "output_type": "stream",
     "text": [
      "C:\\Users\\slowd\\OneDrive\\Desktop\\Projects\\MLProjects\\Diabeties\\diabeties\\Lib\\site-packages\\sklearn\\utils\\validation.py:2739: UserWarning: X does not have valid feature names, but SimpleImputer was fitted with feature names\n",
      "  warnings.warn(\n"
     ]
    },
    {
     "data": {
      "application/vnd.jupyter.widget-view+json": {
       "model_id": "3321731c48ef4e1487a412179013f734",
       "version_major": 2,
       "version_minor": 0
      },
      "text/plain": [
       "  0%|          | 0/1 [00:00<?, ?it/s]"
      ]
     },
     "metadata": {},
     "output_type": "display_data"
    },
    {
     "name": "stderr",
     "output_type": "stream",
     "text": [
      "Checking SHAP issues:   1%|▌                                                                       | 269/35346 [02:08<50:36, 11.55it/s]C:\\Users\\slowd\\OneDrive\\Desktop\\Projects\\MLProjects\\Diabeties\\diabeties\\Lib\\site-packages\\sklearn\\utils\\validation.py:2739: UserWarning: X does not have valid feature names, but SimpleImputer was fitted with feature names\n",
      "  warnings.warn(\n"
     ]
    },
    {
     "data": {
      "application/vnd.jupyter.widget-view+json": {
       "model_id": "6ef2ff91ccbc430cb5795357e103daa4",
       "version_major": 2,
       "version_minor": 0
      },
      "text/plain": [
       "  0%|          | 0/1 [00:00<?, ?it/s]"
      ]
     },
     "metadata": {},
     "output_type": "display_data"
    },
    {
     "name": "stderr",
     "output_type": "stream",
     "text": [
      "C:\\Users\\slowd\\OneDrive\\Desktop\\Projects\\MLProjects\\Diabeties\\diabeties\\Lib\\site-packages\\sklearn\\utils\\validation.py:2739: UserWarning: X does not have valid feature names, but SimpleImputer was fitted with feature names\n",
      "  warnings.warn(\n"
     ]
    },
    {
     "data": {
      "application/vnd.jupyter.widget-view+json": {
       "model_id": "5126efa1217b42c9922b536a26b77885",
       "version_major": 2,
       "version_minor": 0
      },
      "text/plain": [
       "  0%|          | 0/1 [00:00<?, ?it/s]"
      ]
     },
     "metadata": {},
     "output_type": "display_data"
    },
    {
     "name": "stderr",
     "output_type": "stream",
     "text": [
      "Checking SHAP issues:   1%|▌                                                                       | 271/35346 [02:08<50:27, 11.58it/s]C:\\Users\\slowd\\OneDrive\\Desktop\\Projects\\MLProjects\\Diabeties\\diabeties\\Lib\\site-packages\\sklearn\\utils\\validation.py:2739: UserWarning: X does not have valid feature names, but SimpleImputer was fitted with feature names\n",
      "  warnings.warn(\n"
     ]
    },
    {
     "data": {
      "application/vnd.jupyter.widget-view+json": {
       "model_id": "e489a7cbc08a454dbd8aa8d351b231b8",
       "version_major": 2,
       "version_minor": 0
      },
      "text/plain": [
       "  0%|          | 0/1 [00:00<?, ?it/s]"
      ]
     },
     "metadata": {},
     "output_type": "display_data"
    },
    {
     "name": "stderr",
     "output_type": "stream",
     "text": [
      "C:\\Users\\slowd\\OneDrive\\Desktop\\Projects\\MLProjects\\Diabeties\\diabeties\\Lib\\site-packages\\sklearn\\utils\\validation.py:2739: UserWarning: X does not have valid feature names, but SimpleImputer was fitted with feature names\n",
      "  warnings.warn(\n"
     ]
    },
    {
     "data": {
      "application/vnd.jupyter.widget-view+json": {
       "model_id": "6503c274b40b49089cf78191dab48a4c",
       "version_major": 2,
       "version_minor": 0
      },
      "text/plain": [
       "  0%|          | 0/1 [00:00<?, ?it/s]"
      ]
     },
     "metadata": {},
     "output_type": "display_data"
    },
    {
     "name": "stderr",
     "output_type": "stream",
     "text": [
      "Checking SHAP issues:   1%|▌                                                                       | 273/35346 [02:08<49:28, 11.81it/s]C:\\Users\\slowd\\OneDrive\\Desktop\\Projects\\MLProjects\\Diabeties\\diabeties\\Lib\\site-packages\\sklearn\\utils\\validation.py:2739: UserWarning: X does not have valid feature names, but SimpleImputer was fitted with feature names\n",
      "  warnings.warn(\n"
     ]
    },
    {
     "data": {
      "application/vnd.jupyter.widget-view+json": {
       "model_id": "040f651225a147d3809e3ad66b58459d",
       "version_major": 2,
       "version_minor": 0
      },
      "text/plain": [
       "  0%|          | 0/1 [00:00<?, ?it/s]"
      ]
     },
     "metadata": {},
     "output_type": "display_data"
    },
    {
     "name": "stderr",
     "output_type": "stream",
     "text": [
      "C:\\Users\\slowd\\OneDrive\\Desktop\\Projects\\MLProjects\\Diabeties\\diabeties\\Lib\\site-packages\\sklearn\\utils\\validation.py:2739: UserWarning: X does not have valid feature names, but SimpleImputer was fitted with feature names\n",
      "  warnings.warn(\n"
     ]
    },
    {
     "data": {
      "application/vnd.jupyter.widget-view+json": {
       "model_id": "188199c19d0f4e1d981a83d7d9e4527f",
       "version_major": 2,
       "version_minor": 0
      },
      "text/plain": [
       "  0%|          | 0/1 [00:00<?, ?it/s]"
      ]
     },
     "metadata": {},
     "output_type": "display_data"
    },
    {
     "name": "stderr",
     "output_type": "stream",
     "text": [
      "Checking SHAP issues:   1%|▌                                                                       | 275/35346 [02:08<50:04, 11.67it/s]C:\\Users\\slowd\\OneDrive\\Desktop\\Projects\\MLProjects\\Diabeties\\diabeties\\Lib\\site-packages\\sklearn\\utils\\validation.py:2739: UserWarning: X does not have valid feature names, but SimpleImputer was fitted with feature names\n",
      "  warnings.warn(\n"
     ]
    },
    {
     "data": {
      "application/vnd.jupyter.widget-view+json": {
       "model_id": "c30bd336486443bdab944e4360f3c960",
       "version_major": 2,
       "version_minor": 0
      },
      "text/plain": [
       "  0%|          | 0/1 [00:00<?, ?it/s]"
      ]
     },
     "metadata": {},
     "output_type": "display_data"
    },
    {
     "name": "stderr",
     "output_type": "stream",
     "text": [
      "C:\\Users\\slowd\\OneDrive\\Desktop\\Projects\\MLProjects\\Diabeties\\diabeties\\Lib\\site-packages\\sklearn\\utils\\validation.py:2739: UserWarning: X does not have valid feature names, but SimpleImputer was fitted with feature names\n",
      "  warnings.warn(\n"
     ]
    },
    {
     "data": {
      "application/vnd.jupyter.widget-view+json": {
       "model_id": "ed75a0fffb1b414eb03f0bd8f68cc817",
       "version_major": 2,
       "version_minor": 0
      },
      "text/plain": [
       "  0%|          | 0/1 [00:00<?, ?it/s]"
      ]
     },
     "metadata": {},
     "output_type": "display_data"
    },
    {
     "name": "stderr",
     "output_type": "stream",
     "text": [
      "Checking SHAP issues:   1%|▌                                                                       | 277/35346 [02:08<51:18, 11.39it/s]C:\\Users\\slowd\\OneDrive\\Desktop\\Projects\\MLProjects\\Diabeties\\diabeties\\Lib\\site-packages\\sklearn\\utils\\validation.py:2739: UserWarning: X does not have valid feature names, but SimpleImputer was fitted with feature names\n",
      "  warnings.warn(\n"
     ]
    },
    {
     "data": {
      "application/vnd.jupyter.widget-view+json": {
       "model_id": "a150628feaea4a4587477ff4914acba9",
       "version_major": 2,
       "version_minor": 0
      },
      "text/plain": [
       "  0%|          | 0/1 [00:00<?, ?it/s]"
      ]
     },
     "metadata": {},
     "output_type": "display_data"
    },
    {
     "name": "stderr",
     "output_type": "stream",
     "text": [
      "C:\\Users\\slowd\\OneDrive\\Desktop\\Projects\\MLProjects\\Diabeties\\diabeties\\Lib\\site-packages\\sklearn\\utils\\validation.py:2739: UserWarning: X does not have valid feature names, but SimpleImputer was fitted with feature names\n",
      "  warnings.warn(\n"
     ]
    },
    {
     "data": {
      "application/vnd.jupyter.widget-view+json": {
       "model_id": "c4979f3802ff46e4aecb215a9d944416",
       "version_major": 2,
       "version_minor": 0
      },
      "text/plain": [
       "  0%|          | 0/1 [00:00<?, ?it/s]"
      ]
     },
     "metadata": {},
     "output_type": "display_data"
    },
    {
     "name": "stderr",
     "output_type": "stream",
     "text": [
      "Checking SHAP issues:   1%|▌                                                                       | 279/35346 [02:08<50:34, 11.56it/s]C:\\Users\\slowd\\OneDrive\\Desktop\\Projects\\MLProjects\\Diabeties\\diabeties\\Lib\\site-packages\\sklearn\\utils\\validation.py:2739: UserWarning: X does not have valid feature names, but SimpleImputer was fitted with feature names\n",
      "  warnings.warn(\n"
     ]
    },
    {
     "data": {
      "application/vnd.jupyter.widget-view+json": {
       "model_id": "8a26045c70754780833755eb76d77aed",
       "version_major": 2,
       "version_minor": 0
      },
      "text/plain": [
       "  0%|          | 0/1 [00:00<?, ?it/s]"
      ]
     },
     "metadata": {},
     "output_type": "display_data"
    },
    {
     "name": "stderr",
     "output_type": "stream",
     "text": [
      "C:\\Users\\slowd\\OneDrive\\Desktop\\Projects\\MLProjects\\Diabeties\\diabeties\\Lib\\site-packages\\sklearn\\utils\\validation.py:2739: UserWarning: X does not have valid feature names, but SimpleImputer was fitted with feature names\n",
      "  warnings.warn(\n"
     ]
    },
    {
     "data": {
      "application/vnd.jupyter.widget-view+json": {
       "model_id": "115be1b6b5f44671b88d65149e77b032",
       "version_major": 2,
       "version_minor": 0
      },
      "text/plain": [
       "  0%|          | 0/1 [00:00<?, ?it/s]"
      ]
     },
     "metadata": {},
     "output_type": "display_data"
    },
    {
     "name": "stderr",
     "output_type": "stream",
     "text": [
      "Checking SHAP issues:   1%|▌                                                                       | 281/35346 [02:09<49:25, 11.82it/s]C:\\Users\\slowd\\OneDrive\\Desktop\\Projects\\MLProjects\\Diabeties\\diabeties\\Lib\\site-packages\\sklearn\\utils\\validation.py:2739: UserWarning: X does not have valid feature names, but SimpleImputer was fitted with feature names\n",
      "  warnings.warn(\n"
     ]
    },
    {
     "data": {
      "application/vnd.jupyter.widget-view+json": {
       "model_id": "0f941140d565423da2abb648bdda9409",
       "version_major": 2,
       "version_minor": 0
      },
      "text/plain": [
       "  0%|          | 0/1 [00:00<?, ?it/s]"
      ]
     },
     "metadata": {},
     "output_type": "display_data"
    },
    {
     "name": "stderr",
     "output_type": "stream",
     "text": [
      "C:\\Users\\slowd\\OneDrive\\Desktop\\Projects\\MLProjects\\Diabeties\\diabeties\\Lib\\site-packages\\sklearn\\utils\\validation.py:2739: UserWarning: X does not have valid feature names, but SimpleImputer was fitted with feature names\n",
      "  warnings.warn(\n"
     ]
    },
    {
     "data": {
      "application/vnd.jupyter.widget-view+json": {
       "model_id": "6f4c9784ea3446c48b6d995938d6fbf4",
       "version_major": 2,
       "version_minor": 0
      },
      "text/plain": [
       "  0%|          | 0/1 [00:00<?, ?it/s]"
      ]
     },
     "metadata": {},
     "output_type": "display_data"
    },
    {
     "name": "stderr",
     "output_type": "stream",
     "text": [
      "Checking SHAP issues:   1%|▌                                                                       | 283/35346 [02:09<48:32, 12.04it/s]C:\\Users\\slowd\\OneDrive\\Desktop\\Projects\\MLProjects\\Diabeties\\diabeties\\Lib\\site-packages\\sklearn\\utils\\validation.py:2739: UserWarning: X does not have valid feature names, but SimpleImputer was fitted with feature names\n",
      "  warnings.warn(\n"
     ]
    },
    {
     "data": {
      "application/vnd.jupyter.widget-view+json": {
       "model_id": "dc51d70748c7411b92defd4a4b46e273",
       "version_major": 2,
       "version_minor": 0
      },
      "text/plain": [
       "  0%|          | 0/1 [00:00<?, ?it/s]"
      ]
     },
     "metadata": {},
     "output_type": "display_data"
    },
    {
     "name": "stderr",
     "output_type": "stream",
     "text": [
      "C:\\Users\\slowd\\OneDrive\\Desktop\\Projects\\MLProjects\\Diabeties\\diabeties\\Lib\\site-packages\\sklearn\\utils\\validation.py:2739: UserWarning: X does not have valid feature names, but SimpleImputer was fitted with feature names\n",
      "  warnings.warn(\n"
     ]
    },
    {
     "data": {
      "application/vnd.jupyter.widget-view+json": {
       "model_id": "8d279231720147d2950208eda617b582",
       "version_major": 2,
       "version_minor": 0
      },
      "text/plain": [
       "  0%|          | 0/1 [00:00<?, ?it/s]"
      ]
     },
     "metadata": {},
     "output_type": "display_data"
    },
    {
     "name": "stderr",
     "output_type": "stream",
     "text": [
      "Checking SHAP issues:   1%|▌                                                                       | 285/35346 [02:09<48:08, 12.14it/s]C:\\Users\\slowd\\OneDrive\\Desktop\\Projects\\MLProjects\\Diabeties\\diabeties\\Lib\\site-packages\\sklearn\\utils\\validation.py:2739: UserWarning: X does not have valid feature names, but SimpleImputer was fitted with feature names\n",
      "  warnings.warn(\n"
     ]
    },
    {
     "data": {
      "application/vnd.jupyter.widget-view+json": {
       "model_id": "3cd37d1607574ac08853e72c200171d6",
       "version_major": 2,
       "version_minor": 0
      },
      "text/plain": [
       "  0%|          | 0/1 [00:00<?, ?it/s]"
      ]
     },
     "metadata": {},
     "output_type": "display_data"
    },
    {
     "name": "stderr",
     "output_type": "stream",
     "text": [
      "C:\\Users\\slowd\\OneDrive\\Desktop\\Projects\\MLProjects\\Diabeties\\diabeties\\Lib\\site-packages\\sklearn\\utils\\validation.py:2739: UserWarning: X does not have valid feature names, but SimpleImputer was fitted with feature names\n",
      "  warnings.warn(\n"
     ]
    },
    {
     "data": {
      "application/vnd.jupyter.widget-view+json": {
       "model_id": "cecd3aac1cd44519956cbade6b3fceb1",
       "version_major": 2,
       "version_minor": 0
      },
      "text/plain": [
       "  0%|          | 0/1 [00:00<?, ?it/s]"
      ]
     },
     "metadata": {},
     "output_type": "display_data"
    },
    {
     "name": "stderr",
     "output_type": "stream",
     "text": [
      "Checking SHAP issues:   1%|▌                                                                       | 287/35346 [02:09<47:50, 12.21it/s]C:\\Users\\slowd\\OneDrive\\Desktop\\Projects\\MLProjects\\Diabeties\\diabeties\\Lib\\site-packages\\sklearn\\utils\\validation.py:2739: UserWarning: X does not have valid feature names, but SimpleImputer was fitted with feature names\n",
      "  warnings.warn(\n"
     ]
    },
    {
     "data": {
      "application/vnd.jupyter.widget-view+json": {
       "model_id": "a580a3c57fb649bab77dede6f7d306c6",
       "version_major": 2,
       "version_minor": 0
      },
      "text/plain": [
       "  0%|          | 0/1 [00:00<?, ?it/s]"
      ]
     },
     "metadata": {},
     "output_type": "display_data"
    },
    {
     "name": "stderr",
     "output_type": "stream",
     "text": [
      "C:\\Users\\slowd\\OneDrive\\Desktop\\Projects\\MLProjects\\Diabeties\\diabeties\\Lib\\site-packages\\sklearn\\utils\\validation.py:2739: UserWarning: X does not have valid feature names, but SimpleImputer was fitted with feature names\n",
      "  warnings.warn(\n"
     ]
    },
    {
     "data": {
      "application/vnd.jupyter.widget-view+json": {
       "model_id": "2fdf2438863941ceb491168e0bd69719",
       "version_major": 2,
       "version_minor": 0
      },
      "text/plain": [
       "  0%|          | 0/1 [00:00<?, ?it/s]"
      ]
     },
     "metadata": {},
     "output_type": "display_data"
    },
    {
     "name": "stderr",
     "output_type": "stream",
     "text": [
      "Checking SHAP issues:   1%|▌                                                                       | 289/35346 [02:09<48:46, 11.98it/s]C:\\Users\\slowd\\OneDrive\\Desktop\\Projects\\MLProjects\\Diabeties\\diabeties\\Lib\\site-packages\\sklearn\\utils\\validation.py:2739: UserWarning: X does not have valid feature names, but SimpleImputer was fitted with feature names\n",
      "  warnings.warn(\n"
     ]
    },
    {
     "data": {
      "application/vnd.jupyter.widget-view+json": {
       "model_id": "b3801396ea2946d5aed2dbd5723f8f61",
       "version_major": 2,
       "version_minor": 0
      },
      "text/plain": [
       "  0%|          | 0/1 [00:00<?, ?it/s]"
      ]
     },
     "metadata": {},
     "output_type": "display_data"
    },
    {
     "name": "stderr",
     "output_type": "stream",
     "text": [
      "C:\\Users\\slowd\\OneDrive\\Desktop\\Projects\\MLProjects\\Diabeties\\diabeties\\Lib\\site-packages\\sklearn\\utils\\validation.py:2739: UserWarning: X does not have valid feature names, but SimpleImputer was fitted with feature names\n",
      "  warnings.warn(\n"
     ]
    },
    {
     "data": {
      "application/vnd.jupyter.widget-view+json": {
       "model_id": "5a44ef6f9ada49e4b15147100e272ecd",
       "version_major": 2,
       "version_minor": 0
      },
      "text/plain": [
       "  0%|          | 0/1 [00:00<?, ?it/s]"
      ]
     },
     "metadata": {},
     "output_type": "display_data"
    },
    {
     "name": "stderr",
     "output_type": "stream",
     "text": [
      "Checking SHAP issues:   1%|▌                                                                       | 291/35346 [02:09<49:16, 11.86it/s]C:\\Users\\slowd\\OneDrive\\Desktop\\Projects\\MLProjects\\Diabeties\\diabeties\\Lib\\site-packages\\sklearn\\utils\\validation.py:2739: UserWarning: X does not have valid feature names, but SimpleImputer was fitted with feature names\n",
      "  warnings.warn(\n"
     ]
    },
    {
     "data": {
      "application/vnd.jupyter.widget-view+json": {
       "model_id": "889e61681b1a4b658f8658476d706258",
       "version_major": 2,
       "version_minor": 0
      },
      "text/plain": [
       "  0%|          | 0/1 [00:00<?, ?it/s]"
      ]
     },
     "metadata": {},
     "output_type": "display_data"
    },
    {
     "name": "stderr",
     "output_type": "stream",
     "text": [
      "C:\\Users\\slowd\\OneDrive\\Desktop\\Projects\\MLProjects\\Diabeties\\diabeties\\Lib\\site-packages\\sklearn\\utils\\validation.py:2739: UserWarning: X does not have valid feature names, but SimpleImputer was fitted with feature names\n",
      "  warnings.warn(\n"
     ]
    },
    {
     "data": {
      "application/vnd.jupyter.widget-view+json": {
       "model_id": "f76b1ef290124539b8cf1c7be2554d71",
       "version_major": 2,
       "version_minor": 0
      },
      "text/plain": [
       "  0%|          | 0/1 [00:00<?, ?it/s]"
      ]
     },
     "metadata": {},
     "output_type": "display_data"
    },
    {
     "name": "stderr",
     "output_type": "stream",
     "text": [
      "Checking SHAP issues:   1%|▌                                                                       | 293/35346 [02:10<50:21, 11.60it/s]C:\\Users\\slowd\\OneDrive\\Desktop\\Projects\\MLProjects\\Diabeties\\diabeties\\Lib\\site-packages\\sklearn\\utils\\validation.py:2739: UserWarning: X does not have valid feature names, but SimpleImputer was fitted with feature names\n",
      "  warnings.warn(\n"
     ]
    },
    {
     "data": {
      "application/vnd.jupyter.widget-view+json": {
       "model_id": "da971e5039a5470cb6b3a2da1dcb322a",
       "version_major": 2,
       "version_minor": 0
      },
      "text/plain": [
       "  0%|          | 0/1 [00:00<?, ?it/s]"
      ]
     },
     "metadata": {},
     "output_type": "display_data"
    },
    {
     "name": "stderr",
     "output_type": "stream",
     "text": [
      "C:\\Users\\slowd\\OneDrive\\Desktop\\Projects\\MLProjects\\Diabeties\\diabeties\\Lib\\site-packages\\sklearn\\utils\\validation.py:2739: UserWarning: X does not have valid feature names, but SimpleImputer was fitted with feature names\n",
      "  warnings.warn(\n"
     ]
    },
    {
     "data": {
      "application/vnd.jupyter.widget-view+json": {
       "model_id": "a25ca11c2e8b40598405d8c43f16ccc6",
       "version_major": 2,
       "version_minor": 0
      },
      "text/plain": [
       "  0%|          | 0/1 [00:00<?, ?it/s]"
      ]
     },
     "metadata": {},
     "output_type": "display_data"
    },
    {
     "name": "stderr",
     "output_type": "stream",
     "text": [
      "Checking SHAP issues:   1%|▌                                                                       | 295/35346 [02:10<50:11, 11.64it/s]C:\\Users\\slowd\\OneDrive\\Desktop\\Projects\\MLProjects\\Diabeties\\diabeties\\Lib\\site-packages\\sklearn\\utils\\validation.py:2739: UserWarning: X does not have valid feature names, but SimpleImputer was fitted with feature names\n",
      "  warnings.warn(\n"
     ]
    },
    {
     "data": {
      "application/vnd.jupyter.widget-view+json": {
       "model_id": "537e620c03214e91b9a45790ee9728dc",
       "version_major": 2,
       "version_minor": 0
      },
      "text/plain": [
       "  0%|          | 0/1 [00:00<?, ?it/s]"
      ]
     },
     "metadata": {},
     "output_type": "display_data"
    },
    {
     "name": "stderr",
     "output_type": "stream",
     "text": [
      "C:\\Users\\slowd\\OneDrive\\Desktop\\Projects\\MLProjects\\Diabeties\\diabeties\\Lib\\site-packages\\sklearn\\utils\\validation.py:2739: UserWarning: X does not have valid feature names, but SimpleImputer was fitted with feature names\n",
      "  warnings.warn(\n"
     ]
    },
    {
     "data": {
      "application/vnd.jupyter.widget-view+json": {
       "model_id": "f36edca0bc8242ba89e91eb177ec95a7",
       "version_major": 2,
       "version_minor": 0
      },
      "text/plain": [
       "  0%|          | 0/1 [00:00<?, ?it/s]"
      ]
     },
     "metadata": {},
     "output_type": "display_data"
    },
    {
     "name": "stderr",
     "output_type": "stream",
     "text": [
      "Checking SHAP issues:   1%|▌                                                                       | 297/35346 [02:10<49:22, 11.83it/s]C:\\Users\\slowd\\OneDrive\\Desktop\\Projects\\MLProjects\\Diabeties\\diabeties\\Lib\\site-packages\\sklearn\\utils\\validation.py:2739: UserWarning: X does not have valid feature names, but SimpleImputer was fitted with feature names\n",
      "  warnings.warn(\n"
     ]
    },
    {
     "data": {
      "application/vnd.jupyter.widget-view+json": {
       "model_id": "cf4943b84b0f4ac18c7ba74b9ea64999",
       "version_major": 2,
       "version_minor": 0
      },
      "text/plain": [
       "  0%|          | 0/1 [00:00<?, ?it/s]"
      ]
     },
     "metadata": {},
     "output_type": "display_data"
    },
    {
     "name": "stderr",
     "output_type": "stream",
     "text": [
      "C:\\Users\\slowd\\OneDrive\\Desktop\\Projects\\MLProjects\\Diabeties\\diabeties\\Lib\\site-packages\\sklearn\\utils\\validation.py:2739: UserWarning: X does not have valid feature names, but SimpleImputer was fitted with feature names\n",
      "  warnings.warn(\n"
     ]
    },
    {
     "data": {
      "application/vnd.jupyter.widget-view+json": {
       "model_id": "556fabc6156c473d84732380b4cd99a4",
       "version_major": 2,
       "version_minor": 0
      },
      "text/plain": [
       "  0%|          | 0/1 [00:00<?, ?it/s]"
      ]
     },
     "metadata": {},
     "output_type": "display_data"
    },
    {
     "name": "stderr",
     "output_type": "stream",
     "text": [
      "Checking SHAP issues:   1%|▌                                                                       | 299/35346 [02:10<48:56, 11.93it/s]C:\\Users\\slowd\\OneDrive\\Desktop\\Projects\\MLProjects\\Diabeties\\diabeties\\Lib\\site-packages\\sklearn\\utils\\validation.py:2739: UserWarning: X does not have valid feature names, but SimpleImputer was fitted with feature names\n",
      "  warnings.warn(\n"
     ]
    },
    {
     "data": {
      "application/vnd.jupyter.widget-view+json": {
       "model_id": "b7fd5c4fc31f4cf9bdf370675f370bfc",
       "version_major": 2,
       "version_minor": 0
      },
      "text/plain": [
       "  0%|          | 0/1 [00:00<?, ?it/s]"
      ]
     },
     "metadata": {},
     "output_type": "display_data"
    },
    {
     "name": "stderr",
     "output_type": "stream",
     "text": [
      "C:\\Users\\slowd\\OneDrive\\Desktop\\Projects\\MLProjects\\Diabeties\\diabeties\\Lib\\site-packages\\sklearn\\utils\\validation.py:2739: UserWarning: X does not have valid feature names, but SimpleImputer was fitted with feature names\n",
      "  warnings.warn(\n"
     ]
    },
    {
     "data": {
      "application/vnd.jupyter.widget-view+json": {
       "model_id": "72aa563bc43c49fb81f838fa22e0208d",
       "version_major": 2,
       "version_minor": 0
      },
      "text/plain": [
       "  0%|          | 0/1 [00:00<?, ?it/s]"
      ]
     },
     "metadata": {},
     "output_type": "display_data"
    },
    {
     "name": "stderr",
     "output_type": "stream",
     "text": [
      "Checking SHAP issues:   1%|▌                                                                       | 301/35346 [02:10<50:03, 11.67it/s]C:\\Users\\slowd\\OneDrive\\Desktop\\Projects\\MLProjects\\Diabeties\\diabeties\\Lib\\site-packages\\sklearn\\utils\\validation.py:2739: UserWarning: X does not have valid feature names, but SimpleImputer was fitted with feature names\n",
      "  warnings.warn(\n"
     ]
    },
    {
     "data": {
      "application/vnd.jupyter.widget-view+json": {
       "model_id": "b6259711bd364451923a92824138ee10",
       "version_major": 2,
       "version_minor": 0
      },
      "text/plain": [
       "  0%|          | 0/1 [00:00<?, ?it/s]"
      ]
     },
     "metadata": {},
     "output_type": "display_data"
    },
    {
     "name": "stderr",
     "output_type": "stream",
     "text": [
      "C:\\Users\\slowd\\OneDrive\\Desktop\\Projects\\MLProjects\\Diabeties\\diabeties\\Lib\\site-packages\\sklearn\\utils\\validation.py:2739: UserWarning: X does not have valid feature names, but SimpleImputer was fitted with feature names\n",
      "  warnings.warn(\n"
     ]
    },
    {
     "data": {
      "application/vnd.jupyter.widget-view+json": {
       "model_id": "18e977f399754bb581f170c62f3fe046",
       "version_major": 2,
       "version_minor": 0
      },
      "text/plain": [
       "  0%|          | 0/1 [00:00<?, ?it/s]"
      ]
     },
     "metadata": {},
     "output_type": "display_data"
    },
    {
     "name": "stderr",
     "output_type": "stream",
     "text": [
      "Checking SHAP issues:   1%|▌                                                                       | 303/35346 [02:10<50:06, 11.65it/s]C:\\Users\\slowd\\OneDrive\\Desktop\\Projects\\MLProjects\\Diabeties\\diabeties\\Lib\\site-packages\\sklearn\\utils\\validation.py:2739: UserWarning: X does not have valid feature names, but SimpleImputer was fitted with feature names\n",
      "  warnings.warn(\n"
     ]
    },
    {
     "data": {
      "application/vnd.jupyter.widget-view+json": {
       "model_id": "09ffef4672434b099362812db71010ed",
       "version_major": 2,
       "version_minor": 0
      },
      "text/plain": [
       "  0%|          | 0/1 [00:00<?, ?it/s]"
      ]
     },
     "metadata": {},
     "output_type": "display_data"
    },
    {
     "name": "stderr",
     "output_type": "stream",
     "text": [
      "C:\\Users\\slowd\\OneDrive\\Desktop\\Projects\\MLProjects\\Diabeties\\diabeties\\Lib\\site-packages\\sklearn\\utils\\validation.py:2739: UserWarning: X does not have valid feature names, but SimpleImputer was fitted with feature names\n",
      "  warnings.warn(\n"
     ]
    },
    {
     "data": {
      "application/vnd.jupyter.widget-view+json": {
       "model_id": "923faec9010c41ab86f7384952ef4ef2",
       "version_major": 2,
       "version_minor": 0
      },
      "text/plain": [
       "  0%|          | 0/1 [00:00<?, ?it/s]"
      ]
     },
     "metadata": {},
     "output_type": "display_data"
    },
    {
     "name": "stderr",
     "output_type": "stream",
     "text": [
      "Checking SHAP issues:   1%|▌                                                                       | 305/35346 [02:11<50:24, 11.59it/s]C:\\Users\\slowd\\OneDrive\\Desktop\\Projects\\MLProjects\\Diabeties\\diabeties\\Lib\\site-packages\\sklearn\\utils\\validation.py:2739: UserWarning: X does not have valid feature names, but SimpleImputer was fitted with feature names\n",
      "  warnings.warn(\n"
     ]
    },
    {
     "data": {
      "application/vnd.jupyter.widget-view+json": {
       "model_id": "a5a0aaac35944a22a63831a0c150810e",
       "version_major": 2,
       "version_minor": 0
      },
      "text/plain": [
       "  0%|          | 0/1 [00:00<?, ?it/s]"
      ]
     },
     "metadata": {},
     "output_type": "display_data"
    },
    {
     "name": "stderr",
     "output_type": "stream",
     "text": [
      "C:\\Users\\slowd\\OneDrive\\Desktop\\Projects\\MLProjects\\Diabeties\\diabeties\\Lib\\site-packages\\sklearn\\utils\\validation.py:2739: UserWarning: X does not have valid feature names, but SimpleImputer was fitted with feature names\n",
      "  warnings.warn(\n"
     ]
    },
    {
     "data": {
      "application/vnd.jupyter.widget-view+json": {
       "model_id": "ed823936cfd4485188e2ed95738a9bef",
       "version_major": 2,
       "version_minor": 0
      },
      "text/plain": [
       "  0%|          | 0/1 [00:00<?, ?it/s]"
      ]
     },
     "metadata": {},
     "output_type": "display_data"
    },
    {
     "name": "stderr",
     "output_type": "stream",
     "text": [
      "Checking SHAP issues:   1%|▋                                                                       | 307/35346 [02:11<50:39, 11.53it/s]C:\\Users\\slowd\\OneDrive\\Desktop\\Projects\\MLProjects\\Diabeties\\diabeties\\Lib\\site-packages\\sklearn\\utils\\validation.py:2739: UserWarning: X does not have valid feature names, but SimpleImputer was fitted with feature names\n",
      "  warnings.warn(\n"
     ]
    },
    {
     "data": {
      "application/vnd.jupyter.widget-view+json": {
       "model_id": "892fc14341414e3f965d0cfe2da92e88",
       "version_major": 2,
       "version_minor": 0
      },
      "text/plain": [
       "  0%|          | 0/1 [00:00<?, ?it/s]"
      ]
     },
     "metadata": {},
     "output_type": "display_data"
    },
    {
     "name": "stderr",
     "output_type": "stream",
     "text": [
      "C:\\Users\\slowd\\OneDrive\\Desktop\\Projects\\MLProjects\\Diabeties\\diabeties\\Lib\\site-packages\\sklearn\\utils\\validation.py:2739: UserWarning: X does not have valid feature names, but SimpleImputer was fitted with feature names\n",
      "  warnings.warn(\n"
     ]
    },
    {
     "data": {
      "application/vnd.jupyter.widget-view+json": {
       "model_id": "e33044da85d44c359636847ca8a5aa2d",
       "version_major": 2,
       "version_minor": 0
      },
      "text/plain": [
       "  0%|          | 0/1 [00:00<?, ?it/s]"
      ]
     },
     "metadata": {},
     "output_type": "display_data"
    },
    {
     "name": "stderr",
     "output_type": "stream",
     "text": [
      "Checking SHAP issues:   1%|▋                                                                       | 309/35346 [02:11<50:36, 11.54it/s]C:\\Users\\slowd\\OneDrive\\Desktop\\Projects\\MLProjects\\Diabeties\\diabeties\\Lib\\site-packages\\sklearn\\utils\\validation.py:2739: UserWarning: X does not have valid feature names, but SimpleImputer was fitted with feature names\n",
      "  warnings.warn(\n"
     ]
    },
    {
     "data": {
      "application/vnd.jupyter.widget-view+json": {
       "model_id": "bcfb7afef1a84f5a9b26545e73fb7968",
       "version_major": 2,
       "version_minor": 0
      },
      "text/plain": [
       "  0%|          | 0/1 [00:00<?, ?it/s]"
      ]
     },
     "metadata": {},
     "output_type": "display_data"
    },
    {
     "name": "stderr",
     "output_type": "stream",
     "text": [
      "C:\\Users\\slowd\\OneDrive\\Desktop\\Projects\\MLProjects\\Diabeties\\diabeties\\Lib\\site-packages\\sklearn\\utils\\validation.py:2739: UserWarning: X does not have valid feature names, but SimpleImputer was fitted with feature names\n",
      "  warnings.warn(\n"
     ]
    },
    {
     "data": {
      "application/vnd.jupyter.widget-view+json": {
       "model_id": "3e986b9d8a1d48f28479e7ecc3c6ddef",
       "version_major": 2,
       "version_minor": 0
      },
      "text/plain": [
       "  0%|          | 0/1 [00:00<?, ?it/s]"
      ]
     },
     "metadata": {},
     "output_type": "display_data"
    },
    {
     "name": "stderr",
     "output_type": "stream",
     "text": [
      "Checking SHAP issues:   1%|▋                                                                       | 311/35346 [02:11<51:45, 11.28it/s]C:\\Users\\slowd\\OneDrive\\Desktop\\Projects\\MLProjects\\Diabeties\\diabeties\\Lib\\site-packages\\sklearn\\utils\\validation.py:2739: UserWarning: X does not have valid feature names, but SimpleImputer was fitted with feature names\n",
      "  warnings.warn(\n"
     ]
    },
    {
     "data": {
      "application/vnd.jupyter.widget-view+json": {
       "model_id": "feede0bd86c840c0aad8fa6a9f702270",
       "version_major": 2,
       "version_minor": 0
      },
      "text/plain": [
       "  0%|          | 0/1 [00:00<?, ?it/s]"
      ]
     },
     "metadata": {},
     "output_type": "display_data"
    },
    {
     "name": "stderr",
     "output_type": "stream",
     "text": [
      "C:\\Users\\slowd\\OneDrive\\Desktop\\Projects\\MLProjects\\Diabeties\\diabeties\\Lib\\site-packages\\sklearn\\utils\\validation.py:2739: UserWarning: X does not have valid feature names, but SimpleImputer was fitted with feature names\n",
      "  warnings.warn(\n"
     ]
    },
    {
     "data": {
      "application/vnd.jupyter.widget-view+json": {
       "model_id": "f7399ae95d7649b182eaf34288b81b61",
       "version_major": 2,
       "version_minor": 0
      },
      "text/plain": [
       "  0%|          | 0/1 [00:00<?, ?it/s]"
      ]
     },
     "metadata": {},
     "output_type": "display_data"
    },
    {
     "name": "stderr",
     "output_type": "stream",
     "text": [
      "Checking SHAP issues:   1%|▋                                                                       | 313/35346 [02:11<55:02, 10.61it/s]C:\\Users\\slowd\\OneDrive\\Desktop\\Projects\\MLProjects\\Diabeties\\diabeties\\Lib\\site-packages\\sklearn\\utils\\validation.py:2739: UserWarning: X does not have valid feature names, but SimpleImputer was fitted with feature names\n",
      "  warnings.warn(\n"
     ]
    },
    {
     "data": {
      "application/vnd.jupyter.widget-view+json": {
       "model_id": "0572a65e9bbd456ab0202302923a4ea6",
       "version_major": 2,
       "version_minor": 0
      },
      "text/plain": [
       "  0%|          | 0/1 [00:00<?, ?it/s]"
      ]
     },
     "metadata": {},
     "output_type": "display_data"
    },
    {
     "name": "stderr",
     "output_type": "stream",
     "text": [
      "C:\\Users\\slowd\\OneDrive\\Desktop\\Projects\\MLProjects\\Diabeties\\diabeties\\Lib\\site-packages\\sklearn\\utils\\validation.py:2739: UserWarning: X does not have valid feature names, but SimpleImputer was fitted with feature names\n",
      "  warnings.warn(\n"
     ]
    },
    {
     "data": {
      "application/vnd.jupyter.widget-view+json": {
       "model_id": "214de7858aed42b79da7c31300e0ca2c",
       "version_major": 2,
       "version_minor": 0
      },
      "text/plain": [
       "  0%|          | 0/1 [00:00<?, ?it/s]"
      ]
     },
     "metadata": {},
     "output_type": "display_data"
    },
    {
     "name": "stderr",
     "output_type": "stream",
     "text": [
      "Checking SHAP issues:   1%|▋                                                                       | 315/35346 [02:12<57:28, 10.16it/s]C:\\Users\\slowd\\OneDrive\\Desktop\\Projects\\MLProjects\\Diabeties\\diabeties\\Lib\\site-packages\\sklearn\\utils\\validation.py:2739: UserWarning: X does not have valid feature names, but SimpleImputer was fitted with feature names\n",
      "  warnings.warn(\n"
     ]
    },
    {
     "data": {
      "application/vnd.jupyter.widget-view+json": {
       "model_id": "5f0f615befda42049996ddca90ff648e",
       "version_major": 2,
       "version_minor": 0
      },
      "text/plain": [
       "  0%|          | 0/1 [00:00<?, ?it/s]"
      ]
     },
     "metadata": {},
     "output_type": "display_data"
    },
    {
     "name": "stderr",
     "output_type": "stream",
     "text": [
      "C:\\Users\\slowd\\OneDrive\\Desktop\\Projects\\MLProjects\\Diabeties\\diabeties\\Lib\\site-packages\\sklearn\\utils\\validation.py:2739: UserWarning: X does not have valid feature names, but SimpleImputer was fitted with feature names\n",
      "  warnings.warn(\n"
     ]
    },
    {
     "data": {
      "application/vnd.jupyter.widget-view+json": {
       "model_id": "83774df3d589469cb475cd58b8304930",
       "version_major": 2,
       "version_minor": 0
      },
      "text/plain": [
       "  0%|          | 0/1 [00:00<?, ?it/s]"
      ]
     },
     "metadata": {},
     "output_type": "display_data"
    },
    {
     "name": "stderr",
     "output_type": "stream",
     "text": [
      "Checking SHAP issues:   1%|▋                                                                     | 317/35346 [02:12<1:01:48,  9.44it/s]C:\\Users\\slowd\\OneDrive\\Desktop\\Projects\\MLProjects\\Diabeties\\diabeties\\Lib\\site-packages\\sklearn\\utils\\validation.py:2739: UserWarning: X does not have valid feature names, but SimpleImputer was fitted with feature names\n",
      "  warnings.warn(\n"
     ]
    },
    {
     "data": {
      "application/vnd.jupyter.widget-view+json": {
       "model_id": "461d821a84f64319bc3146a9f140e27b",
       "version_major": 2,
       "version_minor": 0
      },
      "text/plain": [
       "  0%|          | 0/1 [00:00<?, ?it/s]"
      ]
     },
     "metadata": {},
     "output_type": "display_data"
    },
    {
     "name": "stderr",
     "output_type": "stream",
     "text": [
      "Checking SHAP issues:   1%|▋                                                                     | 318/35346 [02:12<1:03:26,  9.20it/s]C:\\Users\\slowd\\OneDrive\\Desktop\\Projects\\MLProjects\\Diabeties\\diabeties\\Lib\\site-packages\\sklearn\\utils\\validation.py:2739: UserWarning: X does not have valid feature names, but SimpleImputer was fitted with feature names\n",
      "  warnings.warn(\n"
     ]
    },
    {
     "data": {
      "application/vnd.jupyter.widget-view+json": {
       "model_id": "a208803b87e249498fa54d5c4afc1f1e",
       "version_major": 2,
       "version_minor": 0
      },
      "text/plain": [
       "  0%|          | 0/1 [00:00<?, ?it/s]"
      ]
     },
     "metadata": {},
     "output_type": "display_data"
    },
    {
     "name": "stderr",
     "output_type": "stream",
     "text": [
      "Checking SHAP issues:   1%|▋                                                                     | 319/35346 [02:12<1:02:33,  9.33it/s]C:\\Users\\slowd\\OneDrive\\Desktop\\Projects\\MLProjects\\Diabeties\\diabeties\\Lib\\site-packages\\sklearn\\utils\\validation.py:2739: UserWarning: X does not have valid feature names, but SimpleImputer was fitted with feature names\n",
      "  warnings.warn(\n"
     ]
    },
    {
     "data": {
      "application/vnd.jupyter.widget-view+json": {
       "model_id": "df71ea8833a84ceabf4f10c392f073cb",
       "version_major": 2,
       "version_minor": 0
      },
      "text/plain": [
       "  0%|          | 0/1 [00:00<?, ?it/s]"
      ]
     },
     "metadata": {},
     "output_type": "display_data"
    },
    {
     "name": "stderr",
     "output_type": "stream",
     "text": [
      "Checking SHAP issues:   1%|▋                                                                     | 320/35346 [02:12<1:05:14,  8.95it/s]C:\\Users\\slowd\\OneDrive\\Desktop\\Projects\\MLProjects\\Diabeties\\diabeties\\Lib\\site-packages\\sklearn\\utils\\validation.py:2739: UserWarning: X does not have valid feature names, but SimpleImputer was fitted with feature names\n",
      "  warnings.warn(\n"
     ]
    },
    {
     "data": {
      "application/vnd.jupyter.widget-view+json": {
       "model_id": "7557b86318684625ba4b923c8773ff13",
       "version_major": 2,
       "version_minor": 0
      },
      "text/plain": [
       "  0%|          | 0/1 [00:00<?, ?it/s]"
      ]
     },
     "metadata": {},
     "output_type": "display_data"
    },
    {
     "name": "stderr",
     "output_type": "stream",
     "text": [
      "C:\\Users\\slowd\\OneDrive\\Desktop\\Projects\\MLProjects\\Diabeties\\diabeties\\Lib\\site-packages\\sklearn\\utils\\validation.py:2739: UserWarning: X does not have valid feature names, but SimpleImputer was fitted with feature names\n",
      "  warnings.warn(\n"
     ]
    },
    {
     "data": {
      "application/vnd.jupyter.widget-view+json": {
       "model_id": "3798936306fc4e0389cdb421d8fee377",
       "version_major": 2,
       "version_minor": 0
      },
      "text/plain": [
       "  0%|          | 0/1 [00:00<?, ?it/s]"
      ]
     },
     "metadata": {},
     "output_type": "display_data"
    },
    {
     "name": "stderr",
     "output_type": "stream",
     "text": [
      "Checking SHAP issues:   1%|▋                                                                     | 322/35346 [02:12<1:02:48,  9.29it/s]C:\\Users\\slowd\\OneDrive\\Desktop\\Projects\\MLProjects\\Diabeties\\diabeties\\Lib\\site-packages\\sklearn\\utils\\validation.py:2739: UserWarning: X does not have valid feature names, but SimpleImputer was fitted with feature names\n",
      "  warnings.warn(\n"
     ]
    },
    {
     "data": {
      "application/vnd.jupyter.widget-view+json": {
       "model_id": "57b79083b83e4e5a83f15842dd644820",
       "version_major": 2,
       "version_minor": 0
      },
      "text/plain": [
       "  0%|          | 0/1 [00:00<?, ?it/s]"
      ]
     },
     "metadata": {},
     "output_type": "display_data"
    },
    {
     "name": "stderr",
     "output_type": "stream",
     "text": [
      "C:\\Users\\slowd\\OneDrive\\Desktop\\Projects\\MLProjects\\Diabeties\\diabeties\\Lib\\site-packages\\sklearn\\utils\\validation.py:2739: UserWarning: X does not have valid feature names, but SimpleImputer was fitted with feature names\n",
      "  warnings.warn(\n"
     ]
    },
    {
     "data": {
      "application/vnd.jupyter.widget-view+json": {
       "model_id": "b6cac49c3f0b438f96e22e6869108949",
       "version_major": 2,
       "version_minor": 0
      },
      "text/plain": [
       "  0%|          | 0/1 [00:00<?, ?it/s]"
      ]
     },
     "metadata": {},
     "output_type": "display_data"
    },
    {
     "name": "stderr",
     "output_type": "stream",
     "text": [
      "Checking SHAP issues:   1%|▋                                                                     | 324/35346 [02:13<1:00:31,  9.64it/s]C:\\Users\\slowd\\OneDrive\\Desktop\\Projects\\MLProjects\\Diabeties\\diabeties\\Lib\\site-packages\\sklearn\\utils\\validation.py:2739: UserWarning: X does not have valid feature names, but SimpleImputer was fitted with feature names\n",
      "  warnings.warn(\n"
     ]
    },
    {
     "data": {
      "application/vnd.jupyter.widget-view+json": {
       "model_id": "3895388169cb49fab4aedaa8e27b9705",
       "version_major": 2,
       "version_minor": 0
      },
      "text/plain": [
       "  0%|          | 0/1 [00:00<?, ?it/s]"
      ]
     },
     "metadata": {},
     "output_type": "display_data"
    },
    {
     "name": "stderr",
     "output_type": "stream",
     "text": [
      "Checking SHAP issues:   1%|▋                                                                     | 325/35346 [02:13<1:01:00,  9.57it/s]C:\\Users\\slowd\\OneDrive\\Desktop\\Projects\\MLProjects\\Diabeties\\diabeties\\Lib\\site-packages\\sklearn\\utils\\validation.py:2739: UserWarning: X does not have valid feature names, but SimpleImputer was fitted with feature names\n",
      "  warnings.warn(\n"
     ]
    },
    {
     "data": {
      "application/vnd.jupyter.widget-view+json": {
       "model_id": "25762ad1778f423aafdedb9b09c4ffbf",
       "version_major": 2,
       "version_minor": 0
      },
      "text/plain": [
       "  0%|          | 0/1 [00:00<?, ?it/s]"
      ]
     },
     "metadata": {},
     "output_type": "display_data"
    },
    {
     "name": "stderr",
     "output_type": "stream",
     "text": [
      "Checking SHAP issues:   1%|▋                                                                     | 326/35346 [02:13<1:01:08,  9.55it/s]C:\\Users\\slowd\\OneDrive\\Desktop\\Projects\\MLProjects\\Diabeties\\diabeties\\Lib\\site-packages\\sklearn\\utils\\validation.py:2739: UserWarning: X does not have valid feature names, but SimpleImputer was fitted with feature names\n",
      "  warnings.warn(\n"
     ]
    },
    {
     "data": {
      "application/vnd.jupyter.widget-view+json": {
       "model_id": "c38d1862d6f24ceab958bb6d6c9b6529",
       "version_major": 2,
       "version_minor": 0
      },
      "text/plain": [
       "  0%|          | 0/1 [00:00<?, ?it/s]"
      ]
     },
     "metadata": {},
     "output_type": "display_data"
    },
    {
     "name": "stderr",
     "output_type": "stream",
     "text": [
      "Checking SHAP issues:   1%|▋                                                                     | 327/35346 [02:13<1:17:05,  7.57it/s]C:\\Users\\slowd\\OneDrive\\Desktop\\Projects\\MLProjects\\Diabeties\\diabeties\\Lib\\site-packages\\sklearn\\utils\\validation.py:2739: UserWarning: X does not have valid feature names, but SimpleImputer was fitted with feature names\n",
      "  warnings.warn(\n"
     ]
    },
    {
     "data": {
      "application/vnd.jupyter.widget-view+json": {
       "model_id": "6dcb9392288147be8029452adb4b1bff",
       "version_major": 2,
       "version_minor": 0
      },
      "text/plain": [
       "  0%|          | 0/1 [00:00<?, ?it/s]"
      ]
     },
     "metadata": {},
     "output_type": "display_data"
    },
    {
     "name": "stderr",
     "output_type": "stream",
     "text": [
      "Checking SHAP issues:   1%|▋                                                                     | 328/35346 [02:13<1:14:42,  7.81it/s]C:\\Users\\slowd\\OneDrive\\Desktop\\Projects\\MLProjects\\Diabeties\\diabeties\\Lib\\site-packages\\sklearn\\utils\\validation.py:2739: UserWarning: X does not have valid feature names, but SimpleImputer was fitted with feature names\n",
      "  warnings.warn(\n"
     ]
    },
    {
     "data": {
      "application/vnd.jupyter.widget-view+json": {
       "model_id": "d87b3a56171c49db89282232509d9a4c",
       "version_major": 2,
       "version_minor": 0
      },
      "text/plain": [
       "  0%|          | 0/1 [00:00<?, ?it/s]"
      ]
     },
     "metadata": {},
     "output_type": "display_data"
    },
    {
     "name": "stderr",
     "output_type": "stream",
     "text": [
      "Checking SHAP issues:   1%|▋                                                                     | 329/35346 [02:13<1:11:39,  8.14it/s]C:\\Users\\slowd\\OneDrive\\Desktop\\Projects\\MLProjects\\Diabeties\\diabeties\\Lib\\site-packages\\sklearn\\utils\\validation.py:2739: UserWarning: X does not have valid feature names, but SimpleImputer was fitted with feature names\n",
      "  warnings.warn(\n"
     ]
    },
    {
     "data": {
      "application/vnd.jupyter.widget-view+json": {
       "model_id": "da46fa59dc494e00809c217f367fa0d8",
       "version_major": 2,
       "version_minor": 0
      },
      "text/plain": [
       "  0%|          | 0/1 [00:00<?, ?it/s]"
      ]
     },
     "metadata": {},
     "output_type": "display_data"
    },
    {
     "name": "stderr",
     "output_type": "stream",
     "text": [
      "Checking SHAP issues:   1%|▋                                                                     | 330/35346 [02:13<1:09:42,  8.37it/s]C:\\Users\\slowd\\OneDrive\\Desktop\\Projects\\MLProjects\\Diabeties\\diabeties\\Lib\\site-packages\\sklearn\\utils\\validation.py:2739: UserWarning: X does not have valid feature names, but SimpleImputer was fitted with feature names\n",
      "  warnings.warn(\n"
     ]
    },
    {
     "data": {
      "application/vnd.jupyter.widget-view+json": {
       "model_id": "838c6f5158c1441597da25f777f5454b",
       "version_major": 2,
       "version_minor": 0
      },
      "text/plain": [
       "  0%|          | 0/1 [00:00<?, ?it/s]"
      ]
     },
     "metadata": {},
     "output_type": "display_data"
    },
    {
     "name": "stderr",
     "output_type": "stream",
     "text": [
      "Checking SHAP issues:   1%|▋                                                                     | 331/35346 [02:13<1:07:13,  8.68it/s]C:\\Users\\slowd\\OneDrive\\Desktop\\Projects\\MLProjects\\Diabeties\\diabeties\\Lib\\site-packages\\sklearn\\utils\\validation.py:2739: UserWarning: X does not have valid feature names, but SimpleImputer was fitted with feature names\n",
      "  warnings.warn(\n"
     ]
    },
    {
     "data": {
      "application/vnd.jupyter.widget-view+json": {
       "model_id": "b5fa0ae292844224a009e72ac6b805d9",
       "version_major": 2,
       "version_minor": 0
      },
      "text/plain": [
       "  0%|          | 0/1 [00:00<?, ?it/s]"
      ]
     },
     "metadata": {},
     "output_type": "display_data"
    },
    {
     "name": "stderr",
     "output_type": "stream",
     "text": [
      "Checking SHAP issues:   1%|▋                                                                     | 332/35346 [02:14<1:05:32,  8.90it/s]C:\\Users\\slowd\\OneDrive\\Desktop\\Projects\\MLProjects\\Diabeties\\diabeties\\Lib\\site-packages\\sklearn\\utils\\validation.py:2739: UserWarning: X does not have valid feature names, but SimpleImputer was fitted with feature names\n",
      "  warnings.warn(\n"
     ]
    },
    {
     "data": {
      "application/vnd.jupyter.widget-view+json": {
       "model_id": "0d4fc511304240f9bbc52d79422e5f6c",
       "version_major": 2,
       "version_minor": 0
      },
      "text/plain": [
       "  0%|          | 0/1 [00:00<?, ?it/s]"
      ]
     },
     "metadata": {},
     "output_type": "display_data"
    },
    {
     "name": "stderr",
     "output_type": "stream",
     "text": [
      "Checking SHAP issues:   1%|▋                                                                     | 333/35346 [02:14<1:05:28,  8.91it/s]C:\\Users\\slowd\\OneDrive\\Desktop\\Projects\\MLProjects\\Diabeties\\diabeties\\Lib\\site-packages\\sklearn\\utils\\validation.py:2739: UserWarning: X does not have valid feature names, but SimpleImputer was fitted with feature names\n",
      "  warnings.warn(\n"
     ]
    },
    {
     "data": {
      "application/vnd.jupyter.widget-view+json": {
       "model_id": "451b9900428445a4bd5b81c651d141da",
       "version_major": 2,
       "version_minor": 0
      },
      "text/plain": [
       "  0%|          | 0/1 [00:00<?, ?it/s]"
      ]
     },
     "metadata": {},
     "output_type": "display_data"
    },
    {
     "name": "stderr",
     "output_type": "stream",
     "text": [
      "Checking SHAP issues:   1%|▋                                                                     | 334/35346 [02:14<1:07:10,  8.69it/s]C:\\Users\\slowd\\OneDrive\\Desktop\\Projects\\MLProjects\\Diabeties\\diabeties\\Lib\\site-packages\\sklearn\\utils\\validation.py:2739: UserWarning: X does not have valid feature names, but SimpleImputer was fitted with feature names\n",
      "  warnings.warn(\n"
     ]
    },
    {
     "data": {
      "application/vnd.jupyter.widget-view+json": {
       "model_id": "28b7b9cddacd4be5b15b75ddedcf065c",
       "version_major": 2,
       "version_minor": 0
      },
      "text/plain": [
       "  0%|          | 0/1 [00:00<?, ?it/s]"
      ]
     },
     "metadata": {},
     "output_type": "display_data"
    },
    {
     "name": "stderr",
     "output_type": "stream",
     "text": [
      "Checking SHAP issues:   1%|▋                                                                     | 335/35346 [02:14<1:06:39,  8.75it/s]C:\\Users\\slowd\\OneDrive\\Desktop\\Projects\\MLProjects\\Diabeties\\diabeties\\Lib\\site-packages\\sklearn\\utils\\validation.py:2739: UserWarning: X does not have valid feature names, but SimpleImputer was fitted with feature names\n",
      "  warnings.warn(\n"
     ]
    },
    {
     "data": {
      "application/vnd.jupyter.widget-view+json": {
       "model_id": "06cb53d4b1e44510a7bb7077073874ce",
       "version_major": 2,
       "version_minor": 0
      },
      "text/plain": [
       "  0%|          | 0/1 [00:00<?, ?it/s]"
      ]
     },
     "metadata": {},
     "output_type": "display_data"
    },
    {
     "name": "stderr",
     "output_type": "stream",
     "text": [
      "C:\\Users\\slowd\\OneDrive\\Desktop\\Projects\\MLProjects\\Diabeties\\diabeties\\Lib\\site-packages\\sklearn\\utils\\validation.py:2739: UserWarning: X does not have valid feature names, but SimpleImputer was fitted with feature names\n",
      "  warnings.warn(\n"
     ]
    },
    {
     "data": {
      "application/vnd.jupyter.widget-view+json": {
       "model_id": "0cd0d0100d6f4693a93f4de07dfea080",
       "version_major": 2,
       "version_minor": 0
      },
      "text/plain": [
       "  0%|          | 0/1 [00:00<?, ?it/s]"
      ]
     },
     "metadata": {},
     "output_type": "display_data"
    },
    {
     "name": "stderr",
     "output_type": "stream",
     "text": [
      "Checking SHAP issues:   1%|▋                                                                     | 337/35346 [02:14<1:01:58,  9.41it/s]C:\\Users\\slowd\\OneDrive\\Desktop\\Projects\\MLProjects\\Diabeties\\diabeties\\Lib\\site-packages\\sklearn\\utils\\validation.py:2739: UserWarning: X does not have valid feature names, but SimpleImputer was fitted with feature names\n",
      "  warnings.warn(\n"
     ]
    },
    {
     "data": {
      "application/vnd.jupyter.widget-view+json": {
       "model_id": "c8d2a4aaf9e347f8b26132ad9c41ba96",
       "version_major": 2,
       "version_minor": 0
      },
      "text/plain": [
       "  0%|          | 0/1 [00:00<?, ?it/s]"
      ]
     },
     "metadata": {},
     "output_type": "display_data"
    },
    {
     "name": "stderr",
     "output_type": "stream",
     "text": [
      "Checking SHAP issues:   1%|▋                                                                     | 338/35346 [02:14<1:02:18,  9.36it/s]C:\\Users\\slowd\\OneDrive\\Desktop\\Projects\\MLProjects\\Diabeties\\diabeties\\Lib\\site-packages\\sklearn\\utils\\validation.py:2739: UserWarning: X does not have valid feature names, but SimpleImputer was fitted with feature names\n",
      "  warnings.warn(\n"
     ]
    },
    {
     "data": {
      "application/vnd.jupyter.widget-view+json": {
       "model_id": "395c11fcb4604323ab9d0d90456f9806",
       "version_major": 2,
       "version_minor": 0
      },
      "text/plain": [
       "  0%|          | 0/1 [00:00<?, ?it/s]"
      ]
     },
     "metadata": {},
     "output_type": "display_data"
    },
    {
     "name": "stderr",
     "output_type": "stream",
     "text": [
      "Checking SHAP issues:   1%|▋                                                                     | 339/35346 [02:14<1:03:20,  9.21it/s]C:\\Users\\slowd\\OneDrive\\Desktop\\Projects\\MLProjects\\Diabeties\\diabeties\\Lib\\site-packages\\sklearn\\utils\\validation.py:2739: UserWarning: X does not have valid feature names, but SimpleImputer was fitted with feature names\n",
      "  warnings.warn(\n"
     ]
    },
    {
     "data": {
      "application/vnd.jupyter.widget-view+json": {
       "model_id": "5e2a84a6ed8b447fb44141c20e131700",
       "version_major": 2,
       "version_minor": 0
      },
      "text/plain": [
       "  0%|          | 0/1 [00:00<?, ?it/s]"
      ]
     },
     "metadata": {},
     "output_type": "display_data"
    },
    {
     "name": "stderr",
     "output_type": "stream",
     "text": [
      "Checking SHAP issues:   1%|▋                                                                     | 340/35346 [02:14<1:03:08,  9.24it/s]C:\\Users\\slowd\\OneDrive\\Desktop\\Projects\\MLProjects\\Diabeties\\diabeties\\Lib\\site-packages\\sklearn\\utils\\validation.py:2739: UserWarning: X does not have valid feature names, but SimpleImputer was fitted with feature names\n",
      "  warnings.warn(\n"
     ]
    },
    {
     "data": {
      "application/vnd.jupyter.widget-view+json": {
       "model_id": "2d01e57691c74c2d8b9f389407bca119",
       "version_major": 2,
       "version_minor": 0
      },
      "text/plain": [
       "  0%|          | 0/1 [00:00<?, ?it/s]"
      ]
     },
     "metadata": {},
     "output_type": "display_data"
    },
    {
     "name": "stderr",
     "output_type": "stream",
     "text": [
      "C:\\Users\\slowd\\OneDrive\\Desktop\\Projects\\MLProjects\\Diabeties\\diabeties\\Lib\\site-packages\\sklearn\\utils\\validation.py:2739: UserWarning: X does not have valid feature names, but SimpleImputer was fitted with feature names\n",
      "  warnings.warn(\n"
     ]
    },
    {
     "data": {
      "application/vnd.jupyter.widget-view+json": {
       "model_id": "a3d69ae2b4af4c75b5711f43c7ac0652",
       "version_major": 2,
       "version_minor": 0
      },
      "text/plain": [
       "  0%|          | 0/1 [00:00<?, ?it/s]"
      ]
     },
     "metadata": {},
     "output_type": "display_data"
    },
    {
     "name": "stderr",
     "output_type": "stream",
     "text": [
      "Checking SHAP issues:   1%|▋                                                                     | 342/35346 [02:15<1:01:30,  9.49it/s]C:\\Users\\slowd\\OneDrive\\Desktop\\Projects\\MLProjects\\Diabeties\\diabeties\\Lib\\site-packages\\sklearn\\utils\\validation.py:2739: UserWarning: X does not have valid feature names, but SimpleImputer was fitted with feature names\n",
      "  warnings.warn(\n"
     ]
    },
    {
     "data": {
      "application/vnd.jupyter.widget-view+json": {
       "model_id": "604b389dc1ee474fbec27e0872486380",
       "version_major": 2,
       "version_minor": 0
      },
      "text/plain": [
       "  0%|          | 0/1 [00:00<?, ?it/s]"
      ]
     },
     "metadata": {},
     "output_type": "display_data"
    },
    {
     "name": "stderr",
     "output_type": "stream",
     "text": [
      "Checking SHAP issues:   1%|▋                                                                     | 343/35346 [02:15<1:02:34,  9.32it/s]C:\\Users\\slowd\\OneDrive\\Desktop\\Projects\\MLProjects\\Diabeties\\diabeties\\Lib\\site-packages\\sklearn\\utils\\validation.py:2739: UserWarning: X does not have valid feature names, but SimpleImputer was fitted with feature names\n",
      "  warnings.warn(\n"
     ]
    },
    {
     "data": {
      "application/vnd.jupyter.widget-view+json": {
       "model_id": "b07a3e74e6bb4902930008b5ae4486e5",
       "version_major": 2,
       "version_minor": 0
      },
      "text/plain": [
       "  0%|          | 0/1 [00:00<?, ?it/s]"
      ]
     },
     "metadata": {},
     "output_type": "display_data"
    },
    {
     "name": "stderr",
     "output_type": "stream",
     "text": [
      "Checking SHAP issues:   1%|▋                                                                     | 344/35346 [02:15<1:03:07,  9.24it/s]C:\\Users\\slowd\\OneDrive\\Desktop\\Projects\\MLProjects\\Diabeties\\diabeties\\Lib\\site-packages\\sklearn\\utils\\validation.py:2739: UserWarning: X does not have valid feature names, but SimpleImputer was fitted with feature names\n",
      "  warnings.warn(\n"
     ]
    },
    {
     "data": {
      "application/vnd.jupyter.widget-view+json": {
       "model_id": "99b4683958c34b8a8c3324919a4416d2",
       "version_major": 2,
       "version_minor": 0
      },
      "text/plain": [
       "  0%|          | 0/1 [00:00<?, ?it/s]"
      ]
     },
     "metadata": {},
     "output_type": "display_data"
    },
    {
     "name": "stderr",
     "output_type": "stream",
     "text": [
      "C:\\Users\\slowd\\OneDrive\\Desktop\\Projects\\MLProjects\\Diabeties\\diabeties\\Lib\\site-packages\\sklearn\\utils\\validation.py:2739: UserWarning: X does not have valid feature names, but SimpleImputer was fitted with feature names\n",
      "  warnings.warn(\n"
     ]
    },
    {
     "data": {
      "application/vnd.jupyter.widget-view+json": {
       "model_id": "13e74bd7d32b49f29ede32cdce58e0f7",
       "version_major": 2,
       "version_minor": 0
      },
      "text/plain": [
       "  0%|          | 0/1 [00:00<?, ?it/s]"
      ]
     },
     "metadata": {},
     "output_type": "display_data"
    },
    {
     "name": "stderr",
     "output_type": "stream",
     "text": [
      "Checking SHAP issues:   1%|▋                                                                       | 346/35346 [02:15<59:15,  9.84it/s]C:\\Users\\slowd\\OneDrive\\Desktop\\Projects\\MLProjects\\Diabeties\\diabeties\\Lib\\site-packages\\sklearn\\utils\\validation.py:2739: UserWarning: X does not have valid feature names, but SimpleImputer was fitted with feature names\n",
      "  warnings.warn(\n"
     ]
    },
    {
     "data": {
      "application/vnd.jupyter.widget-view+json": {
       "model_id": "1ff5160adc44455698a207bd69d07084",
       "version_major": 2,
       "version_minor": 0
      },
      "text/plain": [
       "  0%|          | 0/1 [00:00<?, ?it/s]"
      ]
     },
     "metadata": {},
     "output_type": "display_data"
    },
    {
     "name": "stderr",
     "output_type": "stream",
     "text": [
      "Checking SHAP issues:   1%|▋                                                                     | 347/35346 [02:15<1:03:39,  9.16it/s]C:\\Users\\slowd\\OneDrive\\Desktop\\Projects\\MLProjects\\Diabeties\\diabeties\\Lib\\site-packages\\sklearn\\utils\\validation.py:2739: UserWarning: X does not have valid feature names, but SimpleImputer was fitted with feature names\n",
      "  warnings.warn(\n"
     ]
    },
    {
     "data": {
      "application/vnd.jupyter.widget-view+json": {
       "model_id": "1bc7d0fbfcbb4f59bd1cbaea0cfec907",
       "version_major": 2,
       "version_minor": 0
      },
      "text/plain": [
       "  0%|          | 0/1 [00:00<?, ?it/s]"
      ]
     },
     "metadata": {},
     "output_type": "display_data"
    },
    {
     "name": "stderr",
     "output_type": "stream",
     "text": [
      "Checking SHAP issues:   1%|▋                                                                     | 348/35346 [02:15<1:04:19,  9.07it/s]C:\\Users\\slowd\\OneDrive\\Desktop\\Projects\\MLProjects\\Diabeties\\diabeties\\Lib\\site-packages\\sklearn\\utils\\validation.py:2739: UserWarning: X does not have valid feature names, but SimpleImputer was fitted with feature names\n",
      "  warnings.warn(\n"
     ]
    },
    {
     "data": {
      "application/vnd.jupyter.widget-view+json": {
       "model_id": "e957b53742324a54840d67503e64f288",
       "version_major": 2,
       "version_minor": 0
      },
      "text/plain": [
       "  0%|          | 0/1 [00:00<?, ?it/s]"
      ]
     },
     "metadata": {},
     "output_type": "display_data"
    },
    {
     "name": "stderr",
     "output_type": "stream",
     "text": [
      "Checking SHAP issues:   1%|▋                                                                     | 349/35346 [02:15<1:06:32,  8.77it/s]C:\\Users\\slowd\\OneDrive\\Desktop\\Projects\\MLProjects\\Diabeties\\diabeties\\Lib\\site-packages\\sklearn\\utils\\validation.py:2739: UserWarning: X does not have valid feature names, but SimpleImputer was fitted with feature names\n",
      "  warnings.warn(\n"
     ]
    },
    {
     "data": {
      "application/vnd.jupyter.widget-view+json": {
       "model_id": "cc7af72294e14c3a8a2066579fa35db9",
       "version_major": 2,
       "version_minor": 0
      },
      "text/plain": [
       "  0%|          | 0/1 [00:00<?, ?it/s]"
      ]
     },
     "metadata": {},
     "output_type": "display_data"
    },
    {
     "name": "stderr",
     "output_type": "stream",
     "text": [
      "C:\\Users\\slowd\\OneDrive\\Desktop\\Projects\\MLProjects\\Diabeties\\diabeties\\Lib\\site-packages\\sklearn\\utils\\validation.py:2739: UserWarning: X does not have valid feature names, but SimpleImputer was fitted with feature names\n",
      "  warnings.warn(\n"
     ]
    },
    {
     "data": {
      "application/vnd.jupyter.widget-view+json": {
       "model_id": "c82a1fe811664a75b60e05012b39188c",
       "version_major": 2,
       "version_minor": 0
      },
      "text/plain": [
       "  0%|          | 0/1 [00:00<?, ?it/s]"
      ]
     },
     "metadata": {},
     "output_type": "display_data"
    },
    {
     "name": "stderr",
     "output_type": "stream",
     "text": [
      "Checking SHAP issues:   1%|▋                                                                     | 351/35346 [02:16<1:03:15,  9.22it/s]C:\\Users\\slowd\\OneDrive\\Desktop\\Projects\\MLProjects\\Diabeties\\diabeties\\Lib\\site-packages\\sklearn\\utils\\validation.py:2739: UserWarning: X does not have valid feature names, but SimpleImputer was fitted with feature names\n",
      "  warnings.warn(\n"
     ]
    },
    {
     "data": {
      "application/vnd.jupyter.widget-view+json": {
       "model_id": "6312a9ad6c564b3a8d3cc462b524c0d9",
       "version_major": 2,
       "version_minor": 0
      },
      "text/plain": [
       "  0%|          | 0/1 [00:00<?, ?it/s]"
      ]
     },
     "metadata": {},
     "output_type": "display_data"
    },
    {
     "name": "stderr",
     "output_type": "stream",
     "text": [
      "Checking SHAP issues:   1%|▋                                                                     | 352/35346 [02:16<1:04:16,  9.07it/s]C:\\Users\\slowd\\OneDrive\\Desktop\\Projects\\MLProjects\\Diabeties\\diabeties\\Lib\\site-packages\\sklearn\\utils\\validation.py:2739: UserWarning: X does not have valid feature names, but SimpleImputer was fitted with feature names\n",
      "  warnings.warn(\n"
     ]
    },
    {
     "data": {
      "application/vnd.jupyter.widget-view+json": {
       "model_id": "0a5084eee78d4ee1b7f8a920ace080ec",
       "version_major": 2,
       "version_minor": 0
      },
      "text/plain": [
       "  0%|          | 0/1 [00:00<?, ?it/s]"
      ]
     },
     "metadata": {},
     "output_type": "display_data"
    },
    {
     "name": "stderr",
     "output_type": "stream",
     "text": [
      "C:\\Users\\slowd\\OneDrive\\Desktop\\Projects\\MLProjects\\Diabeties\\diabeties\\Lib\\site-packages\\sklearn\\utils\\validation.py:2739: UserWarning: X does not have valid feature names, but SimpleImputer was fitted with feature names\n",
      "  warnings.warn(\n"
     ]
    },
    {
     "data": {
      "application/vnd.jupyter.widget-view+json": {
       "model_id": "da8edd8fd8cf4b26b4a7af8300700b57",
       "version_major": 2,
       "version_minor": 0
      },
      "text/plain": [
       "  0%|          | 0/1 [00:00<?, ?it/s]"
      ]
     },
     "metadata": {},
     "output_type": "display_data"
    },
    {
     "name": "stderr",
     "output_type": "stream",
     "text": [
      "Checking SHAP issues:   1%|▋                                                                     | 354/35346 [02:16<1:00:59,  9.56it/s]C:\\Users\\slowd\\OneDrive\\Desktop\\Projects\\MLProjects\\Diabeties\\diabeties\\Lib\\site-packages\\sklearn\\utils\\validation.py:2739: UserWarning: X does not have valid feature names, but SimpleImputer was fitted with feature names\n",
      "  warnings.warn(\n"
     ]
    },
    {
     "data": {
      "application/vnd.jupyter.widget-view+json": {
       "model_id": "676fd26e599c4600bbf4a68fc4ee5c6c",
       "version_major": 2,
       "version_minor": 0
      },
      "text/plain": [
       "  0%|          | 0/1 [00:00<?, ?it/s]"
      ]
     },
     "metadata": {},
     "output_type": "display_data"
    },
    {
     "name": "stderr",
     "output_type": "stream",
     "text": [
      "Checking SHAP issues:   1%|▋                                                                     | 355/35346 [02:16<1:00:52,  9.58it/s]C:\\Users\\slowd\\OneDrive\\Desktop\\Projects\\MLProjects\\Diabeties\\diabeties\\Lib\\site-packages\\sklearn\\utils\\validation.py:2739: UserWarning: X does not have valid feature names, but SimpleImputer was fitted with feature names\n",
      "  warnings.warn(\n"
     ]
    },
    {
     "data": {
      "application/vnd.jupyter.widget-view+json": {
       "model_id": "2f6eaa9721e04614a4ea1ed8e334599f",
       "version_major": 2,
       "version_minor": 0
      },
      "text/plain": [
       "  0%|          | 0/1 [00:00<?, ?it/s]"
      ]
     },
     "metadata": {},
     "output_type": "display_data"
    },
    {
     "name": "stderr",
     "output_type": "stream",
     "text": [
      "C:\\Users\\slowd\\OneDrive\\Desktop\\Projects\\MLProjects\\Diabeties\\diabeties\\Lib\\site-packages\\sklearn\\utils\\validation.py:2739: UserWarning: X does not have valid feature names, but SimpleImputer was fitted with feature names\n",
      "  warnings.warn(\n"
     ]
    },
    {
     "data": {
      "application/vnd.jupyter.widget-view+json": {
       "model_id": "8f9a51aaa2f84b13b897ab26b6066ff5",
       "version_major": 2,
       "version_minor": 0
      },
      "text/plain": [
       "  0%|          | 0/1 [00:00<?, ?it/s]"
      ]
     },
     "metadata": {},
     "output_type": "display_data"
    },
    {
     "name": "stderr",
     "output_type": "stream",
     "text": [
      "Checking SHAP issues:   1%|▋                                                                       | 357/35346 [02:16<59:14,  9.84it/s]C:\\Users\\slowd\\OneDrive\\Desktop\\Projects\\MLProjects\\Diabeties\\diabeties\\Lib\\site-packages\\sklearn\\utils\\validation.py:2739: UserWarning: X does not have valid feature names, but SimpleImputer was fitted with feature names\n",
      "  warnings.warn(\n"
     ]
    },
    {
     "data": {
      "application/vnd.jupyter.widget-view+json": {
       "model_id": "3d50cf969957406cb176b48fa430bf68",
       "version_major": 2,
       "version_minor": 0
      },
      "text/plain": [
       "  0%|          | 0/1 [00:00<?, ?it/s]"
      ]
     },
     "metadata": {},
     "output_type": "display_data"
    },
    {
     "name": "stderr",
     "output_type": "stream",
     "text": [
      "Checking SHAP issues:   1%|▋                                                                       | 358/35346 [02:16<59:10,  9.86it/s]C:\\Users\\slowd\\OneDrive\\Desktop\\Projects\\MLProjects\\Diabeties\\diabeties\\Lib\\site-packages\\sklearn\\utils\\validation.py:2739: UserWarning: X does not have valid feature names, but SimpleImputer was fitted with feature names\n",
      "  warnings.warn(\n"
     ]
    },
    {
     "data": {
      "application/vnd.jupyter.widget-view+json": {
       "model_id": "5e7bc0dc68bf4885852219c620a9e87b",
       "version_major": 2,
       "version_minor": 0
      },
      "text/plain": [
       "  0%|          | 0/1 [00:00<?, ?it/s]"
      ]
     },
     "metadata": {},
     "output_type": "display_data"
    },
    {
     "name": "stderr",
     "output_type": "stream",
     "text": [
      "Checking SHAP issues:   1%|▋                                                                     | 359/35346 [02:16<1:00:31,  9.63it/s]C:\\Users\\slowd\\OneDrive\\Desktop\\Projects\\MLProjects\\Diabeties\\diabeties\\Lib\\site-packages\\sklearn\\utils\\validation.py:2739: UserWarning: X does not have valid feature names, but SimpleImputer was fitted with feature names\n",
      "  warnings.warn(\n"
     ]
    },
    {
     "data": {
      "application/vnd.jupyter.widget-view+json": {
       "model_id": "e317511ab17b4e2b9d152a59704acc3b",
       "version_major": 2,
       "version_minor": 0
      },
      "text/plain": [
       "  0%|          | 0/1 [00:00<?, ?it/s]"
      ]
     },
     "metadata": {},
     "output_type": "display_data"
    },
    {
     "name": "stderr",
     "output_type": "stream",
     "text": [
      "C:\\Users\\slowd\\OneDrive\\Desktop\\Projects\\MLProjects\\Diabeties\\diabeties\\Lib\\site-packages\\sklearn\\utils\\validation.py:2739: UserWarning: X does not have valid feature names, but SimpleImputer was fitted with feature names\n",
      "  warnings.warn(\n"
     ]
    },
    {
     "data": {
      "application/vnd.jupyter.widget-view+json": {
       "model_id": "6a0a2b0358d9438ab439c536f0a22831",
       "version_major": 2,
       "version_minor": 0
      },
      "text/plain": [
       "  0%|          | 0/1 [00:00<?, ?it/s]"
      ]
     },
     "metadata": {},
     "output_type": "display_data"
    },
    {
     "name": "stderr",
     "output_type": "stream",
     "text": [
      "Checking SHAP issues:   1%|▋                                                                     | 361/35346 [02:17<1:00:26,  9.65it/s]C:\\Users\\slowd\\OneDrive\\Desktop\\Projects\\MLProjects\\Diabeties\\diabeties\\Lib\\site-packages\\sklearn\\utils\\validation.py:2739: UserWarning: X does not have valid feature names, but SimpleImputer was fitted with feature names\n",
      "  warnings.warn(\n"
     ]
    },
    {
     "data": {
      "application/vnd.jupyter.widget-view+json": {
       "model_id": "3868efb48201461c821d9db3d624161a",
       "version_major": 2,
       "version_minor": 0
      },
      "text/plain": [
       "  0%|          | 0/1 [00:00<?, ?it/s]"
      ]
     },
     "metadata": {},
     "output_type": "display_data"
    },
    {
     "name": "stderr",
     "output_type": "stream",
     "text": [
      "Checking SHAP issues:   1%|▋                                                                     | 362/35346 [02:17<1:00:30,  9.64it/s]C:\\Users\\slowd\\OneDrive\\Desktop\\Projects\\MLProjects\\Diabeties\\diabeties\\Lib\\site-packages\\sklearn\\utils\\validation.py:2739: UserWarning: X does not have valid feature names, but SimpleImputer was fitted with feature names\n",
      "  warnings.warn(\n"
     ]
    },
    {
     "data": {
      "application/vnd.jupyter.widget-view+json": {
       "model_id": "b6b088fa325e4e1998ca813a217ef488",
       "version_major": 2,
       "version_minor": 0
      },
      "text/plain": [
       "  0%|          | 0/1 [00:00<?, ?it/s]"
      ]
     },
     "metadata": {},
     "output_type": "display_data"
    },
    {
     "name": "stderr",
     "output_type": "stream",
     "text": [
      "C:\\Users\\slowd\\OneDrive\\Desktop\\Projects\\MLProjects\\Diabeties\\diabeties\\Lib\\site-packages\\sklearn\\utils\\validation.py:2739: UserWarning: X does not have valid feature names, but SimpleImputer was fitted with feature names\n",
      "  warnings.warn(\n"
     ]
    },
    {
     "data": {
      "application/vnd.jupyter.widget-view+json": {
       "model_id": "e81b1b35572a4495b9a64ffea6e54dc7",
       "version_major": 2,
       "version_minor": 0
      },
      "text/plain": [
       "  0%|          | 0/1 [00:00<?, ?it/s]"
      ]
     },
     "metadata": {},
     "output_type": "display_data"
    },
    {
     "name": "stderr",
     "output_type": "stream",
     "text": [
      "Checking SHAP issues:   1%|▋                                                                     | 364/35346 [02:17<1:00:58,  9.56it/s]C:\\Users\\slowd\\OneDrive\\Desktop\\Projects\\MLProjects\\Diabeties\\diabeties\\Lib\\site-packages\\sklearn\\utils\\validation.py:2739: UserWarning: X does not have valid feature names, but SimpleImputer was fitted with feature names\n",
      "  warnings.warn(\n"
     ]
    },
    {
     "data": {
      "application/vnd.jupyter.widget-view+json": {
       "model_id": "211198529cd74fec910e9cf52c0f37ff",
       "version_major": 2,
       "version_minor": 0
      },
      "text/plain": [
       "  0%|          | 0/1 [00:00<?, ?it/s]"
      ]
     },
     "metadata": {},
     "output_type": "display_data"
    },
    {
     "name": "stderr",
     "output_type": "stream",
     "text": [
      "Checking SHAP issues:   1%|▋                                                                     | 365/35346 [02:17<1:04:06,  9.09it/s]C:\\Users\\slowd\\OneDrive\\Desktop\\Projects\\MLProjects\\Diabeties\\diabeties\\Lib\\site-packages\\sklearn\\utils\\validation.py:2739: UserWarning: X does not have valid feature names, but SimpleImputer was fitted with feature names\n",
      "  warnings.warn(\n"
     ]
    },
    {
     "data": {
      "application/vnd.jupyter.widget-view+json": {
       "model_id": "bdb6cd26d2ef46c79553f8593a087b3f",
       "version_major": 2,
       "version_minor": 0
      },
      "text/plain": [
       "  0%|          | 0/1 [00:00<?, ?it/s]"
      ]
     },
     "metadata": {},
     "output_type": "display_data"
    },
    {
     "name": "stderr",
     "output_type": "stream",
     "text": [
      "Checking SHAP issues:   1%|▋                                                                     | 366/35346 [02:17<1:05:38,  8.88it/s]C:\\Users\\slowd\\OneDrive\\Desktop\\Projects\\MLProjects\\Diabeties\\diabeties\\Lib\\site-packages\\sklearn\\utils\\validation.py:2739: UserWarning: X does not have valid feature names, but SimpleImputer was fitted with feature names\n",
      "  warnings.warn(\n"
     ]
    },
    {
     "data": {
      "application/vnd.jupyter.widget-view+json": {
       "model_id": "99558ea759c84b7c91f37f20ff4d7af3",
       "version_major": 2,
       "version_minor": 0
      },
      "text/plain": [
       "  0%|          | 0/1 [00:00<?, ?it/s]"
      ]
     },
     "metadata": {},
     "output_type": "display_data"
    },
    {
     "name": "stderr",
     "output_type": "stream",
     "text": [
      "C:\\Users\\slowd\\OneDrive\\Desktop\\Projects\\MLProjects\\Diabeties\\diabeties\\Lib\\site-packages\\sklearn\\utils\\validation.py:2739: UserWarning: X does not have valid feature names, but SimpleImputer was fitted with feature names\n",
      "  warnings.warn(\n"
     ]
    },
    {
     "data": {
      "application/vnd.jupyter.widget-view+json": {
       "model_id": "9cfe4a6f8765490b844afe0843e28786",
       "version_major": 2,
       "version_minor": 0
      },
      "text/plain": [
       "  0%|          | 0/1 [00:00<?, ?it/s]"
      ]
     },
     "metadata": {},
     "output_type": "display_data"
    },
    {
     "name": "stderr",
     "output_type": "stream",
     "text": [
      "Checking SHAP issues:   1%|▋                                                                     | 368/35346 [02:17<1:01:59,  9.40it/s]C:\\Users\\slowd\\OneDrive\\Desktop\\Projects\\MLProjects\\Diabeties\\diabeties\\Lib\\site-packages\\sklearn\\utils\\validation.py:2739: UserWarning: X does not have valid feature names, but SimpleImputer was fitted with feature names\n",
      "  warnings.warn(\n"
     ]
    },
    {
     "data": {
      "application/vnd.jupyter.widget-view+json": {
       "model_id": "c7bca938395e4d55a55fe935de37fa58",
       "version_major": 2,
       "version_minor": 0
      },
      "text/plain": [
       "  0%|          | 0/1 [00:00<?, ?it/s]"
      ]
     },
     "metadata": {},
     "output_type": "display_data"
    },
    {
     "name": "stderr",
     "output_type": "stream",
     "text": [
      "Checking SHAP issues:   1%|▋                                                                     | 369/35346 [02:17<1:01:43,  9.44it/s]C:\\Users\\slowd\\OneDrive\\Desktop\\Projects\\MLProjects\\Diabeties\\diabeties\\Lib\\site-packages\\sklearn\\utils\\validation.py:2739: UserWarning: X does not have valid feature names, but SimpleImputer was fitted with feature names\n",
      "  warnings.warn(\n"
     ]
    },
    {
     "data": {
      "application/vnd.jupyter.widget-view+json": {
       "model_id": "3a8f8ca2858b4a5ab560f120d11e2bfc",
       "version_major": 2,
       "version_minor": 0
      },
      "text/plain": [
       "  0%|          | 0/1 [00:00<?, ?it/s]"
      ]
     },
     "metadata": {},
     "output_type": "display_data"
    },
    {
     "name": "stderr",
     "output_type": "stream",
     "text": [
      "C:\\Users\\slowd\\OneDrive\\Desktop\\Projects\\MLProjects\\Diabeties\\diabeties\\Lib\\site-packages\\sklearn\\utils\\validation.py:2739: UserWarning: X does not have valid feature names, but SimpleImputer was fitted with feature names\n",
      "  warnings.warn(\n"
     ]
    },
    {
     "data": {
      "application/vnd.jupyter.widget-view+json": {
       "model_id": "770095b26d30470792c3c9742f802a6b",
       "version_major": 2,
       "version_minor": 0
      },
      "text/plain": [
       "  0%|          | 0/1 [00:00<?, ?it/s]"
      ]
     },
     "metadata": {},
     "output_type": "display_data"
    },
    {
     "name": "stderr",
     "output_type": "stream",
     "text": [
      "Checking SHAP issues:   1%|▊                                                                       | 371/35346 [02:18<59:22,  9.82it/s]C:\\Users\\slowd\\OneDrive\\Desktop\\Projects\\MLProjects\\Diabeties\\diabeties\\Lib\\site-packages\\sklearn\\utils\\validation.py:2739: UserWarning: X does not have valid feature names, but SimpleImputer was fitted with feature names\n",
      "  warnings.warn(\n"
     ]
    },
    {
     "data": {
      "application/vnd.jupyter.widget-view+json": {
       "model_id": "92268db664b84673ba0a48d79ef94848",
       "version_major": 2,
       "version_minor": 0
      },
      "text/plain": [
       "  0%|          | 0/1 [00:00<?, ?it/s]"
      ]
     },
     "metadata": {},
     "output_type": "display_data"
    },
    {
     "name": "stderr",
     "output_type": "stream",
     "text": [
      "C:\\Users\\slowd\\OneDrive\\Desktop\\Projects\\MLProjects\\Diabeties\\diabeties\\Lib\\site-packages\\sklearn\\utils\\validation.py:2739: UserWarning: X does not have valid feature names, but SimpleImputer was fitted with feature names\n",
      "  warnings.warn(\n"
     ]
    },
    {
     "data": {
      "application/vnd.jupyter.widget-view+json": {
       "model_id": "a27680445f9943449936025bd395aaf7",
       "version_major": 2,
       "version_minor": 0
      },
      "text/plain": [
       "  0%|          | 0/1 [00:00<?, ?it/s]"
      ]
     },
     "metadata": {},
     "output_type": "display_data"
    },
    {
     "name": "stderr",
     "output_type": "stream",
     "text": [
      "Checking SHAP issues:   1%|▊                                                                       | 373/35346 [02:18<57:12, 10.19it/s]C:\\Users\\slowd\\OneDrive\\Desktop\\Projects\\MLProjects\\Diabeties\\diabeties\\Lib\\site-packages\\sklearn\\utils\\validation.py:2739: UserWarning: X does not have valid feature names, but SimpleImputer was fitted with feature names\n",
      "  warnings.warn(\n"
     ]
    },
    {
     "data": {
      "application/vnd.jupyter.widget-view+json": {
       "model_id": "6ec754957daa45cbb5c7936507331cda",
       "version_major": 2,
       "version_minor": 0
      },
      "text/plain": [
       "  0%|          | 0/1 [00:00<?, ?it/s]"
      ]
     },
     "metadata": {},
     "output_type": "display_data"
    },
    {
     "name": "stderr",
     "output_type": "stream",
     "text": [
      "C:\\Users\\slowd\\OneDrive\\Desktop\\Projects\\MLProjects\\Diabeties\\diabeties\\Lib\\site-packages\\sklearn\\utils\\validation.py:2739: UserWarning: X does not have valid feature names, but SimpleImputer was fitted with feature names\n",
      "  warnings.warn(\n"
     ]
    },
    {
     "data": {
      "application/vnd.jupyter.widget-view+json": {
       "model_id": "c674fab2dca84bbf8048479e0f9e8713",
       "version_major": 2,
       "version_minor": 0
      },
      "text/plain": [
       "  0%|          | 0/1 [00:00<?, ?it/s]"
      ]
     },
     "metadata": {},
     "output_type": "display_data"
    },
    {
     "name": "stderr",
     "output_type": "stream",
     "text": [
      "Checking SHAP issues:   1%|▊                                                                       | 375/35346 [02:18<56:54, 10.24it/s]C:\\Users\\slowd\\OneDrive\\Desktop\\Projects\\MLProjects\\Diabeties\\diabeties\\Lib\\site-packages\\sklearn\\utils\\validation.py:2739: UserWarning: X does not have valid feature names, but SimpleImputer was fitted with feature names\n",
      "  warnings.warn(\n"
     ]
    },
    {
     "data": {
      "application/vnd.jupyter.widget-view+json": {
       "model_id": "c531f60b6f764ae2bd223efa8e08fc0b",
       "version_major": 2,
       "version_minor": 0
      },
      "text/plain": [
       "  0%|          | 0/1 [00:00<?, ?it/s]"
      ]
     },
     "metadata": {},
     "output_type": "display_data"
    },
    {
     "name": "stderr",
     "output_type": "stream",
     "text": [
      "C:\\Users\\slowd\\OneDrive\\Desktop\\Projects\\MLProjects\\Diabeties\\diabeties\\Lib\\site-packages\\sklearn\\utils\\validation.py:2739: UserWarning: X does not have valid feature names, but SimpleImputer was fitted with feature names\n",
      "  warnings.warn(\n"
     ]
    },
    {
     "data": {
      "application/vnd.jupyter.widget-view+json": {
       "model_id": "88f44dfd6fe34c688df40b2e53dcf169",
       "version_major": 2,
       "version_minor": 0
      },
      "text/plain": [
       "  0%|          | 0/1 [00:00<?, ?it/s]"
      ]
     },
     "metadata": {},
     "output_type": "display_data"
    },
    {
     "name": "stderr",
     "output_type": "stream",
     "text": [
      "Checking SHAP issues:   1%|▋                                                                     | 377/35346 [02:18<1:02:20,  9.35it/s]C:\\Users\\slowd\\OneDrive\\Desktop\\Projects\\MLProjects\\Diabeties\\diabeties\\Lib\\site-packages\\sklearn\\utils\\validation.py:2739: UserWarning: X does not have valid feature names, but SimpleImputer was fitted with feature names\n",
      "  warnings.warn(\n"
     ]
    },
    {
     "data": {
      "application/vnd.jupyter.widget-view+json": {
       "model_id": "2d9a6ace825249fba349b5a598d228f9",
       "version_major": 2,
       "version_minor": 0
      },
      "text/plain": [
       "  0%|          | 0/1 [00:00<?, ?it/s]"
      ]
     },
     "metadata": {},
     "output_type": "display_data"
    },
    {
     "name": "stderr",
     "output_type": "stream",
     "text": [
      "Checking SHAP issues:   1%|▋                                                                     | 378/35346 [02:18<1:01:50,  9.43it/s]C:\\Users\\slowd\\OneDrive\\Desktop\\Projects\\MLProjects\\Diabeties\\diabeties\\Lib\\site-packages\\sklearn\\utils\\validation.py:2739: UserWarning: X does not have valid feature names, but SimpleImputer was fitted with feature names\n",
      "  warnings.warn(\n"
     ]
    },
    {
     "data": {
      "application/vnd.jupyter.widget-view+json": {
       "model_id": "8719d52eaa4841d1baa6419cb8e3683b",
       "version_major": 2,
       "version_minor": 0
      },
      "text/plain": [
       "  0%|          | 0/1 [00:00<?, ?it/s]"
      ]
     },
     "metadata": {},
     "output_type": "display_data"
    },
    {
     "name": "stderr",
     "output_type": "stream",
     "text": [
      "C:\\Users\\slowd\\OneDrive\\Desktop\\Projects\\MLProjects\\Diabeties\\diabeties\\Lib\\site-packages\\sklearn\\utils\\validation.py:2739: UserWarning: X does not have valid feature names, but SimpleImputer was fitted with feature names\n",
      "  warnings.warn(\n"
     ]
    },
    {
     "data": {
      "application/vnd.jupyter.widget-view+json": {
       "model_id": "935dd52dab42445eb108638f52d6c65e",
       "version_major": 2,
       "version_minor": 0
      },
      "text/plain": [
       "  0%|          | 0/1 [00:00<?, ?it/s]"
      ]
     },
     "metadata": {},
     "output_type": "display_data"
    },
    {
     "name": "stderr",
     "output_type": "stream",
     "text": [
      "Checking SHAP issues:   1%|▊                                                                       | 380/35346 [02:19<59:41,  9.76it/s]C:\\Users\\slowd\\OneDrive\\Desktop\\Projects\\MLProjects\\Diabeties\\diabeties\\Lib\\site-packages\\sklearn\\utils\\validation.py:2739: UserWarning: X does not have valid feature names, but SimpleImputer was fitted with feature names\n",
      "  warnings.warn(\n"
     ]
    },
    {
     "data": {
      "application/vnd.jupyter.widget-view+json": {
       "model_id": "80fb44d2b2b84f76ae4b735976e51e64",
       "version_major": 2,
       "version_minor": 0
      },
      "text/plain": [
       "  0%|          | 0/1 [00:00<?, ?it/s]"
      ]
     },
     "metadata": {},
     "output_type": "display_data"
    },
    {
     "name": "stderr",
     "output_type": "stream",
     "text": [
      "C:\\Users\\slowd\\OneDrive\\Desktop\\Projects\\MLProjects\\Diabeties\\diabeties\\Lib\\site-packages\\sklearn\\utils\\validation.py:2739: UserWarning: X does not have valid feature names, but SimpleImputer was fitted with feature names\n",
      "  warnings.warn(\n"
     ]
    },
    {
     "data": {
      "application/vnd.jupyter.widget-view+json": {
       "model_id": "1aea2f9158444fadbbb88759361d01ea",
       "version_major": 2,
       "version_minor": 0
      },
      "text/plain": [
       "  0%|          | 0/1 [00:00<?, ?it/s]"
      ]
     },
     "metadata": {},
     "output_type": "display_data"
    },
    {
     "name": "stderr",
     "output_type": "stream",
     "text": [
      "Checking SHAP issues:   1%|▊                                                                       | 382/35346 [02:19<59:13,  9.84it/s]C:\\Users\\slowd\\OneDrive\\Desktop\\Projects\\MLProjects\\Diabeties\\diabeties\\Lib\\site-packages\\sklearn\\utils\\validation.py:2739: UserWarning: X does not have valid feature names, but SimpleImputer was fitted with feature names\n",
      "  warnings.warn(\n"
     ]
    },
    {
     "data": {
      "application/vnd.jupyter.widget-view+json": {
       "model_id": "3db1416c82de429490ea42e7dc053613",
       "version_major": 2,
       "version_minor": 0
      },
      "text/plain": [
       "  0%|          | 0/1 [00:00<?, ?it/s]"
      ]
     },
     "metadata": {},
     "output_type": "display_data"
    },
    {
     "name": "stderr",
     "output_type": "stream",
     "text": [
      "Checking SHAP issues:   1%|▊                                                                     | 383/35346 [02:19<1:05:01,  8.96it/s]C:\\Users\\slowd\\OneDrive\\Desktop\\Projects\\MLProjects\\Diabeties\\diabeties\\Lib\\site-packages\\sklearn\\utils\\validation.py:2739: UserWarning: X does not have valid feature names, but SimpleImputer was fitted with feature names\n",
      "  warnings.warn(\n"
     ]
    },
    {
     "data": {
      "application/vnd.jupyter.widget-view+json": {
       "model_id": "7056d5063d274d95b76722af6af22473",
       "version_major": 2,
       "version_minor": 0
      },
      "text/plain": [
       "  0%|          | 0/1 [00:00<?, ?it/s]"
      ]
     },
     "metadata": {},
     "output_type": "display_data"
    },
    {
     "name": "stderr",
     "output_type": "stream",
     "text": [
      "Checking SHAP issues:   1%|▊                                                                     | 384/35346 [02:19<1:05:48,  8.85it/s]C:\\Users\\slowd\\OneDrive\\Desktop\\Projects\\MLProjects\\Diabeties\\diabeties\\Lib\\site-packages\\sklearn\\utils\\validation.py:2739: UserWarning: X does not have valid feature names, but SimpleImputer was fitted with feature names\n",
      "  warnings.warn(\n"
     ]
    },
    {
     "data": {
      "application/vnd.jupyter.widget-view+json": {
       "model_id": "ad76e9c54b5c44d984955be92da86d86",
       "version_major": 2,
       "version_minor": 0
      },
      "text/plain": [
       "  0%|          | 0/1 [00:00<?, ?it/s]"
      ]
     },
     "metadata": {},
     "output_type": "display_data"
    },
    {
     "name": "stderr",
     "output_type": "stream",
     "text": [
      "Checking SHAP issues:   1%|▊                                                                     | 385/35346 [02:19<1:04:40,  9.01it/s]C:\\Users\\slowd\\OneDrive\\Desktop\\Projects\\MLProjects\\Diabeties\\diabeties\\Lib\\site-packages\\sklearn\\utils\\validation.py:2739: UserWarning: X does not have valid feature names, but SimpleImputer was fitted with feature names\n",
      "  warnings.warn(\n"
     ]
    },
    {
     "data": {
      "application/vnd.jupyter.widget-view+json": {
       "model_id": "4261d2642bd646eaa743b305542eaab6",
       "version_major": 2,
       "version_minor": 0
      },
      "text/plain": [
       "  0%|          | 0/1 [00:00<?, ?it/s]"
      ]
     },
     "metadata": {},
     "output_type": "display_data"
    },
    {
     "name": "stderr",
     "output_type": "stream",
     "text": [
      "Checking SHAP issues:   1%|▊                                                                     | 386/35346 [02:19<1:08:16,  8.53it/s]C:\\Users\\slowd\\OneDrive\\Desktop\\Projects\\MLProjects\\Diabeties\\diabeties\\Lib\\site-packages\\sklearn\\utils\\validation.py:2739: UserWarning: X does not have valid feature names, but SimpleImputer was fitted with feature names\n",
      "  warnings.warn(\n"
     ]
    },
    {
     "data": {
      "application/vnd.jupyter.widget-view+json": {
       "model_id": "56cc67447ff34ee38a965fc23374849f",
       "version_major": 2,
       "version_minor": 0
      },
      "text/plain": [
       "  0%|          | 0/1 [00:00<?, ?it/s]"
      ]
     },
     "metadata": {},
     "output_type": "display_data"
    },
    {
     "name": "stderr",
     "output_type": "stream",
     "text": [
      "Checking SHAP issues:   1%|▊                                                                     | 387/35346 [02:19<1:06:45,  8.73it/s]C:\\Users\\slowd\\OneDrive\\Desktop\\Projects\\MLProjects\\Diabeties\\diabeties\\Lib\\site-packages\\sklearn\\utils\\validation.py:2739: UserWarning: X does not have valid feature names, but SimpleImputer was fitted with feature names\n",
      "  warnings.warn(\n"
     ]
    },
    {
     "data": {
      "application/vnd.jupyter.widget-view+json": {
       "model_id": "5fcd4af7db994796b3e131256bc83f1e",
       "version_major": 2,
       "version_minor": 0
      },
      "text/plain": [
       "  0%|          | 0/1 [00:00<?, ?it/s]"
      ]
     },
     "metadata": {},
     "output_type": "display_data"
    },
    {
     "name": "stderr",
     "output_type": "stream",
     "text": [
      "C:\\Users\\slowd\\OneDrive\\Desktop\\Projects\\MLProjects\\Diabeties\\diabeties\\Lib\\site-packages\\sklearn\\utils\\validation.py:2739: UserWarning: X does not have valid feature names, but SimpleImputer was fitted with feature names\n",
      "  warnings.warn(\n"
     ]
    },
    {
     "data": {
      "application/vnd.jupyter.widget-view+json": {
       "model_id": "49b087d556074884995cc28497eb856a",
       "version_major": 2,
       "version_minor": 0
      },
      "text/plain": [
       "  0%|          | 0/1 [00:00<?, ?it/s]"
      ]
     },
     "metadata": {},
     "output_type": "display_data"
    },
    {
     "name": "stderr",
     "output_type": "stream",
     "text": [
      "Checking SHAP issues:   1%|▊                                                                     | 389/35346 [02:20<1:02:18,  9.35it/s]C:\\Users\\slowd\\OneDrive\\Desktop\\Projects\\MLProjects\\Diabeties\\diabeties\\Lib\\site-packages\\sklearn\\utils\\validation.py:2739: UserWarning: X does not have valid feature names, but SimpleImputer was fitted with feature names\n",
      "  warnings.warn(\n"
     ]
    },
    {
     "data": {
      "application/vnd.jupyter.widget-view+json": {
       "model_id": "73e188117b3a47b0a986ae5e5eff4598",
       "version_major": 2,
       "version_minor": 0
      },
      "text/plain": [
       "  0%|          | 0/1 [00:00<?, ?it/s]"
      ]
     },
     "metadata": {},
     "output_type": "display_data"
    },
    {
     "name": "stderr",
     "output_type": "stream",
     "text": [
      "Checking SHAP issues:   1%|▊                                                                     | 390/35346 [02:20<1:01:37,  9.46it/s]C:\\Users\\slowd\\OneDrive\\Desktop\\Projects\\MLProjects\\Diabeties\\diabeties\\Lib\\site-packages\\sklearn\\utils\\validation.py:2739: UserWarning: X does not have valid feature names, but SimpleImputer was fitted with feature names\n",
      "  warnings.warn(\n"
     ]
    },
    {
     "data": {
      "application/vnd.jupyter.widget-view+json": {
       "model_id": "050f6b9201304325956c9781fc158e47",
       "version_major": 2,
       "version_minor": 0
      },
      "text/plain": [
       "  0%|          | 0/1 [00:00<?, ?it/s]"
      ]
     },
     "metadata": {},
     "output_type": "display_data"
    },
    {
     "name": "stderr",
     "output_type": "stream",
     "text": [
      "C:\\Users\\slowd\\OneDrive\\Desktop\\Projects\\MLProjects\\Diabeties\\diabeties\\Lib\\site-packages\\sklearn\\utils\\validation.py:2739: UserWarning: X does not have valid feature names, but SimpleImputer was fitted with feature names\n",
      "  warnings.warn(\n"
     ]
    },
    {
     "data": {
      "application/vnd.jupyter.widget-view+json": {
       "model_id": "063f763c78d944c7a38885bbddac9105",
       "version_major": 2,
       "version_minor": 0
      },
      "text/plain": [
       "  0%|          | 0/1 [00:00<?, ?it/s]"
      ]
     },
     "metadata": {},
     "output_type": "display_data"
    },
    {
     "name": "stderr",
     "output_type": "stream",
     "text": [
      "Checking SHAP issues:   1%|▊                                                                       | 392/35346 [02:20<59:52,  9.73it/s]C:\\Users\\slowd\\OneDrive\\Desktop\\Projects\\MLProjects\\Diabeties\\diabeties\\Lib\\site-packages\\sklearn\\utils\\validation.py:2739: UserWarning: X does not have valid feature names, but SimpleImputer was fitted with feature names\n",
      "  warnings.warn(\n"
     ]
    },
    {
     "data": {
      "application/vnd.jupyter.widget-view+json": {
       "model_id": "7d632a7df3aa47228724bd8176c61a3d",
       "version_major": 2,
       "version_minor": 0
      },
      "text/plain": [
       "  0%|          | 0/1 [00:00<?, ?it/s]"
      ]
     },
     "metadata": {},
     "output_type": "display_data"
    },
    {
     "name": "stderr",
     "output_type": "stream",
     "text": [
      "Checking SHAP issues:   1%|▊                                                                     | 393/35346 [02:20<1:00:59,  9.55it/s]C:\\Users\\slowd\\OneDrive\\Desktop\\Projects\\MLProjects\\Diabeties\\diabeties\\Lib\\site-packages\\sklearn\\utils\\validation.py:2739: UserWarning: X does not have valid feature names, but SimpleImputer was fitted with feature names\n",
      "  warnings.warn(\n"
     ]
    },
    {
     "data": {
      "application/vnd.jupyter.widget-view+json": {
       "model_id": "cffcb01deb6f4fb6a376f3be656de582",
       "version_major": 2,
       "version_minor": 0
      },
      "text/plain": [
       "  0%|          | 0/1 [00:00<?, ?it/s]"
      ]
     },
     "metadata": {},
     "output_type": "display_data"
    },
    {
     "name": "stderr",
     "output_type": "stream",
     "text": [
      "Checking SHAP issues:   1%|▊                                                                     | 394/35346 [02:20<1:00:38,  9.61it/s]C:\\Users\\slowd\\OneDrive\\Desktop\\Projects\\MLProjects\\Diabeties\\diabeties\\Lib\\site-packages\\sklearn\\utils\\validation.py:2739: UserWarning: X does not have valid feature names, but SimpleImputer was fitted with feature names\n",
      "  warnings.warn(\n"
     ]
    },
    {
     "data": {
      "application/vnd.jupyter.widget-view+json": {
       "model_id": "96016b7aba244eef9be45cbafc207aa1",
       "version_major": 2,
       "version_minor": 0
      },
      "text/plain": [
       "  0%|          | 0/1 [00:00<?, ?it/s]"
      ]
     },
     "metadata": {},
     "output_type": "display_data"
    },
    {
     "name": "stderr",
     "output_type": "stream",
     "text": [
      "Checking SHAP issues:   1%|▊                                                                     | 395/35346 [02:20<1:00:14,  9.67it/s]C:\\Users\\slowd\\OneDrive\\Desktop\\Projects\\MLProjects\\Diabeties\\diabeties\\Lib\\site-packages\\sklearn\\utils\\validation.py:2739: UserWarning: X does not have valid feature names, but SimpleImputer was fitted with feature names\n",
      "  warnings.warn(\n"
     ]
    },
    {
     "data": {
      "application/vnd.jupyter.widget-view+json": {
       "model_id": "9bb4c14f6b9640aeb9325cc2d23835fd",
       "version_major": 2,
       "version_minor": 0
      },
      "text/plain": [
       "  0%|          | 0/1 [00:00<?, ?it/s]"
      ]
     },
     "metadata": {},
     "output_type": "display_data"
    },
    {
     "name": "stderr",
     "output_type": "stream",
     "text": [
      "Checking SHAP issues:   1%|▊                                                                     | 396/35346 [02:20<1:03:41,  9.15it/s]C:\\Users\\slowd\\OneDrive\\Desktop\\Projects\\MLProjects\\Diabeties\\diabeties\\Lib\\site-packages\\sklearn\\utils\\validation.py:2739: UserWarning: X does not have valid feature names, but SimpleImputer was fitted with feature names\n",
      "  warnings.warn(\n"
     ]
    },
    {
     "data": {
      "application/vnd.jupyter.widget-view+json": {
       "model_id": "d72bc822614b4c6da61094ba4137bd73",
       "version_major": 2,
       "version_minor": 0
      },
      "text/plain": [
       "  0%|          | 0/1 [00:00<?, ?it/s]"
      ]
     },
     "metadata": {},
     "output_type": "display_data"
    },
    {
     "name": "stderr",
     "output_type": "stream",
     "text": [
      "Checking SHAP issues:   1%|▊                                                                     | 397/35346 [02:20<1:09:56,  8.33it/s]C:\\Users\\slowd\\OneDrive\\Desktop\\Projects\\MLProjects\\Diabeties\\diabeties\\Lib\\site-packages\\sklearn\\utils\\validation.py:2739: UserWarning: X does not have valid feature names, but SimpleImputer was fitted with feature names\n",
      "  warnings.warn(\n"
     ]
    },
    {
     "data": {
      "application/vnd.jupyter.widget-view+json": {
       "model_id": "a4a6eabeeb414cddbbd9ed3e589c0837",
       "version_major": 2,
       "version_minor": 0
      },
      "text/plain": [
       "  0%|          | 0/1 [00:00<?, ?it/s]"
      ]
     },
     "metadata": {},
     "output_type": "display_data"
    },
    {
     "name": "stderr",
     "output_type": "stream",
     "text": [
      "C:\\Users\\slowd\\OneDrive\\Desktop\\Projects\\MLProjects\\Diabeties\\diabeties\\Lib\\site-packages\\sklearn\\utils\\validation.py:2739: UserWarning: X does not have valid feature names, but SimpleImputer was fitted with feature names\n",
      "  warnings.warn(\n"
     ]
    },
    {
     "data": {
      "application/vnd.jupyter.widget-view+json": {
       "model_id": "aa09613153ec49b5b8018b1ed1fe2aaf",
       "version_major": 2,
       "version_minor": 0
      },
      "text/plain": [
       "  0%|          | 0/1 [00:00<?, ?it/s]"
      ]
     },
     "metadata": {},
     "output_type": "display_data"
    },
    {
     "name": "stderr",
     "output_type": "stream",
     "text": [
      "Checking SHAP issues:   1%|▊                                                                     | 399/35346 [02:21<1:05:24,  8.91it/s]C:\\Users\\slowd\\OneDrive\\Desktop\\Projects\\MLProjects\\Diabeties\\diabeties\\Lib\\site-packages\\sklearn\\utils\\validation.py:2739: UserWarning: X does not have valid feature names, but SimpleImputer was fitted with feature names\n",
      "  warnings.warn(\n"
     ]
    },
    {
     "data": {
      "application/vnd.jupyter.widget-view+json": {
       "model_id": "16dc650acfde4cbdaa1b9434419ffb19",
       "version_major": 2,
       "version_minor": 0
      },
      "text/plain": [
       "  0%|          | 0/1 [00:00<?, ?it/s]"
      ]
     },
     "metadata": {},
     "output_type": "display_data"
    },
    {
     "name": "stderr",
     "output_type": "stream",
     "text": [
      "C:\\Users\\slowd\\OneDrive\\Desktop\\Projects\\MLProjects\\Diabeties\\diabeties\\Lib\\site-packages\\sklearn\\utils\\validation.py:2739: UserWarning: X does not have valid feature names, but SimpleImputer was fitted with feature names\n",
      "  warnings.warn(\n"
     ]
    },
    {
     "data": {
      "application/vnd.jupyter.widget-view+json": {
       "model_id": "477609689bda43e78d1183ed1a88c18c",
       "version_major": 2,
       "version_minor": 0
      },
      "text/plain": [
       "  0%|          | 0/1 [00:00<?, ?it/s]"
      ]
     },
     "metadata": {},
     "output_type": "display_data"
    },
    {
     "name": "stderr",
     "output_type": "stream",
     "text": [
      "Checking SHAP issues:   1%|▊                                                                     | 401/35346 [02:21<1:04:12,  9.07it/s]C:\\Users\\slowd\\OneDrive\\Desktop\\Projects\\MLProjects\\Diabeties\\diabeties\\Lib\\site-packages\\sklearn\\utils\\validation.py:2739: UserWarning: X does not have valid feature names, but SimpleImputer was fitted with feature names\n",
      "  warnings.warn(\n"
     ]
    },
    {
     "data": {
      "application/vnd.jupyter.widget-view+json": {
       "model_id": "4f3a25006c654c3d9bb6a2de02e5c2ac",
       "version_major": 2,
       "version_minor": 0
      },
      "text/plain": [
       "  0%|          | 0/1 [00:00<?, ?it/s]"
      ]
     },
     "metadata": {},
     "output_type": "display_data"
    },
    {
     "name": "stderr",
     "output_type": "stream",
     "text": [
      "C:\\Users\\slowd\\OneDrive\\Desktop\\Projects\\MLProjects\\Diabeties\\diabeties\\Lib\\site-packages\\sklearn\\utils\\validation.py:2739: UserWarning: X does not have valid feature names, but SimpleImputer was fitted with feature names\n",
      "  warnings.warn(\n"
     ]
    },
    {
     "data": {
      "application/vnd.jupyter.widget-view+json": {
       "model_id": "118e7db1c4d448bd821e6a6ba971f58e",
       "version_major": 2,
       "version_minor": 0
      },
      "text/plain": [
       "  0%|          | 0/1 [00:00<?, ?it/s]"
      ]
     },
     "metadata": {},
     "output_type": "display_data"
    },
    {
     "name": "stderr",
     "output_type": "stream",
     "text": [
      "Checking SHAP issues:   1%|▊                                                                     | 403/35346 [02:21<1:03:35,  9.16it/s]C:\\Users\\slowd\\OneDrive\\Desktop\\Projects\\MLProjects\\Diabeties\\diabeties\\Lib\\site-packages\\sklearn\\utils\\validation.py:2739: UserWarning: X does not have valid feature names, but SimpleImputer was fitted with feature names\n",
      "  warnings.warn(\n"
     ]
    },
    {
     "data": {
      "application/vnd.jupyter.widget-view+json": {
       "model_id": "62e97149780f4a03b943233e09c74449",
       "version_major": 2,
       "version_minor": 0
      },
      "text/plain": [
       "  0%|          | 0/1 [00:00<?, ?it/s]"
      ]
     },
     "metadata": {},
     "output_type": "display_data"
    },
    {
     "name": "stderr",
     "output_type": "stream",
     "text": [
      "Checking SHAP issues:   1%|▊                                                                     | 404/35346 [02:21<1:02:50,  9.27it/s]C:\\Users\\slowd\\OneDrive\\Desktop\\Projects\\MLProjects\\Diabeties\\diabeties\\Lib\\site-packages\\sklearn\\utils\\validation.py:2739: UserWarning: X does not have valid feature names, but SimpleImputer was fitted with feature names\n",
      "  warnings.warn(\n"
     ]
    },
    {
     "data": {
      "application/vnd.jupyter.widget-view+json": {
       "model_id": "7fd4660e4239469ca7f3b2f2b2d92cdf",
       "version_major": 2,
       "version_minor": 0
      },
      "text/plain": [
       "  0%|          | 0/1 [00:00<?, ?it/s]"
      ]
     },
     "metadata": {},
     "output_type": "display_data"
    },
    {
     "name": "stderr",
     "output_type": "stream",
     "text": [
      "Checking SHAP issues:   1%|▊                                                                     | 405/35346 [02:21<1:08:29,  8.50it/s]C:\\Users\\slowd\\OneDrive\\Desktop\\Projects\\MLProjects\\Diabeties\\diabeties\\Lib\\site-packages\\sklearn\\utils\\validation.py:2739: UserWarning: X does not have valid feature names, but SimpleImputer was fitted with feature names\n",
      "  warnings.warn(\n"
     ]
    },
    {
     "data": {
      "application/vnd.jupyter.widget-view+json": {
       "model_id": "1693880ce6524d859ce8c2299290b5a2",
       "version_major": 2,
       "version_minor": 0
      },
      "text/plain": [
       "  0%|          | 0/1 [00:00<?, ?it/s]"
      ]
     },
     "metadata": {},
     "output_type": "display_data"
    },
    {
     "name": "stderr",
     "output_type": "stream",
     "text": [
      "Checking SHAP issues:   1%|▊                                                                     | 406/35346 [02:21<1:06:21,  8.78it/s]C:\\Users\\slowd\\OneDrive\\Desktop\\Projects\\MLProjects\\Diabeties\\diabeties\\Lib\\site-packages\\sklearn\\utils\\validation.py:2739: UserWarning: X does not have valid feature names, but SimpleImputer was fitted with feature names\n",
      "  warnings.warn(\n"
     ]
    },
    {
     "data": {
      "application/vnd.jupyter.widget-view+json": {
       "model_id": "c45f5848e4774a1eb24703f60756ce11",
       "version_major": 2,
       "version_minor": 0
      },
      "text/plain": [
       "  0%|          | 0/1 [00:00<?, ?it/s]"
      ]
     },
     "metadata": {},
     "output_type": "display_data"
    },
    {
     "name": "stderr",
     "output_type": "stream",
     "text": [
      "C:\\Users\\slowd\\OneDrive\\Desktop\\Projects\\MLProjects\\Diabeties\\diabeties\\Lib\\site-packages\\sklearn\\utils\\validation.py:2739: UserWarning: X does not have valid feature names, but SimpleImputer was fitted with feature names\n",
      "  warnings.warn(\n"
     ]
    },
    {
     "data": {
      "application/vnd.jupyter.widget-view+json": {
       "model_id": "a89d70c4945841bc828a401b201e2d75",
       "version_major": 2,
       "version_minor": 0
      },
      "text/plain": [
       "  0%|          | 0/1 [00:00<?, ?it/s]"
      ]
     },
     "metadata": {},
     "output_type": "display_data"
    },
    {
     "name": "stderr",
     "output_type": "stream",
     "text": [
      "Checking SHAP issues:   1%|▊                                                                     | 408/35346 [02:22<1:02:04,  9.38it/s]C:\\Users\\slowd\\OneDrive\\Desktop\\Projects\\MLProjects\\Diabeties\\diabeties\\Lib\\site-packages\\sklearn\\utils\\validation.py:2739: UserWarning: X does not have valid feature names, but SimpleImputer was fitted with feature names\n",
      "  warnings.warn(\n"
     ]
    },
    {
     "data": {
      "application/vnd.jupyter.widget-view+json": {
       "model_id": "86389ab66e5a4976af2cbd48b302320f",
       "version_major": 2,
       "version_minor": 0
      },
      "text/plain": [
       "  0%|          | 0/1 [00:00<?, ?it/s]"
      ]
     },
     "metadata": {},
     "output_type": "display_data"
    },
    {
     "name": "stderr",
     "output_type": "stream",
     "text": [
      "Checking SHAP issues:   1%|▊                                                                     | 409/35346 [02:22<1:01:55,  9.40it/s]C:\\Users\\slowd\\OneDrive\\Desktop\\Projects\\MLProjects\\Diabeties\\diabeties\\Lib\\site-packages\\sklearn\\utils\\validation.py:2739: UserWarning: X does not have valid feature names, but SimpleImputer was fitted with feature names\n",
      "  warnings.warn(\n"
     ]
    },
    {
     "data": {
      "application/vnd.jupyter.widget-view+json": {
       "model_id": "a50c4276957b4170a19555b2b0c44959",
       "version_major": 2,
       "version_minor": 0
      },
      "text/plain": [
       "  0%|          | 0/1 [00:00<?, ?it/s]"
      ]
     },
     "metadata": {},
     "output_type": "display_data"
    },
    {
     "name": "stderr",
     "output_type": "stream",
     "text": [
      "Checking SHAP issues:   1%|▊                                                                     | 410/35346 [02:22<1:02:38,  9.30it/s]C:\\Users\\slowd\\OneDrive\\Desktop\\Projects\\MLProjects\\Diabeties\\diabeties\\Lib\\site-packages\\sklearn\\utils\\validation.py:2739: UserWarning: X does not have valid feature names, but SimpleImputer was fitted with feature names\n",
      "  warnings.warn(\n"
     ]
    },
    {
     "data": {
      "application/vnd.jupyter.widget-view+json": {
       "model_id": "f2dfa9cd5a8141ce970ed9d69b6bfb0d",
       "version_major": 2,
       "version_minor": 0
      },
      "text/plain": [
       "  0%|          | 0/1 [00:00<?, ?it/s]"
      ]
     },
     "metadata": {},
     "output_type": "display_data"
    },
    {
     "name": "stderr",
     "output_type": "stream",
     "text": [
      "Checking SHAP issues:   1%|▊                                                                     | 411/35346 [02:22<1:01:40,  9.44it/s]C:\\Users\\slowd\\OneDrive\\Desktop\\Projects\\MLProjects\\Diabeties\\diabeties\\Lib\\site-packages\\sklearn\\utils\\validation.py:2739: UserWarning: X does not have valid feature names, but SimpleImputer was fitted with feature names\n",
      "  warnings.warn(\n"
     ]
    },
    {
     "data": {
      "application/vnd.jupyter.widget-view+json": {
       "model_id": "8c99744d9cfa4f54bba1962d884c04ca",
       "version_major": 2,
       "version_minor": 0
      },
      "text/plain": [
       "  0%|          | 0/1 [00:00<?, ?it/s]"
      ]
     },
     "metadata": {},
     "output_type": "display_data"
    },
    {
     "name": "stderr",
     "output_type": "stream",
     "text": [
      "Checking SHAP issues:   1%|▊                                                                     | 412/35346 [02:22<1:02:48,  9.27it/s]C:\\Users\\slowd\\OneDrive\\Desktop\\Projects\\MLProjects\\Diabeties\\diabeties\\Lib\\site-packages\\sklearn\\utils\\validation.py:2739: UserWarning: X does not have valid feature names, but SimpleImputer was fitted with feature names\n",
      "  warnings.warn(\n"
     ]
    },
    {
     "data": {
      "application/vnd.jupyter.widget-view+json": {
       "model_id": "11446fd01ece446a91b3ffe1736217a9",
       "version_major": 2,
       "version_minor": 0
      },
      "text/plain": [
       "  0%|          | 0/1 [00:00<?, ?it/s]"
      ]
     },
     "metadata": {},
     "output_type": "display_data"
    },
    {
     "name": "stderr",
     "output_type": "stream",
     "text": [
      "Checking SHAP issues:   1%|▊                                                                     | 413/35346 [02:22<1:04:05,  9.09it/s]C:\\Users\\slowd\\OneDrive\\Desktop\\Projects\\MLProjects\\Diabeties\\diabeties\\Lib\\site-packages\\sklearn\\utils\\validation.py:2739: UserWarning: X does not have valid feature names, but SimpleImputer was fitted with feature names\n",
      "  warnings.warn(\n"
     ]
    },
    {
     "data": {
      "application/vnd.jupyter.widget-view+json": {
       "model_id": "14696feac107443a9f23da3413a99f1d",
       "version_major": 2,
       "version_minor": 0
      },
      "text/plain": [
       "  0%|          | 0/1 [00:00<?, ?it/s]"
      ]
     },
     "metadata": {},
     "output_type": "display_data"
    },
    {
     "name": "stderr",
     "output_type": "stream",
     "text": [
      "Checking SHAP issues:   1%|▊                                                                     | 414/35346 [02:22<1:03:21,  9.19it/s]C:\\Users\\slowd\\OneDrive\\Desktop\\Projects\\MLProjects\\Diabeties\\diabeties\\Lib\\site-packages\\sklearn\\utils\\validation.py:2739: UserWarning: X does not have valid feature names, but SimpleImputer was fitted with feature names\n",
      "  warnings.warn(\n"
     ]
    },
    {
     "data": {
      "application/vnd.jupyter.widget-view+json": {
       "model_id": "8e87ff809e0a45cdb00cb33984b0541b",
       "version_major": 2,
       "version_minor": 0
      },
      "text/plain": [
       "  0%|          | 0/1 [00:00<?, ?it/s]"
      ]
     },
     "metadata": {},
     "output_type": "display_data"
    },
    {
     "name": "stderr",
     "output_type": "stream",
     "text": [
      "Checking SHAP issues:   1%|▊                                                                     | 415/35346 [02:22<1:03:14,  9.21it/s]C:\\Users\\slowd\\OneDrive\\Desktop\\Projects\\MLProjects\\Diabeties\\diabeties\\Lib\\site-packages\\sklearn\\utils\\validation.py:2739: UserWarning: X does not have valid feature names, but SimpleImputer was fitted with feature names\n",
      "  warnings.warn(\n"
     ]
    },
    {
     "data": {
      "application/vnd.jupyter.widget-view+json": {
       "model_id": "cf5ddf5e76ce40de9a2095b5e9528dc5",
       "version_major": 2,
       "version_minor": 0
      },
      "text/plain": [
       "  0%|          | 0/1 [00:00<?, ?it/s]"
      ]
     },
     "metadata": {},
     "output_type": "display_data"
    },
    {
     "name": "stderr",
     "output_type": "stream",
     "text": [
      "C:\\Users\\slowd\\OneDrive\\Desktop\\Projects\\MLProjects\\Diabeties\\diabeties\\Lib\\site-packages\\sklearn\\utils\\validation.py:2739: UserWarning: X does not have valid feature names, but SimpleImputer was fitted with feature names\n",
      "  warnings.warn(\n"
     ]
    },
    {
     "data": {
      "application/vnd.jupyter.widget-view+json": {
       "model_id": "6fd4a9c2ef6444f1b902d5ab42f2ab89",
       "version_major": 2,
       "version_minor": 0
      },
      "text/plain": [
       "  0%|          | 0/1 [00:00<?, ?it/s]"
      ]
     },
     "metadata": {},
     "output_type": "display_data"
    },
    {
     "name": "stderr",
     "output_type": "stream",
     "text": [
      "Checking SHAP issues:   1%|▊                                                                       | 417/35346 [02:23<59:14,  9.83it/s]C:\\Users\\slowd\\OneDrive\\Desktop\\Projects\\MLProjects\\Diabeties\\diabeties\\Lib\\site-packages\\sklearn\\utils\\validation.py:2739: UserWarning: X does not have valid feature names, but SimpleImputer was fitted with feature names\n",
      "  warnings.warn(\n"
     ]
    },
    {
     "data": {
      "application/vnd.jupyter.widget-view+json": {
       "model_id": "9f2d5f435b01430da4c31d15f9357118",
       "version_major": 2,
       "version_minor": 0
      },
      "text/plain": [
       "  0%|          | 0/1 [00:00<?, ?it/s]"
      ]
     },
     "metadata": {},
     "output_type": "display_data"
    },
    {
     "name": "stderr",
     "output_type": "stream",
     "text": [
      "C:\\Users\\slowd\\OneDrive\\Desktop\\Projects\\MLProjects\\Diabeties\\diabeties\\Lib\\site-packages\\sklearn\\utils\\validation.py:2739: UserWarning: X does not have valid feature names, but SimpleImputer was fitted with feature names\n",
      "  warnings.warn(\n"
     ]
    },
    {
     "data": {
      "application/vnd.jupyter.widget-view+json": {
       "model_id": "4b315bd423bb46d59cec0145402f598c",
       "version_major": 2,
       "version_minor": 0
      },
      "text/plain": [
       "  0%|          | 0/1 [00:00<?, ?it/s]"
      ]
     },
     "metadata": {},
     "output_type": "display_data"
    },
    {
     "name": "stderr",
     "output_type": "stream",
     "text": [
      "Checking SHAP issues:   1%|▊                                                                       | 419/35346 [02:23<57:22, 10.15it/s]C:\\Users\\slowd\\OneDrive\\Desktop\\Projects\\MLProjects\\Diabeties\\diabeties\\Lib\\site-packages\\sklearn\\utils\\validation.py:2739: UserWarning: X does not have valid feature names, but SimpleImputer was fitted with feature names\n",
      "  warnings.warn(\n"
     ]
    },
    {
     "data": {
      "application/vnd.jupyter.widget-view+json": {
       "model_id": "904e724256924f15aa870f0207505a71",
       "version_major": 2,
       "version_minor": 0
      },
      "text/plain": [
       "  0%|          | 0/1 [00:00<?, ?it/s]"
      ]
     },
     "metadata": {},
     "output_type": "display_data"
    },
    {
     "name": "stderr",
     "output_type": "stream",
     "text": [
      "C:\\Users\\slowd\\OneDrive\\Desktop\\Projects\\MLProjects\\Diabeties\\diabeties\\Lib\\site-packages\\sklearn\\utils\\validation.py:2739: UserWarning: X does not have valid feature names, but SimpleImputer was fitted with feature names\n",
      "  warnings.warn(\n"
     ]
    },
    {
     "data": {
      "application/vnd.jupyter.widget-view+json": {
       "model_id": "ae6425a33d72465a9fac81f13f93bcae",
       "version_major": 2,
       "version_minor": 0
      },
      "text/plain": [
       "  0%|          | 0/1 [00:00<?, ?it/s]"
      ]
     },
     "metadata": {},
     "output_type": "display_data"
    },
    {
     "name": "stderr",
     "output_type": "stream",
     "text": [
      "Checking SHAP issues:   1%|▊                                                                       | 421/35346 [02:23<58:31,  9.95it/s]C:\\Users\\slowd\\OneDrive\\Desktop\\Projects\\MLProjects\\Diabeties\\diabeties\\Lib\\site-packages\\sklearn\\utils\\validation.py:2739: UserWarning: X does not have valid feature names, but SimpleImputer was fitted with feature names\n",
      "  warnings.warn(\n"
     ]
    },
    {
     "data": {
      "application/vnd.jupyter.widget-view+json": {
       "model_id": "823c1c26f7fb4ca4989c7618b1620aec",
       "version_major": 2,
       "version_minor": 0
      },
      "text/plain": [
       "  0%|          | 0/1 [00:00<?, ?it/s]"
      ]
     },
     "metadata": {},
     "output_type": "display_data"
    },
    {
     "name": "stderr",
     "output_type": "stream",
     "text": [
      "C:\\Users\\slowd\\OneDrive\\Desktop\\Projects\\MLProjects\\Diabeties\\diabeties\\Lib\\site-packages\\sklearn\\utils\\validation.py:2739: UserWarning: X does not have valid feature names, but SimpleImputer was fitted with feature names\n",
      "  warnings.warn(\n"
     ]
    },
    {
     "data": {
      "application/vnd.jupyter.widget-view+json": {
       "model_id": "48712f40e10e4e3b91870e9b1ef4fc18",
       "version_major": 2,
       "version_minor": 0
      },
      "text/plain": [
       "  0%|          | 0/1 [00:00<?, ?it/s]"
      ]
     },
     "metadata": {},
     "output_type": "display_data"
    },
    {
     "name": "stderr",
     "output_type": "stream",
     "text": [
      "Checking SHAP issues:   1%|▊                                                                       | 423/35346 [02:23<57:39, 10.10it/s]C:\\Users\\slowd\\OneDrive\\Desktop\\Projects\\MLProjects\\Diabeties\\diabeties\\Lib\\site-packages\\sklearn\\utils\\validation.py:2739: UserWarning: X does not have valid feature names, but SimpleImputer was fitted with feature names\n",
      "  warnings.warn(\n"
     ]
    },
    {
     "data": {
      "application/vnd.jupyter.widget-view+json": {
       "model_id": "bc8bb8714bd84349a18aa4234b5ea9be",
       "version_major": 2,
       "version_minor": 0
      },
      "text/plain": [
       "  0%|          | 0/1 [00:00<?, ?it/s]"
      ]
     },
     "metadata": {},
     "output_type": "display_data"
    },
    {
     "name": "stderr",
     "output_type": "stream",
     "text": [
      "C:\\Users\\slowd\\OneDrive\\Desktop\\Projects\\MLProjects\\Diabeties\\diabeties\\Lib\\site-packages\\sklearn\\utils\\validation.py:2739: UserWarning: X does not have valid feature names, but SimpleImputer was fitted with feature names\n",
      "  warnings.warn(\n"
     ]
    },
    {
     "data": {
      "application/vnd.jupyter.widget-view+json": {
       "model_id": "ac4e43eb57c1471b99649b06ff552e64",
       "version_major": 2,
       "version_minor": 0
      },
      "text/plain": [
       "  0%|          | 0/1 [00:00<?, ?it/s]"
      ]
     },
     "metadata": {},
     "output_type": "display_data"
    },
    {
     "name": "stderr",
     "output_type": "stream",
     "text": [
      "Checking SHAP issues:   1%|▊                                                                       | 425/35346 [02:23<57:57, 10.04it/s]C:\\Users\\slowd\\OneDrive\\Desktop\\Projects\\MLProjects\\Diabeties\\diabeties\\Lib\\site-packages\\sklearn\\utils\\validation.py:2739: UserWarning: X does not have valid feature names, but SimpleImputer was fitted with feature names\n",
      "  warnings.warn(\n"
     ]
    },
    {
     "data": {
      "application/vnd.jupyter.widget-view+json": {
       "model_id": "b3ede7db1bef4439b6e97675f304e82d",
       "version_major": 2,
       "version_minor": 0
      },
      "text/plain": [
       "  0%|          | 0/1 [00:00<?, ?it/s]"
      ]
     },
     "metadata": {},
     "output_type": "display_data"
    },
    {
     "name": "stderr",
     "output_type": "stream",
     "text": [
      "Checking SHAP issues:   1%|▊                                                                       | 426/35346 [02:23<58:46,  9.90it/s]C:\\Users\\slowd\\OneDrive\\Desktop\\Projects\\MLProjects\\Diabeties\\diabeties\\Lib\\site-packages\\sklearn\\utils\\validation.py:2739: UserWarning: X does not have valid feature names, but SimpleImputer was fitted with feature names\n",
      "  warnings.warn(\n"
     ]
    },
    {
     "data": {
      "application/vnd.jupyter.widget-view+json": {
       "model_id": "adf5ca9a550e43a79bf64dae5bccf124",
       "version_major": 2,
       "version_minor": 0
      },
      "text/plain": [
       "  0%|          | 0/1 [00:00<?, ?it/s]"
      ]
     },
     "metadata": {},
     "output_type": "display_data"
    },
    {
     "name": "stderr",
     "output_type": "stream",
     "text": [
      "C:\\Users\\slowd\\OneDrive\\Desktop\\Projects\\MLProjects\\Diabeties\\diabeties\\Lib\\site-packages\\sklearn\\utils\\validation.py:2739: UserWarning: X does not have valid feature names, but SimpleImputer was fitted with feature names\n",
      "  warnings.warn(\n"
     ]
    },
    {
     "data": {
      "application/vnd.jupyter.widget-view+json": {
       "model_id": "602c39af69de4268a4e9b4e6b88e25b7",
       "version_major": 2,
       "version_minor": 0
      },
      "text/plain": [
       "  0%|          | 0/1 [00:00<?, ?it/s]"
      ]
     },
     "metadata": {},
     "output_type": "display_data"
    },
    {
     "name": "stderr",
     "output_type": "stream",
     "text": [
      "Checking SHAP issues:   1%|▊                                                                       | 428/35346 [02:24<58:19,  9.98it/s]C:\\Users\\slowd\\OneDrive\\Desktop\\Projects\\MLProjects\\Diabeties\\diabeties\\Lib\\site-packages\\sklearn\\utils\\validation.py:2739: UserWarning: X does not have valid feature names, but SimpleImputer was fitted with feature names\n",
      "  warnings.warn(\n"
     ]
    },
    {
     "data": {
      "application/vnd.jupyter.widget-view+json": {
       "model_id": "46ae1565d0d9444a9b4ddfa5b599ca8d",
       "version_major": 2,
       "version_minor": 0
      },
      "text/plain": [
       "  0%|          | 0/1 [00:00<?, ?it/s]"
      ]
     },
     "metadata": {},
     "output_type": "display_data"
    },
    {
     "name": "stderr",
     "output_type": "stream",
     "text": [
      "C:\\Users\\slowd\\OneDrive\\Desktop\\Projects\\MLProjects\\Diabeties\\diabeties\\Lib\\site-packages\\sklearn\\utils\\validation.py:2739: UserWarning: X does not have valid feature names, but SimpleImputer was fitted with feature names\n",
      "  warnings.warn(\n"
     ]
    },
    {
     "data": {
      "application/vnd.jupyter.widget-view+json": {
       "model_id": "f116186f0fe94b50810649cebe2f1dbf",
       "version_major": 2,
       "version_minor": 0
      },
      "text/plain": [
       "  0%|          | 0/1 [00:00<?, ?it/s]"
      ]
     },
     "metadata": {},
     "output_type": "display_data"
    },
    {
     "name": "stderr",
     "output_type": "stream",
     "text": [
      "Checking SHAP issues:   1%|▉                                                                       | 430/35346 [02:24<59:26,  9.79it/s]C:\\Users\\slowd\\OneDrive\\Desktop\\Projects\\MLProjects\\Diabeties\\diabeties\\Lib\\site-packages\\sklearn\\utils\\validation.py:2739: UserWarning: X does not have valid feature names, but SimpleImputer was fitted with feature names\n",
      "  warnings.warn(\n"
     ]
    },
    {
     "data": {
      "application/vnd.jupyter.widget-view+json": {
       "model_id": "1a3752e1f3e44262a503f9b4297f8090",
       "version_major": 2,
       "version_minor": 0
      },
      "text/plain": [
       "  0%|          | 0/1 [00:00<?, ?it/s]"
      ]
     },
     "metadata": {},
     "output_type": "display_data"
    },
    {
     "name": "stderr",
     "output_type": "stream",
     "text": [
      "Checking SHAP issues:   1%|▉                                                                       | 431/35346 [02:24<59:40,  9.75it/s]C:\\Users\\slowd\\OneDrive\\Desktop\\Projects\\MLProjects\\Diabeties\\diabeties\\Lib\\site-packages\\sklearn\\utils\\validation.py:2739: UserWarning: X does not have valid feature names, but SimpleImputer was fitted with feature names\n",
      "  warnings.warn(\n"
     ]
    },
    {
     "data": {
      "application/vnd.jupyter.widget-view+json": {
       "model_id": "fdb3a6e18e65474eab55f28829b8c7de",
       "version_major": 2,
       "version_minor": 0
      },
      "text/plain": [
       "  0%|          | 0/1 [00:00<?, ?it/s]"
      ]
     },
     "metadata": {},
     "output_type": "display_data"
    },
    {
     "name": "stderr",
     "output_type": "stream",
     "text": [
      "Checking SHAP issues:   1%|▊                                                                     | 432/35346 [02:24<1:01:43,  9.43it/s]C:\\Users\\slowd\\OneDrive\\Desktop\\Projects\\MLProjects\\Diabeties\\diabeties\\Lib\\site-packages\\sklearn\\utils\\validation.py:2739: UserWarning: X does not have valid feature names, but SimpleImputer was fitted with feature names\n",
      "  warnings.warn(\n"
     ]
    },
    {
     "data": {
      "application/vnd.jupyter.widget-view+json": {
       "model_id": "2c7d2eeed3604c42a078217185821bcb",
       "version_major": 2,
       "version_minor": 0
      },
      "text/plain": [
       "  0%|          | 0/1 [00:00<?, ?it/s]"
      ]
     },
     "metadata": {},
     "output_type": "display_data"
    },
    {
     "name": "stderr",
     "output_type": "stream",
     "text": [
      "Checking SHAP issues:   1%|▊                                                                     | 433/35346 [02:24<1:01:02,  9.53it/s]C:\\Users\\slowd\\OneDrive\\Desktop\\Projects\\MLProjects\\Diabeties\\diabeties\\Lib\\site-packages\\sklearn\\utils\\validation.py:2739: UserWarning: X does not have valid feature names, but SimpleImputer was fitted with feature names\n",
      "  warnings.warn(\n"
     ]
    },
    {
     "data": {
      "application/vnd.jupyter.widget-view+json": {
       "model_id": "0e32e591157f4a8b97b0365c3a63f7c9",
       "version_major": 2,
       "version_minor": 0
      },
      "text/plain": [
       "  0%|          | 0/1 [00:00<?, ?it/s]"
      ]
     },
     "metadata": {},
     "output_type": "display_data"
    },
    {
     "name": "stderr",
     "output_type": "stream",
     "text": [
      "Checking SHAP issues:   1%|▊                                                                     | 434/35346 [02:24<1:00:29,  9.62it/s]C:\\Users\\slowd\\OneDrive\\Desktop\\Projects\\MLProjects\\Diabeties\\diabeties\\Lib\\site-packages\\sklearn\\utils\\validation.py:2739: UserWarning: X does not have valid feature names, but SimpleImputer was fitted with feature names\n",
      "  warnings.warn(\n"
     ]
    },
    {
     "data": {
      "application/vnd.jupyter.widget-view+json": {
       "model_id": "09a45053716143f183c80427bff4f621",
       "version_major": 2,
       "version_minor": 0
      },
      "text/plain": [
       "  0%|          | 0/1 [00:00<?, ?it/s]"
      ]
     },
     "metadata": {},
     "output_type": "display_data"
    },
    {
     "name": "stderr",
     "output_type": "stream",
     "text": [
      "Checking SHAP issues:   1%|▊                                                                     | 435/35346 [02:24<1:01:22,  9.48it/s]C:\\Users\\slowd\\OneDrive\\Desktop\\Projects\\MLProjects\\Diabeties\\diabeties\\Lib\\site-packages\\sklearn\\utils\\validation.py:2739: UserWarning: X does not have valid feature names, but SimpleImputer was fitted with feature names\n",
      "  warnings.warn(\n"
     ]
    },
    {
     "data": {
      "application/vnd.jupyter.widget-view+json": {
       "model_id": "9b4119479ecf45b3af7b71cf41ef6f4f",
       "version_major": 2,
       "version_minor": 0
      },
      "text/plain": [
       "  0%|          | 0/1 [00:00<?, ?it/s]"
      ]
     },
     "metadata": {},
     "output_type": "display_data"
    },
    {
     "name": "stderr",
     "output_type": "stream",
     "text": [
      "C:\\Users\\slowd\\OneDrive\\Desktop\\Projects\\MLProjects\\Diabeties\\diabeties\\Lib\\site-packages\\sklearn\\utils\\validation.py:2739: UserWarning: X does not have valid feature names, but SimpleImputer was fitted with feature names\n",
      "  warnings.warn(\n"
     ]
    },
    {
     "data": {
      "application/vnd.jupyter.widget-view+json": {
       "model_id": "1ba9f11e9194408187f4c5b67083ff03",
       "version_major": 2,
       "version_minor": 0
      },
      "text/plain": [
       "  0%|          | 0/1 [00:00<?, ?it/s]"
      ]
     },
     "metadata": {},
     "output_type": "display_data"
    },
    {
     "name": "stderr",
     "output_type": "stream",
     "text": [
      "Checking SHAP issues:   1%|▉                                                                       | 437/35346 [02:25<59:22,  9.80it/s]C:\\Users\\slowd\\OneDrive\\Desktop\\Projects\\MLProjects\\Diabeties\\diabeties\\Lib\\site-packages\\sklearn\\utils\\validation.py:2739: UserWarning: X does not have valid feature names, but SimpleImputer was fitted with feature names\n",
      "  warnings.warn(\n"
     ]
    },
    {
     "data": {
      "application/vnd.jupyter.widget-view+json": {
       "model_id": "9016cd632d40463ba66a35357fca00aa",
       "version_major": 2,
       "version_minor": 0
      },
      "text/plain": [
       "  0%|          | 0/1 [00:00<?, ?it/s]"
      ]
     },
     "metadata": {},
     "output_type": "display_data"
    },
    {
     "name": "stderr",
     "output_type": "stream",
     "text": [
      "Checking SHAP issues:   1%|▊                                                                     | 438/35346 [02:25<1:01:15,  9.50it/s]C:\\Users\\slowd\\OneDrive\\Desktop\\Projects\\MLProjects\\Diabeties\\diabeties\\Lib\\site-packages\\sklearn\\utils\\validation.py:2739: UserWarning: X does not have valid feature names, but SimpleImputer was fitted with feature names\n",
      "  warnings.warn(\n"
     ]
    },
    {
     "data": {
      "application/vnd.jupyter.widget-view+json": {
       "model_id": "c8f95ff8ba8c46699006a779f72270f6",
       "version_major": 2,
       "version_minor": 0
      },
      "text/plain": [
       "  0%|          | 0/1 [00:00<?, ?it/s]"
      ]
     },
     "metadata": {},
     "output_type": "display_data"
    },
    {
     "name": "stderr",
     "output_type": "stream",
     "text": [
      "Checking SHAP issues:   1%|▊                                                                     | 439/35346 [02:25<1:05:22,  8.90it/s]C:\\Users\\slowd\\OneDrive\\Desktop\\Projects\\MLProjects\\Diabeties\\diabeties\\Lib\\site-packages\\sklearn\\utils\\validation.py:2739: UserWarning: X does not have valid feature names, but SimpleImputer was fitted with feature names\n",
      "  warnings.warn(\n"
     ]
    },
    {
     "data": {
      "application/vnd.jupyter.widget-view+json": {
       "model_id": "7e82e7b36031443b8d47b17877b475ab",
       "version_major": 2,
       "version_minor": 0
      },
      "text/plain": [
       "  0%|          | 0/1 [00:00<?, ?it/s]"
      ]
     },
     "metadata": {},
     "output_type": "display_data"
    },
    {
     "name": "stderr",
     "output_type": "stream",
     "text": [
      "Checking SHAP issues:   1%|▊                                                                     | 440/35346 [02:25<1:09:29,  8.37it/s]C:\\Users\\slowd\\OneDrive\\Desktop\\Projects\\MLProjects\\Diabeties\\diabeties\\Lib\\site-packages\\sklearn\\utils\\validation.py:2739: UserWarning: X does not have valid feature names, but SimpleImputer was fitted with feature names\n",
      "  warnings.warn(\n"
     ]
    },
    {
     "data": {
      "application/vnd.jupyter.widget-view+json": {
       "model_id": "1d73b997e9f54f639651a0eba74f2e21",
       "version_major": 2,
       "version_minor": 0
      },
      "text/plain": [
       "  0%|          | 0/1 [00:00<?, ?it/s]"
      ]
     },
     "metadata": {},
     "output_type": "display_data"
    },
    {
     "name": "stderr",
     "output_type": "stream",
     "text": [
      "Checking SHAP issues:   1%|▊                                                                     | 441/35346 [02:25<1:07:02,  8.68it/s]C:\\Users\\slowd\\OneDrive\\Desktop\\Projects\\MLProjects\\Diabeties\\diabeties\\Lib\\site-packages\\sklearn\\utils\\validation.py:2739: UserWarning: X does not have valid feature names, but SimpleImputer was fitted with feature names\n",
      "  warnings.warn(\n"
     ]
    },
    {
     "data": {
      "application/vnd.jupyter.widget-view+json": {
       "model_id": "61d62b0bcaf54bab91dc48f4214902cd",
       "version_major": 2,
       "version_minor": 0
      },
      "text/plain": [
       "  0%|          | 0/1 [00:00<?, ?it/s]"
      ]
     },
     "metadata": {},
     "output_type": "display_data"
    },
    {
     "name": "stderr",
     "output_type": "stream",
     "text": [
      "C:\\Users\\slowd\\OneDrive\\Desktop\\Projects\\MLProjects\\Diabeties\\diabeties\\Lib\\site-packages\\sklearn\\utils\\validation.py:2739: UserWarning: X does not have valid feature names, but SimpleImputer was fitted with feature names\n",
      "  warnings.warn(\n"
     ]
    },
    {
     "data": {
      "application/vnd.jupyter.widget-view+json": {
       "model_id": "8f2712b3ac0b4fe1bf78868ea67ef9cb",
       "version_major": 2,
       "version_minor": 0
      },
      "text/plain": [
       "  0%|          | 0/1 [00:00<?, ?it/s]"
      ]
     },
     "metadata": {},
     "output_type": "display_data"
    },
    {
     "name": "stderr",
     "output_type": "stream",
     "text": [
      "Checking SHAP issues:   1%|▉                                                                     | 443/35346 [02:25<1:02:17,  9.34it/s]C:\\Users\\slowd\\OneDrive\\Desktop\\Projects\\MLProjects\\Diabeties\\diabeties\\Lib\\site-packages\\sklearn\\utils\\validation.py:2739: UserWarning: X does not have valid feature names, but SimpleImputer was fitted with feature names\n",
      "  warnings.warn(\n"
     ]
    },
    {
     "data": {
      "application/vnd.jupyter.widget-view+json": {
       "model_id": "c7c5701cd7654677931fe3241ce89159",
       "version_major": 2,
       "version_minor": 0
      },
      "text/plain": [
       "  0%|          | 0/1 [00:00<?, ?it/s]"
      ]
     },
     "metadata": {},
     "output_type": "display_data"
    },
    {
     "name": "stderr",
     "output_type": "stream",
     "text": [
      "Checking SHAP issues:   1%|▉                                                                     | 444/35346 [02:25<1:02:38,  9.29it/s]C:\\Users\\slowd\\OneDrive\\Desktop\\Projects\\MLProjects\\Diabeties\\diabeties\\Lib\\site-packages\\sklearn\\utils\\validation.py:2739: UserWarning: X does not have valid feature names, but SimpleImputer was fitted with feature names\n",
      "  warnings.warn(\n"
     ]
    },
    {
     "data": {
      "application/vnd.jupyter.widget-view+json": {
       "model_id": "0742d82f1f8e4ed0a7fcd937eb3b50d5",
       "version_major": 2,
       "version_minor": 0
      },
      "text/plain": [
       "  0%|          | 0/1 [00:00<?, ?it/s]"
      ]
     },
     "metadata": {},
     "output_type": "display_data"
    },
    {
     "name": "stderr",
     "output_type": "stream",
     "text": [
      "C:\\Users\\slowd\\OneDrive\\Desktop\\Projects\\MLProjects\\Diabeties\\diabeties\\Lib\\site-packages\\sklearn\\utils\\validation.py:2739: UserWarning: X does not have valid feature names, but SimpleImputer was fitted with feature names\n",
      "  warnings.warn(\n"
     ]
    },
    {
     "data": {
      "application/vnd.jupyter.widget-view+json": {
       "model_id": "94a7380131f04ac3b973c3950cf63842",
       "version_major": 2,
       "version_minor": 0
      },
      "text/plain": [
       "  0%|          | 0/1 [00:00<?, ?it/s]"
      ]
     },
     "metadata": {},
     "output_type": "display_data"
    },
    {
     "name": "stderr",
     "output_type": "stream",
     "text": [
      "Checking SHAP issues:   1%|▉                                                                     | 446/35346 [02:26<1:00:21,  9.64it/s]C:\\Users\\slowd\\OneDrive\\Desktop\\Projects\\MLProjects\\Diabeties\\diabeties\\Lib\\site-packages\\sklearn\\utils\\validation.py:2739: UserWarning: X does not have valid feature names, but SimpleImputer was fitted with feature names\n",
      "  warnings.warn(\n"
     ]
    },
    {
     "data": {
      "application/vnd.jupyter.widget-view+json": {
       "model_id": "afa177a06cfa42ae950f53e0979342c0",
       "version_major": 2,
       "version_minor": 0
      },
      "text/plain": [
       "  0%|          | 0/1 [00:00<?, ?it/s]"
      ]
     },
     "metadata": {},
     "output_type": "display_data"
    },
    {
     "name": "stderr",
     "output_type": "stream",
     "text": [
      "C:\\Users\\slowd\\OneDrive\\Desktop\\Projects\\MLProjects\\Diabeties\\diabeties\\Lib\\site-packages\\sklearn\\utils\\validation.py:2739: UserWarning: X does not have valid feature names, but SimpleImputer was fitted with feature names\n",
      "  warnings.warn(\n"
     ]
    },
    {
     "data": {
      "application/vnd.jupyter.widget-view+json": {
       "model_id": "5022dc0931334e5ca87c37cdb995b766",
       "version_major": 2,
       "version_minor": 0
      },
      "text/plain": [
       "  0%|          | 0/1 [00:00<?, ?it/s]"
      ]
     },
     "metadata": {},
     "output_type": "display_data"
    },
    {
     "name": "stderr",
     "output_type": "stream",
     "text": [
      "Checking SHAP issues:   1%|▉                                                                       | 448/35346 [02:26<58:10, 10.00it/s]C:\\Users\\slowd\\OneDrive\\Desktop\\Projects\\MLProjects\\Diabeties\\diabeties\\Lib\\site-packages\\sklearn\\utils\\validation.py:2739: UserWarning: X does not have valid feature names, but SimpleImputer was fitted with feature names\n",
      "  warnings.warn(\n"
     ]
    },
    {
     "data": {
      "application/vnd.jupyter.widget-view+json": {
       "model_id": "67b0dc0290f846d6bc987b11afeb269f",
       "version_major": 2,
       "version_minor": 0
      },
      "text/plain": [
       "  0%|          | 0/1 [00:00<?, ?it/s]"
      ]
     },
     "metadata": {},
     "output_type": "display_data"
    }
   ],
   "source": [
    "import pandas as pd\n",
    "from tqdm import tqdm\n",
    "\n",
    "# Make sure tqdm is installed: pip install tqdm\n",
    "\n",
    "issues_log = []\n",
    "\n",
    "# Iterate through each positive prediction\n",
    "for idx, row in tqdm(positive_df.iterrows(), total=len(positive_df), desc=\"Checking SHAP issues\"):\n",
    "    patient = row[feature_names].tolist()\n",
    "\n",
    "    # Get SHAP values (raw, numeric form)\n",
    "    shap_values = explain_single_prediction(\n",
    "        patient_features = patient,\n",
    "        feature_names    = feature_names,\n",
    "        scaler           = scaler,\n",
    "        imputer          = imputer,\n",
    "        explainer        = explainer,\n",
    "        return_raw       = True\n",
    "    )\n",
    "\n",
    "    # Detect problematic features\n",
    "    issues = detect_unexpected_shap_behavior(\n",
    "        feature_names    = feature_names,\n",
    "        shap_values      = shap_values,\n",
    "        patient_features = patient\n",
    "    )\n",
    "\n",
    "    # Log only if there are any issues\n",
    "    if issues:\n",
    "        issues_log.append({\n",
    "            'index': idx,\n",
    "            'problematic_features': issues\n",
    "        })\n",
    "\n",
    "# Convert to DataFrame\n",
    "issue_df = pd.DataFrame(issues_log)\n",
    "\n",
    "# Save the issues to CSV\n",
    "issue_df.to_csv(\"flagged_shap_issues.csv\", index=False)\n",
    "\n",
    "print(f\"\\n✅ Done! Found {len(issue_df)} samples with problematic features.\")\n"
   ]
  },
  {
   "cell_type": "code",
   "execution_count": 26,
   "id": "acfc336b-a9b2-458f-9fdc-385e46f9d6b3",
   "metadata": {},
   "outputs": [
    {
     "name": "stderr",
     "output_type": "stream",
     "text": [
      "C:\\Users\\slowd\\OneDrive\\Desktop\\Projects\\MLProjects\\Diabeties\\diabeties\\Lib\\site-packages\\sklearn\\utils\\validation.py:2739: UserWarning: X does not have valid feature names, but SimpleImputer was fitted with feature names\n",
      "  warnings.warn(\n"
     ]
    },
    {
     "data": {
      "application/vnd.jupyter.widget-view+json": {
       "model_id": "69ca7383b1b2478880a922e9f282e354",
       "version_major": 2,
       "version_minor": 0
      },
      "text/plain": [
       "  0%|          | 0/1 [00:00<?, ?it/s]"
      ]
     },
     "metadata": {},
     "output_type": "display_data"
    },
    {
     "name": "stdout",
     "output_type": "stream",
     "text": [
      "-> The feature **HighBP** pushes toward  being diabetic.\n",
      "-> The feature **HighChol** pushes toward  being diabetic.\n",
      "-> The feature **HeartDiseaseorAttack** pushes toward  being diabetic.\n",
      "-> The feature **Stroke** pushes toward  being diabetic.\n",
      "-> The feature **Smoker** pushes toward NOT being diabetic.\n",
      "-> The feature **PhysActivity** pushes toward NOT being diabetic.\n",
      "-> The feature **DiffWalk** pushes toward  being diabetic.\n",
      "-> The feature **BMI** pushes toward  being diabetic.\n",
      "-> The feature **MentHlth** pushes toward  being diabetic.\n",
      "-> The feature **PhysHlth** pushes toward NOT being diabetic.\n",
      "-> The feature **GenHlth** pushes toward  being diabetic.\n",
      "-> The feature **Sex** pushes toward NOT being diabetic.\n",
      "-> The feature **Age** pushes toward  being diabetic.\n",
      "-> The feature **HvyAlcoholConsump** pushes toward  being diabetic.\n",
      "The patient is likely diabetic.\n",
      "[1]\n"
     ]
    }
   ],
   "source": [
    "feature_names = [\n",
    "    \"HighBP\", \"HighChol\", \"HeartDiseaseorAttack\", \"Stroke\", \"Smoker\", \"PhysActivity\", \"DiffWalk\", \"BMI\", \"MentHlth\", \"PhysHlth\", \"GenHlth\", \"Sex\", \"Age\", \"HvyAlcoholConsump\"]\n",
    "\n",
    "\n",
    "patient_input = [1,1,1,1,1,1,1,34,0,7,4,0,9,0]\n",
    "non_diabetic  = [0,0,0,0,1,1,0,25,0,0,3,0,7,0]\n",
    "explanations = explain_single_prediction(\n",
    "    scaler=scaler,\n",
    "    patient_features=patient_input,\n",
    "    feature_names=feature_names,\n",
    "    imputer=imputer,\n",
    "    explainer=explainer,\n",
    ")\n",
    "\n",
    "for sentence in explanations:\n",
    "    print(\"->\", sentence)\n",
    "\n",
    "\n",
    "predict_diabetes(model,scaler,1,1,1,1,1,1,1,34,0,7,4,0,9,0)"
   ]
  },
  {
   "cell_type": "code",
   "execution_count": 30,
   "id": "aa0272f4-ee33-43b5-a166-0725afcddab9",
   "metadata": {},
   "outputs": [
    {
     "name": "stderr",
     "output_type": "stream",
     "text": [
      "C:\\Users\\slowd\\OneDrive\\Desktop\\Projects\\MLProjects\\Diabeties\\diabeties\\Lib\\site-packages\\sklearn\\utils\\validation.py:2739: UserWarning: X does not have valid feature names, but SimpleImputer was fitted with feature names\n",
      "  warnings.warn(\n"
     ]
    },
    {
     "data": {
      "application/vnd.jupyter.widget-view+json": {
       "model_id": "7c790e6cb72b4db1982b3598753cf75a",
       "version_major": 2,
       "version_minor": 0
      },
      "text/plain": [
       "  0%|          | 0/1 [00:00<?, ?it/s]"
      ]
     },
     "metadata": {},
     "output_type": "display_data"
    },
    {
     "name": "stderr",
     "output_type": "stream",
     "text": [
      "C:\\Users\\slowd\\OneDrive\\Desktop\\Projects\\MLProjects\\Diabeties\\diabeties\\Lib\\site-packages\\sklearn\\utils\\validation.py:2739: UserWarning: X does not have valid feature names, but SimpleImputer was fitted with feature names\n",
      "  warnings.warn(\n"
     ]
    },
    {
     "data": {
      "application/vnd.jupyter.widget-view+json": {
       "model_id": "4277c497158746239cff0f54b647058a",
       "version_major": 2,
       "version_minor": 0
      },
      "text/plain": [
       "  0%|          | 0/1 [00:00<?, ?it/s]"
      ]
     },
     "metadata": {},
     "output_type": "display_data"
    },
    {
     "name": "stdout",
     "output_type": "stream",
     "text": [
      "['The feature **HighBP** pushes toward  being diabetic.', 'The feature **HighChol** pushes toward  being diabetic.', 'The feature **HeartDiseaseorAttack** pushes toward  being diabetic.', 'The feature **Stroke** pushes toward  being diabetic.', 'The feature **Smoker** pushes toward NOT being diabetic.', 'The feature **PhysActivity** pushes toward NOT being diabetic.', 'The feature **DiffWalk** pushes toward  being diabetic.', 'The feature **BMI** pushes toward  being diabetic.', 'The feature **MentHlth** pushes toward  being diabetic.', 'The feature **PhysHlth** pushes toward NOT being diabetic.', 'The feature **GenHlth** pushes toward  being diabetic.', 'The feature **Sex** pushes toward NOT being diabetic.', 'The feature **Age** pushes toward  being diabetic.', 'The feature **HvyAlcoholConsump** pushes toward  being diabetic.']\n",
      "['Low  GenHlth increased risk (SHAP +0.149)']\n"
     ]
    }
   ],
   "source": [
    "raw_sv = explain_single_prediction(\n",
    "        patient_features = patient_input,\n",
    "        feature_names    = feature_names,\n",
    "        scaler           = scaler,\n",
    "        imputer          = imputer,\n",
    "        explainer        = explainer,\n",
    "        return_raw       = True\n",
    "    )\n",
    "\n",
    "exp = explain_single_prediction(\n",
    "        patient_features = patient_input,\n",
    "        feature_names    = feature_names,\n",
    "        scaler           = scaler,\n",
    "        imputer          = imputer,\n",
    "        explainer        = explainer\n",
    "    )\n",
    "\n",
    "issues = detect_unexpected_shap_behavior(\n",
    "    feature_names    = feature_names,\n",
    "    shap_values      = raw_sv,\n",
    "    patient_features = patient\n",
    ")\n",
    "\n",
    "\n",
    "\n",
    "print(exp)\n",
    "print(issues)"
   ]
  },
  {
   "cell_type": "code",
   "execution_count": null,
   "id": "d874ca26-1f19-4e28-b6d7-43e231a553db",
   "metadata": {},
   "outputs": [],
   "source": []
  }
 ],
 "metadata": {
  "kernelspec": {
   "display_name": "Python (diabeties)",
   "language": "python",
   "name": "diabeties"
  },
  "language_info": {
   "codemirror_mode": {
    "name": "ipython",
    "version": 3
   },
   "file_extension": ".py",
   "mimetype": "text/x-python",
   "name": "python",
   "nbconvert_exporter": "python",
   "pygments_lexer": "ipython3",
   "version": "3.13.1"
  }
 },
 "nbformat": 4,
 "nbformat_minor": 5
}
