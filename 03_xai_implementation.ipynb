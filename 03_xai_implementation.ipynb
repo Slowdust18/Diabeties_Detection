{
 "cells": [
  {
   "cell_type": "code",
   "execution_count": 6,
   "id": "1aa702c4-a821-4dad-9e22-046afeed0d62",
   "metadata": {},
   "outputs": [],
   "source": [
    "import joblib\n",
    "import shap\n",
    "import numpy as np"
   ]
  },
  {
   "cell_type": "code",
   "execution_count": 9,
   "id": "a04d3cc1-ff9b-4a9c-bf46-15828f180c5d",
   "metadata": {},
   "outputs": [],
   "source": [
    "\n",
    "linear_svm_model = joblib.load('linear_svm_model.pkl')\n",
    "\n",
    "# Load scaler\n",
    "scaler = joblib.load('scaler.pkl')\n",
    "\n",
    "# Load small sample of X_train\n",
    "X_train_sample = joblib.load('X_train_sample.pkl')\n"
   ]
  },
  {
   "cell_type": "code",
   "execution_count": 7,
   "id": "6e438b89-136b-4708-b28f-e5ef3fa7de22",
   "metadata": {},
   "outputs": [],
   "source": [
    "def explain_single_prediction(model, scaler, X_train, patient_features, feature_names):\n",
    "    \"\"\"\n",
    "    Explain a single prediction using SHAP for an SVM model.\n",
    "    \"\"\"\n",
    "    # Scale the patient's input features\n",
    "    patient_scaled = scaler.transform([patient_features])\n",
    "\n",
    "    # Fit the SHAP explainer on the training set\n",
    "    explainer = shap.KernelExplainer(model.predict, scaler.transform(X_train.sample(100)))  # use small sample to make it fast\n",
    "\n",
    "    # Get SHAP values\n",
    "    shap_values = explainer.shap_values(patient_scaled)\n",
    "\n",
    "    # shap_values will be a list in KernelExplainer\n",
    "    shap_values = shap_values[0]\n",
    "\n",
    "    # Pair feature names with their SHAP impact\n",
    "    feature_impacts = list(zip(feature_names, shap_values))\n",
    "\n",
    "    # Sort by absolute impact, biggest first\n",
    "    feature_impacts_sorted = sorted(feature_impacts, key=lambda x: abs(x[1]), reverse=True)\n",
    "\n",
    "    # Generate simple explanations\n",
    "    explanations = []\n",
    "    for feature, impact in feature_impacts_sorted:\n",
    "        if impact > 0:\n",
    "            explanations.append(f\"The feature **{feature}** pushes towards the patient being diabetic (+{impact:.2f}).\")\n",
    "        else:\n",
    "            explanations.append(f\"The feature **{feature}** pushes towards the patient NOT being diabetic ({impact:.2f}).\")\n",
    "\n",
    "    return explanations\n"
   ]
  },
  {
   "cell_type": "code",
   "execution_count": 13,
   "id": "28ceffe7-9011-460c-9a91-ab8a65a04933",
   "metadata": {},
   "outputs": [],
   "source": [
    "def predict_diabetes(model, scaler, age, sex, bmi, highbp, physactivity, smoker, genhlth):\n",
    "    \"\"\"\n",
    "    Predict diabetes for a single patient based on input features.\n",
    "    \"\"\"\n",
    "    # Create a 2D array with input features\n",
    "    new_patient = [[age, sex, bmi, highbp, physactivity, smoker, genhlth]]\n",
    "    \n",
    "    # Scale the data (important!)\n",
    "    new_patient_scaled = scaler.transform(new_patient)\n",
    "    \n",
    "    # Predict\n",
    "    prediction = model.predict(new_patient_scaled)\n",
    "    \n",
    "    # Human-readable output\n",
    "    if prediction[0] == 1:\n",
    "        print(\"⚠️  The patient is likely diabetic.\")\n",
    "    else:\n",
    "        print(\"✅  The patient is likely not diabetic.\")\n"
   ]
  },
  {
   "cell_type": "code",
   "execution_count": 17,
   "id": "207d8174-91d8-4629-8b7f-4feb7ad0e5f1",
   "metadata": {},
   "outputs": [
    {
     "name": "stderr",
     "output_type": "stream",
     "text": [
      "C:\\Users\\slowd\\OneDrive\\Desktop\\Projects\\MLProjects\\Diabeties\\diabeties\\Lib\\site-packages\\sklearn\\utils\\validation.py:2739: UserWarning: X does not have valid feature names, but StandardScaler was fitted with feature names\n",
      "  warnings.warn(\n"
     ]
    },
    {
     "data": {
      "application/vnd.jupyter.widget-view+json": {
       "model_id": "f5bbddc2ac5f4e07984895d4b18f5535",
       "version_major": 2,
       "version_minor": 0
      },
      "text/plain": [
       "  0%|          | 0/1 [00:00<?, ?it/s]"
      ]
     },
     "metadata": {},
     "output_type": "display_data"
    },
    {
     "name": "stdout",
     "output_type": "stream",
     "text": [
      "🤖 The feature **HighBP** pushes towards the patient being diabetic (+0.30).\n",
      "🤖 The feature **GenHlth** pushes towards the patient being diabetic (+0.20).\n",
      "🤖 The feature **Age** pushes towards the patient being diabetic (+0.14).\n",
      "🤖 The feature **Sex** pushes towards the patient NOT being diabetic (-0.03).\n",
      "🤖 The feature **BMI** pushes towards the patient NOT being diabetic (-0.03).\n",
      "🤖 The feature **PhysActivity** pushes towards the patient NOT being diabetic (-0.01).\n",
      "🤖 The feature **Smoker** pushes towards the patient NOT being diabetic (-0.00).\n",
      "⚠️  The patient is likely diabetic.\n"
     ]
    },
    {
     "name": "stderr",
     "output_type": "stream",
     "text": [
      "C:\\Users\\slowd\\OneDrive\\Desktop\\Projects\\MLProjects\\Diabeties\\diabeties\\Lib\\site-packages\\sklearn\\utils\\validation.py:2739: UserWarning: X does not have valid feature names, but StandardScaler was fitted with feature names\n",
      "  warnings.warn(\n"
     ]
    }
   ],
   "source": [
    "# Feature names\n",
    "feature_names = ['Age', 'Sex', 'BMI', 'HighBP', 'PhysActivity', 'Smoker', 'GenHlth']\n",
    "\n",
    "# Patient input\n",
    "patient_input = [11, 0, 27, 1, 1, 0, 3]\n",
    "\n",
    "# Explain\n",
    "explanations = explain_single_prediction(\n",
    "    model=linear_svm_model,\n",
    "    scaler=scaler,\n",
    "    X_train=X_train_sample,\n",
    "    patient_features=patient_input,\n",
    "    feature_names=feature_names\n",
    ")\n",
    "\n",
    "# Print\n",
    "for sentence in explanations:\n",
    "    print(\"🤖\", sentence)\n",
    "\n",
    "\n",
    "predict_diabetes(linear_svm_model,scaler,11,0,27,1,1,0,3)"
   ]
  },
  {
   "cell_type": "code",
   "execution_count": 19,
   "id": "e84c918d-156d-4383-9d95-0ca72791834f",
   "metadata": {},
   "outputs": [
    {
     "name": "stdout",
     "output_type": "stream",
     "text": [
      "['The feature **HighBP** pushes towards the patient being diabetic (+0.30).', 'The feature **GenHlth** pushes towards the patient being diabetic (+0.20).', 'The feature **Age** pushes towards the patient being diabetic (+0.14).', 'The feature **Sex** pushes towards the patient NOT being diabetic (-0.03).', 'The feature **BMI** pushes towards the patient NOT being diabetic (-0.03).', 'The feature **PhysActivity** pushes towards the patient NOT being diabetic (-0.01).', 'The feature **Smoker** pushes towards the patient NOT being diabetic (-0.00).']\n"
     ]
    }
   ],
   "source": [
    "print(explanations)"
   ]
  },
  {
   "cell_type": "code",
   "execution_count": 21,
   "id": "134cd0a8-859a-4b6b-9c6e-d44cca03fa7e",
   "metadata": {},
   "outputs": [
    {
     "ename": "AttributeError",
     "evalue": "'list' object has no attribute 'type'",
     "output_type": "error",
     "traceback": [
      "\u001b[31m---------------------------------------------------------------------------\u001b[39m",
      "\u001b[31mAttributeError\u001b[39m                            Traceback (most recent call last)",
      "\u001b[36mCell\u001b[39m\u001b[36m \u001b[39m\u001b[32mIn[21]\u001b[39m\u001b[32m, line 1\u001b[39m\n\u001b[32m----> \u001b[39m\u001b[32m1\u001b[39m \u001b[43mexplanations\u001b[49m\u001b[43m.\u001b[49m\u001b[43mtype\u001b[49m()\n",
      "\u001b[31mAttributeError\u001b[39m: 'list' object has no attribute 'type'"
     ]
    }
   ],
   "source": [
    "explanations.type()"
   ]
  },
  {
   "cell_type": "code",
   "execution_count": null,
   "id": "296bbaac-636c-42da-b6e7-63203939f7c7",
   "metadata": {},
   "outputs": [],
   "source": []
  }
 ],
 "metadata": {
  "kernelspec": {
   "display_name": "Python (diabeties)",
   "language": "python",
   "name": "diabeties"
  },
  "language_info": {
   "codemirror_mode": {
    "name": "ipython",
    "version": 3
   },
   "file_extension": ".py",
   "mimetype": "text/x-python",
   "name": "python",
   "nbconvert_exporter": "python",
   "pygments_lexer": "ipython3",
   "version": "3.13.1"
  }
 },
 "nbformat": 4,
 "nbformat_minor": 5
}
