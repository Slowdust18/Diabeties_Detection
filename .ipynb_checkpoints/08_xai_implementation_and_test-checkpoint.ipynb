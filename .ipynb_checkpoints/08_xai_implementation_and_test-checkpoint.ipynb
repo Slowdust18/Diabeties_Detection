{
 "cells": [
  {
   "cell_type": "code",
   "execution_count": 72,
   "id": "1659e798-4415-4665-8737-569422eccfc3",
   "metadata": {},
   "outputs": [],
   "source": [
    "import joblib\n",
    "import pandas as pd\n",
    "import shap\n",
    "import numpy as np\n",
    "import matplotlib.pyplot as plt\n",
    "from sklearn.metrics import accuracy_score\n",
    "from sklearn.impute import SimpleImputer"
   ]
  },
  {
   "cell_type": "code",
   "execution_count": 73,
   "id": "b95c2756-d956-42e2-91b0-ba8671f5b965",
   "metadata": {},
   "outputs": [],
   "source": [
    "model = joblib.load('final_model.pkl')\n",
    "\n",
    "# Load the scaler\n",
    "scaler = joblib.load('scaler.pkl')\n",
    "\n",
    "# Load the SHAP input data\n",
    "x_shap = pd.read_csv('x_shap.csv')\n",
    "y_shap = pd.read_csv('y_shap.csv')"
   ]
  },
  {
   "cell_type": "code",
   "execution_count": 74,
   "id": "4f3c91b3-012e-4aff-afd1-1b6d11f482bd",
   "metadata": {},
   "outputs": [],
   "source": [
    "imputer = SimpleImputer(strategy='mean')  # You must fit this on *training* data ideally\n",
    "x_shap_imputed = imputer.fit_transform(x_shap) "
   ]
  },
  {
   "cell_type": "code",
   "execution_count": 75,
   "id": "62af01fe-a419-4a01-ba72-7c5c04ae197f",
   "metadata": {},
   "outputs": [
    {
     "data": {
      "text/plain": [
       "array([[ 1.47787198e-03, -7.18765530e-03, -3.78700375e-03, ...,\n",
       "        -7.15389188e-04, -8.98904354e-05,  9.80118981e-03],\n",
       "       [-1.05163557e-02, -8.87020876e-01,  1.15267119e+00, ...,\n",
       "         3.16350111e-01,  1.39320746e+00, -2.44014145e-01],\n",
       "       [ 6.44316517e-01,  1.12736918e+00,  1.45530343e+00, ...,\n",
       "        -4.86592410e-01, -4.78618763e-01, -2.44014145e-01],\n",
       "       ...,\n",
       "       [-3.37932792e-01,  1.12736918e+00, -9.65754504e-01, ...,\n",
       "        -4.86592410e-01, -1.41453187e+00, -2.44014145e-01],\n",
       "       [-3.37932792e-01,  1.12736918e+00, -9.65754504e-01, ...,\n",
       "         8.69379621e-02, -4.78618763e-01, -2.44014145e-01],\n",
       "       [ 1.47787198e-03, -7.18765530e-03, -3.78700375e-03, ...,\n",
       "        -7.15389188e-04, -8.98904354e-05,  9.80118981e-03]],\n",
       "      shape=(56698, 14))"
      ]
     },
     "execution_count": 75,
     "metadata": {},
     "output_type": "execute_result"
    }
   ],
   "source": [
    "x_shap_imputed"
   ]
  },
  {
   "cell_type": "code",
   "execution_count": 76,
   "id": "2fee328a-0247-4df8-bd3a-45fb1ad137f8",
   "metadata": {},
   "outputs": [],
   "source": [
    "imputer = SimpleImputer(strategy='mean')\n",
    "x_train_imputed = imputer.fit_transform(x_shap)\n",
    "\n",
    "x_train_scaled = scaler.fit_transform(x_train_imputed)\n",
    "background = x_train_scaled[:100]\n",
    "\n",
    "explainer = shap.KernelExplainer(model.decision_function, background)"
   ]
  },
  {
   "cell_type": "code",
   "execution_count": 77,
   "id": "4d33ea95-ad46-4e37-bc0a-e7958a6f749d",
   "metadata": {},
   "outputs": [],
   "source": [
    "def explain_single_prediction(patient_features, feature_names, scaler, imputer, explainer, return_raw=False):\n",
    "    \"\"\"\n",
    "    Explain a single prediction using SHAP for an SVM model with precomputed scaler, imputer, and explainer.\n",
    "    \"\"\"\n",
    "    # Impute and scale patient's input\n",
    "    patient_imputed = imputer.transform([patient_features])\n",
    "    patient_scaled = scaler.transform(patient_imputed)\n",
    "\n",
    "    # Get SHAP values\n",
    "    shap_values = explainer.shap_values(patient_scaled)\n",
    "    shap_values = shap_values[0]  # binary classification\n",
    "\n",
    "    # Pair features with SHAP values\n",
    "    feature_impacts = list(zip(feature_names, shap_values))\n",
    "    feature_impacts_sorted = sorted(feature_impacts, key=lambda x: abs(x[1]), reverse=True)\n",
    "\n",
    "    if return_raw:\n",
    "        return shap_values\n",
    "\n",
    "    explanations = []\n",
    "    for feature, impact in feature_impacts_sorted:\n",
    "        if impact > 0:\n",
    "            explanations.append(f\"The feature **{feature}** pushes towards the patient being diabetic (+{impact:.2f}).\")\n",
    "        else:\n",
    "            explanations.append(f\"The feature **{feature}** pushes towards the patient NOT being diabetic ({impact:.2f}).\")\n",
    "\n",
    "    \n",
    "    return explanations\n",
    "\n"
   ]
  },
  {
   "cell_type": "code",
   "execution_count": 78,
   "id": "3d930c1f-4846-457a-95b9-0f8e002f7709",
   "metadata": {},
   "outputs": [],
   "source": [
    "def predict_diabetes(model, scaler, HighBP, HighChol, HeartDiseaseorAttack, Stroke, Smoker, PhysActivity, DiffWalk, BMI, MentHlth, PhysHlth, GenHlth, Sex, Age, HvyAlcoholConsump):\n",
    "    new_patient = [[HighBP, HighChol, HeartDiseaseorAttack, Stroke, Smoker, PhysActivity, DiffWalk, BMI, MentHlth, PhysHlth, GenHlth, Sex, Age, HvyAlcoholConsump]]\n",
    "    new_patient_scaled = scaler.transform(new_patient)\n",
    "    prediction = model.predict(new_patient_scaled)\n",
    "    \n",
    "    if prediction[0] == 1:\n",
    "        print(\"⚠️  The patient is likely diabetic.\")\n",
    "    else:\n",
    "        print(\"✅  The patient is likely not diabetic.\")\n"
   ]
  },
  {
   "cell_type": "code",
   "execution_count": 79,
   "id": "4bcb814a-a71a-4345-9a11-9c7027aa07b3",
   "metadata": {},
   "outputs": [
    {
     "name": "stderr",
     "output_type": "stream",
     "text": [
      "C:\\Users\\slowd\\OneDrive\\Desktop\\Projects\\MLProjects\\Diabeties\\diabeties\\Lib\\site-packages\\sklearn\\utils\\validation.py:2739: UserWarning: X does not have valid feature names, but SimpleImputer was fitted with feature names\n",
      "  warnings.warn(\n"
     ]
    },
    {
     "data": {
      "application/vnd.jupyter.widget-view+json": {
       "model_id": "05a484afc49e4a6287f219af955a56df",
       "version_major": 2,
       "version_minor": 0
      },
      "text/plain": [
       "  0%|          | 0/1 [00:00<?, ?it/s]"
      ]
     },
     "metadata": {},
     "output_type": "display_data"
    },
    {
     "name": "stdout",
     "output_type": "stream",
     "text": [
      "🤖 The feature **Age** pushes towards the patient being diabetic (+2.69).\n",
      "🤖 The feature **BMI** pushes towards the patient being diabetic (+1.00).\n",
      "🤖 The feature **HeartDiseaseorAttack** pushes towards the patient being diabetic (+0.21).\n",
      "🤖 The feature **HighBP** pushes towards the patient being diabetic (+0.19).\n",
      "🤖 The feature **PhysHlth** pushes towards the patient being diabetic (+0.18).\n",
      "🤖 The feature **Stroke** pushes towards the patient being diabetic (+0.16).\n",
      "🤖 The feature **DiffWalk** pushes towards the patient being diabetic (+0.12).\n",
      "🤖 The feature **GenHlth** pushes towards the patient NOT being diabetic (-0.07).\n",
      "🤖 The feature **HighChol** pushes towards the patient being diabetic (+0.04).\n",
      "🤖 The feature **HvyAlcoholConsump** pushes towards the patient being diabetic (+0.01).\n",
      "🤖 The feature **Smoker** pushes towards the patient NOT being diabetic (0.00).\n",
      "🤖 The feature **PhysActivity** pushes towards the patient NOT being diabetic (0.00).\n",
      "🤖 The feature **MentHlth** pushes towards the patient NOT being diabetic (0.00).\n",
      "🤖 The feature **Sex** pushes towards the patient NOT being diabetic (0.00).\n",
      "⚠️  The patient is likely diabetic.\n"
     ]
    }
   ],
   "source": [
    "feature_names = [\n",
    "    \"HighBP\", \"HighChol\", \"HeartDiseaseorAttack\", \"Stroke\", \"Smoker\", \"PhysActivity\", \"DiffWalk\", \"BMI\", \"MentHlth\", \"PhysHlth\", \"GenHlth\", \"Sex\", \"Age\", \"HvyAlcoholConsump\"]\n",
    "\n",
    "\n",
    "patient_input = [1,1,1,1,1,1,1,34,0,7,4,0,9,0]\n",
    "\n",
    "explanations = explain_single_prediction(\n",
    "    scaler=scaler,\n",
    "    patient_features=patient_input,\n",
    "    feature_names=feature_names,\n",
    "    imputer=imputer,\n",
    "    explainer=explainer\n",
    ")\n",
    "\n",
    "for sentence in explanations:\n",
    "    print(\"🤖\", sentence)\n",
    "\n",
    "\n",
    "predict_diabetes(model,scaler,1,1,1,1,1,1,1,34,0,7,4,0,9,0)"
   ]
  },
  {
   "cell_type": "markdown",
   "id": "c32930c4-70ce-408a-92f5-50882e701e80",
   "metadata": {},
   "source": [
    "# Testing Area"
   ]
  },
  {
   "cell_type": "code",
   "execution_count": null,
   "id": "3382461a-36bb-4979-b393-6ed12604aa16",
   "metadata": {},
   "outputs": [],
   "source": []
  },
  {
   "cell_type": "code",
   "execution_count": null,
   "id": "7bc0a035-eeec-4e16-98d6-19c2c7b5eff0",
   "metadata": {},
   "outputs": [],
   "source": []
  },
  {
   "cell_type": "code",
   "execution_count": 87,
   "id": "0c8335ba-e9ca-447b-b1b4-e71583ecfc9b",
   "metadata": {},
   "outputs": [],
   "source": [
    "def detect_unexpected_shap_behavior(feature_names, shap_values, patient_features):\n",
    "    expected_directions = {\n",
    "        \"HighBP\": \"positive\",\n",
    "        \"HighChol\": \"positive\",\n",
    "        \"HeartDiseaseorAttack\": \"positive\",\n",
    "        \"Stroke\": \"positive\",\n",
    "        \"Smoker\": \"positive\",\n",
    "        \"PhysActivity\": \"negative\",\n",
    "        \"DiffWalk\": \"positive\",\n",
    "        \"BMI\": \"positive\",\n",
    "        \"MentHlth\": \"positive\",\n",
    "        \"PhysHlth\": \"positive\",\n",
    "        \"GenHlth\": \"negative\",  # 1 = excellent\n",
    "        \"Age\": \"positive\",\n",
    "        \"HvyAlcoholConsump\": \"positive\"\n",
    "        # \"Sex\" is omitted as it's neutral/uncertain\n",
    "    }\n",
    "\n",
    "    issues = []\n",
    "\n",
    "    for feature, shap_val, patient_feature in zip(feature_names, shap_values, patient_features):\n",
    "        expected = expected_directions.get(feature)\n",
    "        if expected:\n",
    "            if expected == \"positive\" and patient_feature == 1  and shap_val < 0:\n",
    "                issues.append(f\"⚠️ Unexpected: {feature} reduced risk (SHAP={shap_val:.3f})\")\n",
    "            elif expected == \"negative\" and patient_feature==0 and shap_val > 0:\n",
    "                issues.append(f\"⚠️ Unexpected: {feature} increased risk (SHAP={shap_val:.3f})\")\n",
    "\n",
    "    return issues\n"
   ]
  },
  {
   "cell_type": "code",
   "execution_count": 83,
   "id": "0e3cf230-011b-4a7c-a398-501cc5d6065d",
   "metadata": {},
   "outputs": [],
   "source": [
    "\n",
    "df = pd.read_csv(\"cdc_diabetes_health_indicators.csv\")\n",
    "positive_df = df[df[\"Diabetes_binary\"] == 1]\n"
   ]
  },
  {
   "cell_type": "code",
   "execution_count": 94,
   "id": "2e0f075a-212f-43cc-b1e4-e77e0ba1084c",
   "metadata": {},
   "outputs": [
    {
     "name": "stderr",
     "output_type": "stream",
     "text": [
      "C:\\Users\\slowd\\OneDrive\\Desktop\\Projects\\MLProjects\\Diabeties\\diabeties\\Lib\\site-packages\\sklearn\\utils\\validation.py:2739: UserWarning: X does not have valid feature names, but SimpleImputer was fitted with feature names\n",
      "  warnings.warn(\n"
     ]
    },
    {
     "data": {
      "application/vnd.jupyter.widget-view+json": {
       "model_id": "bea9461b7bbc4cbf9f6b82181024c6a1",
       "version_major": 2,
       "version_minor": 0
      },
      "text/plain": [
       "  0%|          | 0/1 [00:00<?, ?it/s]"
      ]
     },
     "metadata": {},
     "output_type": "display_data"
    },
    {
     "name": "stderr",
     "output_type": "stream",
     "text": [
      "C:\\Users\\slowd\\OneDrive\\Desktop\\Projects\\MLProjects\\Diabeties\\diabeties\\Lib\\site-packages\\sklearn\\utils\\validation.py:2739: UserWarning: X does not have valid feature names, but SimpleImputer was fitted with feature names\n",
      "  warnings.warn(\n"
     ]
    },
    {
     "data": {
      "application/vnd.jupyter.widget-view+json": {
       "model_id": "0eb6fe32835b46cdbceb84e2c502187c",
       "version_major": 2,
       "version_minor": 0
      },
      "text/plain": [
       "  0%|          | 0/1 [00:00<?, ?it/s]"
      ]
     },
     "metadata": {},
     "output_type": "display_data"
    },
    {
     "name": "stdout",
     "output_type": "stream",
     "text": [
      "[ 0.18608228  0.04377382  0.2104382   0.16244736  0.          0.\n",
      "  0.11524008  0.99783193  0.          0.17881727 -0.07133014  0.\n",
      "  2.68755998  0.01240137]\n",
      "['The feature **Age** pushes towards the patient being diabetic (+2.69).', 'The feature **BMI** pushes towards the patient being diabetic (+1.00).', 'The feature **HeartDiseaseorAttack** pushes towards the patient being diabetic (+0.21).', 'The feature **HighBP** pushes towards the patient being diabetic (+0.19).', 'The feature **PhysHlth** pushes towards the patient being diabetic (+0.18).', 'The feature **Stroke** pushes towards the patient being diabetic (+0.16).', 'The feature **DiffWalk** pushes towards the patient being diabetic (+0.12).', 'The feature **GenHlth** pushes towards the patient NOT being diabetic (-0.07).', 'The feature **HighChol** pushes towards the patient being diabetic (+0.04).', 'The feature **HvyAlcoholConsump** pushes towards the patient being diabetic (+0.01).', 'The feature **Smoker** pushes towards the patient NOT being diabetic (0.00).', 'The feature **PhysActivity** pushes towards the patient NOT being diabetic (0.00).', 'The feature **MentHlth** pushes towards the patient NOT being diabetic (0.00).', 'The feature **Sex** pushes towards the patient NOT being diabetic (0.00).']\n"
     ]
    }
   ],
   "source": [
    "patient_input = [1,1,1,1,1,1,1,34,0,7,4,0,9,0]\n",
    "\n",
    "raw = explain_single_prediction(\n",
    "    scaler=scaler,\n",
    "    patient_features=patient_input,\n",
    "    feature_names=feature_names,\n",
    "    imputer=imputer,\n",
    "    explainer=explainer,\n",
    "    return_raw=True\n",
    ")\n",
    "\n",
    "\n",
    "explanation = explain_single_prediction(\n",
    "    scaler=scaler,\n",
    "    patient_features=patient_input,\n",
    "    feature_names=feature_names,\n",
    "    imputer=imputer,\n",
    "    explainer=explainer\n",
    ")\n",
    "\n",
    "print(raw)\n",
    "print(explanation)"
   ]
  },
  {
   "cell_type": "code",
   "execution_count": 99,
   "id": "38063468-164c-4340-a511-3e579ed3e3da",
   "metadata": {},
   "outputs": [
    {
     "name": "stdout",
     "output_type": "stream",
     "text": [
      "HighBP 0.18608227840055258 1\n",
      "HighChol 0.04377381966310882 1\n",
      "HeartDiseaseorAttack 0.2104381959196054 1\n",
      "Stroke 0.1624473619231359 1\n",
      "Smoker 0.0 1\n",
      "PhysActivity 0.0 1\n",
      "DiffWalk 0.11524008073487943 1\n",
      "BMI 0.9978319341352838 34\n",
      "MentHlth 0.0 0\n",
      "PhysHlth 0.17881726817044707 7\n",
      "GenHlth -0.07133013641616692 4\n",
      "Sex 0.0 0\n",
      "Age 2.6875599814052653 9\n",
      "HvyAlcoholConsump 0.012401366662901868 0\n"
     ]
    }
   ],
   "source": [
    "for feature, shap_val, patient_feature in zip(feature_names, raw, patient_input):\n",
    "    print(feature, shap_val, patient_feature)"
   ]
  },
  {
   "cell_type": "code",
   "execution_count": 85,
   "id": "16f92dc1-301e-4a2f-a2f5-071ee4d820d4",
   "metadata": {},
   "outputs": [
    {
     "data": {
      "text/plain": [
       "(35346, 22)"
      ]
     },
     "execution_count": 85,
     "metadata": {},
     "output_type": "execute_result"
    }
   ],
   "source": [
    "positive_df.shape"
   ]
  },
  {
   "cell_type": "code",
   "execution_count": 91,
   "id": "99e875b9-3465-458d-8e0e-3297426516e2",
   "metadata": {},
   "outputs": [],
   "source": [
    "first_test=positive_df[:10]"
   ]
  },
  {
   "cell_type": "code",
   "execution_count": 92,
   "id": "88e8f629-ce12-460f-9173-c34dab9a4cb9",
   "metadata": {},
   "outputs": [
    {
     "data": {
      "text/plain": [
       "(10, 22)"
      ]
     },
     "execution_count": 92,
     "metadata": {},
     "output_type": "execute_result"
    }
   ],
   "source": [
    "first_test.shape"
   ]
  },
  {
   "cell_type": "code",
   "execution_count": 93,
   "id": "81e0aba2-98f5-44f2-90d4-b4ddfb9c65a9",
   "metadata": {},
   "outputs": [
    {
     "name": "stderr",
     "output_type": "stream",
     "text": [
      "C:\\Users\\slowd\\OneDrive\\Desktop\\Projects\\MLProjects\\Diabeties\\diabeties\\Lib\\site-packages\\sklearn\\utils\\validation.py:2739: UserWarning: X does not have valid feature names, but SimpleImputer was fitted with feature names\n",
      "  warnings.warn(\n"
     ]
    },
    {
     "data": {
      "application/vnd.jupyter.widget-view+json": {
       "model_id": "dbfa6e7ae4a8434b9c944c940bf98ad9",
       "version_major": 2,
       "version_minor": 0
      },
      "text/plain": [
       "  0%|          | 0/1 [00:00<?, ?it/s]"
      ]
     },
     "metadata": {},
     "output_type": "display_data"
    },
    {
     "name": "stderr",
     "output_type": "stream",
     "text": [
      "C:\\Users\\slowd\\OneDrive\\Desktop\\Projects\\MLProjects\\Diabeties\\diabeties\\Lib\\site-packages\\sklearn\\utils\\validation.py:2739: UserWarning: X does not have valid feature names, but SimpleImputer was fitted with feature names\n",
      "  warnings.warn(\n"
     ]
    },
    {
     "data": {
      "application/vnd.jupyter.widget-view+json": {
       "model_id": "3e47f9d3898441b381fdb081256285e4",
       "version_major": 2,
       "version_minor": 0
      },
      "text/plain": [
       "  0%|          | 0/1 [00:00<?, ?it/s]"
      ]
     },
     "metadata": {},
     "output_type": "display_data"
    },
    {
     "name": "stdout",
     "output_type": "stream",
     "text": [
      "\n",
      "Patient Index: 8\n",
      "Explanations:\n",
      "🤖 The feature **Age** pushes towards the patient being diabetic (+2.69).\n",
      "🤖 The feature **BMI** pushes towards the patient being diabetic (+1.00).\n",
      "🤖 The feature **HeartDiseaseorAttack** pushes towards the patient being diabetic (+0.21).\n",
      "🤖 The feature **HighBP** pushes towards the patient being diabetic (+0.19).\n",
      "🤖 The feature **PhysHlth** pushes towards the patient being diabetic (+0.18).\n",
      "🤖 The feature **Stroke** pushes towards the patient being diabetic (+0.16).\n",
      "🤖 The feature **DiffWalk** pushes towards the patient being diabetic (+0.12).\n",
      "🤖 The feature **GenHlth** pushes towards the patient NOT being diabetic (-0.07).\n",
      "🤖 The feature **HighChol** pushes towards the patient being diabetic (+0.04).\n",
      "🤖 The feature **HvyAlcoholConsump** pushes towards the patient being diabetic (+0.01).\n",
      "🤖 The feature **Smoker** pushes towards the patient NOT being diabetic (0.00).\n",
      "🤖 The feature **PhysActivity** pushes towards the patient NOT being diabetic (0.00).\n",
      "🤖 The feature **MentHlth** pushes towards the patient NOT being diabetic (0.00).\n",
      "🤖 The feature **Sex** pushes towards the patient NOT being diabetic (0.00).\n"
     ]
    },
    {
     "name": "stderr",
     "output_type": "stream",
     "text": [
      "C:\\Users\\slowd\\OneDrive\\Desktop\\Projects\\MLProjects\\Diabeties\\diabeties\\Lib\\site-packages\\sklearn\\utils\\validation.py:2739: UserWarning: X does not have valid feature names, but SimpleImputer was fitted with feature names\n",
      "  warnings.warn(\n"
     ]
    },
    {
     "data": {
      "application/vnd.jupyter.widget-view+json": {
       "model_id": "de3579c38335455c8a2b0570b5a13821",
       "version_major": 2,
       "version_minor": 0
      },
      "text/plain": [
       "  0%|          | 0/1 [00:00<?, ?it/s]"
      ]
     },
     "metadata": {},
     "output_type": "display_data"
    },
    {
     "name": "stderr",
     "output_type": "stream",
     "text": [
      "C:\\Users\\slowd\\OneDrive\\Desktop\\Projects\\MLProjects\\Diabeties\\diabeties\\Lib\\site-packages\\sklearn\\utils\\validation.py:2739: UserWarning: X does not have valid feature names, but SimpleImputer was fitted with feature names\n",
      "  warnings.warn(\n"
     ]
    },
    {
     "data": {
      "application/vnd.jupyter.widget-view+json": {
       "model_id": "a2724e8054c849f984c4ba2560cb10b3",
       "version_major": 2,
       "version_minor": 0
      },
      "text/plain": [
       "  0%|          | 0/1 [00:00<?, ?it/s]"
      ]
     },
     "metadata": {},
     "output_type": "display_data"
    },
    {
     "name": "stdout",
     "output_type": "stream",
     "text": [
      "\n",
      "Patient Index: 10\n",
      "Explanations:\n",
      "🤖 The feature **Age** pushes towards the patient being diabetic (+2.69).\n",
      "🤖 The feature **BMI** pushes towards the patient being diabetic (+1.00).\n",
      "🤖 The feature **HeartDiseaseorAttack** pushes towards the patient being diabetic (+0.21).\n",
      "🤖 The feature **HighBP** pushes towards the patient being diabetic (+0.19).\n",
      "🤖 The feature **PhysHlth** pushes towards the patient being diabetic (+0.18).\n",
      "🤖 The feature **Stroke** pushes towards the patient being diabetic (+0.16).\n",
      "🤖 The feature **DiffWalk** pushes towards the patient being diabetic (+0.12).\n",
      "🤖 The feature **GenHlth** pushes towards the patient NOT being diabetic (-0.07).\n",
      "🤖 The feature **HighChol** pushes towards the patient being diabetic (+0.04).\n",
      "🤖 The feature **HvyAlcoholConsump** pushes towards the patient being diabetic (+0.01).\n",
      "🤖 The feature **Smoker** pushes towards the patient NOT being diabetic (0.00).\n",
      "🤖 The feature **PhysActivity** pushes towards the patient NOT being diabetic (0.00).\n",
      "🤖 The feature **MentHlth** pushes towards the patient NOT being diabetic (0.00).\n",
      "🤖 The feature **Sex** pushes towards the patient NOT being diabetic (0.00).\n"
     ]
    },
    {
     "name": "stderr",
     "output_type": "stream",
     "text": [
      "C:\\Users\\slowd\\OneDrive\\Desktop\\Projects\\MLProjects\\Diabeties\\diabeties\\Lib\\site-packages\\sklearn\\utils\\validation.py:2739: UserWarning: X does not have valid feature names, but SimpleImputer was fitted with feature names\n",
      "  warnings.warn(\n"
     ]
    },
    {
     "data": {
      "application/vnd.jupyter.widget-view+json": {
       "model_id": "5f2268c644224412a5bc25de05fe589c",
       "version_major": 2,
       "version_minor": 0
      },
      "text/plain": [
       "  0%|          | 0/1 [00:00<?, ?it/s]"
      ]
     },
     "metadata": {},
     "output_type": "display_data"
    },
    {
     "name": "stderr",
     "output_type": "stream",
     "text": [
      "C:\\Users\\slowd\\OneDrive\\Desktop\\Projects\\MLProjects\\Diabeties\\diabeties\\Lib\\site-packages\\sklearn\\utils\\validation.py:2739: UserWarning: X does not have valid feature names, but SimpleImputer was fitted with feature names\n",
      "  warnings.warn(\n"
     ]
    },
    {
     "data": {
      "application/vnd.jupyter.widget-view+json": {
       "model_id": "4bd90113e201448fafd7881f6bcfcec4",
       "version_major": 2,
       "version_minor": 0
      },
      "text/plain": [
       "  0%|          | 0/1 [00:00<?, ?it/s]"
      ]
     },
     "metadata": {},
     "output_type": "display_data"
    },
    {
     "name": "stdout",
     "output_type": "stream",
     "text": [
      "\n",
      "Patient Index: 13\n",
      "Explanations:\n",
      "🤖 The feature **Age** pushes towards the patient being diabetic (+2.69).\n",
      "🤖 The feature **BMI** pushes towards the patient being diabetic (+1.00).\n",
      "🤖 The feature **HeartDiseaseorAttack** pushes towards the patient being diabetic (+0.21).\n",
      "🤖 The feature **HighBP** pushes towards the patient being diabetic (+0.19).\n",
      "🤖 The feature **PhysHlth** pushes towards the patient being diabetic (+0.18).\n",
      "🤖 The feature **Stroke** pushes towards the patient being diabetic (+0.16).\n",
      "🤖 The feature **DiffWalk** pushes towards the patient being diabetic (+0.12).\n",
      "🤖 The feature **GenHlth** pushes towards the patient NOT being diabetic (-0.07).\n",
      "🤖 The feature **HighChol** pushes towards the patient being diabetic (+0.04).\n",
      "🤖 The feature **HvyAlcoholConsump** pushes towards the patient being diabetic (+0.01).\n",
      "🤖 The feature **Smoker** pushes towards the patient NOT being diabetic (0.00).\n",
      "🤖 The feature **PhysActivity** pushes towards the patient NOT being diabetic (0.00).\n",
      "🤖 The feature **MentHlth** pushes towards the patient NOT being diabetic (0.00).\n",
      "🤖 The feature **Sex** pushes towards the patient NOT being diabetic (0.00).\n"
     ]
    },
    {
     "name": "stderr",
     "output_type": "stream",
     "text": [
      "C:\\Users\\slowd\\OneDrive\\Desktop\\Projects\\MLProjects\\Diabeties\\diabeties\\Lib\\site-packages\\sklearn\\utils\\validation.py:2739: UserWarning: X does not have valid feature names, but SimpleImputer was fitted with feature names\n",
      "  warnings.warn(\n"
     ]
    },
    {
     "data": {
      "application/vnd.jupyter.widget-view+json": {
       "model_id": "15d93867d60446ecac40e67e8178a182",
       "version_major": 2,
       "version_minor": 0
      },
      "text/plain": [
       "  0%|          | 0/1 [00:00<?, ?it/s]"
      ]
     },
     "metadata": {},
     "output_type": "display_data"
    },
    {
     "name": "stderr",
     "output_type": "stream",
     "text": [
      "C:\\Users\\slowd\\OneDrive\\Desktop\\Projects\\MLProjects\\Diabeties\\diabeties\\Lib\\site-packages\\sklearn\\utils\\validation.py:2739: UserWarning: X does not have valid feature names, but SimpleImputer was fitted with feature names\n",
      "  warnings.warn(\n"
     ]
    },
    {
     "data": {
      "application/vnd.jupyter.widget-view+json": {
       "model_id": "9e256b703ee5437abb5587a1e395d77b",
       "version_major": 2,
       "version_minor": 0
      },
      "text/plain": [
       "  0%|          | 0/1 [00:00<?, ?it/s]"
      ]
     },
     "metadata": {},
     "output_type": "display_data"
    },
    {
     "name": "stdout",
     "output_type": "stream",
     "text": [
      "\n",
      "Patient Index: 17\n",
      "Explanations:\n",
      "🤖 The feature **Age** pushes towards the patient being diabetic (+2.69).\n",
      "🤖 The feature **BMI** pushes towards the patient being diabetic (+1.00).\n",
      "🤖 The feature **HeartDiseaseorAttack** pushes towards the patient being diabetic (+0.21).\n",
      "🤖 The feature **HighBP** pushes towards the patient being diabetic (+0.19).\n",
      "🤖 The feature **PhysHlth** pushes towards the patient being diabetic (+0.18).\n",
      "🤖 The feature **Stroke** pushes towards the patient being diabetic (+0.16).\n",
      "🤖 The feature **DiffWalk** pushes towards the patient being diabetic (+0.12).\n",
      "🤖 The feature **GenHlth** pushes towards the patient NOT being diabetic (-0.07).\n",
      "🤖 The feature **HighChol** pushes towards the patient being diabetic (+0.04).\n",
      "🤖 The feature **HvyAlcoholConsump** pushes towards the patient being diabetic (+0.01).\n",
      "🤖 The feature **Smoker** pushes towards the patient NOT being diabetic (0.00).\n",
      "🤖 The feature **PhysActivity** pushes towards the patient NOT being diabetic (0.00).\n",
      "🤖 The feature **MentHlth** pushes towards the patient NOT being diabetic (0.00).\n",
      "🤖 The feature **Sex** pushes towards the patient NOT being diabetic (0.00).\n"
     ]
    },
    {
     "name": "stderr",
     "output_type": "stream",
     "text": [
      "C:\\Users\\slowd\\OneDrive\\Desktop\\Projects\\MLProjects\\Diabeties\\diabeties\\Lib\\site-packages\\sklearn\\utils\\validation.py:2739: UserWarning: X does not have valid feature names, but SimpleImputer was fitted with feature names\n",
      "  warnings.warn(\n"
     ]
    },
    {
     "data": {
      "application/vnd.jupyter.widget-view+json": {
       "model_id": "2817b511dee34639a105f24084812a8e",
       "version_major": 2,
       "version_minor": 0
      },
      "text/plain": [
       "  0%|          | 0/1 [00:00<?, ?it/s]"
      ]
     },
     "metadata": {},
     "output_type": "display_data"
    },
    {
     "name": "stderr",
     "output_type": "stream",
     "text": [
      "C:\\Users\\slowd\\OneDrive\\Desktop\\Projects\\MLProjects\\Diabeties\\diabeties\\Lib\\site-packages\\sklearn\\utils\\validation.py:2739: UserWarning: X does not have valid feature names, but SimpleImputer was fitted with feature names\n",
      "  warnings.warn(\n"
     ]
    },
    {
     "data": {
      "application/vnd.jupyter.widget-view+json": {
       "model_id": "2e740ef27dfa410a886e233c472c679b",
       "version_major": 2,
       "version_minor": 0
      },
      "text/plain": [
       "  0%|          | 0/1 [00:00<?, ?it/s]"
      ]
     },
     "metadata": {},
     "output_type": "display_data"
    },
    {
     "name": "stdout",
     "output_type": "stream",
     "text": [
      "\n",
      "Patient Index: 23\n",
      "Explanations:\n",
      "🤖 The feature **Age** pushes towards the patient being diabetic (+2.69).\n",
      "🤖 The feature **BMI** pushes towards the patient being diabetic (+1.00).\n",
      "🤖 The feature **HeartDiseaseorAttack** pushes towards the patient being diabetic (+0.21).\n",
      "🤖 The feature **HighBP** pushes towards the patient being diabetic (+0.19).\n",
      "🤖 The feature **PhysHlth** pushes towards the patient being diabetic (+0.18).\n",
      "🤖 The feature **Stroke** pushes towards the patient being diabetic (+0.16).\n",
      "🤖 The feature **DiffWalk** pushes towards the patient being diabetic (+0.12).\n",
      "🤖 The feature **GenHlth** pushes towards the patient NOT being diabetic (-0.07).\n",
      "🤖 The feature **HighChol** pushes towards the patient being diabetic (+0.04).\n",
      "🤖 The feature **HvyAlcoholConsump** pushes towards the patient being diabetic (+0.01).\n",
      "🤖 The feature **Smoker** pushes towards the patient NOT being diabetic (0.00).\n",
      "🤖 The feature **PhysActivity** pushes towards the patient NOT being diabetic (0.00).\n",
      "🤖 The feature **MentHlth** pushes towards the patient NOT being diabetic (0.00).\n",
      "🤖 The feature **Sex** pushes towards the patient NOT being diabetic (0.00).\n"
     ]
    },
    {
     "name": "stderr",
     "output_type": "stream",
     "text": [
      "C:\\Users\\slowd\\OneDrive\\Desktop\\Projects\\MLProjects\\Diabeties\\diabeties\\Lib\\site-packages\\sklearn\\utils\\validation.py:2739: UserWarning: X does not have valid feature names, but SimpleImputer was fitted with feature names\n",
      "  warnings.warn(\n"
     ]
    },
    {
     "data": {
      "application/vnd.jupyter.widget-view+json": {
       "model_id": "7dcc1b4a14e54f1fbb4582c5399361ba",
       "version_major": 2,
       "version_minor": 0
      },
      "text/plain": [
       "  0%|          | 0/1 [00:00<?, ?it/s]"
      ]
     },
     "metadata": {},
     "output_type": "display_data"
    },
    {
     "name": "stderr",
     "output_type": "stream",
     "text": [
      "C:\\Users\\slowd\\OneDrive\\Desktop\\Projects\\MLProjects\\Diabeties\\diabeties\\Lib\\site-packages\\sklearn\\utils\\validation.py:2739: UserWarning: X does not have valid feature names, but SimpleImputer was fitted with feature names\n",
      "  warnings.warn(\n"
     ]
    },
    {
     "data": {
      "application/vnd.jupyter.widget-view+json": {
       "model_id": "009bcf3fa7004549a729c8ea7c6edbd3",
       "version_major": 2,
       "version_minor": 0
      },
      "text/plain": [
       "  0%|          | 0/1 [00:00<?, ?it/s]"
      ]
     },
     "metadata": {},
     "output_type": "display_data"
    },
    {
     "name": "stdout",
     "output_type": "stream",
     "text": [
      "\n",
      "Patient Index: 26\n",
      "Explanations:\n",
      "🤖 The feature **Age** pushes towards the patient being diabetic (+2.69).\n",
      "🤖 The feature **BMI** pushes towards the patient being diabetic (+1.00).\n",
      "🤖 The feature **HeartDiseaseorAttack** pushes towards the patient being diabetic (+0.21).\n",
      "🤖 The feature **HighBP** pushes towards the patient being diabetic (+0.19).\n",
      "🤖 The feature **PhysHlth** pushes towards the patient being diabetic (+0.18).\n",
      "🤖 The feature **Stroke** pushes towards the patient being diabetic (+0.16).\n",
      "🤖 The feature **DiffWalk** pushes towards the patient being diabetic (+0.12).\n",
      "🤖 The feature **GenHlth** pushes towards the patient NOT being diabetic (-0.07).\n",
      "🤖 The feature **HighChol** pushes towards the patient being diabetic (+0.04).\n",
      "🤖 The feature **HvyAlcoholConsump** pushes towards the patient being diabetic (+0.01).\n",
      "🤖 The feature **Smoker** pushes towards the patient NOT being diabetic (0.00).\n",
      "🤖 The feature **PhysActivity** pushes towards the patient NOT being diabetic (0.00).\n",
      "🤖 The feature **MentHlth** pushes towards the patient NOT being diabetic (0.00).\n",
      "🤖 The feature **Sex** pushes towards the patient NOT being diabetic (0.00).\n"
     ]
    },
    {
     "name": "stderr",
     "output_type": "stream",
     "text": [
      "C:\\Users\\slowd\\OneDrive\\Desktop\\Projects\\MLProjects\\Diabeties\\diabeties\\Lib\\site-packages\\sklearn\\utils\\validation.py:2739: UserWarning: X does not have valid feature names, but SimpleImputer was fitted with feature names\n",
      "  warnings.warn(\n"
     ]
    },
    {
     "data": {
      "application/vnd.jupyter.widget-view+json": {
       "model_id": "13b2f75af0f24d06b7ba0197b75b4347",
       "version_major": 2,
       "version_minor": 0
      },
      "text/plain": [
       "  0%|          | 0/1 [00:00<?, ?it/s]"
      ]
     },
     "metadata": {},
     "output_type": "display_data"
    },
    {
     "name": "stderr",
     "output_type": "stream",
     "text": [
      "C:\\Users\\slowd\\OneDrive\\Desktop\\Projects\\MLProjects\\Diabeties\\diabeties\\Lib\\site-packages\\sklearn\\utils\\validation.py:2739: UserWarning: X does not have valid feature names, but SimpleImputer was fitted with feature names\n",
      "  warnings.warn(\n"
     ]
    },
    {
     "data": {
      "application/vnd.jupyter.widget-view+json": {
       "model_id": "3d0341d78051476cb49f81af507379b4",
       "version_major": 2,
       "version_minor": 0
      },
      "text/plain": [
       "  0%|          | 0/1 [00:00<?, ?it/s]"
      ]
     },
     "metadata": {},
     "output_type": "display_data"
    },
    {
     "name": "stdout",
     "output_type": "stream",
     "text": [
      "\n",
      "Patient Index: 27\n",
      "Explanations:\n",
      "🤖 The feature **Age** pushes towards the patient being diabetic (+2.69).\n",
      "🤖 The feature **BMI** pushes towards the patient being diabetic (+1.00).\n",
      "🤖 The feature **HeartDiseaseorAttack** pushes towards the patient being diabetic (+0.21).\n",
      "🤖 The feature **HighBP** pushes towards the patient being diabetic (+0.19).\n",
      "🤖 The feature **PhysHlth** pushes towards the patient being diabetic (+0.18).\n",
      "🤖 The feature **Stroke** pushes towards the patient being diabetic (+0.16).\n",
      "🤖 The feature **DiffWalk** pushes towards the patient being diabetic (+0.12).\n",
      "🤖 The feature **GenHlth** pushes towards the patient NOT being diabetic (-0.07).\n",
      "🤖 The feature **HighChol** pushes towards the patient being diabetic (+0.04).\n",
      "🤖 The feature **HvyAlcoholConsump** pushes towards the patient being diabetic (+0.01).\n",
      "🤖 The feature **Smoker** pushes towards the patient NOT being diabetic (0.00).\n",
      "🤖 The feature **PhysActivity** pushes towards the patient NOT being diabetic (0.00).\n",
      "🤖 The feature **MentHlth** pushes towards the patient NOT being diabetic (0.00).\n",
      "🤖 The feature **Sex** pushes towards the patient NOT being diabetic (0.00).\n"
     ]
    },
    {
     "name": "stderr",
     "output_type": "stream",
     "text": [
      "C:\\Users\\slowd\\OneDrive\\Desktop\\Projects\\MLProjects\\Diabeties\\diabeties\\Lib\\site-packages\\sklearn\\utils\\validation.py:2739: UserWarning: X does not have valid feature names, but SimpleImputer was fitted with feature names\n",
      "  warnings.warn(\n"
     ]
    },
    {
     "data": {
      "application/vnd.jupyter.widget-view+json": {
       "model_id": "cb3a67ea3dd24b8ba3ca4721686f18ef",
       "version_major": 2,
       "version_minor": 0
      },
      "text/plain": [
       "  0%|          | 0/1 [00:00<?, ?it/s]"
      ]
     },
     "metadata": {},
     "output_type": "display_data"
    },
    {
     "name": "stderr",
     "output_type": "stream",
     "text": [
      "C:\\Users\\slowd\\OneDrive\\Desktop\\Projects\\MLProjects\\Diabeties\\diabeties\\Lib\\site-packages\\sklearn\\utils\\validation.py:2739: UserWarning: X does not have valid feature names, but SimpleImputer was fitted with feature names\n",
      "  warnings.warn(\n"
     ]
    },
    {
     "data": {
      "application/vnd.jupyter.widget-view+json": {
       "model_id": "03e165a7ecfa48febc428c8a7ac10ecb",
       "version_major": 2,
       "version_minor": 0
      },
      "text/plain": [
       "  0%|          | 0/1 [00:00<?, ?it/s]"
      ]
     },
     "metadata": {},
     "output_type": "display_data"
    },
    {
     "name": "stdout",
     "output_type": "stream",
     "text": [
      "\n",
      "Patient Index: 28\n",
      "Explanations:\n",
      "🤖 The feature **Age** pushes towards the patient being diabetic (+2.69).\n",
      "🤖 The feature **BMI** pushes towards the patient being diabetic (+1.00).\n",
      "🤖 The feature **HeartDiseaseorAttack** pushes towards the patient being diabetic (+0.21).\n",
      "🤖 The feature **HighBP** pushes towards the patient being diabetic (+0.19).\n",
      "🤖 The feature **PhysHlth** pushes towards the patient being diabetic (+0.18).\n",
      "🤖 The feature **Stroke** pushes towards the patient being diabetic (+0.16).\n",
      "🤖 The feature **DiffWalk** pushes towards the patient being diabetic (+0.12).\n",
      "🤖 The feature **GenHlth** pushes towards the patient NOT being diabetic (-0.07).\n",
      "🤖 The feature **HighChol** pushes towards the patient being diabetic (+0.04).\n",
      "🤖 The feature **HvyAlcoholConsump** pushes towards the patient being diabetic (+0.01).\n",
      "🤖 The feature **Smoker** pushes towards the patient NOT being diabetic (0.00).\n",
      "🤖 The feature **PhysActivity** pushes towards the patient NOT being diabetic (0.00).\n",
      "🤖 The feature **MentHlth** pushes towards the patient NOT being diabetic (0.00).\n",
      "🤖 The feature **Sex** pushes towards the patient NOT being diabetic (0.00).\n"
     ]
    },
    {
     "name": "stderr",
     "output_type": "stream",
     "text": [
      "C:\\Users\\slowd\\OneDrive\\Desktop\\Projects\\MLProjects\\Diabeties\\diabeties\\Lib\\site-packages\\sklearn\\utils\\validation.py:2739: UserWarning: X does not have valid feature names, but SimpleImputer was fitted with feature names\n",
      "  warnings.warn(\n"
     ]
    },
    {
     "data": {
      "application/vnd.jupyter.widget-view+json": {
       "model_id": "6ecdb377c1fb46868b91545c583160b3",
       "version_major": 2,
       "version_minor": 0
      },
      "text/plain": [
       "  0%|          | 0/1 [00:00<?, ?it/s]"
      ]
     },
     "metadata": {},
     "output_type": "display_data"
    },
    {
     "name": "stderr",
     "output_type": "stream",
     "text": [
      "C:\\Users\\slowd\\OneDrive\\Desktop\\Projects\\MLProjects\\Diabeties\\diabeties\\Lib\\site-packages\\sklearn\\utils\\validation.py:2739: UserWarning: X does not have valid feature names, but SimpleImputer was fitted with feature names\n",
      "  warnings.warn(\n"
     ]
    },
    {
     "data": {
      "application/vnd.jupyter.widget-view+json": {
       "model_id": "1d977ffb0e414579a1569e39c864e37b",
       "version_major": 2,
       "version_minor": 0
      },
      "text/plain": [
       "  0%|          | 0/1 [00:00<?, ?it/s]"
      ]
     },
     "metadata": {},
     "output_type": "display_data"
    },
    {
     "name": "stdout",
     "output_type": "stream",
     "text": [
      "\n",
      "Patient Index: 30\n",
      "Explanations:\n",
      "🤖 The feature **Age** pushes towards the patient being diabetic (+2.69).\n",
      "🤖 The feature **BMI** pushes towards the patient being diabetic (+1.00).\n",
      "🤖 The feature **HeartDiseaseorAttack** pushes towards the patient being diabetic (+0.21).\n",
      "🤖 The feature **HighBP** pushes towards the patient being diabetic (+0.19).\n",
      "🤖 The feature **PhysHlth** pushes towards the patient being diabetic (+0.18).\n",
      "🤖 The feature **Stroke** pushes towards the patient being diabetic (+0.16).\n",
      "🤖 The feature **DiffWalk** pushes towards the patient being diabetic (+0.12).\n",
      "🤖 The feature **GenHlth** pushes towards the patient NOT being diabetic (-0.07).\n",
      "🤖 The feature **HighChol** pushes towards the patient being diabetic (+0.04).\n",
      "🤖 The feature **HvyAlcoholConsump** pushes towards the patient being diabetic (+0.01).\n",
      "🤖 The feature **Smoker** pushes towards the patient NOT being diabetic (0.00).\n",
      "🤖 The feature **PhysActivity** pushes towards the patient NOT being diabetic (0.00).\n",
      "🤖 The feature **MentHlth** pushes towards the patient NOT being diabetic (0.00).\n",
      "🤖 The feature **Sex** pushes towards the patient NOT being diabetic (0.00).\n"
     ]
    },
    {
     "name": "stderr",
     "output_type": "stream",
     "text": [
      "C:\\Users\\slowd\\OneDrive\\Desktop\\Projects\\MLProjects\\Diabeties\\diabeties\\Lib\\site-packages\\sklearn\\utils\\validation.py:2739: UserWarning: X does not have valid feature names, but SimpleImputer was fitted with feature names\n",
      "  warnings.warn(\n"
     ]
    },
    {
     "data": {
      "application/vnd.jupyter.widget-view+json": {
       "model_id": "f309b9dbfa61409fa467f3674d8197c1",
       "version_major": 2,
       "version_minor": 0
      },
      "text/plain": [
       "  0%|          | 0/1 [00:00<?, ?it/s]"
      ]
     },
     "metadata": {},
     "output_type": "display_data"
    },
    {
     "name": "stderr",
     "output_type": "stream",
     "text": [
      "C:\\Users\\slowd\\OneDrive\\Desktop\\Projects\\MLProjects\\Diabeties\\diabeties\\Lib\\site-packages\\sklearn\\utils\\validation.py:2739: UserWarning: X does not have valid feature names, but SimpleImputer was fitted with feature names\n",
      "  warnings.warn(\n"
     ]
    },
    {
     "data": {
      "application/vnd.jupyter.widget-view+json": {
       "model_id": "544929a5e8f54ca2b849a046d6aa2a0b",
       "version_major": 2,
       "version_minor": 0
      },
      "text/plain": [
       "  0%|          | 0/1 [00:00<?, ?it/s]"
      ]
     },
     "metadata": {},
     "output_type": "display_data"
    },
    {
     "name": "stdout",
     "output_type": "stream",
     "text": [
      "\n",
      "Patient Index: 34\n",
      "Explanations:\n",
      "🤖 The feature **Age** pushes towards the patient being diabetic (+2.69).\n",
      "🤖 The feature **BMI** pushes towards the patient being diabetic (+1.00).\n",
      "🤖 The feature **HeartDiseaseorAttack** pushes towards the patient being diabetic (+0.21).\n",
      "🤖 The feature **HighBP** pushes towards the patient being diabetic (+0.19).\n",
      "🤖 The feature **PhysHlth** pushes towards the patient being diabetic (+0.18).\n",
      "🤖 The feature **Stroke** pushes towards the patient being diabetic (+0.16).\n",
      "🤖 The feature **DiffWalk** pushes towards the patient being diabetic (+0.12).\n",
      "🤖 The feature **GenHlth** pushes towards the patient NOT being diabetic (-0.07).\n",
      "🤖 The feature **HighChol** pushes towards the patient being diabetic (+0.04).\n",
      "🤖 The feature **HvyAlcoholConsump** pushes towards the patient being diabetic (+0.01).\n",
      "🤖 The feature **Smoker** pushes towards the patient NOT being diabetic (0.00).\n",
      "🤖 The feature **PhysActivity** pushes towards the patient NOT being diabetic (0.00).\n",
      "🤖 The feature **MentHlth** pushes towards the patient NOT being diabetic (0.00).\n",
      "🤖 The feature **Sex** pushes towards the patient NOT being diabetic (0.00).\n"
     ]
    }
   ],
   "source": [
    "# Loop through each positive diabetic sample\n",
    "for index, row in first_test.iterrows():\n",
    "    patient_input = row[feature_names].values.tolist()\n",
    "\n",
    "    # Get explanation and extract raw SHAP values\n",
    "    explanation = explain_single_prediction(\n",
    "        scaler=scaler,\n",
    "        patient_features=patient_input,\n",
    "        feature_names=feature_names,\n",
    "        imputer=imputer,\n",
    "        explainer=explainer\n",
    "    )\n",
    "    \n",
    "    # Extract raw SHAP values from the explanation\n",
    "    raw_shap_values = explain_single_prediction(\n",
    "        scaler=scaler,\n",
    "        patient_features=patient_input,\n",
    "        feature_names=feature_names,\n",
    "        imputer=imputer,\n",
    "        explainer=explainer,\n",
    "        return_raw=True\n",
    "    ) # Assuming explanations contain shap_values as a key\n",
    "\n",
    "    # Now use detect_unexpected_shap_behavior with return_raw=True\n",
    "    raw_output = detect_unexpected_shap_behavior(\n",
    "        shap_values=raw_shap_values,  # Pass the raw SHAP values here\n",
    "        feature_names=feature_names,\n",
    "        patient_features=patient_input\n",
    "    )\n",
    "\n",
    "    print(f\"\\nPatient Index: {index}\")\n",
    "    print(\"Explanations:\")\n",
    "    for sentence in explanations:\n",
    "        print(\"🤖\", sentence)\n"
   ]
  },
  {
   "cell_type": "code",
   "execution_count": null,
   "id": "59d026d4-8d8d-4515-b692-60447d486e8b",
   "metadata": {},
   "outputs": [],
   "source": []
  }
 ],
 "metadata": {
  "kernelspec": {
   "display_name": "Python (diabeties)",
   "language": "python",
   "name": "diabeties"
  },
  "language_info": {
   "codemirror_mode": {
    "name": "ipython",
    "version": 3
   },
   "file_extension": ".py",
   "mimetype": "text/x-python",
   "name": "python",
   "nbconvert_exporter": "python",
   "pygments_lexer": "ipython3",
   "version": "3.13.1"
  }
 },
 "nbformat": 4,
 "nbformat_minor": 5
}
