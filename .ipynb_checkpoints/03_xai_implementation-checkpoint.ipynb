{
 "cells": [
  {
   "cell_type": "code",
   "execution_count": 3,
   "id": "1aa702c4-a821-4dad-9e22-046afeed0d62",
   "metadata": {},
   "outputs": [],
   "source": [
    "import joblib\n",
    "import shap\n",
    "import numpy as np"
   ]
  },
  {
   "cell_type": "code",
   "execution_count": 2,
   "id": "a04d3cc1-ff9b-4a9c-bf46-15828f180c5d",
   "metadata": {},
   "outputs": [],
   "source": [
    "linear_svm_model = joblib.load('linear_svm_model.pkl')\n",
    "scaler = joblib.load('scaler.pkl')"
   ]
  },
  {
   "cell_type": "code",
   "execution_count": 4,
   "id": "6e438b89-136b-4708-b28f-e5ef3fa7de22",
   "metadata": {},
   "outputs": [],
   "source": [
    "import shap\n",
    "\n",
    "\n",
    "def explain_single_prediction(model, scaler, X_train, patient_features, feature_names):\n",
    "    \"\"\"\n",
    "    Explain a single prediction using SHAP for an SVM model.\n",
    "    \"\"\"\n",
    "    # Scale the patient's input features\n",
    "    patient_scaled = scaler.transform([patient_features])\n",
    "\n",
    "    # Fit the SHAP explainer on the training set\n",
    "    explainer = shap.KernelExplainer(model.predict, scaler.transform(X_train.sample(100)))  # use small sample to make it fast\n",
    "\n",
    "    # Get SHAP values\n",
    "    shap_values = explainer.shap_values(patient_scaled)\n",
    "\n",
    "    # shap_values will be a list in KernelExplainer\n",
    "    shap_values = shap_values[0]\n",
    "\n",
    "    # Pair feature names with their SHAP impact\n",
    "    feature_impacts = list(zip(feature_names, shap_values))\n",
    "\n",
    "    # Sort by absolute impact, biggest first\n",
    "    feature_impacts_sorted = sorted(feature_impacts, key=lambda x: abs(x[1]), reverse=True)\n",
    "\n",
    "    # Generate simple explanations\n",
    "    explanations = []\n",
    "    for feature, impact in feature_impacts_sorted:\n",
    "        if impact > 0:\n",
    "            explanations.append(f\"The feature **{feature}** pushes towards the patient being diabetic (+{impact:.2f}).\")\n",
    "        else:\n",
    "            explanations.append(f\"The feature **{feature}** pushes towards the patient NOT being diabetic ({impact:.2f}).\")\n",
    "\n",
    "    return explanations\n"
   ]
  },
  {
   "cell_type": "code",
   "execution_count": 5,
   "id": "207d8174-91d8-4629-8b7f-4feb7ad0e5f1",
   "metadata": {},
   "outputs": [
    {
     "ename": "NameError",
     "evalue": "name 'X_train' is not defined",
     "output_type": "error",
     "traceback": [
      "\u001b[31m---------------------------------------------------------------------------\u001b[39m",
      "\u001b[31mNameError\u001b[39m                                 Traceback (most recent call last)",
      "\u001b[36mCell\u001b[39m\u001b[36m \u001b[39m\u001b[32mIn[5]\u001b[39m\u001b[32m, line 11\u001b[39m\n\u001b[32m      5\u001b[39m patient_input = [\u001b[32m11\u001b[39m, \u001b[32m0\u001b[39m, \u001b[32m27\u001b[39m, \u001b[32m1\u001b[39m, \u001b[32m1\u001b[39m, \u001b[32m0\u001b[39m, \u001b[32m3\u001b[39m, \u001b[32m4\u001b[39m]\n\u001b[32m      7\u001b[39m \u001b[38;5;66;03m# Call the function\u001b[39;00m\n\u001b[32m      8\u001b[39m explanations = explain_single_prediction(\n\u001b[32m      9\u001b[39m     model=linear_svm_model,\n\u001b[32m     10\u001b[39m     scaler=scaler,\n\u001b[32m---> \u001b[39m\u001b[32m11\u001b[39m     X_train=\u001b[43mX_train\u001b[49m,\n\u001b[32m     12\u001b[39m     patient_features=patient_input,\n\u001b[32m     13\u001b[39m     feature_names=feature_names\n\u001b[32m     14\u001b[39m )\n\u001b[32m     16\u001b[39m \u001b[38;5;66;03m# Output explanations\u001b[39;00m\n\u001b[32m     17\u001b[39m \u001b[38;5;28;01mfor\u001b[39;00m sentence \u001b[38;5;129;01min\u001b[39;00m explanations:\n",
      "\u001b[31mNameError\u001b[39m: name 'X_train' is not defined"
     ]
    }
   ],
   "source": [
    "# Feature names in order (use yours!)\n",
    "feature_names = ['Age', 'Sex', 'BMI', 'HighBP', 'PhysActivity', 'Smoker', 'GenHlth']\n",
    "\n",
    "# Example patient's input\n",
    "patient_input = [11, 0, 27, 1, 1, 0, 3, 4]\n",
    "\n",
    "# Call the function\n",
    "explanations = explain_single_prediction(\n",
    "    model=linear_svm_model,\n",
    "    scaler=scaler,\n",
    "    X_train=X_train,\n",
    "    patient_features=patient_input,\n",
    "    feature_names=feature_names\n",
    ")\n",
    "\n",
    "# Output explanations\n",
    "for sentence in explanations:\n",
    "    print(\"🤖\", sentence)\n"
   ]
  },
  {
   "cell_type": "code",
   "execution_count": null,
   "id": "e84c918d-156d-4383-9d95-0ca72791834f",
   "metadata": {},
   "outputs": [],
   "source": []
  }
 ],
 "metadata": {
  "kernelspec": {
   "display_name": "Python (diabeties)",
   "language": "python",
   "name": "diabeties"
  },
  "language_info": {
   "codemirror_mode": {
    "name": "ipython",
    "version": 3
   },
   "file_extension": ".py",
   "mimetype": "text/x-python",
   "name": "python",
   "nbconvert_exporter": "python",
   "pygments_lexer": "ipython3",
   "version": "3.13.1"
  }
 },
 "nbformat": 4,
 "nbformat_minor": 5
}
